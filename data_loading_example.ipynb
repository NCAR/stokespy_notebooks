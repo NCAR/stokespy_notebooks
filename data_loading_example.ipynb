{
 "cells": [
  {
   "cell_type": "code",
   "execution_count": 1,
   "id": "86ac7400-d96e-44db-8ec5-6222a0c57376",
   "metadata": {},
   "outputs": [],
   "source": [
    "import stokespy\n",
    "from stokespy import get_HMI_data, get_SP_data, StokesParamCube, StokesParamMap, StokesProfile\n",
    "import datetime\n",
    "import astropy\n",
    "import astropy.units as u\n",
    "from astropy.coordinates import SkyCoord, SpectralCoord\n",
    "from astropy.wcs.wcsapi import SlicedLowLevelWCS, HighLevelWCSWrapper\n",
    "\n",
    "from sunpy.image import coalignment\n",
    "import numpy as np\n",
    "import matplotlib.pyplot as plt\n",
    "import matplotlib\n",
    "import ndcube\n",
    "\n",
    "from scipy import ndimage\n",
    "\n",
    "matplotlib.use('TkAgg')\n",
    "\n",
    "import warnings\n",
    "warnings.filterwarnings('ignore')\n",
    "\n",
    "# Setup the autoreload function.\n",
    "%load_ext autoreload\n",
    "%autoreload 2"
   ]
  },
  {
   "cell_type": "code",
   "execution_count": 2,
   "id": "88ac4902-e456-4789-a96f-869c9dbe80a5",
   "metadata": {},
   "outputs": [
    {
     "data": {
      "text/plain": [
       "'2.0.1'"
      ]
     },
     "execution_count": 2,
     "metadata": {},
     "output_type": "execute_result"
    }
   ],
   "source": [
    "ndcube.__version__"
   ]
  },
  {
   "cell_type": "code",
   "execution_count": 3,
   "id": "e0610611-ac01-4466-bb61-6fc956f43170",
   "metadata": {},
   "outputs": [],
   "source": [
    "def get_image_shift(image1, image2):\n",
    "    # slightly modified code snippet from bitbucket to determine the shift\n",
    "    # between two images using FFT:\n",
    "    \n",
    "    # discrete fast fourier transformation and complex conjugation of image2 \n",
    "    image1FFT = np.fft.fft2(image1)\n",
    "    image2FFT = np.conjugate( np.fft.fft2(image2) )\n",
    "\n",
    "    # inverse fourier transformation of product -> equal to cross correlation\n",
    "    imageCCor = np.real( np.fft.ifft2( (image1FFT*image2FFT) ) )\n",
    "\n",
    "    # shift the zero-frequency component to the center of the spectrum\n",
    "    imageCCorShift = np.fft.fftshift(imageCCor)\n",
    "\n",
    "    # determine the distance of the maximum from the center\n",
    "    row, col = image1.shape\n",
    "\n",
    "    yshift, xshift = np.unravel_index( np.argmax(imageCCorShift), (row,col) )\n",
    "\n",
    "    xshift -= int(col/2)\n",
    "    yshift -= int(row/2)\n",
    "\n",
    "    return xshift, yshift"
   ]
  },
  {
   "cell_type": "markdown",
   "id": "ecea6a9f-1682-4bf9-8082-7cdfc6011a79",
   "metadata": {},
   "source": [
    "# Load SDO/HMI data series"
   ]
  },
  {
   "cell_type": "code",
   "execution_count": 4,
   "id": "2e8e3cd8-72c3-4509-8769-20589dc68580",
   "metadata": {
    "tags": []
   },
   "outputs": [
    {
     "name": "stdout",
     "output_type": "stream",
     "text": [
      "Time window used for the search:  <sunpy.net.attrs.Time(2017-09-05 03:04:03.000, 2017-09-05 03:04:05.000)>\n",
      "User directory pointing to SDO data is not included.\n",
      "Setting the default directory to: /home/gabriel/Desktop/Science/StokesPY/stokespy_notebooks/Data/SDO/\n",
      "No download requested. Found 24 Stokes files with unique timestamp(s):\n",
      "['20170905_030000_TAI']\n",
      "No download requested. Found 25 inversion files with timestamps: \n",
      "['20170905_030000_TAI']\n",
      "OBS: Derotating each image\n",
      "Created Stokes data cube with dimensions: (4, 6, 4098, 4098)\n",
      "OBS: Derotating each magnetic field image.\n",
      "Created magnetic field data cube with dimensions: (3, 4098, 4098)\n"
     ]
    }
   ],
   "source": [
    "# Select a date and time to search for observations.\n",
    "#user_date = astropy.time.Time(datetime.datetime(2016, 7, 28, 23, 57, 0), scale='tai')  # Original\n",
    "#user_date = astropy.time.Time(datetime.datetime(2017, 8, 22, 17, 11, 4), scale='tai')  # AR near limb\n",
    "user_date = astropy.time.Time(datetime.datetime(2017, 9, 5, 3, 4, 4), scale='tai')  # AR near disc center\n",
    "\n",
    "# Find the nearest set of Stokes and corresponding inversion results.\n",
    "#all_fnames_stokes, all_fnames_magvec = get_HMI_data(user_date, user_notify='gdima@hawaii.edu', download=False)\n",
    "lvl1_data, lvl1_wcs, lvl2_data, lvl2_wcs = \\\n",
    "    get_HMI_data(user_date, user_notify='gdima@hawaii.edu', \n",
    "                 download=False, show_files=False, derotate=True)"
   ]
  },
  {
   "cell_type": "code",
   "execution_count": 5,
   "id": "785999ee-f36f-45d8-9b52-1560604396be",
   "metadata": {},
   "outputs": [
    {
     "name": "stdout",
     "output_type": "stream",
     "text": [
      "HMI Stokes data shape:  (4, 6, 4098, 4098)\n",
      "HMI magnetic data shape:  (3, 4098, 4098)\n"
     ]
    }
   ],
   "source": [
    "# Create the HMI Cubes\n",
    "lvl1_c_HMI = stokespy.StokesCube(lvl1_data, lvl1_wcs)\n",
    "lvl2_c_HMI = stokespy.MagVectorCube(lvl2_data, lvl2_wcs)\n",
    "print('HMI Stokes data shape: ', lvl1_c_HMI.data.shape)\n",
    "print('HMI magnetic data shape: ', lvl2_c_HMI.data.shape)"
   ]
  },
  {
   "cell_type": "code",
   "execution_count": 6,
   "id": "0a6861f0-f92b-443c-984e-8e159549c44a",
   "metadata": {},
   "outputs": [
    {
     "data": {
      "text/plain": [
       "(WCS Keywords\n",
       " \n",
       " Number of WCS axes: 4\n",
       " CTYPE : 'HPLN-TAN'  'HPLT-TAN'  'WAVE'  'STOKES'  \n",
       " CRVAL : 0.0  0.0  6.173345e-07  0.0  \n",
       " CRPIX : 2057.7563593149  2047.3749883579  3.5  0.0  \n",
       " PC1_1 PC1_2 PC1_3 PC1_4  : 1.0  7.4040177438477e-22  0.0  0.0  \n",
       " PC2_1 PC2_2 PC2_3 PC2_4  : 7.4040177438477e-22  1.0  0.0  0.0  \n",
       " PC3_1 PC3_2 PC3_3 PC3_4  : 0.0  0.0  1.0  0.0  \n",
       " PC4_1 PC4_2 PC4_3 PC4_4  : 0.0  0.0  0.0  1.0  \n",
       " CDELT : 0.00014009532001283  0.00014009532001283  6.88e-12  1.0  \n",
       " NAXIS : 0  0,\n",
       " WCS Keywords\n",
       " \n",
       " Number of WCS axes: 3\n",
       " CTYPE : 'HPLN-TAN'  'HPLT-TAN'  'Parameter'  \n",
       " CRVAL : 0.0  0.0  0.0  \n",
       " CRPIX : 2057.7563593149  2047.3749883579  0.0  \n",
       " PC1_1 PC1_2 PC1_3  : 1.0  7.4040177438477e-22  0.0  \n",
       " PC2_1 PC2_2 PC2_3  : 7.4040177438477e-22  1.0  0.0  \n",
       " PC3_1 PC3_2 PC3_3  : 0.0  0.0  1.0  \n",
       " CDELT : 0.00014009532001283  0.00014009532001283  1.0  \n",
       " NAXIS : 0  0)"
      ]
     },
     "execution_count": 6,
     "metadata": {},
     "output_type": "execute_result"
    }
   ],
   "source": [
    "# Information from the WCS attached to the cubes.\n",
    "# Note the index ordering is different between the data array and the header information.\n",
    "# \n",
    "lvl1_c_HMI.wcs,lvl2_c_HMI.wcs"
   ]
  },
  {
   "cell_type": "code",
   "execution_count": null,
   "id": "484e719e-b891-4cfe-98ae-fb8fb875d2bc",
   "metadata": {},
   "outputs": [],
   "source": []
  },
  {
   "cell_type": "markdown",
   "id": "9d66749f-ba4b-432a-a5c6-a48a691f91dc",
   "metadata": {},
   "source": [
    "# Load Hinode/SP data series"
   ]
  },
  {
   "cell_type": "code",
   "execution_count": 7,
   "id": "c34c2437-5229-4b7c-9d0b-a91d08d8d427",
   "metadata": {},
   "outputs": [],
   "source": [
    "# Select a date and time to search for observations.\n",
    "#user_date = astropy.time.Time(datetime.datetime(2016, 7, 28, 23, 57, 0), scale='tai')\n",
    "#user_date = '20201101_200602'  # Quiet Sun\n",
    "#user_date = '20170822_171104'   # AR near limb\n",
    "user_date = '20170905_030404'  # AR near disc center\n",
    "\n",
    "# Find the nearest set of Stokes and corresponding inversion results.\n",
    "#all_fnames_stokes, all_fnames_magvec = get_HMI_data(user_date, user_notify='gdima@hawaii.edu', download=False)\n",
    "magnetic_params=['Field_Strength', \n",
    "                 'Field_Inclination', \n",
    "                 'Field_Azimuth',\n",
    "                 'Stray_Light_Fill_Factor']\n",
    "head_all, head1, head2, lvl1_data, lvl1_wcs, lvl2_data, lvl2_wcs = \\\n",
    "    get_SP_data(user_date, magnetic_params=magnetic_params)"
   ]
  },
  {
   "cell_type": "code",
   "execution_count": 47,
   "id": "e25eae44-aaf8-4e54-ac9c-04a5de56873d",
   "metadata": {},
   "outputs": [
    {
     "name": "stdout",
     "output_type": "stream",
     "text": [
      "SP Stokes cube shape:  (4, 112, 512, 485)\n",
      "SP magnetic cube shape:  (4, 512, 485)\n"
     ]
    }
   ],
   "source": [
    "# Create the Hinode StokesCube\n",
    "lvl1_c_SP = stokespy.StokesCube(lvl1_data, lvl1_wcs)\n",
    "lvl2_c_SP = stokespy.MagVectorCube(lvl2_data, lvl2_wcs, magnetic_params=magnetic_params)\n",
    "print('SP Stokes cube shape: ', lvl1_c_SP.data.shape)\n",
    "print('SP magnetic cube shape: ', lvl2_c_SP.data.shape)"
   ]
  },
  {
   "cell_type": "code",
   "execution_count": 9,
   "id": "2d7f2aa1-0101-46a7-9964-c8f98ce11f32",
   "metadata": {},
   "outputs": [
    {
     "data": {
      "text/plain": [
       "(WCS Keywords\n",
       " \n",
       " Number of WCS axes: 4\n",
       " CTYPE : 'HPLN-TAN'  'HPLT-TAN'  'WAVE'  'STOKES'  \n",
       " CRVAL : 0.03610083333333333  0.011277222222222221  6.30208e-07  0.0  \n",
       " CRPIX : 243.0  256.5  56.5  0.0  \n",
       " PC1_1 PC1_2 PC1_3 PC1_4  : 1.0  0.0  0.0  0.0  \n",
       " PC2_1 PC2_2 PC2_3 PC2_4  : 0.0  1.0  0.0  0.0  \n",
       " PC3_1 PC3_2 PC3_3 PC3_4  : 0.0  0.0  1.0  0.0  \n",
       " PC4_1 PC4_2 PC4_3 PC4_4  : 0.0  0.0  0.0  1.0  \n",
       " CDELT : 8.253888888888889e-05  8.888277777777778e-05  2.1549e-12  1.0  \n",
       " NAXIS : 0  0,\n",
       " WCS Keywords\n",
       " \n",
       " Number of WCS axes: 3\n",
       " CTYPE : 'HPLN-TAN'  'HPLT-TAN'  'Parameter'  \n",
       " CRVAL : 0.03610083333333333  0.011277222222222221  0.0  \n",
       " CRPIX : 243.0  256.5  0.0  \n",
       " PC1_1 PC1_2 PC1_3  : 1.0  0.0  0.0  \n",
       " PC2_1 PC2_2 PC2_3  : 0.0  1.0  0.0  \n",
       " PC3_1 PC3_2 PC3_3  : 0.0  0.0  1.0  \n",
       " CDELT : 8.253888888888889e-05  8.888277777777778e-05  1.0  \n",
       " NAXIS : 0  0,\n",
       " ['Field_Strength',\n",
       "  'Field_Inclination',\n",
       "  'Field_Azimuth',\n",
       "  'Stray_Light_Fill_Factor'])"
      ]
     },
     "execution_count": 9,
     "metadata": {},
     "output_type": "execute_result"
    }
   ],
   "source": [
    "# Information from the WCS attached to the cube.\n",
    "# Note the index ordering is different between the data array and the header information.\n",
    "# \n",
    "lvl1_c_SP.wcs, lvl2_c_SP.wcs, lvl2_c_SP.magnetic_axis"
   ]
  },
  {
   "cell_type": "code",
   "execution_count": 10,
   "id": "dd3fa7da-72b9-43b9-a761-db6dd3697dc4",
   "metadata": {},
   "outputs": [
    {
     "data": {
      "text/latex": [
       "$[630.0884,~630.09056,~630.09271,~\\dots,~630.32329,~630.32544,~630.3276] \\; \\mathrm{nm}$"
      ],
      "text/plain": [
       "<Quantity [630.08840305, 630.09055795, 630.09271285, 630.09486775,\n",
       "           630.09702265, 630.09917755, 630.10133245, 630.10348735,\n",
       "           630.10564225, 630.10779715, 630.10995205, 630.11210695,\n",
       "           630.11426185, 630.11641675, 630.11857165, 630.12072655,\n",
       "           630.12288145, 630.12503635, 630.12719125, 630.12934615,\n",
       "           630.13150105, 630.13365595, 630.13581085, 630.13796575,\n",
       "           630.14012065, 630.14227555, 630.14443045, 630.14658535,\n",
       "           630.14874025, 630.15089515, 630.15305005, 630.15520495,\n",
       "           630.15735985, 630.15951475, 630.16166965, 630.16382455,\n",
       "           630.16597945, 630.16813435, 630.17028925, 630.17244415,\n",
       "           630.17459905, 630.17675395, 630.17890885, 630.18106375,\n",
       "           630.18321865, 630.18537355, 630.18752845, 630.18968335,\n",
       "           630.19183825, 630.19399315, 630.19614805, 630.19830295,\n",
       "           630.20045785, 630.20261275, 630.20476765, 630.20692255,\n",
       "           630.20907745, 630.21123235, 630.21338725, 630.21554215,\n",
       "           630.21769705, 630.21985195, 630.22200685, 630.22416175,\n",
       "           630.22631665, 630.22847155, 630.23062645, 630.23278135,\n",
       "           630.23493625, 630.23709115, 630.23924605, 630.24140095,\n",
       "           630.24355585, 630.24571075, 630.24786565, 630.25002055,\n",
       "           630.25217545, 630.25433035, 630.25648525, 630.25864015,\n",
       "           630.26079505, 630.26294995, 630.26510485, 630.26725975,\n",
       "           630.26941465, 630.27156955, 630.27372445, 630.27587935,\n",
       "           630.27803425, 630.28018915, 630.28234405, 630.28449895,\n",
       "           630.28665385, 630.28880875, 630.29096365, 630.29311855,\n",
       "           630.29527345, 630.29742835, 630.29958325, 630.30173815,\n",
       "           630.30389305, 630.30604795, 630.30820285, 630.31035775,\n",
       "           630.31251265, 630.31466755, 630.31682245, 630.31897735,\n",
       "           630.32113225, 630.32328715, 630.32544205, 630.32759695] nm>"
      ]
     },
     "execution_count": 10,
     "metadata": {},
     "output_type": "execute_result"
    }
   ],
   "source": [
    "lvl1_c_SP.spectral_axis.to(u.nm)"
   ]
  },
  {
   "cell_type": "code",
   "execution_count": 11,
   "id": "a351ddac-8f20-4e2c-afc6-b4503a3d7d01",
   "metadata": {},
   "outputs": [
    {
     "data": {
      "text/plain": [
       "['deg', 'deg', 'm', '']"
      ]
     },
     "execution_count": 11,
     "metadata": {},
     "output_type": "execute_result"
    }
   ],
   "source": [
    "lvl1_c_SP.wcs.world_axis_units"
   ]
  },
  {
   "cell_type": "markdown",
   "id": "98b7464b-f14d-49c6-8513-7972022114bb",
   "metadata": {},
   "source": [
    "## Test the image central coordinates"
   ]
  },
  {
   "cell_type": "code",
   "execution_count": 11,
   "id": "da62503e-a3c5-4216-81f4-1347e1855fae",
   "metadata": {},
   "outputs": [
    {
     "name": "stdout",
     "output_type": "stream",
     "text": [
      "Spatial sampling along X (arcsec):  0.29714 0.294921875\n",
      "Spatial sampling along Y (arcsec):  0.319978 0.31702544031311153\n",
      "Level1 FOV center coordinates (x,y)[arcsec] = : 129.963 40.598\n",
      "Level2 FOV center coordinates (x,y)[arcsec] = : 129.963 40.598\n"
     ]
    }
   ],
   "source": [
    "# The wcs contructor converts inputs into 'deg' and 'm'.\n",
    "# This number is comparable to the values using\n",
    "print('Spatial sampling along X (arcsec): ', \\\n",
    "      lvl1_wcs.wcs.cdelt[0]*u.deg.to(u.arcsec), 151/512)\n",
    "\n",
    "print('Spatial sampling along Y (arcsec): ', \\\n",
    "      lvl1_wcs.wcs.cdelt[1]*u.deg.to(u.arcsec), 162/511)\n",
    "\n",
    "print('Level1 FOV center coordinates (x,y)[arcsec] = :',\\\n",
    "      lvl1_wcs.wcs.crval[0]*u.deg.to(u.arcsec), \\\n",
    "      lvl1_wcs.wcs.crval[1]*u.deg.to(u.arcsec))\n",
    "\n",
    "print('Level2 FOV center coordinates (x,y)[arcsec] = :',\\\n",
    "      lvl2_wcs.wcs.crval[0]*u.deg.to(u.arcsec), \\\n",
    "      lvl2_wcs.wcs.crval[1]*u.deg.to(u.arcsec))\n"
   ]
  },
  {
   "cell_type": "code",
   "execution_count": 12,
   "id": "c5ed1e39-1770-497c-a89c-4f1c77fcaa84",
   "metadata": {},
   "outputs": [
    {
     "data": {
      "text/plain": [
       "WCS Keywords\n",
       "\n",
       "Number of WCS axes: 4\n",
       "CTYPE : 'HPLN-TAN'  'HPLT-TAN'  'WAVE'  'STOKES'  \n",
       "CRVAL : 0.03610083333333333  0.011277222222222221  6.30208e-07  0.0  \n",
       "CRPIX : 243.0  256.5  56.5  0.0  \n",
       "PC1_1 PC1_2 PC1_3 PC1_4  : 1.0  0.0  0.0  0.0  \n",
       "PC2_1 PC2_2 PC2_3 PC2_4  : 0.0  1.0  0.0  0.0  \n",
       "PC3_1 PC3_2 PC3_3 PC3_4  : 0.0  0.0  1.0  0.0  \n",
       "PC4_1 PC4_2 PC4_3 PC4_4  : 0.0  0.0  0.0  1.0  \n",
       "CDELT : 8.253888888888889e-05  8.888277777777778e-05  2.1549e-12  1.0  \n",
       "NAXIS : 0  0"
      ]
     },
     "execution_count": 12,
     "metadata": {},
     "output_type": "execute_result"
    }
   ],
   "source": []
  },
  {
   "cell_type": "code",
   "execution_count": 14,
   "id": "3f12ecc3-3d12-4cc6-aea5-79af7f722c60",
   "metadata": {},
   "outputs": [
    {
     "data": {
      "text/plain": [
       "<Helioprojective Coordinate (obstime=None, rsun=695700.0 km, observer=None): (Tx, Ty) in arcsec\n",
       "    (58.05512713, -41.15637222)>"
      ]
     },
     "execution_count": 14,
     "metadata": {},
     "output_type": "execute_result"
    }
   ],
   "source": [
    "lvl1_c_SP.frame"
   ]
  },
  {
   "cell_type": "code",
   "execution_count": 15,
   "id": "8ccbd2b7-c33f-4ca0-8cc8-5d8f40d3b6f4",
   "metadata": {},
   "outputs": [
    {
     "name": "stdout",
     "output_type": "stream",
     "text": [
      "55.8102 96.301 40.8188 40.5247\n"
     ]
    }
   ],
   "source": [
    "print(head1['XCEN'], head2['XCEN'], head1['YCEN'],head2['YCEN'])"
   ]
  },
  {
   "cell_type": "code",
   "execution_count": 16,
   "id": "8b397547-2ab9-491b-90b0-2c648aaa8d74",
   "metadata": {},
   "outputs": [
    {
     "name": "stdout",
     "output_type": "stream",
     "text": [
      "0.297140002251 0.29714 0.319979995489 0.319978\n"
     ]
    }
   ],
   "source": [
    "print(head1['XSCALE'], head2['XSCALE'], head1['YSCALE'],head2['YSCALE'])"
   ]
  },
  {
   "cell_type": "code",
   "execution_count": 17,
   "id": "3e06b5bf-7b17-44c9-8622-c4e4bed02b4f",
   "metadata": {},
   "outputs": [
    {
     "name": "stdout",
     "output_type": "stream",
     "text": [
      "112 485 512 512\n"
     ]
    }
   ],
   "source": [
    "print(head1['NAXIS1'], head2['NAXIS1'], head1['NAXIS2'], head2['NAXIS2'])"
   ]
  },
  {
   "cell_type": "code",
   "execution_count": 18,
   "id": "3ddd0ab1-f7a2-49b3-95ff-61d05b261b07",
   "metadata": {},
   "outputs": [
    {
     "data": {
      "text/plain": [
       "array([243. , 256.5,  56.5,   0. ])"
      ]
     },
     "execution_count": 18,
     "metadata": {},
     "output_type": "execute_result"
    }
   ],
   "source": [
    "lv1_wcs.wcs.crpix"
   ]
  },
  {
   "cell_type": "code",
   "execution_count": 19,
   "id": "9a0d8caf-8b2c-4a07-99aa-016ff33123d5",
   "metadata": {},
   "outputs": [],
   "source": [
    "# Look at the centeral position for each header.\n",
    "nslit = len(head_all)\n",
    "xcen_a = np.zeros(nslit)\n",
    "ycen_a = np.zeros(nslit)\n",
    "\n",
    "for i in range(nslit):\n",
    "    xcen_a[i] = head_all[i]['XCEN']\n",
    "    ycen_a[i] = head_all[i]['YCEN']"
   ]
  },
  {
   "cell_type": "code",
   "execution_count": null,
   "id": "610ddafa-f5f7-4670-9cee-1e956196df6f",
   "metadata": {},
   "outputs": [],
   "source": []
  },
  {
   "cell_type": "code",
   "execution_count": 20,
   "id": "10078497-1dd8-4dd9-93ae-f3c94f38d0ed",
   "metadata": {},
   "outputs": [
    {
     "data": {
      "application/vnd.jupyter.widget-view+json": {
       "model_id": "c667fca35a924f4b84ed9fc7ef3ecca9",
       "version_major": 2,
       "version_minor": 0
      },
      "text/plain": [
       "Canvas(toolbar=Toolbar(toolitems=[('Home', 'Reset original view', 'home', 'home'), ('Back', 'Back to previous …"
      ]
     },
     "metadata": {},
     "output_type": "display_data"
    },
    {
     "name": "stdout",
     "output_type": "stream",
     "text": [
      "129.963 40.598\n"
     ]
    },
    {
     "data": {
      "text/plain": [
       "<matplotlib.legend.Legend at 0x7faf035f51f0>"
      ]
     },
     "execution_count": 20,
     "metadata": {},
     "output_type": "execute_result"
    }
   ],
   "source": [
    "%matplotlib widget\n",
    "\n",
    "plt.plot(xcen_a, label='Xcen')\n",
    "plt.plot(ycen_a, label='Ycen')\n",
    "print(np.median(xcen_a), np.median(ycen_a))\n",
    "plt.legend()"
   ]
  },
  {
   "cell_type": "code",
   "execution_count": null,
   "id": "a76e05c0-722b-4388-8cce-6e515ea5f009",
   "metadata": {},
   "outputs": [],
   "source": []
  },
  {
   "cell_type": "markdown",
   "id": "94f4128f-e219-419e-ac0c-67d10229b754",
   "metadata": {},
   "source": [
    "# Co-align Hinode and HMI observations"
   ]
  },
  {
   "cell_type": "markdown",
   "id": "232b909e-f8a9-4557-8107-19d4c0b0361c",
   "metadata": {},
   "source": [
    "## Compute the magnetic flux densities."
   ]
  },
  {
   "cell_type": "code",
   "execution_count": 10,
   "id": "b86d3b36-dba8-4e5d-9aac-84ad4346e091",
   "metadata": {},
   "outputs": [
    {
     "data": {
      "text/plain": [
       "['Field_Strength',\n",
       " 'Field_Inclination',\n",
       " 'Field_Azimuth',\n",
       " 'Stray_Light_Fill_Factor']"
      ]
     },
     "execution_count": 10,
     "metadata": {},
     "output_type": "execute_result"
    }
   ],
   "source": [
    "### Hinode data ###\n",
    "lvl2_c_SP.magnetic_axis"
   ]
  },
  {
   "cell_type": "code",
   "execution_count": 11,
   "id": "6ece546f-d475-4cc3-b019-56779149b0d4",
   "metadata": {},
   "outputs": [
    {
     "name": "stdout",
     "output_type": "stream",
     "text": [
      "Hinode magnetic density map shape:  (512, 485)\n"
     ]
    }
   ],
   "source": [
    "mag_fden_SP = lvl2_c_SP.data[3,:,:]*\\\n",
    "            lvl2_c_SP[0,:,:].data*\\\n",
    "            np.cos(np.radians(lvl2_c_SP[1,:,:].data))\n",
    "print('Hinode magnetic density map shape: ', mag_fden_SP.shape)"
   ]
  },
  {
   "cell_type": "code",
   "execution_count": 48,
   "id": "a7ab37fd-55cc-499e-9bae-2358370b437e",
   "metadata": {},
   "outputs": [],
   "source": [
    "# Create a new object that only holds the magnetic density map.\n",
    "# This preserves WCS.\n",
    "mag_fden_SP_map = stokespy.MagVectorCube(mag_fden_SP.reshape((1,mag_fden_SP.shape[0], mag_fden_SP.shape[1])), \n",
    "                                         lvl2_c_SP.wcs, magnetic_params=['Mag_flux'])"
   ]
  },
  {
   "cell_type": "code",
   "execution_count": 13,
   "id": "eba3e833-d65a-4889-b1f1-9dfb18a281c4",
   "metadata": {},
   "outputs": [
    {
     "data": {
      "text/plain": [
       "(1, 512, 485)"
      ]
     },
     "execution_count": 13,
     "metadata": {},
     "output_type": "execute_result"
    }
   ],
   "source": [
    "mag_fden_SP_map.data.shape"
   ]
  },
  {
   "cell_type": "code",
   "execution_count": 14,
   "id": "2923eb26-4b25-4eca-99a7-5049cb78756a",
   "metadata": {},
   "outputs": [
    {
     "data": {
      "text/plain": [
       "WCS Keywords\n",
       "\n",
       "Number of WCS axes: 3\n",
       "CTYPE : 'HPLN-TAN'  'HPLT-TAN'  'Parameter'  \n",
       "CRVAL : 0.03610083333333333  0.011277222222222221  0.0  \n",
       "CRPIX : 243.0  256.5  0.0  \n",
       "PC1_1 PC1_2 PC1_3  : 1.0  0.0  0.0  \n",
       "PC2_1 PC2_2 PC2_3  : 0.0  1.0  0.0  \n",
       "PC3_1 PC3_2 PC3_3  : 0.0  0.0  1.0  \n",
       "CDELT : 8.253888888888889e-05  8.888277777777778e-05  1.0  \n",
       "NAXIS : 0  0"
      ]
     },
     "execution_count": 14,
     "metadata": {},
     "output_type": "execute_result"
    }
   ],
   "source": [
    "mag_fden_SP_map.wcs"
   ]
  },
  {
   "cell_type": "code",
   "execution_count": 15,
   "id": "cd692651-d3ba-4661-8f4f-815307d5e592",
   "metadata": {},
   "outputs": [
    {
     "data": {
      "text/plain": [
       "<stokespy.stokespy.MagVectorCube object at 0x7f0e9887eee0>\n",
       "NDCube\n",
       "------\n",
       "Dimensions: [  1. 512. 485.] pix\n",
       "Physical Types of Axes: [(None,), ('custom:pos.helioprojective.lon', 'custom:pos.helioprojective.lat'), ('custom:pos.helioprojective.lon', 'custom:pos.helioprojective.lat')]\n",
       "Unit: None\n",
       "Data Type: float64"
      ]
     },
     "execution_count": 15,
     "metadata": {},
     "output_type": "execute_result"
    }
   ],
   "source": [
    "mag_fden_SP_map"
   ]
  },
  {
   "cell_type": "code",
   "execution_count": 16,
   "id": "cc0ae2fe-ba51-4480-90ae-96acb7d6981b",
   "metadata": {},
   "outputs": [
    {
     "data": {
      "text/plain": [
       "('B', 'inclination', 'azimuth')"
      ]
     },
     "execution_count": 16,
     "metadata": {},
     "output_type": "execute_result"
    }
   ],
   "source": [
    "### HMI data ###\n",
    "lvl2_c_HMI.magnetic_axis"
   ]
  },
  {
   "cell_type": "code",
   "execution_count": 17,
   "id": "da8854c7-773a-4a57-8842-c8f474dcda4e",
   "metadata": {},
   "outputs": [
    {
     "name": "stdout",
     "output_type": "stream",
     "text": [
      "HMI magnetic density map shape:  (4098, 4098)\n"
     ]
    }
   ],
   "source": [
    "mag_fden_HMI = lvl2_c_HMI.data[0,:,:]*\\\n",
    "                np.cos(np.radians(lvl2_c_HMI.data[1,:,:]))\n",
    "print('HMI magnetic density map shape: ', mag_fden_HMI.shape)"
   ]
  },
  {
   "cell_type": "code",
   "execution_count": 18,
   "id": "9f8a8610-337f-4f3f-b866-069d9eba2805",
   "metadata": {},
   "outputs": [
    {
     "data": {
      "text/plain": [
       "(4098, 4098)"
      ]
     },
     "execution_count": 18,
     "metadata": {},
     "output_type": "execute_result"
    }
   ],
   "source": [
    "mag_fden_HMI.shape"
   ]
  },
  {
   "cell_type": "code",
   "execution_count": 19,
   "id": "5c90f6d0-04b8-4f35-86b8-cc5588f04c63",
   "metadata": {},
   "outputs": [
    {
     "data": {
      "text/plain": [
       "<astropy.wcs.wcsapi.wrappers.sliced_wcs.SlicedLowLevelWCS object at 0x7f0e9887e340>\n",
       "SlicedLowLevelWCS Transformation\n",
       "\n",
       "This transformation has 2 pixel and 2 world dimensions\n",
       "\n",
       "Array shape (Numpy order): None\n",
       "\n",
       "Pixel Dim  Axis Name  Data size  Bounds\n",
       "        0  None            None  None\n",
       "        1  None            None  None\n",
       "\n",
       "World Dim  Axis Name  Physical Type                   Units\n",
       "        0  None       custom:pos.helioprojective.lon  deg\n",
       "        1  None       custom:pos.helioprojective.lat  deg\n",
       "\n",
       "Correlation between pixel and world axes:\n",
       "\n",
       "           Pixel Dim\n",
       "World Dim    0    1\n",
       "        0  yes  yes\n",
       "        1  yes  yes"
      ]
     },
     "execution_count": 19,
     "metadata": {},
     "output_type": "execute_result"
    }
   ],
   "source": [
    "lvl2_c_HMI[0,:,:].wcs.low_level_wcs"
   ]
  },
  {
   "cell_type": "code",
   "execution_count": 25,
   "id": "32e13bb4-b0a6-4e57-9160-ff1172e8b7fe",
   "metadata": {},
   "outputs": [],
   "source": [
    "# Reshape the array into\n",
    "tt = mag_fden_HMI.reshape((1,mag_fden_HMI.shape[0], mag_fden_HMI.shape[1]))"
   ]
  },
  {
   "cell_type": "code",
   "execution_count": 26,
   "id": "9a77d862-de7d-4754-9231-7bd2f78ec093",
   "metadata": {},
   "outputs": [
    {
     "data": {
      "application/vnd.jupyter.widget-view+json": {
       "model_id": "b64b6d106daa480e9ae8fceb5c419cb6",
       "version_major": 2,
       "version_minor": 0
      },
      "text/plain": [
       "Canvas(toolbar=Toolbar(toolitems=[('Home', 'Reset original view', 'home', 'home'), ('Back', 'Back to previous …"
      ]
     },
     "metadata": {},
     "output_type": "display_data"
    },
    {
     "data": {
      "text/plain": [
       "<matplotlib.image.AxesImage at 0x7f2030701430>"
      ]
     },
     "execution_count": 26,
     "metadata": {},
     "output_type": "execute_result"
    }
   ],
   "source": [
    "%matplotlib widget\n",
    "\n",
    "plt.imshow(tt[0,:,:], origin='lower')"
   ]
  },
  {
   "cell_type": "code",
   "execution_count": 21,
   "id": "9ceafb60-991b-40de-a732-6cb4ad92eb70",
   "metadata": {},
   "outputs": [],
   "source": [
    "# Create a new object with 3D\n",
    "# This preserves WCS.\n",
    "mag_fden_HMI_map = stokespy.MagVectorCube(mag_fden_HMI.reshape((1,mag_fden_HMI.shape[0], mag_fden_HMI.shape[1])), lvl2_c_HMI.wcs, \n",
    "                                          magnetic_params=['Mag_flux'])"
   ]
  },
  {
   "cell_type": "code",
   "execution_count": 22,
   "id": "15c133a5-205f-4aa9-8117-c7430a492370",
   "metadata": {},
   "outputs": [
    {
     "data": {
      "text/plain": [
       "WCS Keywords\n",
       "\n",
       "Number of WCS axes: 3\n",
       "CTYPE : 'HPLN-TAN'  'HPLT-TAN'  'Parameter'  \n",
       "CRVAL : 0.0  0.0  0.0  \n",
       "CRPIX : 2057.7563593149  2047.3749883579  0.0  \n",
       "PC1_1 PC1_2 PC1_3  : 1.0  7.4040177438477e-22  0.0  \n",
       "PC2_1 PC2_2 PC2_3  : 7.4040177438477e-22  1.0  0.0  \n",
       "PC3_1 PC3_2 PC3_3  : 0.0  0.0  1.0  \n",
       "CDELT : 0.00014009532001283  0.00014009532001283  1.0  \n",
       "NAXIS : 0  0"
      ]
     },
     "execution_count": 22,
     "metadata": {},
     "output_type": "execute_result"
    }
   ],
   "source": [
    "mag_fden_HMI_map.wcs"
   ]
  },
  {
   "cell_type": "markdown",
   "id": "2ab150de-48aa-4ea3-98a3-daa0cf25354f",
   "metadata": {},
   "source": [
    "## Calculate the coordinates of the HMI map"
   ]
  },
  {
   "cell_type": "code",
   "execution_count": 23,
   "id": "47ac958a-8ddf-4169-98b5-78dcb7743435",
   "metadata": {},
   "outputs": [
    {
     "name": "stdout",
     "output_type": "stream",
     "text": [
      "-41.1564arcsec 122.352arcsec\n",
      "58.0551arcsec 201.871arcsec\n"
     ]
    }
   ],
   "source": [
    "### Coordinates ###\n",
    "# HINODE_YCOORDS\n",
    "print(mag_fden_SP_map.coord1_axis(0)[0].Ty, mag_fden_SP_map.coord1_axis(0)[-1].Ty) \n",
    "# HINODE_XCOORDS\n",
    "print(mag_fden_SP_map.coord2_axis(0)[0].Tx, mag_fden_SP_map.coord2_axis(0)[-1].Tx) "
   ]
  },
  {
   "cell_type": "code",
   "execution_count": 24,
   "id": "2b6a112a-195e-4516-bac9-a0eb445a4422",
   "metadata": {},
   "outputs": [],
   "source": [
    "### Calculate the corresponding coordinates in HMI\n",
    "hmi_index_y, hmi_index_x = mag_fden_HMI_map[0,:,:].wcs.low_level_wcs.world_to_array_index_values([mag_fden_SP_map.coord2_axis(0)[0].Tx.to(u.deg).value, \n",
    "                                                     mag_fden_SP_map.coord2_axis(0)[-1].Tx.to(u.deg).value],\n",
    "                                                   [mag_fden_SP_map.coord1_axis(0)[0].Ty.to(u.deg).value,\n",
    "                                                   mag_fden_SP_map.coord1_axis(0)[-1].Ty.to(u.deg).value])"
   ]
  },
  {
   "cell_type": "code",
   "execution_count": 25,
   "id": "71b6cdbd-34e0-4e61-bd09-7646ff7abc07",
   "metadata": {},
   "outputs": [
    {
     "data": {
      "text/plain": [
       "(array([1965, 2289]), array([2172, 2457]))"
      ]
     },
     "execution_count": 25,
     "metadata": {},
     "output_type": "execute_result"
    }
   ],
   "source": [
    "hmi_index_y, hmi_index_x"
   ]
  },
  {
   "cell_type": "code",
   "execution_count": 26,
   "id": "5ec7be95-448b-4fad-b2d1-83b2fde9141e",
   "metadata": {},
   "outputs": [],
   "source": [
    "### Create a cropped HMI map at the approximate coordinates.\n",
    "\n",
    "#hmi_index_y[0]-pix_pad:hmi_index_y[1]+pix_pad, \\\n",
    "#hmi_index_x[0]-pix_pad:hmi_index_x[1]+pix_pad]\n",
    "\n",
    "pix_pad = 120\n",
    "cropped_hmi = mag_fden_HMI_map.data[0, hmi_index_y[0]-pix_pad:hmi_index_y[1]+pix_pad, \\\n",
    "                                    hmi_index_x[0]-pix_pad:hmi_index_x[1]+pix_pad]\n",
    "# For comparison purposes.\n",
    "cropped_hmi_no_pad = mag_fden_HMI_map.data[0, hmi_index_y[0]:hmi_index_y[1], \\\n",
    "                                    hmi_index_x[0]:hmi_index_x[1]]"
   ]
  },
  {
   "cell_type": "code",
   "execution_count": 33,
   "id": "429ed442-ad20-44e7-a731-4d3d993febec",
   "metadata": {},
   "outputs": [
    {
     "data": {
      "text/plain": [
       "(564, 525)"
      ]
     },
     "execution_count": 33,
     "metadata": {},
     "output_type": "execute_result"
    }
   ],
   "source": [
    "cropped_hmi.shape"
   ]
  },
  {
   "cell_type": "markdown",
   "id": "4136d7d1-1f91-4bb0-a9e4-332571ee9f05",
   "metadata": {},
   "source": [
    "## Change Hinode map resolution to match HMI"
   ]
  },
  {
   "cell_type": "code",
   "execution_count": 27,
   "id": "d9228610-b2ba-448e-a297-e9987f4b84b5",
   "metadata": {},
   "outputs": [
    {
     "name": "stdout",
     "output_type": "stream",
     "text": [
      "Zoom values:  [0.6328125, 0.5876288659793815]\n"
     ]
    }
   ],
   "source": [
    "tmp_hinode_data_0 = ndimage.gaussian_filter(mag_fden_SP_map[0,:,:].data,1.3)\n",
    "tmp_hinode_data = ndimage.zoom(tmp_hinode_data_0, \\\n",
    "                                [(hmi_index_y[1]-hmi_index_y[0])/tmp_hinode_data_0.shape[0], \\\n",
    "                                    (hmi_index_x[1]-hmi_index_x[0])/tmp_hinode_data_0.shape[1]])\n",
    "\n",
    "print('Zoom values: ', [(hmi_index_y[1]-hmi_index_y[0])/tmp_hinode_data_0.shape[0], \\\n",
    "                                    (hmi_index_x[1]-hmi_index_x[0])/tmp_hinode_data_0.shape[1]])"
   ]
  },
  {
   "cell_type": "code",
   "execution_count": 28,
   "id": "5081b634-1261-4c3f-9493-a27aff96b3d7",
   "metadata": {},
   "outputs": [
    {
     "data": {
      "text/plain": [
       "((512, 485), (324, 285))"
      ]
     },
     "execution_count": 28,
     "metadata": {},
     "output_type": "execute_result"
    }
   ],
   "source": [
    "tmp_hinode_data_0.shape, tmp_hinode_data.shape"
   ]
  },
  {
   "cell_type": "code",
   "execution_count": 29,
   "id": "eba7e730-07c2-489d-8cfd-0e235d1a98d7",
   "metadata": {},
   "outputs": [
    {
     "data": {
      "application/vnd.jupyter.widget-view+json": {
       "model_id": "72d95784dfef4c91a5c9146ffc26a5f7",
       "version_major": 2,
       "version_minor": 0
      },
      "text/plain": [
       "Canvas(toolbar=Toolbar(toolitems=[('Home', 'Reset original view', 'home', 'home'), ('Back', 'Back to previous …"
      ]
     },
     "metadata": {},
     "output_type": "display_data"
    },
    {
     "data": {
      "text/plain": [
       "<matplotlib.image.AxesImage at 0x7f0e9ac0da90>"
      ]
     },
     "execution_count": 29,
     "metadata": {},
     "output_type": "execute_result"
    }
   ],
   "source": [
    "# Plot the maps.\n",
    "\n",
    "%matplotlib widget\n",
    "\n",
    "#fig, ax = plt.subplots(subplot_kw={'projection':m_SP.wcs})\n",
    "#fig, ax = plt.subplots(nrows=1,ncols=2)\n",
    "\n",
    "ax1 = plt.subplot(111)\n",
    "#ax2 = plt.subplot(122)\n",
    "\n",
    "plt.subplots_adjust(wspace=0.4)\n",
    "\n",
    "ax1.imshow(tmp_hinode_data, origin='lower')\n",
    "ax1.imshow(cropped_hmi_no_pad, origin='lower', cmap='Greys', alpha=0.7)"
   ]
  },
  {
   "cell_type": "markdown",
   "id": "8ef1107b-3995-4185-8ca8-90b8b252ca46",
   "metadata": {},
   "source": [
    "## Perform the 1st coalignment"
   ]
  },
  {
   "cell_type": "code",
   "execution_count": 30,
   "id": "18f9b08c-e4d3-4d4a-99ae-e310030c9a53",
   "metadata": {},
   "outputs": [
    {
     "name": "stdout",
     "output_type": "stream",
     "text": [
      "(<Quantity 180.0559652 pix>, <Quantity 154.65463902 pix>)\n"
     ]
    }
   ],
   "source": [
    "# Use the sunpy coalignment routine to get an initial idea where the degraded Hinode data\n",
    "# should be on the padded HMI map.  \n",
    "thisxyshift = coalignment.calculate_shift(cropped_hmi, tmp_hinode_data)\n",
    "print(thisxyshift)"
   ]
  },
  {
   "cell_type": "code",
   "execution_count": 38,
   "id": "952ca45a-16a9-4b87-b78b-536b0579ea23",
   "metadata": {},
   "outputs": [
    {
     "data": {
      "text/plain": [
       "(60.05596519707396, 34.65463902366062)"
      ]
     },
     "execution_count": 38,
     "metadata": {},
     "output_type": "execute_result"
    }
   ],
   "source": [
    "thisxyshift[0].value - pix_pad, thisxyshift[1].value - pix_pad "
   ]
  },
  {
   "cell_type": "code",
   "execution_count": 31,
   "id": "d87302b4-62e5-49a2-8068-03098675ab7e",
   "metadata": {},
   "outputs": [],
   "source": [
    "# Recrop the HMI data taking into account the shift.\n",
    "hmi_index_x_new = np.around(hmi_index_x+(thisxyshift[1].value-pix_pad)).astype(int)\n",
    "hmi_index_y_new = np.around(hmi_index_y+(thisxyshift[0].value-pix_pad)).astype(int)\n",
    "hmi_data = mag_fden_HMI_map.data[0, hmi_index_y_new[0]:hmi_index_y_new[1],\n",
    "                                 hmi_index_x_new[0]:hmi_index_x_new[1]]\n"
   ]
  },
  {
   "cell_type": "code",
   "execution_count": 40,
   "id": "b20da49c-33ce-4c14-924b-d1b28583498f",
   "metadata": {},
   "outputs": [
    {
     "data": {
      "text/plain": [
       "(array([35, 35]), array([60, 60]))"
      ]
     },
     "execution_count": 40,
     "metadata": {},
     "output_type": "execute_result"
    }
   ],
   "source": [
    "hmi_index_x_new - hmi_index_x, hmi_index_y_new - hmi_index_y "
   ]
  },
  {
   "cell_type": "code",
   "execution_count": 32,
   "id": "a3c0c7eb-2ccb-4b64-9be3-d00cd87925aa",
   "metadata": {},
   "outputs": [
    {
     "data": {
      "application/vnd.jupyter.widget-view+json": {
       "model_id": "b3868767d27b4070a69d18a8b4af5430",
       "version_major": 2,
       "version_minor": 0
      },
      "text/plain": [
       "Canvas(toolbar=Toolbar(toolitems=[('Home', 'Reset original view', 'home', 'home'), ('Back', 'Back to previous …"
      ]
     },
     "metadata": {},
     "output_type": "display_data"
    },
    {
     "data": {
      "text/plain": [
       "<matplotlib.image.AxesImage at 0x7f0e9aa659a0>"
      ]
     },
     "execution_count": 32,
     "metadata": {},
     "output_type": "execute_result"
    }
   ],
   "source": [
    "# Plot the maps.\n",
    "\n",
    "%matplotlib widget\n",
    "\n",
    "#fig, ax = plt.subplots(subplot_kw={'projection':m_SP.wcs})\n",
    "#fig, ax = plt.subplots(nrows=1,ncols=2)\n",
    "\n",
    "ax1 = plt.subplot(111)\n",
    "#ax2 = plt.subplot(122)\n",
    "\n",
    "plt.subplots_adjust(wspace=0.4)\n",
    "\n",
    "ax1.imshow(tmp_hinode_data, origin='lower')\n",
    "ax1.imshow(hmi_data, origin='lower', cmap='Greys', alpha=0.7)\n"
   ]
  },
  {
   "cell_type": "markdown",
   "id": "333caefe-e6db-41c7-beff-c04bac60eb73",
   "metadata": {},
   "source": [
    "## Reproject the WCS enabled objects."
   ]
  },
  {
   "cell_type": "code",
   "execution_count": 33,
   "id": "253256bb-7465-40d1-8344-950bcad54af3",
   "metadata": {},
   "outputs": [
    {
     "data": {
      "text/plain": [
       "((1, 4098, 4098),\n",
       " WCS Keywords\n",
       " \n",
       " Number of WCS axes: 3\n",
       " CTYPE : 'HPLN-TAN'  'HPLT-TAN'  'Parameter'  \n",
       " CRVAL : 0.0  0.0  0.0  \n",
       " CRPIX : 2057.7563593149  2047.3749883579  0.0  \n",
       " PC1_1 PC1_2 PC1_3  : 1.0  7.4040177438477e-22  0.0  \n",
       " PC2_1 PC2_2 PC2_3  : 7.4040177438477e-22  1.0  0.0  \n",
       " PC3_1 PC3_2 PC3_3  : 0.0  0.0  1.0  \n",
       " CDELT : 0.00014009532001283  0.00014009532001283  1.0  \n",
       " NAXIS : 0  0)"
      ]
     },
     "execution_count": 33,
     "metadata": {},
     "output_type": "execute_result"
    }
   ],
   "source": [
    "mag_fden_HMI_map.data.shape,mag_fden_HMI_map.wcs"
   ]
  },
  {
   "cell_type": "code",
   "execution_count": 34,
   "id": "284079d7-c7ea-4f4d-bb6f-4e29ca75c205",
   "metadata": {},
   "outputs": [
    {
     "data": {
      "text/plain": [
       "((1, 512, 485),\n",
       " WCS Keywords\n",
       " \n",
       " Number of WCS axes: 3\n",
       " CTYPE : 'HPLN-TAN'  'HPLT-TAN'  'Parameter'  \n",
       " CRVAL : 0.03610083333333333  0.011277222222222221  0.0  \n",
       " CRPIX : 243.0  256.5  0.0  \n",
       " PC1_1 PC1_2 PC1_3  : 1.0  0.0  0.0  \n",
       " PC2_1 PC2_2 PC2_3  : 0.0  1.0  0.0  \n",
       " PC3_1 PC3_2 PC3_3  : 0.0  0.0  1.0  \n",
       " CDELT : 8.253888888888889e-05  8.888277777777778e-05  1.0  \n",
       " NAXIS : 0  0)"
      ]
     },
     "execution_count": 34,
     "metadata": {},
     "output_type": "execute_result"
    }
   ],
   "source": [
    "mag_fden_SP_map.data.shape,mag_fden_SP_map.wcs"
   ]
  },
  {
   "cell_type": "code",
   "execution_count": 36,
   "id": "e0479a04-9d82-4398-8ba3-bfe58afc2a24",
   "metadata": {},
   "outputs": [
    {
     "data": {
      "text/plain": [
       "(60.05596519707396, 34.65463902366062)"
      ]
     },
     "execution_count": 36,
     "metadata": {},
     "output_type": "execute_result"
    }
   ],
   "source": [
    "thisxyshift[0].value - pix_pad, thisxyshift[1].value - pix_pad"
   ]
  },
  {
   "cell_type": "markdown",
   "id": "f97408c5-1fb2-42d3-9185-0148f1fcab1a",
   "metadata": {},
   "source": [
    "### Reproject Hinode SP "
   ]
  },
  {
   "cell_type": "code",
   "execution_count": 38,
   "id": "418d9116-edd9-4750-9c12-04d99ee9e7e6",
   "metadata": {},
   "outputs": [
    {
     "name": "stdout",
     "output_type": "stream",
     "text": [
      "[278.  316.5]\n"
     ]
    }
   ],
   "source": [
    "# Calculate the new center coordinates\n",
    "new_cen = mag_fden_SP_map.wcs.wcs.crpix[0:2] + \\\n",
    "         [(np.around(thisxyshift[1].value - pix_pad)).astype(int),\n",
    "          (np.around(thisxyshift[0].value - pix_pad)).astype(int)]\n",
    "print(new_cen)"
   ]
  },
  {
   "cell_type": "code",
   "execution_count": 37,
   "id": "950e74a7-8c2d-4fef-b980-cb77db73d944",
   "metadata": {},
   "outputs": [
    {
     "data": {
      "text/plain": [
       "array([243. , 256.5])"
      ]
     },
     "execution_count": 37,
     "metadata": {},
     "output_type": "execute_result"
    }
   ],
   "source": [
    "mag_fden_SP_map.wcs.wcs.crpix[0:2]"
   ]
  },
  {
   "cell_type": "code",
   "execution_count": 42,
   "id": "def64687-b372-44d0-a92a-5e1e3f2d1fc4",
   "metadata": {},
   "outputs": [
    {
     "data": {
      "text/plain": [
       "((1, 512, 485),\n",
       " WCS Keywords\n",
       " \n",
       " Number of WCS axes: 3\n",
       " CTYPE : 'HPLN-TAN'  'HPLT-TAN'  'Parameter'  \n",
       " CRVAL : 0.03610083333333333  0.011277222222222221  0.0  \n",
       " CRPIX : 243.0  256.5  0.0  \n",
       " PC1_1 PC1_2 PC1_3  : 1.0  0.0  0.0  \n",
       " PC2_1 PC2_2 PC2_3  : 0.0  1.0  0.0  \n",
       " PC3_1 PC3_2 PC3_3  : 0.0  0.0  1.0  \n",
       " CDELT : 8.253888888888889e-05  8.888277777777778e-05  1.0  \n",
       " NAXIS : 0  0)"
      ]
     },
     "execution_count": 42,
     "metadata": {},
     "output_type": "execute_result"
    }
   ],
   "source": [
    "mag_fden_SP_map.data.shape, mag_fden_SP_map.wcs"
   ]
  },
  {
   "cell_type": "code",
   "execution_count": 44,
   "id": "dbca7eb7-a319-4300-8503-d5e870aabc9e",
   "metadata": {},
   "outputs": [
    {
     "data": {
      "text/plain": [
       "(4, 512, 485)"
      ]
     },
     "execution_count": 44,
     "metadata": {},
     "output_type": "execute_result"
    }
   ],
   "source": [
    "lvl2_c_SP.data.shape"
   ]
  },
  {
   "cell_type": "code",
   "execution_count": 49,
   "id": "be80aca5-e44b-4f1c-9701-69e08fb11d40",
   "metadata": {},
   "outputs": [
    {
     "name": "stdout",
     "output_type": "stream",
     "text": [
      "WCS Keywords\n",
      "\n",
      "Number of WCS axes: 3\n",
      "CTYPE : 'HPLN-TAN'  'HPLT-TAN'  'Parameter'  \n",
      "CRVAL : 0.036100833333333  0.011277222222222  0.0  \n",
      "CRPIX : 278.0  316.5  0.0  \n",
      "PC1_1 PC1_2 PC1_3  : 1.0  0.0  0.0  \n",
      "PC2_1 PC2_2 PC2_3  : 0.0  1.0  0.0  \n",
      "PC3_1 PC3_2 PC3_3  : 0.0  0.0  1.0  \n",
      "CDELT : 8.2538888888889e-05  8.8882777777778e-05  1.0  \n",
      "NAXIS : 0  0\n"
     ]
    }
   ],
   "source": [
    "# Create a copy of the WCS object to modify\n",
    "orig_cube = mag_fden_SP_map\n",
    "target_wcs_x = astropy.wcs.WCS(orig_cube.wcs.to_header())\n",
    "# Apply the translation.\n",
    "target_wcs_x.wcs.crpix[0:2] = new_cen\n",
    "print(target_wcs_x)\n",
    "\n",
    "reproj_cube = orig_cube.reproject_to(target_wcs=target_wcs_x, \n",
    "                                shape_out=orig_cube.data.shape)"
   ]
  },
  {
   "cell_type": "code",
   "execution_count": 50,
   "id": "76b50315-bcbe-480b-a22c-5209c65ae085",
   "metadata": {},
   "outputs": [
    {
     "data": {
      "text/plain": [
       "WCS Keywords\n",
       "\n",
       "Number of WCS axes: 3\n",
       "CTYPE : 'HPLN-TAN'  'HPLT-TAN'  'Parameter'  \n",
       "CRVAL : 0.036100833333333  0.011277222222222  0.0  \n",
       "CRPIX : 278.0  316.5  0.0  \n",
       "PC1_1 PC1_2 PC1_3  : 1.0  0.0  0.0  \n",
       "PC2_1 PC2_2 PC2_3  : 0.0  1.0  0.0  \n",
       "PC3_1 PC3_2 PC3_3  : 0.0  0.0  1.0  \n",
       "CDELT : 8.2538888888889e-05  8.8882777777778e-05  1.0  \n",
       "NAXIS : 0  0"
      ]
     },
     "execution_count": 50,
     "metadata": {},
     "output_type": "execute_result"
    }
   ],
   "source": [
    "reproj_cube.wcs"
   ]
  },
  {
   "cell_type": "code",
   "execution_count": null,
   "id": "21f76082-706e-4001-be90-dd2e8fac23b5",
   "metadata": {},
   "outputs": [],
   "source": [
    "# Crop to the approximate coordinates that Hinode/SP is observing.\n",
    "\n",
    "# Increase the size of the bounding box so the cross-correlation works better.\n",
    "offset = 0*u.arcsec\n",
    "bottom_left_skycoord = SkyCoord(Tx = lvl2_c_SP.coord1_axis(0)[0].Tx-offset, \\\n",
    "                               Ty = lvl2_c_SP.coord1_axis(0)[0].Ty-offset, \\\n",
    "                               frame = lvl1_c_HMI.meta['frame'])\n",
    "\n",
    "top_right_skycoord = SkyCoord(Tx = lvl2_c_SP.coord2_axis(512)[-1].Tx+offset, \\\n",
    "                               Ty = lvl2_c_SP.coord1_axis(512)[-1].Ty+offset, \\\n",
    "                               frame = lvl1_c_HMI.meta['frame'])\n",
    "\n",
    "#bottom_left_skycoord = SkyCoord(-700 * u.arcsec, -700 * u.arcsec)\n",
    "#top_right_skycoord = SkyCoord(700* u.arcsec, 700 * u.arcsec)\n",
    "\n",
    "cropped_map = reproj_cube.crop((bottom_left_skycoord, None), (top_right_skycoord, None))"
   ]
  },
  {
   "cell_type": "code",
   "execution_count": 55,
   "id": "f263abc4-485a-4953-bcea-2f3d2d8f5b37",
   "metadata": {},
   "outputs": [
    {
     "data": {
      "text/plain": [
       "(WCS Keywords\n",
       " \n",
       " Number of WCS axes: 3\n",
       " CTYPE : 'HPLN-TAN'  'HPLT-TAN'  'Parameter'  \n",
       " CRVAL : 0.03610083333333333  0.011277222222222221  0.0  \n",
       " CRPIX : 243.0  256.5  0.0  \n",
       " PC1_1 PC1_2 PC1_3  : 1.0  0.0  0.0  \n",
       " PC2_1 PC2_2 PC2_3  : 0.0  1.0  0.0  \n",
       " PC3_1 PC3_2 PC3_3  : 0.0  0.0  1.0  \n",
       " CDELT : 8.253888888888889e-05  8.888277777777778e-05  1.0  \n",
       " NAXIS : 0  0,\n",
       " WCS Keywords\n",
       " \n",
       " Number of WCS axes: 3\n",
       " CTYPE : 'HPLN-TAN'  'HPLT-TAN'  'Parameter'  \n",
       " CRVAL : 0.036100833333333  0.011277222222222  0.0  \n",
       " CRPIX : 278.0  316.5  0.0  \n",
       " PC1_1 PC1_2 PC1_3  : 1.0  0.0  0.0  \n",
       " PC2_1 PC2_2 PC2_3  : 0.0  1.0  0.0  \n",
       " PC3_1 PC3_2 PC3_3  : 0.0  0.0  1.0  \n",
       " CDELT : 8.2538888888889e-05  8.8882777777778e-05  1.0  \n",
       " NAXIS : 0  0)"
      ]
     },
     "execution_count": 55,
     "metadata": {},
     "output_type": "execute_result"
    }
   ],
   "source": [
    "orig_cube.wcs,reproj_cube.wcs"
   ]
  },
  {
   "cell_type": "code",
   "execution_count": 85,
   "id": "0565bb5d-cf99-4e63-a859-ee29b4686ab1",
   "metadata": {},
   "outputs": [
    {
     "data": {
      "application/vnd.jupyter.widget-view+json": {
       "model_id": "fcd2dbd5ffc0405387a1a581ead10596",
       "version_major": 2,
       "version_minor": 0
      },
      "text/plain": [
       "Canvas(toolbar=Toolbar(toolitems=[('Home', 'Reset original view', 'home', 'home'), ('Back', 'Back to previous …"
      ]
     },
     "metadata": {},
     "output_type": "display_data"
    },
    {
     "data": {
      "text/plain": [
       "<matplotlib.image.AxesImage at 0x7f0e98b08370>"
      ]
     },
     "execution_count": 85,
     "metadata": {},
     "output_type": "execute_result"
    }
   ],
   "source": [
    "%matplotlib widget\n",
    "\n",
    "#fig, ax = plt.subplots(subplot_kw={'projection':m_SP.wcs})\n",
    "#fig, ax = plt.subplots(nrows=1,ncols=2)\n",
    "\n",
    "ax1 = plt.subplot(121, projection=reproj_cube[0,:,:].wcs)\n",
    "#ax2 = plt.subplot(122, projection=orig_cube[0,:,:].wcs)\n",
    "ax2 = plt.subplot(122, projection=mag_fden_HMI_map[0,:,:].wcs)\n",
    "\n",
    "plt.subplots_adjust(wspace=0.4)\n",
    "\n",
    "ax1.imshow(reproj_cube[0,:,:].data, origin='lower')\n",
    "#ax2.imshow(orig_cube[0,:,:].data, origin='lower')\n",
    "ax2.imshow(mag_fden_HMI_map[0,:,:].data, origin='lower')\n",
    "\n",
    "#lvl.plot(ax=ax1)\n",
    "#cropped_map.plot(ax=ax2)"
   ]
  },
  {
   "cell_type": "code",
   "execution_count": 58,
   "id": "8495738f-5270-4d2e-af02-87b379e79de7",
   "metadata": {},
   "outputs": [],
   "source": [
    "xxx = reproj_cube._magnetic_map(0)"
   ]
  },
  {
   "cell_type": "code",
   "execution_count": 63,
   "id": "332e4c7a-37e8-46ce-852c-6227004f94f2",
   "metadata": {},
   "outputs": [],
   "source": [
    "yyy = orig_cube._magnetic_map(0)"
   ]
  },
  {
   "cell_type": "code",
   "execution_count": 111,
   "id": "88b01d9b-8f18-43a5-929e-48f0e59c8fcc",
   "metadata": {},
   "outputs": [
    {
     "name": "stdout",
     "output_type": "stream",
     "text": [
      "[ 58.05512702 -39.55648256] arcsec\n",
      "[ 47.6552307  -60.35504613] arcsec\n"
     ]
    }
   ],
   "source": [
    "# Find a point in the image.\n",
    "\n",
    "coord_orig = yyy.wcs.array_index_to_world_values(5,0)\n",
    "coord_shifted = xxx.wcs.array_index_to_world_values(0,0)\n",
    "print((coord_orig*u.deg).to(u.arcsecond))\n",
    "print((coord_shifted*u.deg).to(u.arcsecond))"
   ]
  },
  {
   "cell_type": "code",
   "execution_count": 106,
   "id": "3eac51b0-9933-41a8-892a-2cd5b68d844c",
   "metadata": {},
   "outputs": [
    {
     "data": {
      "text/latex": [
       "$37.019587 \\; \\mathrm{\\frac{1}{{}^{\\prime\\prime}}}$"
      ],
      "text/plain": [
       "<Quantity 37.01958673 1 / arcsec>"
      ]
     },
     "execution_count": 106,
     "metadata": {},
     "output_type": "execute_result"
    }
   ],
   "source": [
    "11/(orig_cube.wcs.to_header()['CDELT1']*u.deg).to(u.arcsec)"
   ]
  },
  {
   "cell_type": "code",
   "execution_count": 83,
   "id": "b05d7aa2-0fd3-40cf-877e-e58cfb748aa9",
   "metadata": {},
   "outputs": [
    {
     "data": {
      "text/plain": [
       "(19, -11)"
      ]
     },
     "execution_count": 83,
     "metadata": {},
     "output_type": "execute_result"
    }
   ],
   "source": [
    "60 - 41, 47-58"
   ]
  },
  {
   "cell_type": "code",
   "execution_count": 78,
   "id": "3d816d31-59e0-4eaf-9901-9f3c170f8e25",
   "metadata": {},
   "outputs": [
    {
     "data": {
      "text/latex": [
       "$-41.156372 \\; \\mathrm{{}^{\\prime\\prime}}$"
      ],
      "text/plain": [
       "<Quantity -41.15637222 arcsec>"
      ]
     },
     "execution_count": 78,
     "metadata": {},
     "output_type": "execute_result"
    }
   ],
   "source": [
    "(yyy.wcs.array_index_to_world_values(0,0)[1]*u.deg).to(u.arcsec)"
   ]
  },
  {
   "cell_type": "code",
   "execution_count": null,
   "id": "c93a6a07-330b-47ae-bfc0-385e856eb203",
   "metadata": {},
   "outputs": [],
   "source": [
    "xxx."
   ]
  },
  {
   "cell_type": "code",
   "execution_count": 62,
   "id": "ab14cc31-8650-4f0a-b39b-6b8c9c882f0f",
   "metadata": {},
   "outputs": [
    {
     "data": {
      "application/vnd.jupyter.widget-view+json": {
       "model_id": "a3961c6c210c458a8ee603ddb2f8ebe3",
       "version_major": 2,
       "version_minor": 0
      },
      "text/plain": [
       "Canvas(toolbar=Toolbar(toolitems=[('Home', 'Reset original view', 'home', 'home'), ('Back', 'Back to previous …"
      ]
     },
     "metadata": {},
     "output_type": "display_data"
    }
   ],
   "source": [
    "%matplotlib widget\n",
    "\n",
    "xxx.plot()"
   ]
  },
  {
   "cell_type": "markdown",
   "id": "0b05dd86-32fe-43b6-8fcd-e39a32387126",
   "metadata": {},
   "source": [
    "### Reproject HMI"
   ]
  },
  {
   "cell_type": "code",
   "execution_count": 46,
   "id": "aa949ec6-b95e-489e-a408-85b1deb2d836",
   "metadata": {},
   "outputs": [
    {
     "name": "stdout",
     "output_type": "stream",
     "text": [
      "[2022.75635931 1987.37498836]\n"
     ]
    }
   ],
   "source": [
    "# Calculate the new center coordinates\n",
    "new_cen = mag_fden_HMI_map.wcs.wcs.crpix[0:2] - \\\n",
    "         [(np.around(thisxyshift[1].value - pix_pad)).astype(int),\n",
    "          (np.around(thisxyshift[0].value - pix_pad)).astype(int)]\n",
    "print(new_cen)"
   ]
  },
  {
   "cell_type": "code",
   "execution_count": 47,
   "id": "7c879cf8-5ed7-41fd-97e0-13c96aadda2e",
   "metadata": {},
   "outputs": [
    {
     "data": {
      "text/plain": [
       "array([-35., -60.])"
      ]
     },
     "execution_count": 47,
     "metadata": {},
     "output_type": "execute_result"
    }
   ],
   "source": [
    "new_cen - mag_fden_HMI_map.wcs.wcs.crpix[0:2]"
   ]
  },
  {
   "cell_type": "code",
   "execution_count": 122,
   "id": "9591c84a-5388-49e2-ac87-65190ef51245",
   "metadata": {},
   "outputs": [
    {
     "name": "stdout",
     "output_type": "stream",
     "text": [
      "WCS Keywords\n",
      "\n",
      "Number of WCS axes: 3\n",
      "CTYPE : 'HPLN-TAN'  'HPLT-TAN'  'Parameter'  \n",
      "CRVAL : 0.0  0.0  0.0  \n",
      "CRPIX : 2092.7563593149  2107.3749883579003  0.0  \n",
      "PC1_1 PC1_2 PC1_3  : 1.0  7.4040177438477e-22  0.0  \n",
      "PC2_1 PC2_2 PC2_3  : 7.4040177438477e-22  1.0  0.0  \n",
      "PC3_1 PC3_2 PC3_3  : 0.0  0.0  1.0  \n",
      "CDELT : 0.00014009532001283  0.00014009532001283  1.0  \n",
      "NAXIS : 0  0\n"
     ]
    },
    {
     "ename": "TypeError",
     "evalue": "reproject_to() got an unexpected keyword argument 'magnetic_params'",
     "output_type": "error",
     "traceback": [
      "\u001b[0;31m---------------------------------------------------------------------------\u001b[0m",
      "\u001b[0;31mTypeError\u001b[0m                                 Traceback (most recent call last)",
      "\u001b[0;32m<ipython-input-122-39bcf6c5396a>\u001b[0m in \u001b[0;36m<module>\u001b[0;34m\u001b[0m\n\u001b[1;32m      5\u001b[0m \u001b[0mprint\u001b[0m\u001b[0;34m(\u001b[0m\u001b[0mtarget_wcs_x\u001b[0m\u001b[0;34m)\u001b[0m\u001b[0;34m\u001b[0m\u001b[0;34m\u001b[0m\u001b[0m\n\u001b[1;32m      6\u001b[0m \u001b[0;34m\u001b[0m\u001b[0m\n\u001b[0;32m----> 7\u001b[0;31m reproj_cube = mag_fden_HMI_map.reproject_to(target_wcs=target_wcs_x, \n\u001b[0m\u001b[1;32m      8\u001b[0m                                 shape_out=mag_fden_HMI_map.data.shape, magnetic_params=['test'])\n",
      "\u001b[0;31mTypeError\u001b[0m: reproject_to() got an unexpected keyword argument 'magnetic_params'"
     ]
    }
   ],
   "source": [
    "# THIS fails because of how MagVectorCube is defined\n",
    "# Create a copy of the WCS object to modify\n",
    "\n",
    "target_wcs_x = astropy.wcs.WCS(mag_fden_HMI_map.wcs.to_header())\n",
    "# Apply the rotation.\n",
    "target_wcs_x.wcs.crpix[0:2] = new_cen\n",
    "print(target_wcs_x)\n",
    "\n",
    "reproj_cube = mag_fden_HMI_map.reproject_to(target_wcs=target_wcs_x, \n",
    "                                shape_out=mag_fden_HMI_map.data.shape, magnetic_params=['test'])"
   ]
  },
  {
   "cell_type": "code",
   "execution_count": 130,
   "id": "d8537dac-1645-47f0-bbc4-cd2174ef974e",
   "metadata": {},
   "outputs": [
    {
     "name": "stdout",
     "output_type": "stream",
     "text": [
      "WCS Keywords\n",
      "\n",
      "Number of WCS axes: 3\n",
      "CTYPE : 'HPLN-TAN'  'HPLT-TAN'  'Parameter'  \n",
      "CRVAL : 0.0  0.0  0.0  \n",
      "CRPIX : 2022.7563593148998  1987.3749883579  0.0  \n",
      "PC1_1 PC1_2 PC1_3  : 1.0  7.4040177438477e-22  0.0  \n",
      "PC2_1 PC2_2 PC2_3  : 7.4040177438477e-22  1.0  0.0  \n",
      "PC3_1 PC3_2 PC3_3  : 0.0  0.0  1.0  \n",
      "CDELT : 0.00014009532001283  0.00014009532001283  1.0  \n",
      "NAXIS : 0  0\n"
     ]
    }
   ],
   "source": [
    "# Create a copy of the WCS object to modify\n",
    "orig_cube = lvl2_c_HMI\n",
    "target_wcs_x = astropy.wcs.WCS(orig_cube.wcs.to_header())\n",
    "# Apply the rotation.\n",
    "target_wcs_x.wcs.crpix[0:2] = new_cen\n",
    "print(target_wcs_x)\n",
    "\n",
    "reproj_cube = orig_cube.reproject_to(target_wcs=target_wcs_x, \n",
    "                                shape_out=orig_cube.data.shape)"
   ]
  },
  {
   "cell_type": "code",
   "execution_count": 150,
   "id": "a61e9146-1f0e-41b0-9e0e-65ed25a6a31e",
   "metadata": {},
   "outputs": [
    {
     "data": {
      "text/plain": [
       "(4, 512, 485)"
      ]
     },
     "execution_count": 150,
     "metadata": {},
     "output_type": "execute_result"
    }
   ],
   "source": [
    "lvl2_c_SP.data.shape"
   ]
  },
  {
   "cell_type": "code",
   "execution_count": 131,
   "id": "b91766f3-906a-469c-9b7f-cb0099d7bf65",
   "metadata": {},
   "outputs": [
    {
     "data": {
      "text/plain": [
       "WCS Keywords\n",
       "\n",
       "Number of WCS axes: 3\n",
       "CTYPE : 'HPLN-TAN'  'HPLT-TAN'  'Parameter'  \n",
       "CRVAL : 0.0  0.0  0.0  \n",
       "CRPIX : 2022.7563593148998  1987.3749883579  0.0  \n",
       "PC1_1 PC1_2 PC1_3  : 1.0  7.4040177438477e-22  0.0  \n",
       "PC2_1 PC2_2 PC2_3  : 7.4040177438477e-22  1.0  0.0  \n",
       "PC3_1 PC3_2 PC3_3  : 0.0  0.0  1.0  \n",
       "CDELT : 0.00014009532001283  0.00014009532001283  1.0  \n",
       "NAXIS : 0  0"
      ]
     },
     "execution_count": 131,
     "metadata": {},
     "output_type": "execute_result"
    }
   ],
   "source": [
    "reproj_cube.wcs"
   ]
  },
  {
   "cell_type": "code",
   "execution_count": null,
   "id": "20d0cbcc-929a-4547-b7c5-8a510c1953f5",
   "metadata": {},
   "outputs": [],
   "source": []
  },
  {
   "cell_type": "code",
   "execution_count": null,
   "id": "9d4f3ffa-d506-4a6e-b3f5-974acb32fb20",
   "metadata": {},
   "outputs": [],
   "source": [
    "wcs.wcs.crpix = 0, 2, 2"
   ]
  },
  {
   "cell_type": "markdown",
   "id": "0abbbe92-ea1e-4104-9d9e-458f54067300",
   "metadata": {},
   "source": [
    "## Crop the shifted map and compare results"
   ]
  },
  {
   "cell_type": "code",
   "execution_count": 111,
   "id": "d4c411b5-f0a6-4a9d-8944-4e64507fff9d",
   "metadata": {},
   "outputs": [
    {
     "data": {
      "text/plain": [
       "OrderedDict([('frame',\n",
       "              <Helioprojective Coordinate (obstime=2017-09-05T02:58:42.200, rsun=696000.0 km, observer=<HeliographicStonyhurst Coordinate (obstime=2017-09-05T02:58:42.200, rsun=696000.0 km): (lon, lat, radius) in (deg, deg, m)\n",
       "                  (0.06537303, 7.24822903, 1.50848101e+11)>): (Tx, Ty) in arcsec\n",
       "                  (-1037.30224047, -1032.05354828)>)])"
      ]
     },
     "execution_count": 111,
     "metadata": {},
     "output_type": "execute_result"
    }
   ],
   "source": [
    "lvl1_c_HMI.meta"
   ]
  },
  {
   "cell_type": "code",
   "execution_count": 125,
   "id": "74b04638-b272-470a-9f4b-5386866c8b02",
   "metadata": {},
   "outputs": [],
   "source": [
    "# Crop to the approximate coordinates that Hinode/SP is observing.\n",
    "\n",
    "# Increase the size of the bounding box so the cross-correlation works better.\n",
    "offset = 0*u.arcsec\n",
    "bottom_left_skycoord = SkyCoord(Tx = lvl2_c_SP.coord1_axis(0)[0].Tx-offset, \\\n",
    "                               Ty = lvl2_c_SP.coord1_axis(0)[0].Ty-offset, \\\n",
    "                               frame = lvl1_c_HMI.meta['frame'])\n",
    "\n",
    "top_right_skycoord = SkyCoord(Tx = lvl2_c_SP.coord2_axis(512)[-1].Tx+offset, \\\n",
    "                               Ty = lvl2_c_SP.coord1_axis(512)[-1].Ty+offset, \\\n",
    "                               frame = lvl1_c_HMI.meta['frame'])\n",
    "\n",
    "#bottom_left_skycoord = SkyCoord(-700 * u.arcsec, -700 * u.arcsec)\n",
    "#top_right_skycoord = SkyCoord(700* u.arcsec, 700 * u.arcsec)\n",
    "\n",
    "cropped_map = reproj_cube.crop((bottom_left_skycoord, None), (top_right_skycoord, None))"
   ]
  },
  {
   "cell_type": "code",
   "execution_count": 133,
   "id": "89d8d0c7-152a-4378-ac94-c01a471093d7",
   "metadata": {},
   "outputs": [
    {
     "data": {
      "text/plain": [
       "(<Angle 58.05512713 arcsec>, <Angle -41.15637222 arcsec>)"
      ]
     },
     "execution_count": 133,
     "metadata": {},
     "output_type": "execute_result"
    }
   ],
   "source": [
    "lvl2_c_SP.coord1_axis(0)[0].Tx-offset,lvl2_c_SP.coord1_axis(0)[0].Ty-offset"
   ]
  },
  {
   "cell_type": "code",
   "execution_count": 134,
   "id": "0b699dfb-edeb-4370-9fc7-3c62125b1a4c",
   "metadata": {},
   "outputs": [
    {
     "data": {
      "text/plain": [
       "(<Angle 201.87088411 arcsec>, <Angle 122.35236546 arcsec>)"
      ]
     },
     "execution_count": 134,
     "metadata": {},
     "output_type": "execute_result"
    }
   ],
   "source": [
    "lvl2_c_SP.coord2_axis(512)[-1].Tx+offset,lvl2_c_SP.coord1_axis(512)[-1].Ty+offset"
   ]
  },
  {
   "cell_type": "code",
   "execution_count": 135,
   "id": "a0284676-182d-4384-93c2-b5d0cbf8337c",
   "metadata": {},
   "outputs": [
    {
     "data": {
      "text/plain": [
       "(3, 325, 286)"
      ]
     },
     "execution_count": 135,
     "metadata": {},
     "output_type": "execute_result"
    }
   ],
   "source": [
    "cropped_map.data.shape"
   ]
  },
  {
   "cell_type": "code",
   "execution_count": 137,
   "id": "c2572dc5-ee2f-402e-b641-4b86d90f1f07",
   "metadata": {},
   "outputs": [
    {
     "data": {
      "application/vnd.jupyter.widget-view+json": {
       "model_id": "c44a41d783e7491084c917ad075ec115",
       "version_major": 2,
       "version_minor": 0
      },
      "text/plain": [
       "Canvas(toolbar=Toolbar(toolitems=[('Home', 'Reset original view', 'home', 'home'), ('Back', 'Back to previous …"
      ]
     },
     "metadata": {},
     "output_type": "display_data"
    },
    {
     "data": {
      "text/plain": [
       "<matplotlib.image.AxesImage at 0x7fe26631b2e0>"
      ]
     },
     "execution_count": 137,
     "metadata": {},
     "output_type": "execute_result"
    }
   ],
   "source": [
    "%matplotlib widget\n",
    "\n",
    "#fig, ax = plt.subplots(subplot_kw={'projection':m_SP.wcs})\n",
    "#fig, ax = plt.subplots(nrows=1,ncols=2)\n",
    "\n",
    "ax1 = plt.subplot(121, projection=lvl2_c_SP[0,:,:].wcs)\n",
    "ax2 = plt.subplot(122, projection=cropped_map[0,:,:].wcs)\n",
    "\n",
    "plt.subplots_adjust(wspace=0.4)\n",
    "\n",
    "ax1.imshow(lvl2_c_SP[0,:,:].data, origin='lower')\n",
    "ax2.imshow(cropped_map[0,:,:].data, origin='lower')\n",
    "\n",
    "#lvl.plot(ax=ax1)\n",
    "#cropped_map.plot(ax=ax2)"
   ]
  },
  {
   "cell_type": "markdown",
   "id": "5bd8162e-1820-4f87-bb8b-bea022f0fcd6",
   "metadata": {},
   "source": [
    "################ Old below ###################"
   ]
  },
  {
   "cell_type": "code",
   "execution_count": 21,
   "id": "1f387e5d-7584-43f6-8d41-3f496c681cfe",
   "metadata": {
    "collapsed": true,
    "jupyter": {
     "outputs_hidden": true
    },
    "tags": []
   },
   "outputs": [
    {
     "name": "stdout",
     "output_type": "stream",
     "text": [
      "HMI spectral axis:  [617.3173  617.32418 617.33106 617.33794 617.34482 617.3517 ] nm\n",
      "Hinode/SP spectral axis:  [630.08840305 630.09055795 630.09271285 630.09486775 630.09702265\n",
      " 630.09917755 630.10133245 630.10348735 630.10564225 630.10779715\n",
      " 630.10995205 630.11210695 630.11426185 630.11641675 630.11857165\n",
      " 630.12072655 630.12288145 630.12503635 630.12719125 630.12934615\n",
      " 630.13150105 630.13365595 630.13581085 630.13796575 630.14012065\n",
      " 630.14227555 630.14443045 630.14658535 630.14874025 630.15089515\n",
      " 630.15305005 630.15520495 630.15735985 630.15951475 630.16166965\n",
      " 630.16382455 630.16597945 630.16813435 630.17028925 630.17244415\n",
      " 630.17459905 630.17675395 630.17890885 630.18106375 630.18321865\n",
      " 630.18537355 630.18752845 630.18968335 630.19183825 630.19399315\n",
      " 630.19614805 630.19830295 630.20045785 630.20261275 630.20476765\n",
      " 630.20692255 630.20907745 630.21123235 630.21338725 630.21554215\n",
      " 630.21769705 630.21985195 630.22200685 630.22416175 630.22631665\n",
      " 630.22847155 630.23062645 630.23278135 630.23493625 630.23709115\n",
      " 630.23924605 630.24140095 630.24355585 630.24571075 630.24786565\n",
      " 630.25002055 630.25217545 630.25433035 630.25648525 630.25864015\n",
      " 630.26079505 630.26294995 630.26510485 630.26725975 630.26941465\n",
      " 630.27156955 630.27372445 630.27587935 630.27803425 630.28018915\n",
      " 630.28234405 630.28449895 630.28665385 630.28880875 630.29096365\n",
      " 630.29311855 630.29527345 630.29742835 630.29958325 630.30173815\n",
      " 630.30389305 630.30604795 630.30820285 630.31035775 630.31251265\n",
      " 630.31466755 630.31682245 630.31897735 630.32113225 630.32328715\n",
      " 630.32544205 630.32759695] nm\n"
     ]
    }
   ],
   "source": [
    "# Select a single wavelength or a range to sum over.\n",
    "# The entries can be both array indices (int) and wavelength quantities if\n",
    "# known.\n",
    "\n",
    "# You can use the StokesCube attribute spectral_axis\n",
    "# to see which wavelengths are available.\n",
    "print('HMI spectral axis: ', lvl1_c_HMI.spectral_axis.to(u.nm))\n",
    "print('Hinode/SP spectral axis: ', lvl1_c_SP.spectral_axis.to(u.nm))"
   ]
  },
  {
   "cell_type": "code",
   "execution_count": 22,
   "id": "599515c9-2739-4ab2-bc4a-b336311d696a",
   "metadata": {},
   "outputs": [
    {
     "name": "stdout",
     "output_type": "stream",
     "text": [
      "ix_0, wav0 =  0 6.173173e-07 m\n",
      "ix_0, wav0 =  0 6.3008840305e-07 m\n"
     ]
    }
   ],
   "source": [
    "# The map routines require at least one wavelength.\n",
    "# If a second wavelength is entered the output is a sum over the wavelength\n",
    "# range.\n",
    "# (See example using the 3D StokesParamCube objects as well)\n",
    "# The input wavelengths can be either array indices or stokespy wavelength\n",
    "# quantities. The nearest image in wavelength is returned.\n",
    "# No interpolation is implemented.\n",
    "\n",
    "#wav0 = 2\n",
    "#wav1 = 10\n",
    "\n",
    "wav0_HMI = lvl1_c_HMI.spectral_axis[0]\n",
    "wav0_SP = lvl1_c_SP.spectral_axis[0]\n",
    "\n",
    "m_HMI = lvl1_c_HMI.I_map(wav0_HMI, stop_wavelength=None)\n",
    "m_SP = lvl1_c_SP.I_map(wav0_SP, stop_wavelength=None)"
   ]
  },
  {
   "cell_type": "code",
   "execution_count": 52,
   "id": "f9cb5f52-1f16-4454-b619-f166d9c4010f",
   "metadata": {},
   "outputs": [
    {
     "data": {
      "text/plain": [
       "(<SkyCoord (Helioprojective: obstime=None, rsun=695700.0 km, observer=None): (Tx, Ty) in arcsec\n",
       "     (58.05512713, -41.15637222)>,\n",
       " <SkyCoord (Helioprojective: obstime=None, rsun=695700.0 km, observer=None): (Tx, Ty) in arcsec\n",
       "     (201.87088411, 122.67234521)>)"
      ]
     },
     "execution_count": 52,
     "metadata": {},
     "output_type": "execute_result"
    }
   ],
   "source": [
    "lvl1_c_SP.coord1_axis(0)[0], lvl1_c_SP.coord2_axis(512)[-1]"
   ]
  },
  {
   "cell_type": "code",
   "execution_count": 85,
   "id": "e337029a-008f-47f2-a5b5-eeb15cb54703",
   "metadata": {},
   "outputs": [
    {
     "data": {
      "text/plain": [
       "<SkyCoord (Helioprojective: obstime=None, rsun=695700.0 km, observer=None): (Tx, Ty) in arcsec\n",
       "    (210.19079125, -41.15637161)>"
      ]
     },
     "execution_count": 85,
     "metadata": {},
     "output_type": "execute_result"
    }
   ],
   "source": [
    "lvl1_c_SP.coord1_axis(512)[0]"
   ]
  },
  {
   "cell_type": "code",
   "execution_count": 87,
   "id": "9308c046-c11e-4bf4-b175-d7eec65e6c86",
   "metadata": {},
   "outputs": [
    {
     "data": {
      "text/plain": [
       "(485,)"
      ]
     },
     "execution_count": 87,
     "metadata": {},
     "output_type": "execute_result"
    }
   ],
   "source": [
    "lvl1_c_SP.coord2_axis(600).shape"
   ]
  },
  {
   "cell_type": "code",
   "execution_count": 72,
   "id": "504d9d79-bbc2-4c71-9ae8-720511d39082",
   "metadata": {},
   "outputs": [
    {
     "data": {
      "text/plain": [
       "(4, 112, 512, 485)"
      ]
     },
     "execution_count": 72,
     "metadata": {},
     "output_type": "execute_result"
    }
   ],
   "source": [
    "lvl1_c_SP.data.shape"
   ]
  },
  {
   "cell_type": "code",
   "execution_count": 93,
   "id": "dc4c389b-3864-4437-be7c-310cf9efbff7",
   "metadata": {},
   "outputs": [
    {
     "data": {
      "text/plain": [
       "(<Latitude -41.15637222 arcsec>, <Latitude 122.35236728 arcsec>)"
      ]
     },
     "execution_count": 93,
     "metadata": {},
     "output_type": "execute_result"
    }
   ],
   "source": [
    "### Coordinates ###\n",
    "# HINODE_YCOORDS\n",
    "lvl1_c_SP.coord1_axis(0)[0].Ty, lvl1_c_SP.coord1_axis(0)[-1].Ty "
   ]
  },
  {
   "cell_type": "code",
   "execution_count": 95,
   "id": "da39325b-35a1-4838-ba5a-7037c6681422",
   "metadata": {},
   "outputs": [
    {
     "data": {
      "text/plain": [
       "(<Longitude 58.05512713 arcsec>, <Longitude 58.05511591 arcsec>)"
      ]
     },
     "execution_count": 95,
     "metadata": {},
     "output_type": "execute_result"
    }
   ],
   "source": [
    "lvl1_c_SP.coord1_axis(0)[0].Tx, lvl1_c_SP.coord1_axis(0)[-1].Tx "
   ]
  },
  {
   "cell_type": "code",
   "execution_count": 96,
   "id": "d92b0de3-bf56-4b2e-b1e1-2bf85d11a810",
   "metadata": {},
   "outputs": [
    {
     "data": {
      "text/plain": [
       "(<Longitude 66.96932565 arcsec>, <Longitude 66.96931582 arcsec>)"
      ]
     },
     "execution_count": 96,
     "metadata": {},
     "output_type": "execute_result"
    }
   ],
   "source": [
    "lvl1_c_SP.coord1_axis(30)[0].Tx, lvl1_c_SP.coord1_axis(30)[-1].Tx "
   ]
  },
  {
   "cell_type": "code",
   "execution_count": 99,
   "id": "f464561b-7ee6-4787-ab80-6ddb5ecc1612",
   "metadata": {},
   "outputs": [
    {
     "data": {
      "text/plain": [
       "(<Longitude 58.05512713 arcsec>, <Longitude 201.87087287 arcsec>)"
      ]
     },
     "execution_count": 99,
     "metadata": {},
     "output_type": "execute_result"
    }
   ],
   "source": [
    "# HINODE_XCOORDS.\n",
    "lvl1_c_SP.coord2_axis(0)[0].Tx, lvl1_c_SP.coord2_axis(0)[-1].Tx "
   ]
  },
  {
   "cell_type": "code",
   "execution_count": 90,
   "id": "41cb4717-cc36-4d2f-8859-07123767f7dd",
   "metadata": {},
   "outputs": [
    {
     "data": {
      "text/plain": [
       "<SkyCoord (Helioprojective: obstime=None, rsun=695700.0 km, observer=None): (Tx, Ty) in arcsec\n",
       "    (58.05512713, -41.15637222)>"
      ]
     },
     "execution_count": 90,
     "metadata": {},
     "output_type": "execute_result"
    }
   ],
   "source": [
    "lvl1_c_SP.coord2_axis(0)[0]"
   ]
  },
  {
   "cell_type": "code",
   "execution_count": 59,
   "id": "f7c5d025-a71a-4ce6-9e63-9531369bfc09",
   "metadata": {},
   "outputs": [
    {
     "data": {
      "text/plain": [
       "0.01612642420277223"
      ]
     },
     "execution_count": 59,
     "metadata": {},
     "output_type": "execute_result"
    }
   ],
   "source": [
    "lvl1_c_SP.coord1_axis(0)[0].Tx.to(u.deg).value"
   ]
  },
  {
   "cell_type": "code",
   "execution_count": 103,
   "id": "b811086a-8643-4f42-b424-e0805031ae61",
   "metadata": {},
   "outputs": [],
   "source": [
    "# Thic cal\n",
    "\n",
    "hmi_index_y, hmi_index_x = m_HMI.wcs.low_level_wcs.world_to_array_index_values([lvl1_c_SP.coord2_axis(0)[0].Tx.to(u.deg).value, \n",
    "                                                     lvl1_c_SP.coord2_axis(0)[-1].Tx.to(u.deg).value],\n",
    "                                                   [lvl1_c_SP.coord1_axis(0)[0].Ty.to(u.deg).value,\n",
    "                                                   lvl1_c_SP.coord1_axis(0)[-1].Ty.to(u.deg).value])"
   ]
  },
  {
   "cell_type": "code",
   "execution_count": 104,
   "id": "5a9a9298-b153-4667-a5ce-bd622b3d537a",
   "metadata": {},
   "outputs": [
    {
     "data": {
      "text/plain": [
       "(array([2172, 2457]), array([1965, 2289]))"
      ]
     },
     "execution_count": 104,
     "metadata": {},
     "output_type": "execute_result"
    }
   ],
   "source": [
    "hmi_index_x, hmi_index_y"
   ]
  },
  {
   "cell_type": "code",
   "execution_count": null,
   "id": "e4617cc1-1a0b-4cc2-ab37-b260be9e614d",
   "metadata": {},
   "outputs": [],
   "source": [
    "m_HMI.wcs.low_level_wcs.world_to_array_index_values([lvl1_c_SP.coord1_axis(0)[0].Tx.to(u.deg).value],\n",
    "                                                   [lvl1_c_SP.coord1_axis(0)[0].Ty.to(u.deg).value])"
   ]
  },
  {
   "cell_type": "code",
   "execution_count": null,
   "id": "b99cad5a-fef5-46cd-8917-ed023fabef19",
   "metadata": {},
   "outputs": [],
   "source": [
    "## Find the array indices in HMI that the Hinode\n",
    "# coordinates correspond to.\n",
    "tt.wcs.low_level_wcs.world_to_array_index_values([profile_coords.Tx.to(u.deg).value, profile_coords.Tx.to(u.deg).value], \\\n",
    "                                                 [profile_coords.Ty.to(u.deg).value, profile_coords.Ty.to(u.deg).value])\n"
   ]
  },
  {
   "cell_type": "code",
   "execution_count": 118,
   "id": "93029111-c943-4661-9dc4-bebdd181a0af",
   "metadata": {},
   "outputs": [],
   "source": [
    "# Crop to the approximate coordinates that Hinode/SP is observing.\n",
    "\n",
    "# Increase the size of the bounding box so the cross-correlation works better.\n",
    "offset = 60*u.arcsec\n",
    "bottom_left_skycoord = SkyCoord(Tx = lvl1_c_SP.coord1_axis(0)[0].Tx-offset, \\\n",
    "                               Ty = lvl1_c_SP.coord1_axis(0)[0].Ty-offset, \\\n",
    "                               frame = m_HMI.meta['frame'])\n",
    "\n",
    "top_right_skycoord = SkyCoord(Tx = lvl1_c_SP.coord2_axis(512)[-1].Tx+offset, \\\n",
    "                               Ty = lvl1_c_SP.coord1_axis(512)[-1].Ty+offset, \\\n",
    "                               frame = m_HMI.meta['frame'])\n",
    "\n",
    "#bottom_left_skycoord = SkyCoord(-700 * u.arcsec, -700 * u.arcsec)\n",
    "#top_right_skycoord = SkyCoord(700* u.arcsec, 700 * u.arcsec)\n",
    "\n",
    "cropped_map = m_HMI.crop((bottom_left_skycoord), (top_right_skycoord))"
   ]
  },
  {
   "cell_type": "code",
   "execution_count": 136,
   "id": "e628ec56-c080-47ab-83f9-b5ae81e6139b",
   "metadata": {},
   "outputs": [],
   "source": [
    "pix_pad = 238/2"
   ]
  },
  {
   "cell_type": "code",
   "execution_count": 119,
   "id": "cbb0e411-c93a-49ba-aed4-7e5a0776a631",
   "metadata": {},
   "outputs": [
    {
     "data": {
      "text/plain": [
       "(325, 286)"
      ]
     },
     "execution_count": 119,
     "metadata": {},
     "output_type": "execute_result"
    }
   ],
   "source": [
    "cropped_map.data.shape"
   ]
  },
  {
   "cell_type": "code",
   "execution_count": 120,
   "id": "aec8900a-f81a-4d9f-a609-01eaa6e7903f",
   "metadata": {},
   "outputs": [
    {
     "data": {
      "text/plain": [
       "(238, 238)"
      ]
     },
     "execution_count": 120,
     "metadata": {},
     "output_type": "execute_result"
    }
   ],
   "source": [
    "524-286, 563-325"
   ]
  },
  {
   "cell_type": "code",
   "execution_count": 46,
   "id": "ca7951e4-603d-4eef-b61c-56c0c13267af",
   "metadata": {},
   "outputs": [
    {
     "data": {
      "text/plain": [
       "(563, 524)"
      ]
     },
     "execution_count": 46,
     "metadata": {},
     "output_type": "execute_result"
    }
   ],
   "source": [
    "cropped_map.data.shape"
   ]
  },
  {
   "cell_type": "code",
   "execution_count": 45,
   "id": "6148c908-ff4a-4e9d-806e-6ee7fd98d173",
   "metadata": {},
   "outputs": [
    {
     "data": {
      "text/plain": [
       "(512, 485)"
      ]
     },
     "execution_count": 45,
     "metadata": {},
     "output_type": "execute_result"
    }
   ],
   "source": [
    "m_SP.data.shape"
   ]
  },
  {
   "cell_type": "code",
   "execution_count": 141,
   "id": "04a24945-5ee1-48e3-b504-8dc885e0a8e4",
   "metadata": {},
   "outputs": [
    {
     "data": {
      "application/vnd.jupyter.widget-view+json": {
       "model_id": "6b0cf756b1c14d379bd948019c64b77b",
       "version_major": 2,
       "version_minor": 0
      },
      "text/plain": [
       "Canvas(toolbar=Toolbar(toolitems=[('Home', 'Reset original view', 'home', 'home'), ('Back', 'Back to previous …"
      ]
     },
     "metadata": {},
     "output_type": "display_data"
    }
   ],
   "source": [
    "%matplotlib widget\n",
    "\n",
    "#fig, ax = plt.subplots(subplot_kw={'projection':m_SP.wcs})\n",
    "#fig, ax = plt.subplots(nrows=1,ncols=2)\n",
    "\n",
    "ax1 = plt.subplot(121, projection=m_SP.wcs)\n",
    "ax2 = plt.subplot(122, projection=cropped_map.wcs)\n",
    "\n",
    "plt.subplots_adjust(wspace=0.4)\n",
    "\n",
    "m_SP.plot(ax=ax1)\n",
    "cropped_map.plot(ax=ax2)"
   ]
  },
  {
   "cell_type": "markdown",
   "id": "287818cb-f264-4507-8e8d-ac8d5ff37111",
   "metadata": {},
   "source": [
    "## Co-aling the cutouts."
   ]
  },
  {
   "cell_type": "code",
   "execution_count": 105,
   "id": "faa7eb9b-bc84-4f90-8112-d8b1b31934ec",
   "metadata": {},
   "outputs": [
    {
     "name": "stdout",
     "output_type": "stream",
     "text": [
      "Zoom values:  [0.6328125, 0.5876288659793815]\n"
     ]
    }
   ],
   "source": [
    "# Degrade the Hinode data with a Gaussian and rescale to the same pixel size as HMI.\n",
    "# The 1.3 sigma for the Gaussian is not actually chosen based on any physical parameters,\n",
    "# just such that the Hinode map looks ~ish like HMI.\n",
    "tmp_hinode_data_0 = ndimage.gaussian_filter(m_SP.data,1.3)\n",
    "tmp_hinode_data = ndimage.zoom(tmp_hinode_data_0, \\\n",
    "                                [(hmi_index_y[1]-hmi_index_y[0])/tmp_hinode_data_0.shape[0], \\\n",
    "                                    (hmi_index_x[1]-hmi_index_x[0])/tmp_hinode_data_0.shape[1]])\n",
    "\n",
    "print('Zoom values: ', [(hmi_index_y[1]-hmi_index_y[0])/tmp_hinode_data_0.shape[0], \\\n",
    "                                    (hmi_index_x[1]-hmi_index_x[0])/tmp_hinode_data_0.shape[1]])"
   ]
  },
  {
   "cell_type": "code",
   "execution_count": 108,
   "id": "f81d2fde-db5d-46b7-80ca-17445801d7c2",
   "metadata": {},
   "outputs": [
    {
     "data": {
      "text/plain": [
       "(285, 2457, 2172)"
      ]
     },
     "execution_count": 108,
     "metadata": {},
     "output_type": "execute_result"
    }
   ],
   "source": [
    "hmi_index_x[1]-hmi_index_x[0], hmi_index_x[1],hmi_index_x[0]"
   ]
  },
  {
   "cell_type": "code",
   "execution_count": 110,
   "id": "6612ac67-45b0-49cc-9620-ec44550538de",
   "metadata": {},
   "outputs": [
    {
     "data": {
      "text/plain": [
       "((512, 485), (324, 285))"
      ]
     },
     "execution_count": 110,
     "metadata": {},
     "output_type": "execute_result"
    }
   ],
   "source": [
    "tmp_hinode_data_0.shape, tmp_hinode_data.shape"
   ]
  },
  {
   "cell_type": "code",
   "execution_count": 112,
   "id": "58cea351-de0e-4e75-979d-b95dfe47f762",
   "metadata": {},
   "outputs": [
    {
     "data": {
      "text/plain": [
       "(563, 524)"
      ]
     },
     "execution_count": 112,
     "metadata": {},
     "output_type": "execute_result"
    }
   ],
   "source": [
    "cropped_map.data.shape"
   ]
  },
  {
   "cell_type": "code",
   "execution_count": 116,
   "id": "f02be99b-a121-4e77-ade5-e5259635de44",
   "metadata": {},
   "outputs": [],
   "source": [
    "# Use the sunpy coalignment routine to get an initial idea where the degraded Hinode data\n",
    "# should be on the padded HMI map.  \n",
    "thisxyshift = coalignment.calculate_shift(cropped_map.data, tmp_hinode_data)\n",
    "print(thisxyshift)"
   ]
  },
  {
   "cell_type": "code",
   "execution_count": 157,
   "id": "3e832e5f-9293-46c8-9eb5-2717ad39923f",
   "metadata": {},
   "outputs": [
    {
     "data": {
      "text/plain": [
       "(59.927589291702304, 34.86777276427284)"
      ]
     },
     "execution_count": 157,
     "metadata": {},
     "output_type": "execute_result"
    }
   ],
   "source": [
    "thisxyshift[0].value - pix_pad, thisxyshift[1].value - pix_pad "
   ]
  },
  {
   "cell_type": "code",
   "execution_count": 216,
   "id": "64ba578c-8951-4c83-9b99-9f9b7cbb3b07",
   "metadata": {},
   "outputs": [],
   "source": [
    "hmi_index_x_new = np.around(hmi_index_x+(thisxyshift[1].value-pix_pad)).astype(int)\n",
    "hmi_index_y_new = np.around(hmi_index_y+(thisxyshift[0].value-pix_pad)).astype(int)\n",
    "hmi_data = m_HMI.data[hmi_index_y_new[0]:hmi_index_y_new[1],hmi_index_x_new[0]:hmi_index_x_new[1]]\n"
   ]
  },
  {
   "cell_type": "code",
   "execution_count": 217,
   "id": "919577ec-c4dc-482f-bb63-a7f67e1746d0",
   "metadata": {},
   "outputs": [
    {
     "data": {
      "text/plain": [
       "(array([35, 35]), array([60, 60]))"
      ]
     },
     "execution_count": 217,
     "metadata": {},
     "output_type": "execute_result"
    }
   ],
   "source": [
    "hmi_index_x_new - hmi_index_x, hmi_index_y_new - hmi_index_y "
   ]
  },
  {
   "cell_type": "code",
   "execution_count": 140,
   "id": "642a6838-45fd-44d2-85b0-dd39b25a4f82",
   "metadata": {},
   "outputs": [
    {
     "data": {
      "text/plain": [
       "(324, 285)"
      ]
     },
     "execution_count": 140,
     "metadata": {},
     "output_type": "execute_result"
    }
   ],
   "source": [
    "hmi_data.shape"
   ]
  },
  {
   "cell_type": "code",
   "execution_count": 218,
   "id": "ca8b3a0c-0e76-4944-85de-5687058184a3",
   "metadata": {},
   "outputs": [
    {
     "data": {
      "application/vnd.jupyter.widget-view+json": {
       "model_id": "9326bce4e56a46d496b41347e1fdd395",
       "version_major": 2,
       "version_minor": 0
      },
      "text/plain": [
       "Canvas(toolbar=Toolbar(toolitems=[('Home', 'Reset original view', 'home', 'home'), ('Back', 'Back to previous …"
      ]
     },
     "metadata": {},
     "output_type": "display_data"
    },
    {
     "data": {
      "text/plain": [
       "<matplotlib.image.AxesImage at 0x7faf009a7fd0>"
      ]
     },
     "execution_count": 218,
     "metadata": {},
     "output_type": "execute_result"
    }
   ],
   "source": [
    "# Plot the maps.\n",
    "\n",
    "%matplotlib widget\n",
    "\n",
    "#fig, ax = plt.subplots(subplot_kw={'projection':m_SP.wcs})\n",
    "#fig, ax = plt.subplots(nrows=1,ncols=2)\n",
    "\n",
    "ax1 = plt.subplot(111)\n",
    "#ax2 = plt.subplot(122)\n",
    "\n",
    "plt.subplots_adjust(wspace=0.4)\n",
    "\n",
    "ax1.imshow(tmp_hinode_data, origin='lower')\n",
    "ax1.imshow(hmi_data, origin='lower', cmap='Greys', alpha=0.7)\n"
   ]
  },
  {
   "cell_type": "markdown",
   "id": "5fa0f70d-26f4-4250-8837-1075c34b6c4b",
   "metadata": {},
   "source": [
    "### Perform the final cross-correlation"
   ]
  },
  {
   "cell_type": "code",
   "execution_count": 219,
   "id": "b9185885-a0eb-4383-bc0a-b3e8a6e3d3e3",
   "metadata": {},
   "outputs": [],
   "source": [
    "# Now use the FFT image shift routine for better precision and\n",
    "# create the final HMI cutout. \n",
    "xshift, yshift = get_image_shift(hmi_data, tmp_hinode_data)\n",
    "\n",
    "hmi_index_x_new_final = hmi_index_x_new + xshift\n",
    "hmi_index_y_new_final = hmi_index_y_new + yshift\n",
    "hmi_data_final = m_HMI.data[hmi_index_y_new_final[0]:hmi_index_y_new_final[1],\n",
    "                            hmi_index_x_new_final[0]:hmi_index_x_new_final[1]]"
   ]
  },
  {
   "cell_type": "code",
   "execution_count": 205,
   "id": "5485a367-f36f-46ef-a9a6-04883b93225d",
   "metadata": {},
   "outputs": [
    {
     "data": {
      "text/plain": [
       "(array([2207, 2492]), array([2025, 2349]))"
      ]
     },
     "execution_count": 205,
     "metadata": {},
     "output_type": "execute_result"
    }
   ],
   "source": [
    "hmi_index_x_new_final, hmi_index_y_new_final"
   ]
  },
  {
   "cell_type": "code",
   "execution_count": 220,
   "id": "7c916e18-c47b-4b58-823c-a518b91b7a5d",
   "metadata": {},
   "outputs": [
    {
     "data": {
      "text/plain": [
       "(0, 0)"
      ]
     },
     "execution_count": 220,
     "metadata": {},
     "output_type": "execute_result"
    }
   ],
   "source": [
    "xshift, yshift"
   ]
  },
  {
   "cell_type": "code",
   "execution_count": 207,
   "id": "3b4f848b-8101-4744-9c18-827b1d52661f",
   "metadata": {},
   "outputs": [
    {
     "data": {
      "text/plain": [
       "(array([35, 35]), array([60, 60]))"
      ]
     },
     "execution_count": 207,
     "metadata": {},
     "output_type": "execute_result"
    }
   ],
   "source": [
    "hmi_index_x_new_final - hmi_index_x, hmi_index_y_new_final - hmi_index_y"
   ]
  },
  {
   "cell_type": "code",
   "execution_count": 211,
   "id": "a973a377-68a0-4de4-a2d8-f9bd4d7e4911",
   "metadata": {},
   "outputs": [
    {
     "data": {
      "application/vnd.jupyter.widget-view+json": {
       "model_id": "5e3df0a7245e4bda9c4bb0294f159d5a",
       "version_major": 2,
       "version_minor": 0
      },
      "text/plain": [
       "Canvas(toolbar=Toolbar(toolitems=[('Home', 'Reset original view', 'home', 'home'), ('Back', 'Back to previous …"
      ]
     },
     "metadata": {},
     "output_type": "display_data"
    },
    {
     "data": {
      "text/plain": [
       "<matplotlib.image.AxesImage at 0x7faf00a9afa0>"
      ]
     },
     "execution_count": 211,
     "metadata": {},
     "output_type": "execute_result"
    }
   ],
   "source": [
    "# Plot the maps.\n",
    "\n",
    "%matplotlib widget\n",
    "\n",
    "#fig, ax = plt.subplots(subplot_kw={'projection':m_SP.wcs})\n",
    "#fig, ax = plt.subplots(nrows=1,ncols=2)\n",
    "\n",
    "ax1 = plt.subplot(111)\n",
    "#ax2 = plt.subplot(122)\n",
    "\n",
    "plt.subplots_adjust(wspace=0.4)\n",
    "\n",
    "ax1.imshow(tmp_hinode_data, origin='lower')\n",
    "ax1.imshow(hmi_data_final, origin='lower', cmap='Greys', alpha=0.5)\n"
   ]
  },
  {
   "cell_type": "code",
   "execution_count": 144,
   "id": "a1e22675-3174-47b7-8668-cce52d73bda0",
   "metadata": {},
   "outputs": [
    {
     "data": {
      "text/plain": [
       "((324, 285), (324, 285))"
      ]
     },
     "execution_count": 144,
     "metadata": {},
     "output_type": "execute_result"
    }
   ],
   "source": [
    "tmp_hinode_data.shape, hmi_data.shape"
   ]
  },
  {
   "cell_type": "code",
   "execution_count": 138,
   "id": "6ea1933d-8112-4af0-9fbb-8d2278684c5e",
   "metadata": {},
   "outputs": [
    {
     "data": {
      "text/plain": [
       "(4098, 4098)"
      ]
     },
     "execution_count": 138,
     "metadata": {},
     "output_type": "execute_result"
    }
   ],
   "source": [
    "m_HMI.data.shape"
   ]
  },
  {
   "cell_type": "code",
   "execution_count": 134,
   "id": "36442578-13be-4dbf-9db2-d4839648c651",
   "metadata": {},
   "outputs": [
    {
     "data": {
      "text/plain": [
       "array([2172, 2457])"
      ]
     },
     "execution_count": 134,
     "metadata": {},
     "output_type": "execute_result"
    }
   ],
   "source": [
    "hmi_index_x"
   ]
  },
  {
   "cell_type": "code",
   "execution_count": 131,
   "id": "79e21f60-6ae2-42b1-8412-efa56ac3e806",
   "metadata": {},
   "outputs": [
    {
     "data": {
      "text/plain": [
       "<astropy.wcs.wcsapi.high_level_wcs_wrapper.HighLevelWCSWrapper object at 0x7faf055fd340>\n",
       "SlicedLowLevelWCS Transformation\n",
       "\n",
       "This transformation has 2 pixel and 2 world dimensions\n",
       "\n",
       "Array shape (Numpy order): None\n",
       "\n",
       "Pixel Dim  Axis Name  Data size  Bounds\n",
       "        0  None            None  None\n",
       "        1  None            None  None\n",
       "\n",
       "World Dim  Axis Name  Physical Type                   Units\n",
       "        0  None       custom:pos.helioprojective.lon  deg\n",
       "        1  None       custom:pos.helioprojective.lat  deg\n",
       "\n",
       "Correlation between pixel and world axes:\n",
       "\n",
       "           Pixel Dim\n",
       "World Dim    0    1\n",
       "        0  yes  yes\n",
       "        1  yes  yes"
      ]
     },
     "execution_count": 131,
     "metadata": {},
     "output_type": "execute_result"
    }
   ],
   "source": [
    "m_HMI.wcs"
   ]
  },
  {
   "cell_type": "code",
   "execution_count": 167,
   "id": "e92e024e-0428-48a1-a077-902bcd57f9e8",
   "metadata": {},
   "outputs": [
    {
     "data": {
      "application/vnd.jupyter.widget-view+json": {
       "model_id": "f12d720120224ed4bedf4c893830b1e5",
       "version_major": 2,
       "version_minor": 0
      },
      "text/plain": [
       "Canvas(toolbar=Toolbar(toolitems=[('Home', 'Reset original view', 'home', 'home'), ('Back', 'Back to previous …"
      ]
     },
     "metadata": {},
     "output_type": "display_data"
    }
   ],
   "source": [
    "%matplotlib widget\n",
    "\n",
    "# Plot a cropped portion of the map.\n",
    "#bottom_left_skycoord = SkyCoord(Tx= -500 * u.arcsec, Ty = -80 * u.arcsec, frame=m_HMI.meta['frame'])\n",
    "#top_right_skycoord = SkyCoord(Tx= -350* u.arcsec, Ty=  80* u.arcsec, frame=m_HMI.meta['frame'])\n",
    "\n",
    "#lv1_c_SP.coord1_axis(0)[0], lv1_c_SP.coord2_axis(512)[-1]\n",
    "\n",
    "#bottom_left_skycoord = lv1_c_SP.coord1_axis(0)[0]\n",
    "#top_right_skycoord = lv1_c_SP.coord2_axis(512)[-1]\n",
    "#bottom_left_skycoord.frame.observer = m_HMI.meta['frame']\n",
    "#bottom_right_skycoord.frame.observer = m_HMI.meta['frame']\n",
    "\n",
    "bottom_left_skycoord = SkyCoord(Tx = lv1_c_SP.coord1_axis(0)[0].Tx, \\\n",
    "                               Ty = lv1_c_SP.coord1_axis(0)[0].Ty, \\\n",
    "                               frame = m_HMI.meta['frame'])\n",
    "\n",
    "top_right_skycoord = SkyCoord(Tx = lv1_c_SP.coord2_axis(512)[-1].Tx, \\\n",
    "                               Ty = lv1_c_SP.coord1_axis(512)[-1].Ty, \\\n",
    "                               frame = m_HMI.meta['frame'])\n",
    "\n",
    "\n",
    "#bottom_left_skycoord = SkyCoord(-700 * u.arcsec, -700 * u.arcsec)\n",
    "#top_right_skycoord = SkyCoord(700* u.arcsec, 700 * u.arcsec)\n",
    "\n",
    "cropped_map = m_HMI.crop((bottom_left_skycoord), (top_right_skycoord))\n",
    "\n",
    "cropped_map.plot()\n",
    "\n",
    "#m_HMI.plot()"
   ]
  },
  {
   "cell_type": "code",
   "execution_count": 37,
   "id": "8fc5016c-4663-44ec-93bc-5d7bd8aab5a5",
   "metadata": {},
   "outputs": [
    {
     "data": {
      "application/vnd.jupyter.widget-view+json": {
       "model_id": "6d8442678dd8413d9561d62ea30ba112",
       "version_major": 2,
       "version_minor": 0
      },
      "text/plain": [
       "Canvas(toolbar=Toolbar(toolitems=[('Home', 'Reset original view', 'home', 'home'), ('Back', 'Back to previous …"
      ]
     },
     "metadata": {},
     "output_type": "display_data"
    }
   ],
   "source": [
    "%matplotlib widget\n",
    "\n",
    "m_HMI.plot()"
   ]
  },
  {
   "cell_type": "code",
   "execution_count": 111,
   "id": "b8c5edce-1eb5-42c3-91f2-528392a8220a",
   "metadata": {},
   "outputs": [
    {
     "data": {
      "text/latex": [
       "$9.6515655 \\; \\mathrm{{}^{\\prime\\prime}}$"
      ],
      "text/plain": [
       "<Quantity 9.65156547 arcsec>"
      ]
     },
     "execution_count": 111,
     "metadata": {},
     "output_type": "execute_result"
    }
   ],
   "source": [
    "(7000*u.km/((1*u.AU).to(u.km)) * u.rad).to(u.arcsec)"
   ]
  },
  {
   "cell_type": "code",
   "execution_count": 106,
   "id": "2f2b1218-5c35-4107-9451-939fa03faa62",
   "metadata": {},
   "outputs": [
    {
     "data": {
      "text/plain": [
       "OrderedDict([('frame',\n",
       "              <Helioprojective Coordinate (obstime=2017-09-05T02:58:42.200, rsun=696000.0 km, observer=<HeliographicStonyhurst Coordinate (obstime=2017-09-05T02:58:42.200, rsun=696000.0 km): (lon, lat, radius) in (deg, deg, m)\n",
       "                  (0.06537303, 7.24822903, 1.50848101e+11)>): (Tx, Ty) in arcsec\n",
       "                  (1028.22718646, 1033.93563675)>),\n",
       "             ('stokes', 'I'),\n",
       "             ('wav0', <Quantity 6.173173e-07 m>),\n",
       "             ('wav1', None)])"
      ]
     },
     "execution_count": 106,
     "metadata": {},
     "output_type": "execute_result"
    }
   ],
   "source": [
    "m_HMI.meta"
   ]
  },
  {
   "cell_type": "code",
   "execution_count": 82,
   "id": "a5e2e227-0ed5-42cb-bb4e-870a30d9e8ec",
   "metadata": {},
   "outputs": [
    {
     "data": {
      "application/vnd.jupyter.widget-view+json": {
       "model_id": "5dc0cf1835254588a6188518c0b1bf6f",
       "version_major": 2,
       "version_minor": 0
      },
      "text/plain": [
       "Canvas(toolbar=Toolbar(toolitems=[('Home', 'Reset original view', 'home', 'home'), ('Back', 'Back to previous …"
      ]
     },
     "metadata": {},
     "output_type": "display_data"
    }
   ],
   "source": [
    "# Plot a cropped portion of the map.\n",
    "%matplotlib widget\n",
    "\n",
    "ex_map[0:2000, 0:2000].plot()"
   ]
  },
  {
   "cell_type": "code",
   "execution_count": 83,
   "id": "4a75a38f-f497-45c3-b9b0-60a406e186d0",
   "metadata": {},
   "outputs": [
    {
     "data": {
      "text/plain": [
       "<Helioprojective Coordinate (obstime=2016-07-28T23:58:46.600, rsun=696000.0 km, observer=<HeliographicStonyhurst Coordinate (obstime=2016-07-28T23:58:46.600, rsun=696000.0 km): (lon, lat, radius) in (deg, deg, m)\n",
       "    (0.06217846, 5.58266211, 1.51876022e+11)>): (Tx, Ty) in arcsec\n",
       "    (1027.65813226, 1034.34957067)>"
      ]
     },
     "execution_count": 83,
     "metadata": {},
     "output_type": "execute_result"
    }
   ],
   "source": [
    "level1_cube.frame"
   ]
  },
  {
   "cell_type": "code",
   "execution_count": 85,
   "id": "aac0291e-cd4f-433c-b564-4b6af01e5b25",
   "metadata": {},
   "outputs": [
    {
     "data": {
      "application/vnd.jupyter.widget-view+json": {
       "model_id": "d4d6920a26f9478889e7d80d39ac7077",
       "version_major": 2,
       "version_minor": 0
      },
      "text/plain": [
       "Canvas(toolbar=Toolbar(toolitems=[('Home', 'Reset original view', 'home', 'home'), ('Back', 'Back to previous …"
      ]
     },
     "metadata": {},
     "output_type": "display_data"
    }
   ],
   "source": [
    "# Plot a cropped portion of the map.\n",
    "%matplotlib widget\n",
    "\n",
    "bottom_left_skycoord = SkyCoord(Tx= -700 * u.arcsec, Ty= -700 * u.arcsec, frame=ex_map.meta['frame'])\n",
    "top_right_skycoord = SkyCoord(Tx= 700* u.arcsec, Ty= 700 * u.arcsec, frame=ex_map.meta['frame'])\n",
    "\n",
    "#bottom_left_skycoord = SkyCoord(-700 * u.arcsec, -700 * u.arcsec)\n",
    "#top_right_skycoord = SkyCoord(700* u.arcsec, 700 * u.arcsec)\n",
    "\n",
    "cropped_map = ex_map.crop((bottom_left_skycoord), (top_right_skycoord))\n",
    "\n",
    "cropped_map.plot()"
   ]
  },
  {
   "cell_type": "code",
   "execution_count": null,
   "id": "d083a55f-95e0-4272-9f27-270ad7d8d459",
   "metadata": {},
   "outputs": [],
   "source": [
    "# High level coordinate objects must be wrapped in tuples.\n",
    "\n",
    "wav0 = 6.1733 * 1.e-7 * u.m\n",
    "#wav1 = 6.1736 * 1.e-7 * u.m\n",
    "wav1 = 6.17334 * 1.e-7 * u.m\n",
    "\n",
    "cropped_cube = level1_cube.crop((bottom_left_skycoord,wav0,None), \n",
    "                                  (top_right_skycoord,wav1,None))"
   ]
  },
  {
   "cell_type": "code",
   "execution_count": 100,
   "id": "4261acaa-bfad-476c-a8f1-ebb9997893f7",
   "metadata": {},
   "outputs": [
    {
     "data": {
      "application/vnd.jupyter.widget-view+json": {
       "model_id": "afe02950516a4f0bbe5706b45bf79db0",
       "version_major": 2,
       "version_minor": 0
      },
      "text/plain": [
       "Canvas(toolbar=Toolbar(toolitems=[('Home', 'Reset original view', 'home', 'home'), ('Back', 'Back to previous …"
      ]
     },
     "metadata": {},
     "output_type": "display_data"
    },
    {
     "name": "stdout",
     "output_type": "stream",
     "text": [
      "TODO1: implement <class 'stokespy.stokespy.StokesCube'>.plot()\n"
     ]
    }
   ],
   "source": [
    "level1_cube.plot()"
   ]
  },
  {
   "cell_type": "markdown",
   "id": "103ec2ed-ff60-4c35-967b-0bf0c70aaf62",
   "metadata": {},
   "source": [
    "## Test 1d profiles"
   ]
  },
  {
   "cell_type": "code",
   "execution_count": 36,
   "id": "d808bc07-205f-4be9-bb4a-e6fb179e5eb7",
   "metadata": {},
   "outputs": [],
   "source": [
    "# Choose coordinates\n",
    "Tx = 200 * u.arcsec\n",
    "Ty = 700 * u.arcsec"
   ]
  },
  {
   "cell_type": "code",
   "execution_count": 37,
   "id": "800178c8-757c-4386-a124-6811ec435930",
   "metadata": {},
   "outputs": [
    {
     "name": "stderr",
     "output_type": "stream",
     "text": [
      "WARNING: No observer defined on WCS, SpectralCoord will be converted without any velocity frame change [astropy.wcs.wcsapi.fitswcs]\n"
     ]
    },
    {
     "data": {
      "application/vnd.jupyter.widget-view+json": {
       "model_id": "b74ed8805b8e48c6bc2635fab667dc76",
       "version_major": 2,
       "version_minor": 0
      },
      "text/plain": [
       "Canvas(toolbar=Toolbar(toolitems=[('Home', 'Reset original view', 'home', 'home'), ('Back', 'Back to previous …"
      ]
     },
     "metadata": {},
     "output_type": "display_data"
    }
   ],
   "source": [
    "# Test a simple list\n",
    "oo = lv1_c_HMI.I_profile([Tx, Ty])\n",
    "\n",
    "oo.plot(u.AA)"
   ]
  },
  {
   "cell_type": "code",
   "execution_count": 90,
   "id": "dd112b45-d485-4069-8e45-cb47a71cf1ea",
   "metadata": {},
   "outputs": [
    {
     "name": "stderr",
     "output_type": "stream",
     "text": [
      "WARNING: No observer defined on WCS, SpectralCoord will be converted without any velocity frame change [astropy.wcs.wcsapi.fitswcs]\n"
     ]
    }
   ],
   "source": [
    "# Test a coordinate object without a frame.\n",
    "profile_coords = SkyCoord(Tx, Ty)\n",
    "oo = level1_cube.I_profile(profile_coords)"
   ]
  },
  {
   "cell_type": "code",
   "execution_count": 91,
   "id": "cf91b294-ac07-4882-8dac-c75def241894",
   "metadata": {},
   "outputs": [
    {
     "data": {
      "application/vnd.jupyter.widget-view+json": {
       "model_id": "151002d040e94fd39335b9619128887f",
       "version_major": 2,
       "version_minor": 0
      },
      "text/plain": [
       "Canvas(toolbar=Toolbar(toolitems=[('Home', 'Reset original view', 'home', 'home'), ('Back', 'Back to previous …"
      ]
     },
     "metadata": {},
     "output_type": "display_data"
    }
   ],
   "source": [
    "%matplotlib widget\n",
    "\n",
    "oo.plot(u.m)"
   ]
  },
  {
   "cell_type": "code",
   "execution_count": 92,
   "id": "8b8f2bb7-6a05-47c2-8224-26f35471570b",
   "metadata": {},
   "outputs": [
    {
     "name": "stderr",
     "output_type": "stream",
     "text": [
      "WARNING: No observer defined on WCS, SpectralCoord will be converted without any velocity frame change [astropy.wcs.wcsapi.fitswcs]\n"
     ]
    }
   ],
   "source": [
    "# Test with SkyCoord object with frame.\n",
    "profile_coords = SkyCoord(Tx=Tx, Ty=Ty, frame=level1_cube.meta['frame'])\n",
    "oo = level1_cube.I_profile(profile_coords)\n",
    "\n",
    "#print(oo.meta)"
   ]
  },
  {
   "cell_type": "code",
   "execution_count": 93,
   "id": "5f8ddb31-0812-44b2-81d1-b5601af154ac",
   "metadata": {},
   "outputs": [
    {
     "data": {
      "application/vnd.jupyter.widget-view+json": {
       "model_id": "f8cdc89c4e0b4a558de5da531065ca61",
       "version_major": 2,
       "version_minor": 0
      },
      "text/plain": [
       "Canvas(toolbar=Toolbar(toolitems=[('Home', 'Reset original view', 'home', 'home'), ('Back', 'Back to previous …"
      ]
     },
     "metadata": {},
     "output_type": "display_data"
    }
   ],
   "source": [
    "%matplotlib widget\n",
    "\n",
    "oo.plot(u.AA)"
   ]
  },
  {
   "cell_type": "code",
   "execution_count": 72,
   "id": "55c9ae4d-7672-43d7-82dc-e5ed8a849a7e",
   "metadata": {},
   "outputs": [
    {
     "data": {
      "text/plain": [
       "OrderedDict([('frame',\n",
       "              <Helioprojective Coordinate (obstime=2016-07-28T23:58:46.600, rsun=696000.0 km, observer=<HeliographicStonyhurst Coordinate (obstime=2016-07-28T23:58:46.600, rsun=696000.0 km): (lon, lat, radius) in (deg, deg, m)\n",
       "                  (0.06217846, 5.58266211, 1.51876022e+11)>): (Tx, Ty) in arcsec\n",
       "                  (1027.65813226, 1034.34957067)>),\n",
       "             ('stokes', 'L'),\n",
       "             ('x0_i', 1641),\n",
       "             ('y0_i', 663),\n",
       "             ('x0', <Longitude 200.0490688 arcsec>),\n",
       "             ('y0', <Latitude 699.9840748 arcsec>)])"
      ]
     },
     "execution_count": 72,
     "metadata": {},
     "output_type": "execute_result"
    }
   ],
   "source": [
    "oo.meta"
   ]
  },
  {
   "cell_type": "code",
   "execution_count": 70,
   "id": "b493402c-e3b0-4edf-8579-8d3c77492bf9",
   "metadata": {},
   "outputs": [
    {
     "data": {
      "text/plain": [
       "OrderedDict([('frame',\n",
       "              <Helioprojective Coordinate (obstime=2016-07-28T23:58:46.600, rsun=696000.0 km, observer=<HeliographicStonyhurst Coordinate (obstime=2016-07-28T23:58:46.600, rsun=696000.0 km): (lon, lat, radius) in (deg, deg, m)\n",
       "                  (0.06217846, 5.58266211, 1.51876022e+11)>): (Tx, Ty) in arcsec\n",
       "                  (1027.65813226, 1034.34957067)>)])"
      ]
     },
     "execution_count": 70,
     "metadata": {},
     "output_type": "execute_result"
    }
   ],
   "source": [
    "level1_cube.meta"
   ]
  },
  {
   "cell_type": "markdown",
   "id": "b82d63e7-c335-42e5-bba3-0b9fca7c9fd0",
   "metadata": {},
   "source": [
    "# Test the magnetic field maps"
   ]
  },
  {
   "cell_type": "code",
   "execution_count": 53,
   "id": "ce9a9ec5-2f5c-4457-9440-0f3a1341bc06",
   "metadata": {},
   "outputs": [
    {
     "name": "stdout",
     "output_type": "stream",
     "text": [
      "(3, 4096, 4096)\n"
     ]
    }
   ],
   "source": [
    "# StokesPy cube with inversion results.\n",
    "level2_cube = stokespy.MagVectorCube(level2_data, level2_wcs)\n",
    "\n",
    "print(level2_cube.data.shape)"
   ]
  },
  {
   "cell_type": "code",
   "execution_count": 54,
   "id": "34126609-f516-4896-904d-3aa09e1b9900",
   "metadata": {},
   "outputs": [],
   "source": [
    "tt = level2_cube.B"
   ]
  },
  {
   "cell_type": "code",
   "execution_count": 60,
   "id": "1af24a22-07f8-43af-9671-b72392827d51",
   "metadata": {},
   "outputs": [
    {
     "data": {
      "application/vnd.jupyter.widget-view+json": {
       "model_id": "07be246c0c9145c3bc28b0f6de8f42a1",
       "version_major": 2,
       "version_minor": 0
      },
      "text/plain": [
       "Canvas(toolbar=Toolbar(toolitems=[('Home', 'Reset original view', 'home', 'home'), ('Back', 'Back to previous …"
      ]
     },
     "metadata": {},
     "output_type": "display_data"
    }
   ],
   "source": [
    "%matplotlib widget\n",
    "\n",
    "tt[0:2000,0:2000].plot(vmin=0, vmax=300)"
   ]
  },
  {
   "cell_type": "code",
   "execution_count": 56,
   "id": "a16b2b59-ca1f-44c1-8c46-b6a14c1f7c25",
   "metadata": {},
   "outputs": [],
   "source": [
    "ll = tt[0:2000,0:2000]"
   ]
  },
  {
   "cell_type": "code",
   "execution_count": 57,
   "id": "a0a81f63-ccee-41bd-ab9e-02c4d5716fb3",
   "metadata": {},
   "outputs": [
    {
     "data": {
      "text/plain": [
       "{'magnetic_param': 'B'}"
      ]
     },
     "execution_count": 57,
     "metadata": {},
     "output_type": "execute_result"
    }
   ],
   "source": [
    "ll.meta"
   ]
  },
  {
   "cell_type": "code",
   "execution_count": null,
   "id": "6e5292f8-cb53-46f4-9ff3-7f602bedd708",
   "metadata": {},
   "outputs": [],
   "source": []
  }
 ],
 "metadata": {
  "kernelspec": {
   "display_name": "Python [conda env:stokespy] *",
   "language": "python",
   "name": "conda-env-stokespy-py"
  },
  "language_info": {
   "codemirror_mode": {
    "name": "ipython",
    "version": 3
   },
   "file_extension": ".py",
   "mimetype": "text/x-python",
   "name": "python",
   "nbconvert_exporter": "python",
   "pygments_lexer": "ipython3",
   "version": "3.9.7"
  },
  "toc-autonumbering": true,
  "toc-showcode": false,
  "toc-showmarkdowntxt": false,
  "toc-showtags": false,
  "widgets": {
   "application/vnd.jupyter.widget-state+json": {
    "state": {
     "0223a99df8c04ef8ac53958af88234d4": {
      "model_module": "@jupyter-widgets/base",
      "model_module_version": "1.2.0",
      "model_name": "LayoutModel",
      "state": {}
     },
     "06ecdcd9b0ad4f439ef33f5141813900": {
      "model_module": "jupyter-matplotlib",
      "model_module_version": "^0.9.0",
      "model_name": "ToolbarModel",
      "state": {
       "_current_action": "pan",
       "layout": "IPY_MODEL_e80f908304424626b22d8139205afdd0",
       "toolitems": [
        [
         "Home",
         "Reset original view",
         "home",
         "home"
        ],
        [
         "Back",
         "Back to previous view",
         "arrow-left",
         "back"
        ],
        [
         "Forward",
         "Forward to next view",
         "arrow-right",
         "forward"
        ],
        [
         "Pan",
         "Left button pans, Right button zooms\nx/y fixes axis, CTRL fixes aspect",
         "arrows",
         "pan"
        ],
        [
         "Zoom",
         "Zoom to rectangle\nx/y fixes axis, CTRL fixes aspect",
         "square-o",
         "zoom"
        ],
        [
         "Download",
         "Download plot",
         "floppy-o",
         "save_figure"
        ]
       ]
      }
     },
     "153b7ef882634eb79398e56d2f64a060": {
      "model_module": "@jupyter-widgets/base",
      "model_module_version": "1.2.0",
      "model_name": "LayoutModel",
      "state": {}
     },
     "18a5264e22cf43f0a886185b991571d8": {
      "model_module": "@jupyter-widgets/base",
      "model_module_version": "1.2.0",
      "model_name": "LayoutModel",
      "state": {}
     },
     "2a9ca6657b6042ae82c77c49c384d7c9": {
      "model_module": "jupyter-matplotlib",
      "model_module_version": "^0.9.0",
      "model_name": "ToolbarModel",
      "state": {
       "layout": "IPY_MODEL_e65ff1a25efa4716be4e4726d0d18ab1",
       "toolitems": [
        [
         "Home",
         "Reset original view",
         "home",
         "home"
        ],
        [
         "Back",
         "Back to previous view",
         "arrow-left",
         "back"
        ],
        [
         "Forward",
         "Forward to next view",
         "arrow-right",
         "forward"
        ],
        [
         "Pan",
         "Left button pans, Right button zooms\nx/y fixes axis, CTRL fixes aspect",
         "arrows",
         "pan"
        ],
        [
         "Zoom",
         "Zoom to rectangle\nx/y fixes axis, CTRL fixes aspect",
         "square-o",
         "zoom"
        ],
        [
         "Download",
         "Download plot",
         "floppy-o",
         "save_figure"
        ]
       ]
      }
     },
     "42155d58bbce46d2bb50bc0a3bbf4b85": {
      "model_module": "@jupyter-widgets/base",
      "model_module_version": "1.2.0",
      "model_name": "LayoutModel",
      "state": {}
     },
     "67fc896aea884b1a9bd194674469c3d9": {
      "model_module": "jupyter-matplotlib",
      "model_module_version": "^0.9.0",
      "model_name": "ToolbarModel",
      "state": {
       "layout": "IPY_MODEL_6bf3e030960b448daf95db370e0192e8",
       "toolitems": [
        [
         "Home",
         "Reset original view",
         "home",
         "home"
        ],
        [
         "Back",
         "Back to previous view",
         "arrow-left",
         "back"
        ],
        [
         "Forward",
         "Forward to next view",
         "arrow-right",
         "forward"
        ],
        [
         "Pan",
         "Left button pans, Right button zooms\nx/y fixes axis, CTRL fixes aspect",
         "arrows",
         "pan"
        ],
        [
         "Zoom",
         "Zoom to rectangle\nx/y fixes axis, CTRL fixes aspect",
         "square-o",
         "zoom"
        ],
        [
         "Download",
         "Download plot",
         "floppy-o",
         "save_figure"
        ]
       ]
      }
     },
     "6b02a176851f4171bc943612b5bc28b7": {
      "model_module": "@jupyter-widgets/base",
      "model_module_version": "1.2.0",
      "model_name": "LayoutModel",
      "state": {}
     },
     "6bf3e030960b448daf95db370e0192e8": {
      "model_module": "@jupyter-widgets/base",
      "model_module_version": "1.2.0",
      "model_name": "LayoutModel",
      "state": {}
     },
     "70c9b0871afe480ebc7afbf15ab85a97": {
      "model_module": "@jupyter-widgets/base",
      "model_module_version": "1.2.0",
      "model_name": "LayoutModel",
      "state": {}
     },
     "7f32567a602b4e268a4bc8889b6cc061": {
      "model_module": "jupyter-matplotlib",
      "model_module_version": "^0.9.0",
      "model_name": "ToolbarModel",
      "state": {
       "layout": "IPY_MODEL_0223a99df8c04ef8ac53958af88234d4",
       "toolitems": [
        [
         "Home",
         "Reset original view",
         "home",
         "home"
        ],
        [
         "Back",
         "Back to previous view",
         "arrow-left",
         "back"
        ],
        [
         "Forward",
         "Forward to next view",
         "arrow-right",
         "forward"
        ],
        [
         "Pan",
         "Left button pans, Right button zooms\nx/y fixes axis, CTRL fixes aspect",
         "arrows",
         "pan"
        ],
        [
         "Zoom",
         "Zoom to rectangle\nx/y fixes axis, CTRL fixes aspect",
         "square-o",
         "zoom"
        ],
        [
         "Download",
         "Download plot",
         "floppy-o",
         "save_figure"
        ]
       ]
      }
     },
     "8dc9e09679a445db9a7e4519345c76ba": {
      "model_module": "@jupyter-widgets/base",
      "model_module_version": "1.2.0",
      "model_name": "LayoutModel",
      "state": {}
     },
     "909081162f554d72b35a48652a28ffb2": {
      "model_module": "@jupyter-widgets/base",
      "model_module_version": "1.2.0",
      "model_name": "LayoutModel",
      "state": {}
     },
     "90b4efdc98664bbc8cdbdf3e1d2997d8": {
      "model_module": "jupyter-matplotlib",
      "model_module_version": "^0.9.0",
      "model_name": "ToolbarModel",
      "state": {
       "layout": "IPY_MODEL_70c9b0871afe480ebc7afbf15ab85a97",
       "toolitems": [
        [
         "Home",
         "Reset original view",
         "home",
         "home"
        ],
        [
         "Back",
         "Back to previous view",
         "arrow-left",
         "back"
        ],
        [
         "Forward",
         "Forward to next view",
         "arrow-right",
         "forward"
        ],
        [
         "Pan",
         "Left button pans, Right button zooms\nx/y fixes axis, CTRL fixes aspect",
         "arrows",
         "pan"
        ],
        [
         "Zoom",
         "Zoom to rectangle\nx/y fixes axis, CTRL fixes aspect",
         "square-o",
         "zoom"
        ],
        [
         "Download",
         "Download plot",
         "floppy-o",
         "save_figure"
        ]
       ]
      }
     },
     "913e3edd33534026b93503fa8bcdaa1c": {
      "model_module": "@jupyter-widgets/base",
      "model_module_version": "1.2.0",
      "model_name": "LayoutModel",
      "state": {}
     },
     "c9e43c971c384e5493e6c6367bc8edcd": {
      "model_module": "jupyter-matplotlib",
      "model_module_version": "^0.9.0",
      "model_name": "ToolbarModel",
      "state": {
       "layout": "IPY_MODEL_cd2fae8523374318a8492738c7d730eb",
       "toolitems": [
        [
         "Home",
         "Reset original view",
         "home",
         "home"
        ],
        [
         "Back",
         "Back to previous view",
         "arrow-left",
         "back"
        ],
        [
         "Forward",
         "Forward to next view",
         "arrow-right",
         "forward"
        ],
        [
         "Pan",
         "Left button pans, Right button zooms\nx/y fixes axis, CTRL fixes aspect",
         "arrows",
         "pan"
        ],
        [
         "Zoom",
         "Zoom to rectangle\nx/y fixes axis, CTRL fixes aspect",
         "square-o",
         "zoom"
        ],
        [
         "Download",
         "Download plot",
         "floppy-o",
         "save_figure"
        ]
       ]
      }
     },
     "cd2fae8523374318a8492738c7d730eb": {
      "model_module": "@jupyter-widgets/base",
      "model_module_version": "1.2.0",
      "model_name": "LayoutModel",
      "state": {}
     },
     "e57507e7963345499e2ed29ddfabd717": {
      "model_module": "jupyter-matplotlib",
      "model_module_version": "^0.9.0",
      "model_name": "ToolbarModel",
      "state": {
       "layout": "IPY_MODEL_8dc9e09679a445db9a7e4519345c76ba",
       "toolitems": [
        [
         "Home",
         "Reset original view",
         "home",
         "home"
        ],
        [
         "Back",
         "Back to previous view",
         "arrow-left",
         "back"
        ],
        [
         "Forward",
         "Forward to next view",
         "arrow-right",
         "forward"
        ],
        [
         "Pan",
         "Left button pans, Right button zooms\nx/y fixes axis, CTRL fixes aspect",
         "arrows",
         "pan"
        ],
        [
         "Zoom",
         "Zoom to rectangle\nx/y fixes axis, CTRL fixes aspect",
         "square-o",
         "zoom"
        ],
        [
         "Download",
         "Download plot",
         "floppy-o",
         "save_figure"
        ]
       ]
      }
     },
     "e65ff1a25efa4716be4e4726d0d18ab1": {
      "model_module": "@jupyter-widgets/base",
      "model_module_version": "1.2.0",
      "model_name": "LayoutModel",
      "state": {}
     },
     "e80f908304424626b22d8139205afdd0": {
      "model_module": "@jupyter-widgets/base",
      "model_module_version": "1.2.0",
      "model_name": "LayoutModel",
      "state": {}
     },
     "efc6f1bb50874a33b88b26d5d620762b": {
      "model_module": "@jupyter-widgets/base",
      "model_module_version": "1.2.0",
      "model_name": "LayoutModel",
      "state": {}
     },
     "fcd2dbd5ffc0405387a1a581ead10596": {
      "model_module": "jupyter-matplotlib",
      "model_module_version": "^0.9.0",
      "model_name": "MPLCanvasModel",
      "state": {
       "_cursor": "default",
       "_figure_label": "Figure 1",
       "_height": 480,
       "_image_mode": "diff",
       "_message": "pan/zoom",
       "_width": 640,
       "layout": "IPY_MODEL_913e3edd33534026b93503fa8bcdaa1c",
       "toolbar": "IPY_MODEL_06ecdcd9b0ad4f439ef33f5141813900",
       "toolbar_position": "left"
      }
     }
    },
    "version_major": 2,
    "version_minor": 0
   }
  }
 },
 "nbformat": 4,
 "nbformat_minor": 5
}
