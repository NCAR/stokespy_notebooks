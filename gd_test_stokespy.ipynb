{
 "cells": [
  {
   "cell_type": "markdown",
   "id": "7e9a3fd2-a4ab-41c8-83f5-5aa717d3c672",
   "metadata": {},
   "source": [
    "Test the Stokes objects that will be included under stokespy.py"
   ]
  },
  {
   "cell_type": "markdown",
   "id": "7c0660cb-aefd-4987-b9a9-9c2c5904befb",
   "metadata": {},
   "source": [
    "# Load StokesCube, MagVectorCube"
   ]
  },
  {
   "cell_type": "code",
   "execution_count": 1,
   "id": "16d1ab89-f0fb-48ec-952a-4243a3c2ee44",
   "metadata": {},
   "outputs": [],
   "source": [
    "import stokespy\n",
    "from stokespy import get_HMI_data, get_SP_data, StokesParamCube, StokesParamMap, StokesProfile\n",
    "import datetime\n",
    "import astropy\n",
    "import astropy.units as u\n",
    "from astropy.coordinates import SkyCoord, SpectralCoord\n",
    "from astropy.wcs.wcsapi import SlicedLowLevelWCS, HighLevelWCSWrapper\n",
    "import numpy as np\n",
    "import matplotlib.pyplot as plt\n",
    "import matplotlib\n",
    "import ndcube\n",
    "\n",
    "matplotlib.use('TkAgg')\n",
    "\n",
    "# Setup the autoreload function.\n",
    "%load_ext autoreload\n",
    "%autoreload 2"
   ]
  },
  {
   "cell_type": "code",
   "execution_count": 2,
   "id": "106defdc-06f2-4384-b9f0-a09af972363d",
   "metadata": {},
   "outputs": [
    {
     "data": {
      "text/plain": [
       "'4.3.1'"
      ]
     },
     "execution_count": 2,
     "metadata": {},
     "output_type": "execute_result"
    }
   ],
   "source": [
    "astropy.__version__\n",
    "#ndcube.__version__"
   ]
  },
  {
   "cell_type": "markdown",
   "id": "2df97cbd-7aae-47ce-86ea-fb03d0ae2f89",
   "metadata": {},
   "source": [
    "# Load SDO/HMI data series"
   ]
  },
  {
   "cell_type": "code",
   "execution_count": 2,
   "id": "3fb3e752-b73a-463e-b5d1-c4759b6aa1ed",
   "metadata": {
    "tags": []
   },
   "outputs": [
    {
     "name": "stdout",
     "output_type": "stream",
     "text": [
      "Time window used for the search:  <sunpy.net.attrs.Time(2017-08-22 17:11:03.000, 2017-08-22 17:11:05.000)>\n",
      "User directory pointing to SDO data is not included.\n",
      "Setting the default directory to: /home/gabriel/Desktop/Science/StokesPY/Data/SDO/\n",
      "0 /home/gabriel/Desktop/Science/StokesPY/Data/SDO/hmi.s_720s.20160728_234800_TAI.3.I0.fits\n",
      "1 /home/gabriel/Desktop/Science/StokesPY/Data/SDO/hmi.s_720s.20160728_234800_TAI.3.I1.fits\n",
      "2 /home/gabriel/Desktop/Science/StokesPY/Data/SDO/hmi.s_720s.20160728_234800_TAI.3.I2.fits\n",
      "3 /home/gabriel/Desktop/Science/StokesPY/Data/SDO/hmi.s_720s.20160728_234800_TAI.3.I3.fits\n",
      "4 /home/gabriel/Desktop/Science/StokesPY/Data/SDO/hmi.s_720s.20160728_234800_TAI.3.I4.fits\n",
      "5 /home/gabriel/Desktop/Science/StokesPY/Data/SDO/hmi.s_720s.20160728_234800_TAI.3.I5.fits\n",
      "6 /home/gabriel/Desktop/Science/StokesPY/Data/SDO/hmi.s_720s.20160728_234800_TAI.3.Q0.fits\n",
      "7 /home/gabriel/Desktop/Science/StokesPY/Data/SDO/hmi.s_720s.20160728_234800_TAI.3.Q1.fits\n",
      "8 /home/gabriel/Desktop/Science/StokesPY/Data/SDO/hmi.s_720s.20160728_234800_TAI.3.Q2.fits\n",
      "9 /home/gabriel/Desktop/Science/StokesPY/Data/SDO/hmi.s_720s.20160728_234800_TAI.3.Q3.fits\n",
      "10 /home/gabriel/Desktop/Science/StokesPY/Data/SDO/hmi.s_720s.20160728_234800_TAI.3.Q4.fits\n",
      "11 /home/gabriel/Desktop/Science/StokesPY/Data/SDO/hmi.s_720s.20160728_234800_TAI.3.Q5.fits\n",
      "12 /home/gabriel/Desktop/Science/StokesPY/Data/SDO/hmi.s_720s.20160728_234800_TAI.3.U0.fits\n",
      "13 /home/gabriel/Desktop/Science/StokesPY/Data/SDO/hmi.s_720s.20160728_234800_TAI.3.U1.fits\n",
      "14 /home/gabriel/Desktop/Science/StokesPY/Data/SDO/hmi.s_720s.20160728_234800_TAI.3.U2.fits\n",
      "15 /home/gabriel/Desktop/Science/StokesPY/Data/SDO/hmi.s_720s.20160728_234800_TAI.3.U3.fits\n",
      "16 /home/gabriel/Desktop/Science/StokesPY/Data/SDO/hmi.s_720s.20160728_234800_TAI.3.U4.fits\n",
      "17 /home/gabriel/Desktop/Science/StokesPY/Data/SDO/hmi.s_720s.20160728_234800_TAI.3.U5.fits\n",
      "18 /home/gabriel/Desktop/Science/StokesPY/Data/SDO/hmi.s_720s.20160728_234800_TAI.3.V0.fits\n",
      "19 /home/gabriel/Desktop/Science/StokesPY/Data/SDO/hmi.s_720s.20160728_234800_TAI.3.V1.fits\n",
      "20 /home/gabriel/Desktop/Science/StokesPY/Data/SDO/hmi.s_720s.20160728_234800_TAI.3.V2.fits\n",
      "21 /home/gabriel/Desktop/Science/StokesPY/Data/SDO/hmi.s_720s.20160728_234800_TAI.3.V3.fits\n",
      "22 /home/gabriel/Desktop/Science/StokesPY/Data/SDO/hmi.s_720s.20160728_234800_TAI.3.V4.fits\n",
      "23 /home/gabriel/Desktop/Science/StokesPY/Data/SDO/hmi.s_720s.20160728_234800_TAI.3.V5.fits\n",
      "24 /home/gabriel/Desktop/Science/StokesPY/Data/SDO/hmi.s_720s.20160729_000000_TAI.3.I0.fits\n",
      "25 /home/gabriel/Desktop/Science/StokesPY/Data/SDO/hmi.s_720s.20160729_000000_TAI.3.I1.fits\n",
      "26 /home/gabriel/Desktop/Science/StokesPY/Data/SDO/hmi.s_720s.20160729_000000_TAI.3.I2.fits\n",
      "27 /home/gabriel/Desktop/Science/StokesPY/Data/SDO/hmi.s_720s.20160729_000000_TAI.3.I3.fits\n",
      "28 /home/gabriel/Desktop/Science/StokesPY/Data/SDO/hmi.s_720s.20160729_000000_TAI.3.I4.fits\n",
      "29 /home/gabriel/Desktop/Science/StokesPY/Data/SDO/hmi.s_720s.20160729_000000_TAI.3.I5.fits\n",
      "30 /home/gabriel/Desktop/Science/StokesPY/Data/SDO/hmi.s_720s.20160729_000000_TAI.3.Q0.fits\n",
      "31 /home/gabriel/Desktop/Science/StokesPY/Data/SDO/hmi.s_720s.20160729_000000_TAI.3.Q1.fits\n",
      "32 /home/gabriel/Desktop/Science/StokesPY/Data/SDO/hmi.s_720s.20160729_000000_TAI.3.Q2.fits\n",
      "33 /home/gabriel/Desktop/Science/StokesPY/Data/SDO/hmi.s_720s.20160729_000000_TAI.3.Q3.fits\n",
      "34 /home/gabriel/Desktop/Science/StokesPY/Data/SDO/hmi.s_720s.20160729_000000_TAI.3.Q4.fits\n",
      "35 /home/gabriel/Desktop/Science/StokesPY/Data/SDO/hmi.s_720s.20160729_000000_TAI.3.Q5.fits\n",
      "36 /home/gabriel/Desktop/Science/StokesPY/Data/SDO/hmi.s_720s.20160729_000000_TAI.3.U0.fits\n",
      "37 /home/gabriel/Desktop/Science/StokesPY/Data/SDO/hmi.s_720s.20160729_000000_TAI.3.U1.fits\n",
      "38 /home/gabriel/Desktop/Science/StokesPY/Data/SDO/hmi.s_720s.20160729_000000_TAI.3.U2.fits\n",
      "39 /home/gabriel/Desktop/Science/StokesPY/Data/SDO/hmi.s_720s.20160729_000000_TAI.3.U3.fits\n",
      "40 /home/gabriel/Desktop/Science/StokesPY/Data/SDO/hmi.s_720s.20160729_000000_TAI.3.U4.fits\n",
      "41 /home/gabriel/Desktop/Science/StokesPY/Data/SDO/hmi.s_720s.20160729_000000_TAI.3.U5.fits\n",
      "42 /home/gabriel/Desktop/Science/StokesPY/Data/SDO/hmi.s_720s.20160729_000000_TAI.3.V0.fits\n",
      "43 /home/gabriel/Desktop/Science/StokesPY/Data/SDO/hmi.s_720s.20160729_000000_TAI.3.V1.fits\n",
      "44 /home/gabriel/Desktop/Science/StokesPY/Data/SDO/hmi.s_720s.20160729_000000_TAI.3.V2.fits\n",
      "45 /home/gabriel/Desktop/Science/StokesPY/Data/SDO/hmi.s_720s.20160729_000000_TAI.3.V3.fits\n",
      "46 /home/gabriel/Desktop/Science/StokesPY/Data/SDO/hmi.s_720s.20160729_000000_TAI.3.V4.fits\n",
      "47 /home/gabriel/Desktop/Science/StokesPY/Data/SDO/hmi.s_720s.20160729_000000_TAI.3.V5.fits\n",
      "No download requested. Found 24 Stokes files with unique timestamp(s):\n",
      "['20160729_000000_TAI']\n",
      "0 /home/gabriel/Desktop/Science/StokesPY/Data/SDO/hmi.me_720s_fd10.20160728_234800_TAI.alpha_err.fits\n",
      "1 /home/gabriel/Desktop/Science/StokesPY/Data/SDO/hmi.me_720s_fd10.20160728_234800_TAI.alpha_mag.fits\n",
      "2 /home/gabriel/Desktop/Science/StokesPY/Data/SDO/hmi.me_720s_fd10.20160728_234800_TAI.azimuth.fits\n",
      "3 /home/gabriel/Desktop/Science/StokesPY/Data/SDO/hmi.me_720s_fd10.20160728_234800_TAI.azimuth_alpha_err.fits\n",
      "4 /home/gabriel/Desktop/Science/StokesPY/Data/SDO/hmi.me_720s_fd10.20160728_234800_TAI.azimuth_err.fits\n",
      "5 /home/gabriel/Desktop/Science/StokesPY/Data/SDO/hmi.me_720s_fd10.20160728_234800_TAI.chisq.fits\n",
      "6 /home/gabriel/Desktop/Science/StokesPY/Data/SDO/hmi.me_720s_fd10.20160728_234800_TAI.confid_map.fits\n",
      "7 /home/gabriel/Desktop/Science/StokesPY/Data/SDO/hmi.me_720s_fd10.20160728_234800_TAI.conv_flag.fits\n",
      "8 /home/gabriel/Desktop/Science/StokesPY/Data/SDO/hmi.me_720s_fd10.20160728_234800_TAI.damping.fits\n",
      "9 /home/gabriel/Desktop/Science/StokesPY/Data/SDO/hmi.me_720s_fd10.20160728_234800_TAI.dop_width.fits\n",
      "10 /home/gabriel/Desktop/Science/StokesPY/Data/SDO/hmi.me_720s_fd10.20160728_234800_TAI.eta_0.fits\n",
      "11 /home/gabriel/Desktop/Science/StokesPY/Data/SDO/hmi.me_720s_fd10.20160728_234800_TAI.field.fits\n",
      "12 /home/gabriel/Desktop/Science/StokesPY/Data/SDO/hmi.me_720s_fd10.20160728_234800_TAI.field_alpha_err.fits\n",
      "13 /home/gabriel/Desktop/Science/StokesPY/Data/SDO/hmi.me_720s_fd10.20160728_234800_TAI.field_az_err.fits\n",
      "14 /home/gabriel/Desktop/Science/StokesPY/Data/SDO/hmi.me_720s_fd10.20160728_234800_TAI.field_err.fits\n",
      "15 /home/gabriel/Desktop/Science/StokesPY/Data/SDO/hmi.me_720s_fd10.20160728_234800_TAI.field_inclination_err.fits\n",
      "16 /home/gabriel/Desktop/Science/StokesPY/Data/SDO/hmi.me_720s_fd10.20160728_234800_TAI.inclin_azimuth_err.fits\n",
      "17 /home/gabriel/Desktop/Science/StokesPY/Data/SDO/hmi.me_720s_fd10.20160728_234800_TAI.inclination.fits\n",
      "18 /home/gabriel/Desktop/Science/StokesPY/Data/SDO/hmi.me_720s_fd10.20160728_234800_TAI.inclination_alpha_err.fits\n",
      "19 /home/gabriel/Desktop/Science/StokesPY/Data/SDO/hmi.me_720s_fd10.20160728_234800_TAI.inclination_err.fits\n",
      "20 /home/gabriel/Desktop/Science/StokesPY/Data/SDO/hmi.me_720s_fd10.20160728_234800_TAI.qual_map.fits\n",
      "21 /home/gabriel/Desktop/Science/StokesPY/Data/SDO/hmi.me_720s_fd10.20160728_234800_TAI.src_continuum.fits\n",
      "22 /home/gabriel/Desktop/Science/StokesPY/Data/SDO/hmi.me_720s_fd10.20160728_234800_TAI.src_grad.fits\n",
      "23 /home/gabriel/Desktop/Science/StokesPY/Data/SDO/hmi.me_720s_fd10.20160728_234800_TAI.vlos_err.fits\n",
      "24 /home/gabriel/Desktop/Science/StokesPY/Data/SDO/hmi.me_720s_fd10.20160728_234800_TAI.vlos_mag.fits\n",
      "25 /home/gabriel/Desktop/Science/StokesPY/Data/SDO/hmi.me_720s_fd10.20160729_000000_TAI.alpha_err.fits\n",
      "26 /home/gabriel/Desktop/Science/StokesPY/Data/SDO/hmi.me_720s_fd10.20160729_000000_TAI.alpha_mag.fits\n",
      "27 /home/gabriel/Desktop/Science/StokesPY/Data/SDO/hmi.me_720s_fd10.20160729_000000_TAI.azimuth.fits\n",
      "28 /home/gabriel/Desktop/Science/StokesPY/Data/SDO/hmi.me_720s_fd10.20160729_000000_TAI.azimuth_alpha_err.fits\n",
      "29 /home/gabriel/Desktop/Science/StokesPY/Data/SDO/hmi.me_720s_fd10.20160729_000000_TAI.azimuth_err.fits\n",
      "30 /home/gabriel/Desktop/Science/StokesPY/Data/SDO/hmi.me_720s_fd10.20160729_000000_TAI.chisq.fits\n",
      "31 /home/gabriel/Desktop/Science/StokesPY/Data/SDO/hmi.me_720s_fd10.20160729_000000_TAI.confid_map.fits\n",
      "32 /home/gabriel/Desktop/Science/StokesPY/Data/SDO/hmi.me_720s_fd10.20160729_000000_TAI.conv_flag.fits\n",
      "33 /home/gabriel/Desktop/Science/StokesPY/Data/SDO/hmi.me_720s_fd10.20160729_000000_TAI.damping.fits\n",
      "34 /home/gabriel/Desktop/Science/StokesPY/Data/SDO/hmi.me_720s_fd10.20160729_000000_TAI.dop_width.fits\n",
      "35 /home/gabriel/Desktop/Science/StokesPY/Data/SDO/hmi.me_720s_fd10.20160729_000000_TAI.eta_0.fits\n",
      "36 /home/gabriel/Desktop/Science/StokesPY/Data/SDO/hmi.me_720s_fd10.20160729_000000_TAI.field.fits\n",
      "37 /home/gabriel/Desktop/Science/StokesPY/Data/SDO/hmi.me_720s_fd10.20160729_000000_TAI.field_alpha_err.fits\n",
      "38 /home/gabriel/Desktop/Science/StokesPY/Data/SDO/hmi.me_720s_fd10.20160729_000000_TAI.field_az_err.fits\n",
      "39 /home/gabriel/Desktop/Science/StokesPY/Data/SDO/hmi.me_720s_fd10.20160729_000000_TAI.field_err.fits\n",
      "40 /home/gabriel/Desktop/Science/StokesPY/Data/SDO/hmi.me_720s_fd10.20160729_000000_TAI.field_inclination_err.fits\n",
      "41 /home/gabriel/Desktop/Science/StokesPY/Data/SDO/hmi.me_720s_fd10.20160729_000000_TAI.inclin_azimuth_err.fits\n",
      "42 /home/gabriel/Desktop/Science/StokesPY/Data/SDO/hmi.me_720s_fd10.20160729_000000_TAI.inclination.fits\n",
      "43 /home/gabriel/Desktop/Science/StokesPY/Data/SDO/hmi.me_720s_fd10.20160729_000000_TAI.inclination_alpha_err.fits\n",
      "44 /home/gabriel/Desktop/Science/StokesPY/Data/SDO/hmi.me_720s_fd10.20160729_000000_TAI.inclination_err.fits\n",
      "45 /home/gabriel/Desktop/Science/StokesPY/Data/SDO/hmi.me_720s_fd10.20160729_000000_TAI.qual_map.fits\n",
      "46 /home/gabriel/Desktop/Science/StokesPY/Data/SDO/hmi.me_720s_fd10.20160729_000000_TAI.src_continuum.fits\n",
      "47 /home/gabriel/Desktop/Science/StokesPY/Data/SDO/hmi.me_720s_fd10.20160729_000000_TAI.src_grad.fits\n",
      "48 /home/gabriel/Desktop/Science/StokesPY/Data/SDO/hmi.me_720s_fd10.20160729_000000_TAI.vlos_err.fits\n",
      "49 /home/gabriel/Desktop/Science/StokesPY/Data/SDO/hmi.me_720s_fd10.20160729_000000_TAI.vlos_mag.fits\n",
      "No download requested. Found 25 inversion files with timestamps: \n",
      "['20160729_000000_TAI']\n",
      "Created data cube with dimensions: (4, 6, 4096, 4096)\n"
     ]
    },
    {
     "name": "stderr",
     "output_type": "stream",
     "text": [
      "WARNING: FITSFixedWarning: 'datfix' made the change 'Set MJD-OBS to 57597.999150 from DATE-OBS'. [astropy.wcs.wcs]\n"
     ]
    },
    {
     "name": "stdout",
     "output_type": "stream",
     "text": [
      "Created data cube with dimensions: (3, 4096, 4096)\n",
      "Filenames used: \n"
     ]
    },
    {
     "name": "stderr",
     "output_type": "stream",
     "text": [
      "WARNING: FITSFixedWarning: 'datfix' made the change 'Set MJD-OBS to 57597.999150 from DATE-OBS'. [astropy.wcs.wcs]\n"
     ]
    }
   ],
   "source": [
    "# Select a date and time to search for observations.\n",
    "#user_date = astropy.time.Time(datetime.datetime(2016, 7, 28, 23, 57, 0), scale='tai')  # Original\n",
    "user_date = astropy.time.Time(datetime.datetime(2017, 8, 22, 17, 11, 4), scale='tai')  # Original\n",
    "\n",
    "# Find the nearest set of Stokes and corresponding inversion results.\n",
    "#all_fnames_stokes, all_fnames_magvec = get_HMI_data(user_date, user_notify='gdima@hawaii.edu', download=False)\n",
    "level1_data, level1_wcs, level2_data, level2_wcs = \\\n",
    "    get_HMI_data(user_date, user_notify='gdima@hawaii.edu', download=False,show_files=False)"
   ]
  },
  {
   "cell_type": "markdown",
   "id": "0ecab768-fe41-4a55-abb0-87e1df2a693f",
   "metadata": {},
   "source": [
    "# Load Hinode/SP data series"
   ]
  },
  {
   "cell_type": "code",
   "execution_count": 25,
   "id": "b2e3ba51-4694-4a6a-b3b9-3952497671c7",
   "metadata": {},
   "outputs": [],
   "source": [
    "# Select a date and time to search for observations.\n",
    "#user_date = astropy.time.Time(datetime.datetime(2016, 7, 28, 23, 57, 0), scale='tai')\n",
    "#user_date = '20201101_200602'  # Quiet Sun\n",
    "user_date = '20170822_171104'   # Active region\n",
    "\n",
    "# Find the nearest set of Stokes and corresponding inversion results.\n",
    "#all_fnames_stokes, all_fnames_magvec = get_HMI_data(user_date, user_notify='gdima@hawaii.edu', download=False)\n",
    "level1_data, level1_wcs, level2_data, level2_wcs = \\\n",
    "    get_SP_data(user_date)"
   ]
  },
  {
   "cell_type": "markdown",
   "id": "0a476104-1473-4c49-bd13-762477f3fbd6",
   "metadata": {},
   "source": [
    "# Test the Stokepy cubes"
   ]
  },
  {
   "cell_type": "code",
   "execution_count": 32,
   "id": "d918106b-98ee-4b9a-9e2f-a97ede221eee",
   "metadata": {},
   "outputs": [
    {
     "name": "stdout",
     "output_type": "stream",
     "text": [
      "(4, 112, 512, 511)\n"
     ]
    }
   ],
   "source": [
    "# StokesPy cube with observations.\n",
    "level1_cube_SP = stokespy.StokesCube(level1_data, level1_wcs)\n",
    "\n",
    "print(level1_cube.data.shape)"
   ]
  },
  {
   "cell_type": "code",
   "execution_count": null,
   "id": "5ee625b8-e650-45ff-a503-ed7a10f12506",
   "metadata": {},
   "outputs": [],
   "source": []
  },
  {
   "cell_type": "code",
   "execution_count": 27,
   "id": "34cb5551-7c22-47ef-a165-02b1f9a54270",
   "metadata": {},
   "outputs": [
    {
     "data": {
      "text/plain": [
       "WCS Keywords\n",
       "\n",
       "Number of WCS axes: 4\n",
       "CTYPE : 'HPLN-TAN'  'HPLT-TAN'  'WAVE'  'STOKES'  \n",
       "CRVAL : -0.11884166666666666  -0.0010536  6.30208e-07  0.0  \n",
       "CRPIX : 256.0  256.5  56.5  0.0  \n",
       "PC1_1 PC1_2 PC1_3 PC1_4  : 1.0  0.0  0.0  0.0  \n",
       "PC2_1 PC2_2 PC2_3 PC2_4  : 0.0  1.0  0.0  0.0  \n",
       "PC3_1 PC3_2 PC3_3 PC3_4  : 0.0  0.0  1.0  0.0  \n",
       "PC4_1 PC4_2 PC4_3 PC4_4  : 0.0  0.0  0.0  1.0  \n",
       "CDELT : 8.253888888888889e-05  8.888277777777778e-05  2.1549e-12  1.0  \n",
       "NAXIS : 0  0"
      ]
     },
     "execution_count": 27,
     "metadata": {},
     "output_type": "execute_result"
    }
   ],
   "source": [
    "level1_cube.wcs"
   ]
  },
  {
   "cell_type": "code",
   "execution_count": 22,
   "id": "9f27ceea-4743-4f77-8d46-49bd95af7f67",
   "metadata": {},
   "outputs": [
    {
     "data": {
      "text/plain": [
       "[<SkyCoord (Helioprojective: obstime=None, rsun=695700.0 km, observer=None): (Tx, Ty) in arcsec\n",
       "     (-75.67865533, 454.97453911)>,\n",
       " <SpectralCoord 6.30088403e-07 m>,\n",
       " <Quantity 1.>]"
      ]
     },
     "execution_count": 22,
     "metadata": {},
     "output_type": "execute_result"
    }
   ],
   "source": [
    "level1_cube.wcs.pixel_to_world(500,200,0,0)"
   ]
  },
  {
   "cell_type": "code",
   "execution_count": null,
   "id": "7dfd4ce8-081e-4a44-8e88-399093b4338f",
   "metadata": {},
   "outputs": [],
   "source": []
  },
  {
   "cell_type": "code",
   "execution_count": 28,
   "id": "f56f343a-c4ce-45a1-aef7-de88b9cdc7cd",
   "metadata": {},
   "outputs": [
    {
     "data": {
      "text/plain": [
       "<Helioprojective Coordinate (obstime=None, rsun=695700.0 km, observer=None): (Tx, Ty) in arcsec\n",
       "    (-503.60069716, -85.54732895)>"
      ]
     },
     "execution_count": 28,
     "metadata": {},
     "output_type": "execute_result"
    }
   ],
   "source": [
    "level1_cube.frame"
   ]
  },
  {
   "cell_type": "code",
   "execution_count": 6,
   "id": "95dc3407-0fa7-410b-bf45-e3d871e8e8b2",
   "metadata": {
    "tags": []
   },
   "outputs": [],
   "source": [
    "# StokesPy cube with inversion results.\n",
    "level2_cube = stokespy.MagVectorCube(level2_data, level2_wcs)\n",
    "\n",
    "print(level2_cube.data.shape)"
   ]
  },
  {
   "cell_type": "code",
   "execution_count": 100,
   "id": "05132dae-4623-432b-8c76-89e261fecd67",
   "metadata": {},
   "outputs": [],
   "source": [
    "# Slice the cube without contracting dimensions.\n",
    "tt = level1_cube[:,1:4,:,:]"
   ]
  },
  {
   "cell_type": "code",
   "execution_count": 84,
   "id": "a00fc812-baae-43cd-8aa1-9fc84e4fb849",
   "metadata": {
    "tags": []
   },
   "outputs": [],
   "source": [
    "tt = level1_cube.V"
   ]
  },
  {
   "cell_type": "code",
   "execution_count": 85,
   "id": "d7477893-0c15-4a97-a0f0-b5be010fec51",
   "metadata": {},
   "outputs": [
    {
     "data": {
      "application/vnd.jupyter.widget-view+json": {
       "model_id": "7f9adc54bd014273bfb53e3f2cc45239",
       "version_major": 2,
       "version_minor": 0
      },
      "text/plain": [
       "Canvas(toolbar=Toolbar(toolitems=[('Home', 'Reset original view', 'home', 'home'), ('Back', 'Back to previous …"
      ]
     },
     "metadata": {},
     "output_type": "display_data"
    },
    {
     "name": "stderr",
     "output_type": "stream",
     "text": [
      "WARNING: target cannot be converted to ICRS, so will not be set on SpectralCoord [astropy.wcs.wcsapi.fitswcs]\n"
     ]
    },
    {
     "data": {
      "text/plain": [
       "<matplotlib.widgets.Slider at 0x7f7f5f2801c0>"
      ]
     },
     "execution_count": 85,
     "metadata": {},
     "output_type": "execute_result"
    }
   ],
   "source": [
    "%matplotlib widget\n",
    "\n",
    "tt.plot()"
   ]
  },
  {
   "cell_type": "code",
   "execution_count": 40,
   "id": "808764d6-5037-4eb2-bdfc-3a9b421ab084",
   "metadata": {
    "tags": []
   },
   "outputs": [
    {
     "name": "stdout",
     "output_type": "stream",
     "text": [
      "ix_0, wav0 =  2 6.1733106e-07\n",
      "ix_1, wav1 =  4 6.1734482e-07\n"
     ]
    }
   ],
   "source": [
    "# Test the image maps.\n",
    "wav0 = 6.1733 * 1.e-7 * u.m\n",
    "wav1 = 6.17345 * 1.e-7 * u.m\n",
    "tt = level1_cube.I_map(wav0, stop_wavelength=wav1)"
   ]
  },
  {
   "cell_type": "code",
   "execution_count": 56,
   "id": "7da64e4d-b42f-4a15-8571-fbda37c03703",
   "metadata": {},
   "outputs": [],
   "source": [
    "cropped = tt.crop((bottom_left_skycoord),(top_right_skycoord))"
   ]
  },
  {
   "cell_type": "code",
   "execution_count": 58,
   "id": "72ba34cd-4c50-4ece-9d1e-e15e88235298",
   "metadata": {},
   "outputs": [
    {
     "data": {
      "text/plain": [
       "{'stokes': 'I', 'wav0': 6.1733106e-07, 'wav1': 6.1734482e-07}"
      ]
     },
     "execution_count": 58,
     "metadata": {},
     "output_type": "execute_result"
    }
   ],
   "source": [
    "cropped.meta"
   ]
  },
  {
   "cell_type": "code",
   "execution_count": 65,
   "id": "70377224-9a3b-48c7-87f2-055eca0e5839",
   "metadata": {},
   "outputs": [
    {
     "data": {
      "text/plain": [
       "<Helioprojective Frame (obstime=2016-07-28T23:58:46.600, rsun=696000.0 km, observer=<HeliographicStonyhurst Coordinate (obstime=2016-07-28T23:58:46.600, rsun=696000.0 km): (lon, lat, radius) in (deg, deg, m)\n",
       "    (0.06217846, 5.58266211, 1.51876022e+11)>)>"
      ]
     },
     "execution_count": 65,
     "metadata": {},
     "output_type": "execute_result"
    }
   ],
   "source": [
    "tt.wcs.low_level_wcs.world_axis_object_classes['celestial'][2]['frame']"
   ]
  },
  {
   "cell_type": "code",
   "execution_count": null,
   "id": "17698321-c8ee-4389-b5b7-95efa0f0a0a3",
   "metadata": {},
   "outputs": [],
   "source": [
    "cropped_cube = level1_cube.crop((bottom_left_skycoord,wav0,None), \n",
    "                                  (top_right_skycoord,wav1,None))"
   ]
  },
  {
   "cell_type": "code",
   "execution_count": 59,
   "id": "b569e2aa-d22d-42cb-9010-7359e612a5ae",
   "metadata": {
    "tags": []
   },
   "outputs": [
    {
     "data": {
      "application/vnd.jupyter.widget-view+json": {
       "model_id": "e6d51b4f56d742dc93cb519608f5c2e7",
       "version_major": 2,
       "version_minor": 0
      },
      "text/plain": [
       "Canvas(toolbar=Toolbar(toolitems=[('Home', 'Reset original view', 'home', 'home'), ('Back', 'Back to previous …"
      ]
     },
     "metadata": {},
     "output_type": "display_data"
    }
   ],
   "source": [
    "%matplotlib widget\n",
    "cropped.plot()"
   ]
  },
  {
   "cell_type": "markdown",
   "id": "0da66e7e-6a7c-4dc7-b4b1-5a3514393ef1",
   "metadata": {},
   "source": [
    "## Test the 3D cube functionality"
   ]
  },
  {
   "cell_type": "code",
   "execution_count": 29,
   "id": "b113f488-e561-4d99-bfca-b5705638ee2e",
   "metadata": {},
   "outputs": [
    {
     "name": "stdout",
     "output_type": "stream",
     "text": [
      "(112, 512, 511)\n"
     ]
    }
   ],
   "source": [
    "ttt = level1_cube.I\n",
    "print(ttt.data.shape)"
   ]
  },
  {
   "cell_type": "code",
   "execution_count": 30,
   "id": "ae515e6d-0ee2-4389-88d4-e79e4d027cb1",
   "metadata": {},
   "outputs": [
    {
     "data": {
      "application/vnd.jupyter.widget-view+json": {
       "model_id": "960210d61e254945b364beaa025d0a84",
       "version_major": 2,
       "version_minor": 0
      },
      "text/plain": [
       "Canvas(toolbar=Toolbar(toolitems=[('Home', 'Reset original view', 'home', 'home'), ('Back', 'Back to previous …"
      ]
     },
     "metadata": {},
     "output_type": "display_data"
    },
    {
     "data": {
      "text/plain": [
       "<matplotlib.widgets.Slider at 0x7f87cb2449d0>"
      ]
     },
     "execution_count": 30,
     "metadata": {},
     "output_type": "execute_result"
    }
   ],
   "source": [
    "%matplotlib widget\n",
    "\n",
    "ttt.plot()"
   ]
  },
  {
   "cell_type": "code",
   "execution_count": 21,
   "id": "a779e436-21a2-4d07-9ef8-da54a99d4fc0",
   "metadata": {},
   "outputs": [
    {
     "data": {
      "text/plain": [
       "array([6.1731730e-07, 6.1732418e-07, 6.1733106e-07, 6.1733794e-07,\n",
       "       6.1734482e-07, 6.1735170e-07])"
      ]
     },
     "execution_count": 21,
     "metadata": {},
     "output_type": "execute_result"
    }
   ],
   "source": [
    "ttt._spectral_axis"
   ]
  },
  {
   "cell_type": "markdown",
   "id": "dff2b722-57c5-4ddb-9047-58e66bdc14a4",
   "metadata": {},
   "source": [
    "### Test the 1D cube functionality."
   ]
  },
  {
   "cell_type": "code",
   "execution_count": 10,
   "id": "0b147f63-c93d-4664-95a3-e08d489ad2eb",
   "metadata": {},
   "outputs": [
    {
     "name": "stdout",
     "output_type": "stream",
     "text": [
      "{'stokes': 'L', 'x0_i': 1500, 'y0_i': 1500}\n"
     ]
    }
   ],
   "source": [
    "iprof = level1_cube.L_profile(1500,1500)\n",
    "print(iprof.meta)"
   ]
  },
  {
   "cell_type": "code",
   "execution_count": 6,
   "id": "af5b088d-94cf-410a-aa9a-b729ee09ffea",
   "metadata": {},
   "outputs": [
    {
     "data": {
      "text/plain": [
       "array([6.1731730e-07, 6.1732418e-07, 6.1733106e-07, 6.1733794e-07,\n",
       "       6.1734482e-07, 6.1735170e-07])"
      ]
     },
     "execution_count": 6,
     "metadata": {},
     "output_type": "execute_result"
    }
   ],
   "source": [
    "iprof._spectral_axis"
   ]
  },
  {
   "cell_type": "code",
   "execution_count": 9,
   "id": "b0050af4-6f2c-46db-b602-a37ec1f27674",
   "metadata": {},
   "outputs": [
    {
     "data": {
      "text/plain": [
       "{'stokes': 'L', 'x0_i': 1500, 'y0_i': 1500}"
      ]
     },
     "execution_count": 9,
     "metadata": {},
     "output_type": "execute_result"
    }
   ],
   "source": [
    "iprof.meta"
   ]
  },
  {
   "cell_type": "code",
   "execution_count": 13,
   "id": "eeb1942e-d170-44db-8c0f-be0fcca4d381",
   "metadata": {},
   "outputs": [
    {
     "data": {
      "application/vnd.jupyter.widget-view+json": {
       "model_id": "19bb4c26a5de4b68849f2083a1df708c",
       "version_major": 2,
       "version_minor": 0
      },
      "text/plain": [
       "Canvas(toolbar=Toolbar(toolitems=[('Home', 'Reset original view', 'home', 'home'), ('Back', 'Back to previous …"
      ]
     },
     "metadata": {},
     "output_type": "display_data"
    }
   ],
   "source": [
    "%matplotlib widget\n",
    "\n",
    "iprof.plot()"
   ]
  },
  {
   "cell_type": "code",
   "execution_count": 14,
   "id": "1b333d54-4f98-46b4-ae12-578b034420ad",
   "metadata": {},
   "outputs": [],
   "source": [
    "kk = iprof[1:4]"
   ]
  },
  {
   "cell_type": "code",
   "execution_count": 21,
   "id": "a8eb1ca1-c015-4221-91e7-0e161dc2b728",
   "metadata": {},
   "outputs": [
    {
     "data": {
      "text/plain": [
       "264924.22529192007"
      ]
     },
     "execution_count": 21,
     "metadata": {},
     "output_type": "execute_result"
    }
   ],
   "source": [
    "2*np.pi*42164"
   ]
  },
  {
   "cell_type": "code",
   "execution_count": 24,
   "id": "25276e5f-9033-40d8-99e4-f18a804a1979",
   "metadata": {},
   "outputs": [
    {
     "data": {
      "text/plain": [
       "(0.14831930117070782, 0.14941656389336874)"
      ]
     },
     "execution_count": 24,
     "metadata": {},
     "output_type": "execute_result"
    }
   ],
   "source": [
    "np.arctan(6300/42164), 6300/42164"
   ]
  },
  {
   "cell_type": "code",
   "execution_count": 25,
   "id": "3f56f895-431f-4a3f-8fee-83b5d1d25013",
   "metadata": {},
   "outputs": [
    {
     "data": {
      "text/plain": [
       "16.996139954822656"
      ]
     },
     "execution_count": 25,
     "metadata": {},
     "output_type": "execute_result"
    }
   ],
   "source": [
    "np.arctan(6300/42164) * 2 * 180/np.pi"
   ]
  },
  {
   "cell_type": "code",
   "execution_count": 42,
   "id": "8f71b28a-770a-4ff8-8694-c87c33e31fe0",
   "metadata": {},
   "outputs": [
    {
     "data": {
      "text/plain": [
       "223200"
      ]
     },
     "execution_count": 42,
     "metadata": {},
     "output_type": "execute_result"
    }
   ],
   "source": [
    "36*6200"
   ]
  },
  {
   "cell_type": "code",
   "execution_count": 33,
   "id": "152a3ed9-5de1-47ca-a56c-8031f94ad79c",
   "metadata": {},
   "outputs": [
    {
     "data": {
      "text/plain": [
       "9.066666666666666"
      ]
     },
     "execution_count": 33,
     "metadata": {},
     "output_type": "execute_result"
    }
   ],
   "source": [
    "32640/3600"
   ]
  },
  {
   "cell_type": "code",
   "execution_count": 32,
   "id": "0168c3d6-9020-4059-9f4e-ee27423557ff",
   "metadata": {},
   "outputs": [
    {
     "data": {
      "text/plain": [
       "4.0"
      ]
     },
     "execution_count": 32,
     "metadata": {},
     "output_type": "execute_result"
    }
   ],
   "source": [
    "1/360*24*60"
   ]
  },
  {
   "cell_type": "code",
   "execution_count": 15,
   "id": "c88cb524-33ca-4095-9da6-7a8879365a0b",
   "metadata": {},
   "outputs": [
    {
     "data": {
      "text/plain": [
       "(array([42.107006, 22.847319, 37.94733 ], dtype=float32),\n",
       " array([6.1732418e-07, 6.1733106e-07, 6.1733794e-07]))"
      ]
     },
     "execution_count": 15,
     "metadata": {},
     "output_type": "execute_result"
    }
   ],
   "source": [
    "kk.data, kk._spectral_axis"
   ]
  },
  {
   "cell_type": "code",
   "execution_count": 16,
   "id": "315a72e4-a22e-456b-a935-4cc145257596",
   "metadata": {},
   "outputs": [
    {
     "data": {
      "application/vnd.jupyter.widget-view+json": {
       "model_id": "466e8a975941412f93e1eb874a03f3af",
       "version_major": 2,
       "version_minor": 0
      },
      "text/plain": [
       "Canvas(toolbar=Toolbar(toolitems=[('Home', 'Reset original view', 'home', 'home'), ('Back', 'Back to previous …"
      ]
     },
     "metadata": {},
     "output_type": "display_data"
    }
   ],
   "source": [
    "kk.plot()"
   ]
  },
  {
   "cell_type": "markdown",
   "id": "ab71cf15-55fa-46bb-a469-f00e0e2e94b2",
   "metadata": {},
   "source": [
    "## Test the crop functionality "
   ]
  },
  {
   "cell_type": "code",
   "execution_count": 94,
   "id": "18909f0d-e5c5-4589-ad39-8c3a784caedb",
   "metadata": {},
   "outputs": [
    {
     "ename": "NameError",
     "evalue": "name 'level1_cube' is not defined",
     "output_type": "error",
     "traceback": [
      "\u001b[0;31m---------------------------------------------------------------------------\u001b[0m",
      "\u001b[0;31mNameError\u001b[0m                                 Traceback (most recent call last)",
      "\u001b[0;32m<ipython-input-94-76e64041238c>\u001b[0m in \u001b[0;36m<module>\u001b[0;34m\u001b[0m\n\u001b[1;32m      1\u001b[0m \u001b[0;31m# Create a base NDcube as well as a Stokespy NDcube\u001b[0m\u001b[0;34m\u001b[0m\u001b[0;34m\u001b[0m\u001b[0m\n\u001b[1;32m      2\u001b[0m \u001b[0mlevel1_ndcube\u001b[0m \u001b[0;34m=\u001b[0m \u001b[0mndcube\u001b[0m\u001b[0;34m.\u001b[0m\u001b[0mNDCube\u001b[0m\u001b[0;34m(\u001b[0m\u001b[0mlevel1_data\u001b[0m\u001b[0;34m,\u001b[0m \u001b[0mwcs\u001b[0m\u001b[0;34m=\u001b[0m\u001b[0mlevel1_wcs\u001b[0m\u001b[0;34m)\u001b[0m\u001b[0;34m\u001b[0m\u001b[0;34m\u001b[0m\u001b[0m\n\u001b[0;32m----> 3\u001b[0;31m \u001b[0mlevel1_cube\u001b[0m \u001b[0;34m=\u001b[0m \u001b[0mstokespy\u001b[0m\u001b[0;34m.\u001b[0m\u001b[0mStokesCube\u001b[0m\u001b[0;34m(\u001b[0m\u001b[0mlevel1_data\u001b[0m\u001b[0;34m,\u001b[0m \u001b[0mlevel1_wcs\u001b[0m\u001b[0;34m)\u001b[0m\u001b[0;34m\u001b[0m\u001b[0;34m\u001b[0m\u001b[0m\n\u001b[0m",
      "\u001b[0;32m~/Desktop/Science/StokesPY/stokespy/stokespy/stokespy.py\u001b[0m in \u001b[0;36m__init__\u001b[0;34m(self, data, wcs, stokes_params, normalize, **kwargs)\u001b[0m\n\u001b[1;32m    304\u001b[0m             \u001b[0;31m# Define the observed frame if it entered.\u001b[0m\u001b[0;34m\u001b[0m\u001b[0;34m\u001b[0m\u001b[0m\n\u001b[1;32m    305\u001b[0m             \u001b[0mtmp_var\u001b[0m \u001b[0;34m=\u001b[0m \u001b[0mnp\u001b[0m\u001b[0;34m.\u001b[0m\u001b[0mzeros\u001b[0m\u001b[0;34m(\u001b[0m\u001b[0mself\u001b[0m\u001b[0;34m.\u001b[0m\u001b[0mwcs\u001b[0m\u001b[0;34m.\u001b[0m\u001b[0mpixel_n_dim\u001b[0m\u001b[0;34m,\u001b[0m \u001b[0mdtype\u001b[0m\u001b[0;34m=\u001b[0m\u001b[0;34m'int'\u001b[0m\u001b[0;34m)\u001b[0m\u001b[0;34m\u001b[0m\u001b[0;34m\u001b[0m\u001b[0m\n\u001b[0;32m--> 306\u001b[0;31m             \u001b[0mself\u001b[0m\u001b[0;34m.\u001b[0m\u001b[0mmeta\u001b[0m\u001b[0;34m[\u001b[0m\u001b[0;34m'frame'\u001b[0m\u001b[0;34m]\u001b[0m \u001b[0;34m=\u001b[0m \u001b[0mlevel1_cube\u001b[0m\u001b[0;34m.\u001b[0m\u001b[0mwcs\u001b[0m\u001b[0;34m.\u001b[0m\u001b[0mpixel_to_world\u001b[0m\u001b[0;34m(\u001b[0m\u001b[0;34m*\u001b[0m\u001b[0mtmp_var\u001b[0m\u001b[0;34m)\u001b[0m\u001b[0;34m[\u001b[0m\u001b[0;36m0\u001b[0m\u001b[0;34m]\u001b[0m\u001b[0;34m[\u001b[0m\u001b[0;34m'frame'\u001b[0m\u001b[0;34m]\u001b[0m\u001b[0;34m\u001b[0m\u001b[0;34m\u001b[0m\u001b[0m\n\u001b[0m\u001b[1;32m    307\u001b[0m \u001b[0;34m\u001b[0m\u001b[0m\n\u001b[1;32m    308\u001b[0m     \u001b[0;34m@\u001b[0m\u001b[0mproperty\u001b[0m\u001b[0;34m\u001b[0m\u001b[0;34m\u001b[0m\u001b[0m\n",
      "\u001b[0;31mNameError\u001b[0m: name 'level1_cube' is not defined"
     ]
    }
   ],
   "source": [
    "# Create a base NDcube as well as a Stokespy NDcube\n",
    "level1_ndcube = ndcube.NDCube(level1_data, wcs=level1_wcs)\n",
    "level1_cube = stokespy.StokesCube(level1_data, level1_wcs)"
   ]
  },
  {
   "cell_type": "code",
   "execution_count": 88,
   "id": "b61b3df9-227a-4c96-9e51-97bd44ba3c29",
   "metadata": {},
   "outputs": [],
   "source": [
    "lll = level1_ndcube[0,2,:,:]"
   ]
  },
  {
   "cell_type": "code",
   "execution_count": 99,
   "id": "93d14a62-a31b-46ed-ae9c-20fc701f0feb",
   "metadata": {},
   "outputs": [],
   "source": [
    "d_sh = level1_ndcube.data.shape\n",
    "wcs_slice = [0] * level1_ndcube.wcs.pixel_n_dim\n",
    "wcs_slice[0] = 0\n",
    "wcs_slice[1] = slice(0, d_sh[1])\n",
    "wcs_slice[2] = slice(0, d_sh[2])\n",
    "wcs_slice[3] = slice(0, d_sh[3])\n",
    "#print(wcs_slice)\n",
    "wcs_slice = HighLevelWCSWrapper(SlicedLowLevelWCS(level1_ndcube.wcs.low_level_wcs, wcs_slice))"
   ]
  },
  {
   "cell_type": "code",
   "execution_count": 103,
   "id": "ac172a67-eed9-448b-81c0-ced84fefb229",
   "metadata": {},
   "outputs": [],
   "source": [
    "cube_3D = ndcube.NDCube(level1_ndcube.data[0,:,:,:], wcs=wcs_slice)\n"
   ]
  },
  {
   "cell_type": "code",
   "execution_count": 105,
   "id": "6e0cff2a-a1bd-4cd9-b793-cf559ff10eee",
   "metadata": {},
   "outputs": [],
   "source": [
    "newcube = level1_cube._stokes_slice(0)"
   ]
  },
  {
   "cell_type": "code",
   "execution_count": 142,
   "id": "a74e8e59-3d50-464d-aaff-10c434c97ed4",
   "metadata": {},
   "outputs": [
    {
     "name": "stdout",
     "output_type": "stream",
     "text": [
      "ix_0, wav0 =  2 6.1733106e-07\n"
     ]
    }
   ],
   "source": [
    "newmap = level1_cube.I_map(wav0)"
   ]
  },
  {
   "cell_type": "code",
   "execution_count": 120,
   "id": "1c1fcc78-a17f-4c2a-8bb0-75488bc44416",
   "metadata": {},
   "outputs": [],
   "source": [
    "newmap1 = StokesParamMap(newcube.data[2,:,:], newcube[2,:,:].wcs, meta={'stokes':'test'})"
   ]
  },
  {
   "cell_type": "code",
   "execution_count": 143,
   "id": "d53d0346-d988-4acb-afee-b5232fd0225e",
   "metadata": {},
   "outputs": [
    {
     "data": {
      "application/vnd.jupyter.widget-view+json": {
       "model_id": "",
       "version_major": 2,
       "version_minor": 0
      },
      "text/plain": [
       "Canvas(toolbar=Toolbar(toolitems=[('Home', 'Reset original view', 'home', 'home'), ('Back', 'Back to previous …"
      ]
     },
     "metadata": {},
     "output_type": "display_data"
    },
    {
     "data": {
      "text/plain": [
       "<matplotlib.image.AxesImage at 0x7f6052762d00>"
      ]
     },
     "execution_count": 143,
     "metadata": {},
     "output_type": "execute_result"
    }
   ],
   "source": [
    "%matplotlib widget\n",
    "\n",
    "ax1 = plt.subplot(projection=newmap.wcs)\n",
    "\n",
    "ax1.imshow(newmap.data)"
   ]
  },
  {
   "cell_type": "code",
   "execution_count": 55,
   "id": "54a0d2cc-fc89-4649-916b-f47fde0a2a7d",
   "metadata": {},
   "outputs": [],
   "source": [
    "oo = level1_ndcube[2,:,:,:]"
   ]
  },
  {
   "cell_type": "code",
   "execution_count": 31,
   "id": "40214785-b17d-4ac3-b028-87ae89a5e0fc",
   "metadata": {},
   "outputs": [
    {
     "data": {
      "text/plain": [
       "4"
      ]
     },
     "execution_count": 31,
     "metadata": {},
     "output_type": "execute_result"
    }
   ],
   "source": [
    "level1_cube.wcs.pixel_n_dim"
   ]
  },
  {
   "cell_type": "code",
   "execution_count": null,
   "id": "06268e02-6796-4524-a174-cccd866c8f9d",
   "metadata": {},
   "outputs": [],
   "source": [
    "tmp_coor = level1_cube.wcs.pixel_n_dim"
   ]
  },
  {
   "cell_type": "code",
   "execution_count": 83,
   "id": "ff07f0f0-8d18-4bb8-ba75-9866e21df1f4",
   "metadata": {},
   "outputs": [
    {
     "data": {
      "text/plain": [
       "[0, 0, 0, 0]"
      ]
     },
     "execution_count": 83,
     "metadata": {},
     "output_type": "execute_result"
    }
   ],
   "source": [
    "list(np.zeros(level1_cube.wcs.pixel_n_dim, dtype='int'))"
   ]
  },
  {
   "cell_type": "code",
   "execution_count": 87,
   "id": "9e6a0555-7966-4489-ad2e-b2e8e64cfbc3",
   "metadata": {},
   "outputs": [],
   "source": [
    "orig_coords = np.zeros(level1_cube.wcs.pixel_n_dim, dtype='int')"
   ]
  },
  {
   "cell_type": "code",
   "execution_count": 85,
   "id": "3236e869-568e-41aa-bd5b-d10d294716df",
   "metadata": {},
   "outputs": [
    {
     "data": {
      "text/plain": [
       "[<SkyCoord (Helioprojective: obstime=2016-07-28T23:58:46.600, rsun=696000.0 km, observer=<HeliographicStonyhurst Coordinate (obstime=2016-07-28T23:58:46.600, rsun=696000.0 km): (lon, lat, radius) in (deg, deg, m)\n",
       "     (0.06217846, 5.58266211, 1.51876022e+11)>): (Tx, Ty) in arcsec\n",
       "     (1027.65813226, 1034.34957067)>,\n",
       " <SpectralCoord \n",
       "    (target: <Helioprojective Coordinate (obstime=2016-07-28T23:58:46.600, rsun=696000.0 km, observer=<HeliographicStonyhurst Coordinate (obstime=2016-07-28T23:58:46.600, rsun=696000.0 km): (lon, lat, radius) in (deg, deg, m)\n",
       "                 (0.06217846, 5.58266211, 1.51876022e+11)>): (Tx, Ty, distance) in (arcsec, arcsec, kpc)\n",
       "                 (0., 0., 1000.)\n",
       "              (d_Tx, d_Ty, d_distance) in (arcsec / s, arcsec / s, km / s)\n",
       "                 (0., 0., 0.)>)\n",
       "   6.173173e-07 m>,\n",
       " <Quantity 1.>]"
      ]
     },
     "execution_count": 85,
     "metadata": {},
     "output_type": "execute_result"
    }
   ],
   "source": [
    "level1_cube.wcs.pixel_to_world(*mm)"
   ]
  },
  {
   "cell_type": "code",
   "execution_count": 93,
   "id": "1112b329-0c6c-46a0-89ed-53f3db247a18",
   "metadata": {},
   "outputs": [
    {
     "data": {
      "text/plain": [
       "OrderedDict()"
      ]
     },
     "execution_count": 93,
     "metadata": {},
     "output_type": "execute_result"
    }
   ],
   "source": [
    "testing.meta"
   ]
  },
  {
   "cell_type": "code",
   "execution_count": 46,
   "id": "e6f3a081-c5b4-4e95-a949-802d6d8e35f7",
   "metadata": {},
   "outputs": [],
   "source": [
    "kk = level1_cube.wcs.pixel_to_world(0,0,0,0)"
   ]
  },
  {
   "cell_type": "code",
   "execution_count": 73,
   "id": "ce402fcf-ce82-44de-8c2f-0905e5f80e96",
   "metadata": {},
   "outputs": [],
   "source": [
    "tt = kk[0]"
   ]
  },
  {
   "cell_type": "code",
   "execution_count": 75,
   "id": "3eabb8e4-3723-40ba-9a1f-06a96bad9aa9",
   "metadata": {},
   "outputs": [
    {
     "data": {
      "text/plain": [
       "<Helioprojective Coordinate (obstime=2016-07-28T23:58:46.600, rsun=696000.0 km, observer=<HeliographicStonyhurst Coordinate (obstime=2016-07-28T23:58:46.600, rsun=696000.0 km): (lon, lat, radius) in (deg, deg, m)\n",
       "    (0.06217846, 5.58266211, 1.51876022e+11)>): (Tx, Ty) in arcsec\n",
       "    (1027.65813226, 1034.34957067)>"
      ]
     },
     "execution_count": 75,
     "metadata": {},
     "output_type": "execute_result"
    }
   ],
   "source": [
    "tt.frame"
   ]
  },
  {
   "cell_type": "code",
   "execution_count": 74,
   "id": "5cb186f6-7f72-4079-a181-2036a4ebbb12",
   "metadata": {
    "collapsed": true,
    "jupyter": {
     "outputs_hidden": true
    },
    "tags": []
   },
   "outputs": [
    {
     "data": {
      "text/plain": [
       "\u001b[0;31mType:\u001b[0m        SkyCoord\n",
       "\u001b[0;31mString form:\u001b[0m\n",
       "<SkyCoord (Helioprojective: obstime=2016-07-28T23:58:46.600, rsun=696000.0 km, observer=<Heliogra <...> 0.06217846, 5.58266211, 1.51876022e+11)>): (Tx, Ty) in arcsec\n",
       "           (1027.65813226, 1034.34957067)>\n",
       "\u001b[0;31mFile:\u001b[0m        ~/anaconda3/envs/stokespy/lib/python3.9/site-packages/astropy/coordinates/sky_coordinate.py\n",
       "\u001b[0;31mDocstring:\u001b[0m  \n",
       "High-level object providing a flexible interface for celestial coordinate\n",
       "representation, manipulation, and transformation between systems.\n",
       "\n",
       "The `SkyCoord` class accepts a wide variety of inputs for initialization. At\n",
       "a minimum these must provide one or more celestial coordinate values with\n",
       "unambiguous units.  Inputs may be scalars or lists/tuples/arrays, yielding\n",
       "scalar or array coordinates (can be checked via ``SkyCoord.isscalar``).\n",
       "Typically one also specifies the coordinate frame, though this is not\n",
       "required. The general pattern for spherical representations is::\n",
       "\n",
       "  SkyCoord(COORD, [FRAME], keyword_args ...)\n",
       "  SkyCoord(LON, LAT, [FRAME], keyword_args ...)\n",
       "  SkyCoord(LON, LAT, [DISTANCE], frame=FRAME, unit=UNIT, keyword_args ...)\n",
       "  SkyCoord([FRAME], <lon_attr>=LON, <lat_attr>=LAT, keyword_args ...)\n",
       "\n",
       "It is also possible to input coordinate values in other representations\n",
       "such as cartesian or cylindrical.  In this case one includes the keyword\n",
       "argument ``representation_type='cartesian'`` (for example) along with data\n",
       "in ``x``, ``y``, and ``z``.\n",
       "\n",
       "See also: https://docs.astropy.org/en/stable/coordinates/\n",
       "\n",
       "Examples\n",
       "--------\n",
       "The examples below illustrate common ways of initializing a `SkyCoord`\n",
       "object.  For a complete description of the allowed syntax see the\n",
       "full coordinates documentation.  First some imports::\n",
       "\n",
       "  >>> from astropy.coordinates import SkyCoord  # High-level coordinates\n",
       "  >>> from astropy.coordinates import ICRS, Galactic, FK4, FK5  # Low-level frames\n",
       "  >>> from astropy.coordinates import Angle, Latitude, Longitude  # Angles\n",
       "  >>> import astropy.units as u\n",
       "\n",
       "The coordinate values and frame specification can now be provided using\n",
       "positional and keyword arguments::\n",
       "\n",
       "  >>> c = SkyCoord(10, 20, unit=\"deg\")  # defaults to ICRS frame\n",
       "  >>> c = SkyCoord([1, 2, 3], [-30, 45, 8], frame=\"icrs\", unit=\"deg\")  # 3 coords\n",
       "\n",
       "  >>> coords = [\"1:12:43.2 +31:12:43\", \"1 12 43.2 +31 12 43\"]\n",
       "  >>> c = SkyCoord(coords, frame=FK4, unit=(u.hourangle, u.deg), obstime=\"J1992.21\")\n",
       "\n",
       "  >>> c = SkyCoord(\"1h12m43.2s +1d12m43s\", frame=Galactic)  # Units from string\n",
       "  >>> c = SkyCoord(frame=\"galactic\", l=\"1h12m43.2s\", b=\"+1d12m43s\")\n",
       "\n",
       "  >>> ra = Longitude([1, 2, 3], unit=u.deg)  # Could also use Angle\n",
       "  >>> dec = np.array([4.5, 5.2, 6.3]) * u.deg  # Astropy Quantity\n",
       "  >>> c = SkyCoord(ra, dec, frame='icrs')\n",
       "  >>> c = SkyCoord(frame=ICRS, ra=ra, dec=dec, obstime='2001-01-02T12:34:56')\n",
       "\n",
       "  >>> c = FK4(1 * u.deg, 2 * u.deg)  # Uses defaults for obstime, equinox\n",
       "  >>> c = SkyCoord(c, obstime='J2010.11', equinox='B1965')  # Override defaults\n",
       "\n",
       "  >>> c = SkyCoord(w=0, u=1, v=2, unit='kpc', frame='galactic',\n",
       "  ...              representation_type='cartesian')\n",
       "\n",
       "  >>> c = SkyCoord([ICRS(ra=1*u.deg, dec=2*u.deg), ICRS(ra=3*u.deg, dec=4*u.deg)])\n",
       "\n",
       "Velocity components (proper motions or radial velocities) can also be\n",
       "provided in a similar manner::\n",
       "\n",
       "  >>> c = SkyCoord(ra=1*u.deg, dec=2*u.deg, radial_velocity=10*u.km/u.s)\n",
       "\n",
       "  >>> c = SkyCoord(ra=1*u.deg, dec=2*u.deg, pm_ra_cosdec=2*u.mas/u.yr, pm_dec=1*u.mas/u.yr)\n",
       "\n",
       "As shown, the frame can be a `~astropy.coordinates.BaseCoordinateFrame`\n",
       "class or the corresponding string alias.  The frame classes that are built in\n",
       "to astropy are `ICRS`, `FK5`, `FK4`, `FK4NoETerms`, and `Galactic`.\n",
       "The string aliases are simply lower-case versions of the class name, and\n",
       "allow for creating a `SkyCoord` object and transforming frames without\n",
       "explicitly importing the frame classes.\n",
       "\n",
       "Parameters\n",
       "----------\n",
       "frame : `~astropy.coordinates.BaseCoordinateFrame` class or string, optional\n",
       "    Type of coordinate frame this `SkyCoord` should represent. Defaults to\n",
       "    to ICRS if not given or given as None.\n",
       "unit : `~astropy.units.Unit`, string, or tuple of :class:`~astropy.units.Unit` or str, optional\n",
       "    Units for supplied coordinate values.\n",
       "    If only one unit is supplied then it applies to all values.\n",
       "    Note that passing only one unit might lead to unit conversion errors\n",
       "    if the coordinate values are expected to have mixed physical meanings\n",
       "    (e.g., angles and distances).\n",
       "obstime : time-like, optional\n",
       "    Time(s) of observation.\n",
       "equinox : time-like, optional\n",
       "    Coordinate frame equinox time.\n",
       "representation_type : str or Representation class\n",
       "    Specifies the representation, e.g. 'spherical', 'cartesian', or\n",
       "    'cylindrical'.  This affects the positional args and other keyword args\n",
       "    which must correspond to the given representation.\n",
       "copy : bool, optional\n",
       "    If `True` (default), a copy of any coordinate data is made.  This\n",
       "    argument can only be passed in as a keyword argument.\n",
       "**keyword_args\n",
       "    Other keyword arguments as applicable for user-defined coordinate frames.\n",
       "    Common options include:\n",
       "\n",
       "    ra, dec : angle-like, optional\n",
       "        RA and Dec for frames where ``ra`` and ``dec`` are keys in the\n",
       "        frame's ``representation_component_names``, including `ICRS`,\n",
       "        `FK5`, `FK4`, and `FK4NoETerms`.\n",
       "    pm_ra_cosdec, pm_dec  : `~astropy.units.Quantity` ['angular speed'], optional\n",
       "        Proper motion components, in angle per time units.\n",
       "    l, b : angle-like, optional\n",
       "        Galactic ``l`` and ``b`` for for frames where ``l`` and ``b`` are\n",
       "        keys in the frame's ``representation_component_names``, including\n",
       "        the `Galactic` frame.\n",
       "    pm_l_cosb, pm_b : `~astropy.units.Quantity` ['angular speed'], optional\n",
       "        Proper motion components in the `Galactic` frame, in angle per time\n",
       "        units.\n",
       "    x, y, z : float or `~astropy.units.Quantity` ['length'], optional\n",
       "        Cartesian coordinates values\n",
       "    u, v, w : float or `~astropy.units.Quantity` ['length'], optional\n",
       "        Cartesian coordinates values for the Galactic frame.\n",
       "    radial_velocity : `~astropy.units.Quantity` ['speed'], optional\n",
       "        The component of the velocity along the line-of-sight (i.e., the\n",
       "        radial direction), in velocity units.\n"
      ]
     },
     "metadata": {},
     "output_type": "display_data"
    }
   ],
   "source": [
    "tt?"
   ]
  },
  {
   "cell_type": "code",
   "execution_count": 53,
   "id": "f165a907-a65f-485c-bde0-a636a23177bd",
   "metadata": {},
   "outputs": [
    {
     "data": {
      "text/plain": [
       "WCS Keywords\n",
       "\n",
       "Number of WCS axes: 4\n",
       "CTYPE : 'HPLN-TAN'  'HPLT-TAN'  'WAVE'  'STOKES'  \n",
       "CRVAL : 0.0  0.0  6.173345e-07  0.0  \n",
       "CRPIX : 2039.1423339844  2051.4689941406  3.5  0.0  \n",
       "PC1_1 PC1_2 PC1_3 PC1_4  : -0.99999997203655  0.00023648870259451  0.0  0.0  \n",
       "PC2_1 PC2_2 PC2_3 PC2_4  : -0.00023648870259451  -0.99999997203655  0.0  0.0  \n",
       "PC3_1 PC3_2 PC3_3 PC3_4  : 0.0  0.0  1.0  0.0  \n",
       "PC4_1 PC4_2 PC4_3 PC4_4  : 0.0  0.0  0.0  1.0  \n",
       "CDELT : 0.00014009369744195  0.00014009369744195  6.88e-12  1.0  \n",
       "NAXIS : 0  0"
      ]
     },
     "execution_count": 53,
     "metadata": {},
     "output_type": "execute_result"
    }
   ],
   "source": [
    "level1_cube.wcs"
   ]
  },
  {
   "cell_type": "code",
   "execution_count": 50,
   "id": "6380567e-7672-4a96-80d8-e23989a402d2",
   "metadata": {},
   "outputs": [
    {
     "data": {
      "text/plain": [
       "[<SkyCoord (Helioprojective: obstime=2016-07-28T23:58:46.600, rsun=696000.0 km, observer=<HeliographicStonyhurst Coordinate (obstime=2016-07-28T23:58:46.600, rsun=696000.0 km): (lon, lat, radius) in (deg, deg, m)\n",
       "     (0.06217846, 5.58266211, 1.51876022e+11)>): (Tx, Ty) in arcsec\n",
       "     (1027.65813226, 1034.34957067)>,\n",
       " <SpectralCoord \n",
       "    (target: <Helioprojective Coordinate (obstime=2016-07-28T23:58:46.600, rsun=696000.0 km, observer=<HeliographicStonyhurst Coordinate (obstime=2016-07-28T23:58:46.600, rsun=696000.0 km): (lon, lat, radius) in (deg, deg, m)\n",
       "                 (0.06217846, 5.58266211, 1.51876022e+11)>): (Tx, Ty, distance) in (arcsec, arcsec, kpc)\n",
       "                 (0., 0., 1000.)\n",
       "              (d_Tx, d_Ty, d_distance) in (arcsec / s, arcsec / s, km / s)\n",
       "                 (0., 0., 0.)>)\n",
       "   6.173173e-07 m>,\n",
       " <Quantity 1.>]"
      ]
     },
     "execution_count": 50,
     "metadata": {},
     "output_type": "execute_result"
    }
   ],
   "source": [
    "kk"
   ]
  },
  {
   "cell_type": "code",
   "execution_count": 6,
   "id": "a8fb8975-9cf6-4aeb-80f2-2635e79dd567",
   "metadata": {},
   "outputs": [
    {
     "name": "stdout",
     "output_type": "stream",
     "text": [
      "<Helioprojective Frame (obstime=2016-07-28T23:58:46.600, rsun=696000.0 km, observer=<HeliographicStonyhurst Coordinate (obstime=2016-07-28T23:58:46.600, rsun=696000.0 km): (lon, lat, radius) in (deg, deg, m)\n",
      "    (0.06217846, 5.58266211, 1.51876022e+11)>)>\n"
     ]
    }
   ],
   "source": [
    "# Set the observer frame.\n",
    "obs_frame = level1_wcs.world_axis_object_classes['celestial'][2]['frame']\n",
    "print(obs_frame)"
   ]
  },
  {
   "cell_type": "code",
   "execution_count": 54,
   "id": "0377d506-bce9-4b40-85d5-3dd6281619d8",
   "metadata": {},
   "outputs": [],
   "source": [
    "bottom_left_skycoord = SkyCoord(Tx= -700 * u.arcsec, Ty= -700 * u.arcsec, frame=obs_frame)\n",
    "top_right_skycoord = SkyCoord(Tx= 700* u.arcsec, Ty= 700 * u.arcsec, frame=obs_frame)"
   ]
  },
  {
   "cell_type": "code",
   "execution_count": 29,
   "id": "fc7f904d-5921-4d82-9023-2f13d8db9818",
   "metadata": {},
   "outputs": [
    {
     "name": "stderr",
     "output_type": "stream",
     "text": [
      "WARNING: No observer defined on WCS, SpectralCoord will be converted without any velocity frame change [astropy.wcs.wcsapi.fitswcs]\n"
     ]
    }
   ],
   "source": [
    "# High level coordinate objects must be wrapped in tuples.\n",
    "\n",
    "wav0 = 6.1733 * 1.e-7 * u.m\n",
    "#wav1 = 6.1736 * 1.e-7 * u.m\n",
    "wav1 = 6.17334 * 1.e-7 * u.m\n",
    "\n",
    "cropped_cube = level1_cube.crop((bottom_left_skycoord,wav0,None), \n",
    "                                  (top_right_skycoord,wav1,None))"
   ]
  },
  {
   "cell_type": "code",
   "execution_count": 82,
   "id": "f2dfa2af-eb25-4d2a-80a3-92c7b16beb8d",
   "metadata": {},
   "outputs": [
    {
     "data": {
      "text/plain": [
       "4.4"
      ]
     },
     "execution_count": 82,
     "metadata": {},
     "output_type": "execute_result"
    }
   ],
   "source": [
    "22/5.0"
   ]
  },
  {
   "cell_type": "code",
   "execution_count": 68,
   "id": "c99d5e15-1af0-4946-944c-4d6cfa921bb1",
   "metadata": {},
   "outputs": [
    {
     "data": {
      "text/plain": [
       "(4, 1, 2778, 2777)"
      ]
     },
     "execution_count": 68,
     "metadata": {},
     "output_type": "execute_result"
    }
   ],
   "source": [
    "cropped_cube.data.shape"
   ]
  },
  {
   "cell_type": "code",
   "execution_count": 72,
   "id": "f34a2d3a-ab51-4946-869b-f1680c1dca7e",
   "metadata": {},
   "outputs": [
    {
     "data": {
      "text/plain": [
       "\u001b[0;31mSignature:\u001b[0m \u001b[0mcropped_cube\u001b[0m\u001b[0;34m.\u001b[0m\u001b[0mwcs\u001b[0m\u001b[0;34m.\u001b[0m\u001b[0mworld_to_pixel\u001b[0m\u001b[0;34m(\u001b[0m\u001b[0;34m*\u001b[0m\u001b[0mworld_objects\u001b[0m\u001b[0;34m)\u001b[0m\u001b[0;34m\u001b[0m\u001b[0;34m\u001b[0m\u001b[0m\n",
       "\u001b[0;31mDocstring:\u001b[0m\n",
       "Convert world coordinates (represented by Astropy objects) to pixel\n",
       "coordinates.\n",
       "\n",
       "If `~astropy.wcs.wcsapi.BaseLowLevelWCS.pixel_n_dim` is ``1``, this\n",
       "method returns a single scalar or array, otherwise a tuple of scalars or\n",
       "arrays is returned. See\n",
       "`~astropy.wcs.wcsapi.BaseLowLevelWCS.world_to_pixel_values` for pixel\n",
       "indexing and ordering conventions.\n",
       "\u001b[0;31mFile:\u001b[0m      ~/anaconda3/envs/stokespy/lib/python3.9/site-packages/astropy/wcs/wcsapi/high_level_api.py\n",
       "\u001b[0;31mType:\u001b[0m      method\n"
      ]
     },
     "metadata": {},
     "output_type": "display_data"
    }
   ],
   "source": [
    "cropped_cube.wcs.world_to_pixel?"
   ]
  },
  {
   "cell_type": "code",
   "execution_count": 33,
   "id": "54d062de-d790-48af-be86-59f770a33180",
   "metadata": {},
   "outputs": [
    {
     "name": "stdout",
     "output_type": "stream",
     "text": [
      "<class 'astropy.wcs.wcs.WCS'>\n",
      "<class 'astropy.wcs.wcs.WCS'>\n",
      "<class 'astropy.wcs.wcsapi.high_level_wcs_wrapper.HighLevelWCSWrapper'>\n"
     ]
    }
   ],
   "source": [
    "# Show the different types of objects.\n",
    "\n",
    "print(level1_ndcube.wcs.__class__)\n",
    "print(level1_cube.wcs.__class__)\n",
    "print(cropped_cube.wcs.__class__)"
   ]
  },
  {
   "cell_type": "code",
   "execution_count": 17,
   "id": "bcf186f4-ffb9-4447-b80d-c3874642ccd0",
   "metadata": {},
   "outputs": [],
   "source": [
    "cropped_cube.wcs.array_shape"
   ]
  },
  {
   "cell_type": "code",
   "execution_count": 48,
   "id": "cdc37cc1-b582-43ff-b7cf-62df4af2c3d0",
   "metadata": {},
   "outputs": [
    {
     "data": {
      "text/plain": [
       "['HPLN', 'HPLT', 'WAVE', 'STOKES']"
      ]
     },
     "execution_count": 48,
     "metadata": {},
     "output_type": "execute_result"
    }
   ],
   "source": [
    "level1_cube.wcs.axis_type_names"
   ]
  },
  {
   "cell_type": "markdown",
   "id": "9b3f73a2-3092-4e68-a93a-3ae53d99e7c2",
   "metadata": {},
   "source": [
    "### Pass SkyCoord objects"
   ]
  },
  {
   "cell_type": "code",
   "execution_count": 106,
   "id": "71aaa3b9-024d-424e-a44e-21e0f2af49d4",
   "metadata": {},
   "outputs": [
    {
     "data": {
      "text/plain": [
       "array([6.1731730e-07, 6.1732418e-07, 6.1733106e-07, 6.1733794e-07,\n",
       "       6.1734482e-07, 6.1735170e-07])"
      ]
     },
     "execution_count": 106,
     "metadata": {},
     "output_type": "execute_result"
    }
   ],
   "source": [
    "level1_cube._spectral_axis"
   ]
  },
  {
   "cell_type": "code",
   "execution_count": 107,
   "id": "42dbe707-4154-43b6-9093-1d85c551d35c",
   "metadata": {},
   "outputs": [
    {
     "data": {
      "text/plain": [
       "<Helioprojective Coordinate (obstime=2016-07-28T23:58:46.600, rsun=696000.0 km, observer=<HeliographicStonyhurst Coordinate (obstime=2016-07-28T23:58:46.600, rsun=696000.0 km): (lon, lat, radius) in (deg, deg, m)\n",
       "    (0.06217846, 5.58266211, 1.51876022e+11)>): (Tx, Ty) in arcsec\n",
       "    (1027.65813226, 1034.34957067)>"
      ]
     },
     "execution_count": 107,
     "metadata": {},
     "output_type": "execute_result"
    }
   ],
   "source": [
    "level1_cube.frame"
   ]
  },
  {
   "cell_type": "code",
   "execution_count": 44,
   "id": "90ca5f12-0d42-4284-822a-8fc6e1bdcd17",
   "metadata": {},
   "outputs": [],
   "source": [
    "wav0 = 6.1733 * 1.e-7 * u.m"
   ]
  },
  {
   "cell_type": "code",
   "execution_count": 171,
   "id": "059d25b6-df8b-4913-b122-f025c0d028f6",
   "metadata": {},
   "outputs": [],
   "source": [
    "#top_right_skycoord = SkyCoord(Tx= 700* u.arcsec, Ty= 700 * u.arcsec, frame=obs_frame)\n",
    "profile_coords1 = SkyCoord(Tx = 700 * u.arcsec, Ty = 700 * u.arcsec, frame=level1_cube.frame)"
   ]
  },
  {
   "cell_type": "code",
   "execution_count": 190,
   "id": "d46c2225-a9bf-4a25-88f2-2f3553e5686c",
   "metadata": {},
   "outputs": [],
   "source": [
    "profile_coords = SkyCoord(700 * u.arcsec, 700 * u.arcsec)"
   ]
  },
  {
   "cell_type": "code",
   "execution_count": 173,
   "id": "dc9120ad-9dfa-4858-b9dc-293ce7d22982",
   "metadata": {},
   "outputs": [],
   "source": [
    "ll = profile_coords.frame\n",
    "ll1 = profile_coords1.frame"
   ]
  },
  {
   "cell_type": "code",
   "execution_count": 186,
   "id": "afcc3939-5226-4ee1-8351-e844d0b8d5ce",
   "metadata": {},
   "outputs": [
    {
     "data": {
      "text/latex": [
       "$0^\\circ11{}^\\prime40{}^{\\prime\\prime}$"
      ],
      "text/plain": [
       "<Longitude 0.19444444 deg>"
      ]
     },
     "execution_count": 186,
     "metadata": {},
     "output_type": "execute_result"
    }
   ],
   "source": [
    "profile_coords.ra"
   ]
  },
  {
   "cell_type": "code",
   "execution_count": 182,
   "id": "8bede4c8-4197-4917-87a1-1f30f96583af",
   "metadata": {},
   "outputs": [
    {
     "data": {
      "text/latex": [
       "$0^\\circ11{}^\\prime40{}^{\\prime\\prime}$"
      ],
      "text/plain": [
       "<Longitude 0.19444444 deg>"
      ]
     },
     "execution_count": 182,
     "metadata": {},
     "output_type": "execute_result"
    }
   ],
   "source": [
    "ll.ra.to('deg')"
   ]
  },
  {
   "cell_type": "code",
   "execution_count": 4,
   "id": "cf2c733a-71e5-4373-a2b1-680e83f4fba4",
   "metadata": {},
   "outputs": [
    {
     "ename": "NameError",
     "evalue": "name 'profile_coords' is not defined",
     "output_type": "error",
     "traceback": [
      "\u001b[0;31m---------------------------------------------------------------------------\u001b[0m",
      "\u001b[0;31mNameError\u001b[0m                                 Traceback (most recent call last)",
      "\u001b[0;32m<ipython-input-4-3f2a0dfd94b9>\u001b[0m in \u001b[0;36m<module>\u001b[0;34m\u001b[0m\n\u001b[0;32m----> 1\u001b[0;31m \u001b[0mTx\u001b[0m \u001b[0;34m=\u001b[0m \u001b[0mprofile_coords\u001b[0m\u001b[0;34m.\u001b[0m\u001b[0mra\u001b[0m\u001b[0;34m.\u001b[0m\u001b[0mto\u001b[0m\u001b[0;34m(\u001b[0m\u001b[0mlevel1_cube\u001b[0m\u001b[0;34m.\u001b[0m\u001b[0mwcs\u001b[0m\u001b[0;34m.\u001b[0m\u001b[0mworld_axis_units\u001b[0m\u001b[0;34m[\u001b[0m\u001b[0;36m0\u001b[0m\u001b[0;34m]\u001b[0m\u001b[0;34m)\u001b[0m\u001b[0;34m\u001b[0m\u001b[0;34m\u001b[0m\u001b[0m\n\u001b[0m\u001b[1;32m      2\u001b[0m \u001b[0mTy\u001b[0m \u001b[0;34m=\u001b[0m \u001b[0mprofile_coords\u001b[0m\u001b[0;34m.\u001b[0m\u001b[0mdec\u001b[0m\u001b[0;34m.\u001b[0m\u001b[0mto\u001b[0m\u001b[0;34m(\u001b[0m\u001b[0mlevel1_cube\u001b[0m\u001b[0;34m.\u001b[0m\u001b[0mwcs\u001b[0m\u001b[0;34m.\u001b[0m\u001b[0mworld_axis_units\u001b[0m\u001b[0;34m[\u001b[0m\u001b[0;36m1\u001b[0m\u001b[0;34m]\u001b[0m\u001b[0;34m)\u001b[0m\u001b[0;34m\u001b[0m\u001b[0;34m\u001b[0m\u001b[0m\n\u001b[1;32m      3\u001b[0m \u001b[0mprofile_coords2\u001b[0m \u001b[0;34m=\u001b[0m \u001b[0mSkyCoord\u001b[0m\u001b[0;34m(\u001b[0m\u001b[0mTx\u001b[0m \u001b[0;34m=\u001b[0m \u001b[0mTx\u001b[0m\u001b[0;34m,\u001b[0m \u001b[0mTy\u001b[0m \u001b[0;34m=\u001b[0m \u001b[0mTy\u001b[0m\u001b[0;34m,\u001b[0m \u001b[0mframe\u001b[0m \u001b[0;34m=\u001b[0m \u001b[0mlevel1_cube\u001b[0m\u001b[0;34m.\u001b[0m\u001b[0mframe\u001b[0m\u001b[0;34m)\u001b[0m\u001b[0;34m\u001b[0m\u001b[0;34m\u001b[0m\u001b[0m\n",
      "\u001b[0;31mNameError\u001b[0m: name 'profile_coords' is not defined"
     ]
    }
   ],
   "source": [
    "Tx = profile_coords.ra.to(level1_cube.wcs.world_axis_units[0])\n",
    "Ty = profile_coords.dec.to(level1_cube.wcs.world_axis_units[1])\n",
    "profile_coords2 = SkyCoord(Tx = Tx, Ty = Ty, frame = level1_cube.frame)"
   ]
  },
  {
   "cell_type": "code",
   "execution_count": 38,
   "id": "f4119a4f-5593-4f73-a0c7-a5010ffd8d52",
   "metadata": {},
   "outputs": [],
   "source": [
    "Tx = 500 * u.arcsec\n",
    "Ty = 700 * u.arcsec"
   ]
  },
  {
   "cell_type": "code",
   "execution_count": 225,
   "id": "56f6a4be-91b3-40fa-b12f-4a4bd234ffb2",
   "metadata": {},
   "outputs": [
    {
     "data": {
      "text/plain": [
       "True"
      ]
     },
     "execution_count": 225,
     "metadata": {},
     "output_type": "execute_result"
    }
   ],
   "source": [
    "isinstance(Ty, u.Quantity)"
   ]
  },
  {
   "cell_type": "code",
   "execution_count": 6,
   "id": "c95620ef-65e2-4fdd-951c-386eef9ad71f",
   "metadata": {},
   "outputs": [
    {
     "data": {
      "text/plain": [
       "True"
      ]
     },
     "execution_count": 6,
     "metadata": {},
     "output_type": "execute_result"
    }
   ],
   "source": [
    "mm = [Tx, Ty]\n",
    "isinstance(mm, list)"
   ]
  },
  {
   "cell_type": "code",
   "execution_count": 10,
   "id": "3ccea42b-ec8d-4dbd-a5ca-3e1af9a32b1d",
   "metadata": {},
   "outputs": [
    {
     "data": {
      "text/plain": [
       "{'stokes': 'I',\n",
       " 'x0_i': 650,\n",
       " 'y0_i': 663,\n",
       " 'x0': <Longitude 699.84470698 arcsec>,\n",
       " 'y0': <Latitude 699.9840748 arcsec>}"
      ]
     },
     "execution_count": 10,
     "metadata": {},
     "output_type": "execute_result"
    }
   ],
   "source": []
  },
  {
   "cell_type": "code",
   "execution_count": 42,
   "id": "24c0b157-d92a-43ef-9f32-589c3b2abf91",
   "metadata": {},
   "outputs": [
    {
     "data": {
      "text/plain": [
       "<Helioprojective Coordinate (obstime=2016-07-28T23:58:46.600, rsun=696000.0 km, observer=<HeliographicStonyhurst Coordinate (obstime=2016-07-28T23:58:46.600, rsun=696000.0 km): (lon, lat, radius) in (deg, deg, m)\n",
       "    (0.06217846, 5.58266211, 1.51876022e+11)>): (Tx, Ty) in arcsec\n",
       "    (1027.65813226, 1034.34957067)>"
      ]
     },
     "execution_count": 42,
     "metadata": {},
     "output_type": "execute_result"
    }
   ],
   "source": [
    "level1_cube.meta['frame']"
   ]
  },
  {
   "cell_type": "code",
   "execution_count": 43,
   "id": "d339c878-abce-406d-827b-82e5a1b80067",
   "metadata": {},
   "outputs": [
    {
     "name": "stdout",
     "output_type": "stream",
     "text": [
      "{'stokes': 'I', 'x0_i': 1046, 'y0_i': 663, 'x0': <Longitude 500.12884295 arcsec>, 'y0': <Latitude 699.9840748 arcsec>}\n"
     ]
    }
   ],
   "source": [
    "Tx = 500 * u.arcsec\n",
    "Ty = 700 * u.arcsec\n",
    "\n",
    "# Test a simple list\n",
    "#oo = level1_cube.I_profile([Tx, Ty])\n",
    "\n",
    "# Test a coordinate object without a frame.\n",
    "#profile_coords = SkyCoord(Tx, Ty)\n",
    "#oo = level1_cube.I_profile(profile_coords)\n",
    "\n",
    "# Test with SkyCoord object with frame.\n",
    "profile_coords = SkyCoord(Tx=Tx, Ty=Ty, frame=level1_cube.meta['frame'])\n",
    "oo = level1_cube.I_profile(profile_coords)\n",
    "\n",
    "print(oo.meta)"
   ]
  },
  {
   "cell_type": "code",
   "execution_count": 332,
   "id": "4813981a-417a-4cbb-a53d-7855d2a8f782",
   "metadata": {},
   "outputs": [
    {
     "data": {
      "text/plain": [
       "'m'"
      ]
     },
     "execution_count": 332,
     "metadata": {},
     "output_type": "execute_result"
    }
   ],
   "source": [
    "oo.wcs.world_axis_units[0]"
   ]
  },
  {
   "cell_type": "code",
   "execution_count": 341,
   "id": "cdbc555d-8889-4b65-a36f-e026298408d0",
   "metadata": {},
   "outputs": [],
   "source": [
    "a = u.Quantity(1, 'nm')"
   ]
  },
  {
   "cell_type": "code",
   "execution_count": 18,
   "id": "230a1fcf-f849-4363-ac50-e87a26939fcf",
   "metadata": {},
   "outputs": [],
   "source": [
    "tt = u.m"
   ]
  },
  {
   "cell_type": "code",
   "execution_count": 22,
   "id": "94f5b95d-ef9b-434a-9460-2b2e06a589f8",
   "metadata": {},
   "outputs": [
    {
     "data": {
      "text/plain": [
       "'m'"
      ]
     },
     "execution_count": 22,
     "metadata": {},
     "output_type": "execute_result"
    }
   ],
   "source": []
  },
  {
   "cell_type": "code",
   "execution_count": 37,
   "id": "e4ac7ea5-0cf2-4ef5-b025-e94b3707366a",
   "metadata": {},
   "outputs": [
    {
     "data": {
      "application/vnd.jupyter.widget-view+json": {
       "model_id": "a980151b911d4b18b9c5125dab3f5fd6",
       "version_major": 2,
       "version_minor": 0
      },
      "text/plain": [
       "Canvas(toolbar=Toolbar(toolitems=[('Home', 'Reset original view', 'home', 'home'), ('Back', 'Back to previous …"
      ]
     },
     "metadata": {},
     "output_type": "display_data"
    }
   ],
   "source": [
    "%matplotlib widget\n",
    "oo.plot(plot_u=u.nm)"
   ]
  },
  {
   "cell_type": "code",
   "execution_count": 316,
   "id": "f8db21e5-f24e-4c09-8732-40da5b87477c",
   "metadata": {},
   "outputs": [
    {
     "data": {
      "text/latex": [
       "$1 \\; \\mathrm{m}$"
      ],
      "text/plain": [
       "<Quantity 1. m>"
      ]
     },
     "execution_count": 316,
     "metadata": {},
     "output_type": "execute_result"
    }
   ],
   "source": [
    "oo._"
   ]
  },
  {
   "cell_type": "code",
   "execution_count": 24,
   "id": "bcbf6a45-ec19-4510-8658-9c21c4fde467",
   "metadata": {},
   "outputs": [],
   "source": [
    "testing = oo._spectral_axis * u.m"
   ]
  },
  {
   "cell_type": "code",
   "execution_count": 30,
   "id": "d123e1a9-5f4b-448c-b4ce-58283c77eeb8",
   "metadata": {},
   "outputs": [
    {
     "data": {
      "text/plain": [
       "'nm'"
      ]
     },
     "execution_count": 30,
     "metadata": {},
     "output_type": "execute_result"
    }
   ],
   "source": [
    "testing.to('nm')[0].unit.to_string()"
   ]
  },
  {
   "cell_type": "code",
   "execution_count": 325,
   "id": "5143d077-7126-4a7c-963d-0a44b59212d4",
   "metadata": {},
   "outputs": [
    {
     "data": {
      "text/plain": [
       "array([617.3173 , 617.32418, 617.33106, 617.33794, 617.34482, 617.3517 ])"
      ]
     },
     "execution_count": 325,
     "metadata": {},
     "output_type": "execute_result"
    }
   ],
   "source": [
    "testing.to('nm').value"
   ]
  },
  {
   "cell_type": "code",
   "execution_count": null,
   "id": "cde48706-afa6-4627-857a-4613f6424faa",
   "metadata": {},
   "outputs": [],
   "source": [
    "te"
   ]
  },
  {
   "cell_type": "code",
   "execution_count": 268,
   "id": "b96086cc-b8cd-4c38-b833-863889635a2d",
   "metadata": {},
   "outputs": [],
   "source": [
    "mm = oo.meta['x0']"
   ]
  },
  {
   "cell_type": "code",
   "execution_count": 278,
   "id": "b7d11545-cb54-40a8-a542-1dc490112c95",
   "metadata": {},
   "outputs": [
    {
     "data": {
      "text/plain": [
       "(699.8447069823491, 'arcsec')"
      ]
     },
     "execution_count": 278,
     "metadata": {},
     "output_type": "execute_result"
    }
   ],
   "source": [
    "mm.value,mm.unit.to_string()"
   ]
  },
  {
   "cell_type": "code",
   "execution_count": 305,
   "id": "faa9a217-da76-4c58-b6c0-bdf90eeaa11d",
   "metadata": {},
   "outputs": [
    {
     "data": {
      "text/plain": [
       "'699.845arcsec'"
      ]
     },
     "execution_count": 305,
     "metadata": {},
     "output_type": "execute_result"
    }
   ],
   "source": [
    "mm.to_string()"
   ]
  },
  {
   "cell_type": "code",
   "execution_count": 279,
   "id": "a186ebd2-1426-408c-9feb-04f4901f58ce",
   "metadata": {},
   "outputs": [
    {
     "data": {
      "text/plain": [
       "699.8"
      ]
     },
     "execution_count": 279,
     "metadata": {},
     "output_type": "execute_result"
    }
   ],
   "source": [
    "round(mm.value,1)"
   ]
  },
  {
   "cell_type": "code",
   "execution_count": 277,
   "id": "715929d1-cbc2-4d3f-8995-223733c9e4a1",
   "metadata": {},
   "outputs": [
    {
     "data": {
      "text/plain": [
       "'arcsec'"
      ]
     },
     "execution_count": 277,
     "metadata": {},
     "output_type": "execute_result"
    }
   ],
   "source": [
    "mm.unit.to_string()"
   ]
  },
  {
   "cell_type": "code",
   "execution_count": 181,
   "id": "3a443258-8f70-44fc-bf51-31fcf0cea197",
   "metadata": {},
   "outputs": [
    {
     "data": {
      "text/plain": [
       "['deg', 'deg', 'm', '']"
      ]
     },
     "execution_count": 181,
     "metadata": {},
     "output_type": "execute_result"
    }
   ],
   "source": [
    "level1_cube.wcs.world_axis_units"
   ]
  },
  {
   "cell_type": "code",
   "execution_count": 145,
   "id": "d727d4b3-6d59-4c61-a87c-250e03a1ae34",
   "metadata": {},
   "outputs": [
    {
     "name": "stdout",
     "output_type": "stream",
     "text": [
      "yes\n"
     ]
    }
   ],
   "source": [
    "if ll.__class__ is astropy.coordinates.builtin_frames.icrs.ICRS:\n",
    "    print('yes')"
   ]
  },
  {
   "cell_type": "code",
   "execution_count": 112,
   "id": "490c2df6-cd02-48b6-8b6f-f9de6b2ddc22",
   "metadata": {},
   "outputs": [
    {
     "ename": "AttributeError",
     "evalue": "'SlicedLowLevelWCS' object has no attribute 'world_to_array_index'",
     "output_type": "error",
     "traceback": [
      "\u001b[0;31m---------------------------------------------------------------------------\u001b[0m",
      "\u001b[0;31mAttributeError\u001b[0m                            Traceback (most recent call last)",
      "\u001b[0;32m<ipython-input-112-fbb2be15632c>\u001b[0m in \u001b[0;36m<module>\u001b[0;34m\u001b[0m\n\u001b[1;32m      1\u001b[0m \u001b[0;31m#wav = wavelength.to(level1_cube._spectral_slice().world_axis_units[0])\u001b[0m\u001b[0;34m\u001b[0m\u001b[0;34m\u001b[0m\u001b[0m\n\u001b[0;32m----> 2\u001b[0;31m \u001b[0mix\u001b[0m \u001b[0;34m=\u001b[0m \u001b[0mint\u001b[0m\u001b[0;34m(\u001b[0m\u001b[0mlevel1_cube\u001b[0m\u001b[0;34m.\u001b[0m\u001b[0m_spectral_slice\u001b[0m\u001b[0;34m(\u001b[0m\u001b[0;34m)\u001b[0m\u001b[0;34m.\u001b[0m\u001b[0mworld_to_array_index\u001b[0m\u001b[0;34m(\u001b[0m\u001b[0;34m(\u001b[0m\u001b[0mprofile_coords\u001b[0m\u001b[0;34m,\u001b[0m \u001b[0mwav0\u001b[0m\u001b[0;34m,\u001b[0m \u001b[0;36m0\u001b[0m\u001b[0;34m)\u001b[0m\u001b[0;34m)\u001b[0m\u001b[0;34m[\u001b[0m\u001b[0;36m0\u001b[0m\u001b[0;34m]\u001b[0m\u001b[0;34m)\u001b[0m\u001b[0;34m\u001b[0m\u001b[0;34m\u001b[0m\u001b[0m\n\u001b[0m",
      "\u001b[0;31mAttributeError\u001b[0m: 'SlicedLowLevelWCS' object has no attribute 'world_to_array_index'"
     ]
    }
   ],
   "source": [
    "#wav = wavelength.to(level1_cube._spectral_slice().world_axis_units[0])\n",
    "ix = int(level1_cube._spectral_slice().world_to_array_index((profile_coords, wav0, 0))[0])"
   ]
  },
  {
   "cell_type": "code",
   "execution_count": 69,
   "id": "da3ecc88-a71a-487f-8c13-cab384bb8cce",
   "metadata": {},
   "outputs": [],
   "source": [
    "kk = level1_cube.coord1_axis(20)"
   ]
  },
  {
   "cell_type": "code",
   "execution_count": 75,
   "id": "6fab0acd-4786-4b44-a575-97ae81c34ed0",
   "metadata": {},
   "outputs": [
    {
     "data": {
      "text/plain": [
       "array([   0,    1,    2, ..., 4093, 4094, 4095])"
      ]
     },
     "execution_count": 75,
     "metadata": {},
     "output_type": "execute_result"
    }
   ],
   "source": [
    "np.arange(level1_cube.data.shape[2])"
   ]
  },
  {
   "cell_type": "code",
   "execution_count": 91,
   "id": "6c4b0ee3-0fd4-4b37-9be3-6d54e8a51666",
   "metadata": {},
   "outputs": [
    {
     "data": {
      "text/plain": [
       "<astropy.wcs.wcsapi.wrappers.sliced_wcs.SlicedLowLevelWCS object at 0x7f64cfb4b220>\n",
       "SlicedLowLevelWCS Transformation\n",
       "\n",
       "This transformation has 1 pixel and 1 world dimensions\n",
       "\n",
       "Array shape (Numpy order): None\n",
       "\n",
       "Pixel Dim  Axis Name  Data size  Bounds\n",
       "        0  None            None  None\n",
       "\n",
       "World Dim  Axis Name  Physical Type  Units\n",
       "        0  None       em.wl          m\n",
       "\n",
       "Correlation between pixel and world axes:\n",
       "\n",
       "           Pixel Dim\n",
       "World Dim    0\n",
       "        0  yes"
      ]
     },
     "execution_count": 91,
     "metadata": {},
     "output_type": "execute_result"
    }
   ],
   "source": [
    "level1_cube._spectral_slice()"
   ]
  },
  {
   "cell_type": "code",
   "execution_count": 93,
   "id": "0d372cb3-9a44-4810-b695-a13e279da68b",
   "metadata": {},
   "outputs": [
    {
     "data": {
      "text/plain": [
       "array([6.1731730e-07, 6.1732418e-07])"
      ]
     },
     "execution_count": 93,
     "metadata": {},
     "output_type": "execute_result"
    }
   ],
   "source": [
    "level1_cube._spectral_slice().array_index_to_world_values([0, 1])"
   ]
  },
  {
   "cell_type": "code",
   "execution_count": 86,
   "id": "8d4121c2-64a8-466f-8147-5d71878af06e",
   "metadata": {},
   "outputs": [
    {
     "ename": "AttributeError",
     "evalue": "'StokesCube' object has no attribute 'world_to_array_index'",
     "output_type": "error",
     "traceback": [
      "\u001b[0;31m---------------------------------------------------------------------------\u001b[0m",
      "\u001b[0;31mAttributeError\u001b[0m                            Traceback (most recent call last)",
      "\u001b[0;32m<ipython-input-86-2e69925a2bb3>\u001b[0m in \u001b[0;36m<module>\u001b[0;34m\u001b[0m\n\u001b[0;32m----> 1\u001b[0;31m \u001b[0mlevel1_cube\u001b[0m\u001b[0;34m[\u001b[0m\u001b[0;36m0\u001b[0m\u001b[0;34m,\u001b[0m\u001b[0;34m:\u001b[0m\u001b[0;34m,\u001b[0m\u001b[0;36m0\u001b[0m\u001b[0;34m,\u001b[0m\u001b[0;36m0\u001b[0m\u001b[0;34m]\u001b[0m\u001b[0;34m.\u001b[0m\u001b[0mworld_to_array_index\u001b[0m\u001b[0;34m(\u001b[0m\u001b[0;34m[\u001b[0m\u001b[0mwav0\u001b[0m\u001b[0;34m,\u001b[0m\u001b[0mwav0\u001b[0m\u001b[0;34m,\u001b[0m\u001b[0mwav0\u001b[0m\u001b[0;34m]\u001b[0m\u001b[0;34m)\u001b[0m\u001b[0;34m\u001b[0m\u001b[0;34m\u001b[0m\u001b[0m\n\u001b[0m",
      "\u001b[0;31mAttributeError\u001b[0m: 'StokesCube' object has no attribute 'world_to_array_index'"
     ]
    }
   ],
   "source": [
    "level1_cube[0,:,0,0].world_to_array_index([wav0,wav0,wav0])"
   ]
  },
  {
   "cell_type": "code",
   "execution_count": 90,
   "id": "8a6999ca-f194-43b0-80f3-065e527a7eff",
   "metadata": {},
   "outputs": [
    {
     "ename": "ValueError",
     "evalue": "too many values to unpack (expected 3)",
     "output_type": "error",
     "traceback": [
      "\u001b[0;31m---------------------------------------------------------------------------\u001b[0m",
      "\u001b[0;31mValueError\u001b[0m                                Traceback (most recent call last)",
      "\u001b[0;32m<ipython-input-90-4b5b15fe3b54>\u001b[0m in \u001b[0;36m<module>\u001b[0;34m\u001b[0m\n\u001b[0;32m----> 1\u001b[0;31m \u001b[0mlevel1_cube\u001b[0m\u001b[0;34m[\u001b[0m\u001b[0;36m0\u001b[0m\u001b[0;34m,\u001b[0m\u001b[0;34m:\u001b[0m\u001b[0;34m,\u001b[0m\u001b[0;36m0\u001b[0m\u001b[0;34m,\u001b[0m\u001b[0;36m0\u001b[0m\u001b[0;34m]\u001b[0m\u001b[0;34m.\u001b[0m\u001b[0mwcs\u001b[0m\u001b[0;34m.\u001b[0m\u001b[0mworld_to_array_index\u001b[0m\u001b[0;34m(\u001b[0m\u001b[0;34m(\u001b[0m\u001b[0mwav0\u001b[0m\u001b[0;34m,\u001b[0m\u001b[0;34m)\u001b[0m\u001b[0;34m)\u001b[0m\u001b[0;34m\u001b[0m\u001b[0;34m\u001b[0m\u001b[0m\n\u001b[0m",
      "\u001b[0;32m~/anaconda3/envs/stokespy/lib/python3.9/site-packages/astropy/wcs/wcsapi/high_level_api.py\u001b[0m in \u001b[0;36mworld_to_array_index\u001b[0;34m(self, *world_objects)\u001b[0m\n\u001b[1;32m    113\u001b[0m         \"\"\"\n\u001b[1;32m    114\u001b[0m         \u001b[0;32mif\u001b[0m \u001b[0mself\u001b[0m\u001b[0;34m.\u001b[0m\u001b[0mpixel_n_dim\u001b[0m \u001b[0;34m==\u001b[0m \u001b[0;36m1\u001b[0m\u001b[0;34m:\u001b[0m\u001b[0;34m\u001b[0m\u001b[0;34m\u001b[0m\u001b[0m\n\u001b[0;32m--> 115\u001b[0;31m             \u001b[0;32mreturn\u001b[0m \u001b[0m_toindex\u001b[0m\u001b[0;34m(\u001b[0m\u001b[0mself\u001b[0m\u001b[0;34m.\u001b[0m\u001b[0mworld_to_pixel\u001b[0m\u001b[0;34m(\u001b[0m\u001b[0;34m*\u001b[0m\u001b[0mworld_objects\u001b[0m\u001b[0;34m)\u001b[0m\u001b[0;34m)\u001b[0m\u001b[0;34m\u001b[0m\u001b[0;34m\u001b[0m\u001b[0m\n\u001b[0m\u001b[1;32m    116\u001b[0m         \u001b[0;32melse\u001b[0m\u001b[0;34m:\u001b[0m\u001b[0;34m\u001b[0m\u001b[0;34m\u001b[0m\u001b[0m\n\u001b[1;32m    117\u001b[0m             \u001b[0;32mreturn\u001b[0m \u001b[0mtuple\u001b[0m\u001b[0;34m(\u001b[0m\u001b[0m_toindex\u001b[0m\u001b[0;34m(\u001b[0m\u001b[0mself\u001b[0m\u001b[0;34m.\u001b[0m\u001b[0mworld_to_pixel\u001b[0m\u001b[0;34m(\u001b[0m\u001b[0;34m*\u001b[0m\u001b[0mworld_objects\u001b[0m\u001b[0;34m)\u001b[0m\u001b[0;34m[\u001b[0m\u001b[0;34m:\u001b[0m\u001b[0;34m:\u001b[0m\u001b[0;34m-\u001b[0m\u001b[0;36m1\u001b[0m\u001b[0;34m]\u001b[0m\u001b[0;34m)\u001b[0m\u001b[0;34m.\u001b[0m\u001b[0mtolist\u001b[0m\u001b[0;34m(\u001b[0m\u001b[0;34m)\u001b[0m\u001b[0;34m)\u001b[0m\u001b[0;34m\u001b[0m\u001b[0;34m\u001b[0m\u001b[0m\n",
      "\u001b[0;32m~/anaconda3/envs/stokespy/lib/python3.9/site-packages/astropy/wcs/wcsapi/high_level_api.py\u001b[0m in \u001b[0;36mworld_to_pixel\u001b[0;34m(self, *world_objects)\u001b[0m\n\u001b[1;32m    208\u001b[0m                 \u001b[0;32mif\u001b[0m \u001b[0;32mnot\u001b[0m \u001b[0misinstance\u001b[0m\u001b[0;34m(\u001b[0m\u001b[0mw\u001b[0m\u001b[0;34m,\u001b[0m \u001b[0mklass\u001b[0m\u001b[0;34m)\u001b[0m\u001b[0;34m:\u001b[0m\u001b[0;34m\u001b[0m\u001b[0;34m\u001b[0m\u001b[0m\n\u001b[1;32m    209\u001b[0m                     raise ValueError(\"Expected the following order of world \"\n\u001b[0;32m--> 210\u001b[0;31m                                      \"arguments: {}\".format(', '.join([k.__name__ for (k, _, _) in classes.values()])))\n\u001b[0m\u001b[1;32m    211\u001b[0m \u001b[0;34m\u001b[0m\u001b[0m\n\u001b[1;32m    212\u001b[0m                 \u001b[0;31m# FIXME: For now SkyCoord won't auto-convert upon initialization\u001b[0m\u001b[0;34m\u001b[0m\u001b[0;34m\u001b[0m\u001b[0m\n",
      "\u001b[0;32m~/anaconda3/envs/stokespy/lib/python3.9/site-packages/astropy/wcs/wcsapi/high_level_api.py\u001b[0m in \u001b[0;36m<listcomp>\u001b[0;34m(.0)\u001b[0m\n\u001b[1;32m    208\u001b[0m                 \u001b[0;32mif\u001b[0m \u001b[0;32mnot\u001b[0m \u001b[0misinstance\u001b[0m\u001b[0;34m(\u001b[0m\u001b[0mw\u001b[0m\u001b[0;34m,\u001b[0m \u001b[0mklass\u001b[0m\u001b[0;34m)\u001b[0m\u001b[0;34m:\u001b[0m\u001b[0;34m\u001b[0m\u001b[0;34m\u001b[0m\u001b[0m\n\u001b[1;32m    209\u001b[0m                     raise ValueError(\"Expected the following order of world \"\n\u001b[0;32m--> 210\u001b[0;31m                                      \"arguments: {}\".format(', '.join([k.__name__ for (k, _, _) in classes.values()])))\n\u001b[0m\u001b[1;32m    211\u001b[0m \u001b[0;34m\u001b[0m\u001b[0m\n\u001b[1;32m    212\u001b[0m                 \u001b[0;31m# FIXME: For now SkyCoord won't auto-convert upon initialization\u001b[0m\u001b[0;34m\u001b[0m\u001b[0;34m\u001b[0m\u001b[0m\n",
      "\u001b[0;31mValueError\u001b[0m: too many values to unpack (expected 3)"
     ]
    }
   ],
   "source": [
    "level1_cube[0,:,0,0].wcs.world_to_array_index((wav0,))"
   ]
  },
  {
   "cell_type": "code",
   "execution_count": 77,
   "id": "0ce8109d-d6f3-4e66-8fbb-59b48e16ed12",
   "metadata": {},
   "outputs": [
    {
     "data": {
      "text/plain": [
       "<astropy.wcs.wcsapi.wrappers.sliced_wcs.SlicedLowLevelWCS object at 0x7f64cfab46d0>\n",
       "SlicedLowLevelWCS Transformation\n",
       "\n",
       "This transformation has 1 pixel and 1 world dimensions\n",
       "\n",
       "Array shape (Numpy order): None\n",
       "\n",
       "Pixel Dim  Axis Name  Data size  Bounds\n",
       "        0  None            None  None\n",
       "\n",
       "World Dim  Axis Name  Physical Type  Units\n",
       "        0  None       em.wl          m\n",
       "\n",
       "Correlation between pixel and world axes:\n",
       "\n",
       "           Pixel Dim\n",
       "World Dim    0\n",
       "        0  yes"
      ]
     },
     "execution_count": 77,
     "metadata": {},
     "output_type": "execute_result"
    }
   ],
   "source": [
    "level1_cube._spectral_slice()"
   ]
  },
  {
   "cell_type": "code",
   "execution_count": 215,
   "id": "2a5b240a-9d40-4ec5-9ea3-6242bf8bf29a",
   "metadata": {},
   "outputs": [
    {
     "name": "stdout",
     "output_type": "stream",
     "text": [
      "ix_0, wav0 =  2 6.1733106e-07\n"
     ]
    }
   ],
   "source": [
    "# Test the image maps.\n",
    "wav0 = 6.1733 * 1.e-7 * u.m\n",
    "wav1 = 6.17345 * 1.e-7 * u.m\n",
    "tt = level1_cube.I_map(wav0, stop_wavelength=None)"
   ]
  },
  {
   "cell_type": "code",
   "execution_count": 197,
   "id": "6c401dac-080c-49cb-9647-d1dbfd248126",
   "metadata": {},
   "outputs": [
    {
     "data": {
      "text/plain": [
       "(663, 650)"
      ]
     },
     "execution_count": 197,
     "metadata": {},
     "output_type": "execute_result"
    }
   ],
   "source": [
    "tt.wcs.world_to_array_index(profile_coords2)"
   ]
  },
  {
   "cell_type": "code",
   "execution_count": 202,
   "id": "6a28d78f-027e-4b0e-8aa3-74b46d97ad85",
   "metadata": {},
   "outputs": [
    {
     "data": {
      "text/plain": [
       "['deg', 'deg', 'm', '']"
      ]
     },
     "execution_count": 202,
     "metadata": {},
     "output_type": "execute_result"
    }
   ],
   "source": [
    "level1_cube[0,0,]"
   ]
  },
  {
   "cell_type": "code",
   "execution_count": null,
   "id": "e1f215db-7c2e-4fd9-a5f3-75746c4c663c",
   "metadata": {},
   "outputs": [],
   "source": []
  },
  {
   "cell_type": "code",
   "execution_count": 209,
   "id": "1b71df00-10ae-4135-8694-94c1a9207b13",
   "metadata": {},
   "outputs": [
    {
     "name": "stdout",
     "output_type": "stream",
     "text": [
      "6.173173e-07 m\n"
     ]
    }
   ],
   "source": [
    "wav0 = (level1_cube._spectral_axis[0] * u.m).to(level1_cube.wcs.world_axis_units[2])\n",
    "print(wav0)"
   ]
  },
  {
   "cell_type": "code",
   "execution_count": 210,
   "id": "e08ee945-a618-4917-878e-12dd780e32f2",
   "metadata": {},
   "outputs": [
    {
     "name": "stdout",
     "output_type": "stream",
     "text": [
      "ix_0, wav0 =  0 6.173173e-07\n"
     ]
    }
   ],
   "source": [
    "tt = level1_cube.I_map(wav0, stop_wavelength=None)"
   ]
  },
  {
   "cell_type": "code",
   "execution_count": 207,
   "id": "70583a6c-5788-442f-a725-60bf066f7d32",
   "metadata": {},
   "outputs": [
    {
     "ename": "TypeError",
     "evalue": "'module' object is not callable",
     "output_type": "error",
     "traceback": [
      "\u001b[0;31m---------------------------------------------------------------------------\u001b[0m",
      "\u001b[0;31mTypeError\u001b[0m                                 Traceback (most recent call last)",
      "\u001b[0;32m<ipython-input-207-df036f74cbf8>\u001b[0m in \u001b[0;36m<module>\u001b[0;34m\u001b[0m\n\u001b[0;32m----> 1\u001b[0;31m \u001b[0mu\u001b[0m\u001b[0;34m.\u001b[0m\u001b[0mquantity\u001b[0m\u001b[0;34m(\u001b[0m\u001b[0;36m10\u001b[0m\u001b[0;34m,\u001b[0m\u001b[0mu\u001b[0m\u001b[0;34m.\u001b[0m\u001b[0mm\u001b[0m\u001b[0;34m)\u001b[0m\u001b[0;34m\u001b[0m\u001b[0;34m\u001b[0m\u001b[0m\n\u001b[0m",
      "\u001b[0;31mTypeError\u001b[0m: 'module' object is not callable"
     ]
    }
   ],
   "source": []
  },
  {
   "cell_type": "code",
   "execution_count": 201,
   "id": "82b24075-0605-4742-a541-f045e75cdcd5",
   "metadata": {},
   "outputs": [
    {
     "name": "stderr",
     "output_type": "stream",
     "text": [
      "WARNING: No observer defined on WCS, SpectralCoord will be converted without any velocity frame change [astropy.wcs.wcsapi.fitswcs]\n"
     ]
    },
    {
     "data": {
      "text/plain": [
       "(2, 663, 650)"
      ]
     },
     "execution_count": 201,
     "metadata": {},
     "output_type": "execute_result"
    }
   ],
   "source": [
    "level1_cube.I.wcs.world_to_array_index(profile_coords2, wav0)"
   ]
  },
  {
   "cell_type": "code",
   "execution_count": 216,
   "id": "1fadca84-19a3-4635-a4a3-53aa3f8ca43c",
   "metadata": {},
   "outputs": [],
   "source": [
    "tt = level1_cube.I"
   ]
  },
  {
   "cell_type": "code",
   "execution_count": 221,
   "id": "fa585daf-0699-4328-9298-414657e4da9b",
   "metadata": {},
   "outputs": [
    {
     "data": {
      "text/plain": [
       "(663, 650)"
      ]
     },
     "execution_count": 221,
     "metadata": {},
     "output_type": "execute_result"
    }
   ],
   "source": [
    "tt.wcs.world_to_array_index(profile_coords2, wav0)[1:3]"
   ]
  },
  {
   "cell_type": "code",
   "execution_count": 96,
   "id": "cc692077-a23a-4b14-a1f7-991690da5fad",
   "metadata": {},
   "outputs": [
    {
     "data": {
      "text/plain": [
       "<astropy.wcs.wcsapi.high_level_wcs_wrapper.HighLevelWCSWrapper object at 0x7f64cfa12d00>\n",
       "SlicedLowLevelWCS Transformation\n",
       "\n",
       "This transformation has 2 pixel and 2 world dimensions\n",
       "\n",
       "Array shape (Numpy order): None\n",
       "\n",
       "Pixel Dim  Axis Name  Data size  Bounds\n",
       "        0  None            None  None\n",
       "        1  None            None  None\n",
       "\n",
       "World Dim  Axis Name  Physical Type                   Units\n",
       "        0  None       custom:pos.helioprojective.lon  deg\n",
       "        1  None       custom:pos.helioprojective.lat  deg\n",
       "\n",
       "Correlation between pixel and world axes:\n",
       "\n",
       "           Pixel Dim\n",
       "World Dim    0    1\n",
       "        0  yes  yes\n",
       "        1  yes  yes"
      ]
     },
     "execution_count": 96,
     "metadata": {},
     "output_type": "execute_result"
    }
   ],
   "source": [
    "tt.wcs"
   ]
  },
  {
   "cell_type": "code",
   "execution_count": 129,
   "id": "26537052-9ae4-4331-aef9-981a162a1bc5",
   "metadata": {},
   "outputs": [
    {
     "data": {
      "text/plain": [
       "(array([663, 663]), array([650, 650]))"
      ]
     },
     "execution_count": 129,
     "metadata": {},
     "output_type": "execute_result"
    }
   ],
   "source": [
    "tt.wcs.low_level_wcs.world_to_array_index_values([profile_coords.Tx.to(u.deg).value, profile_coords.Tx.to(u.deg).value], \\\n",
    "                                                 [profile_coords.Ty.to(u.deg).value, profile_coords.Ty.to(u.deg).value])"
   ]
  },
  {
   "cell_type": "code",
   "execution_count": 121,
   "id": "3928803c-f1ee-43e6-997c-cb0520d67612",
   "metadata": {},
   "outputs": [
    {
     "data": {
      "text/plain": [
       "['deg', 'deg']"
      ]
     },
     "execution_count": 121,
     "metadata": {},
     "output_type": "execute_result"
    }
   ],
   "source": [
    "tt.wcs.world_axis_units"
   ]
  },
  {
   "cell_type": "code",
   "execution_count": 126,
   "id": "22100658-4826-42c4-b9b4-4d77caa1bf16",
   "metadata": {},
   "outputs": [
    {
     "data": {
      "text/plain": [
       "0.19444444444444445"
      ]
     },
     "execution_count": 126,
     "metadata": {},
     "output_type": "execute_result"
    }
   ],
   "source": [
    "profile_coords.Tx.to(u.deg).value"
   ]
  },
  {
   "cell_type": "code",
   "execution_count": null,
   "id": "f53ad612-9e3c-43ba-8d54-9e25ad2f138c",
   "metadata": {},
   "outputs": [],
   "source": []
  },
  {
   "cell_type": "code",
   "execution_count": 56,
   "id": "9a2e1f78-9873-4f23-844f-de209e44359c",
   "metadata": {},
   "outputs": [
    {
     "data": {
      "text/plain": [
       "{'celestial': (astropy.coordinates.sky_coordinate.SkyCoord,\n",
       "  (),\n",
       "  {'frame': <Helioprojective Frame (obstime=2016-07-28T23:58:46.600, rsun=696000.0 km, observer=<HeliographicStonyhurst Coordinate (obstime=2016-07-28T23:58:46.600, rsun=696000.0 km): (lon, lat, radius) in (deg, deg, m)\n",
       "       (0.06217846, 5.58266211, 1.51876022e+11)>)>,\n",
       "   'unit': Unit(\"deg\")}),\n",
       " 'spectral': (astropy.units.quantity.Quantity,\n",
       "  (),\n",
       "  {},\n",
       "  <function astropy.wcs.wcsapi.fitswcs.FITSWCSAPIMixin._get_components_and_classes.<locals>.spectralcoord_from_value(value)>)}"
      ]
     },
     "execution_count": 56,
     "metadata": {},
     "output_type": "execute_result"
    }
   ],
   "source": [
    "tt.wcs.low_level_wcs.world_axis_object_classes"
   ]
  },
  {
   "cell_type": "code",
   "execution_count": null,
   "id": "d9c33b4b-064d-40fc-beb1-5f8ddfaef397",
   "metadata": {},
   "outputs": [],
   "source": []
  },
  {
   "cell_type": "code",
   "execution_count": 20,
   "id": "66b55a7c-1689-4bbb-aa4f-1b7f00677a66",
   "metadata": {},
   "outputs": [
    {
     "data": {
      "text/plain": [
       "\u001b[0;31mSignature:\u001b[0m \u001b[0mlevel1_cube\u001b[0m\u001b[0;34m.\u001b[0m\u001b[0mwcs\u001b[0m\u001b[0;34m.\u001b[0m\u001b[0mworld_to_array_index\u001b[0m\u001b[0;34m(\u001b[0m\u001b[0;34m*\u001b[0m\u001b[0mworld_objects\u001b[0m\u001b[0;34m)\u001b[0m\u001b[0;34m\u001b[0m\u001b[0;34m\u001b[0m\u001b[0m\n",
       "\u001b[0;31mDocstring:\u001b[0m\n",
       "Convert world coordinates (represented by Astropy objects) to array\n",
       "indices.\n",
       "\n",
       "If `~astropy.wcs.wcsapi.BaseLowLevelWCS.pixel_n_dim` is ``1``, this\n",
       "method returns a single scalar or array, otherwise a tuple of scalars or\n",
       "arrays is returned. See\n",
       "`~astropy.wcs.wcsapi.BaseLowLevelWCS.world_to_array_index_values` for\n",
       "pixel indexing and ordering conventions. The indices should be returned\n",
       "as rounded integers.\n",
       "\u001b[0;31mFile:\u001b[0m      ~/anaconda3/envs/stokespy/lib/python3.9/site-packages/astropy/wcs/wcsapi/high_level_api.py\n",
       "\u001b[0;31mType:\u001b[0m      method\n"
      ]
     },
     "metadata": {},
     "output_type": "display_data"
    }
   ],
   "source": [
    "level1_cube.wcs.world_to_array_index?"
   ]
  },
  {
   "cell_type": "code",
   "execution_count": 9,
   "id": "c72af0bc-f40e-4df9-9abb-2680b59da5f6",
   "metadata": {},
   "outputs": [
    {
     "data": {
      "text/plain": [
       "WCS Keywords\n",
       "\n",
       "Number of WCS axes: 4\n",
       "CTYPE : 'HPLN-TAN'  'HPLT-TAN'  'WAVE'  'STOKES'  \n",
       "CRVAL : 0.0  0.0  6.173345e-07  0.0  \n",
       "CRPIX : 2039.1423339844  2051.4689941406  3.5  0.0  \n",
       "PC1_1 PC1_2 PC1_3 PC1_4  : -0.99999997203655  0.00023648870259451  0.0  0.0  \n",
       "PC2_1 PC2_2 PC2_3 PC2_4  : -0.00023648870259451  -0.99999997203655  0.0  0.0  \n",
       "PC3_1 PC3_2 PC3_3 PC3_4  : 0.0  0.0  1.0  0.0  \n",
       "PC4_1 PC4_2 PC4_3 PC4_4  : 0.0  0.0  0.0  1.0  \n",
       "CDELT : 0.00014009369744195  0.00014009369744195  6.88e-12  1.0  \n",
       "NAXIS : 0  0"
      ]
     },
     "execution_count": 9,
     "metadata": {},
     "output_type": "execute_result"
    }
   ],
   "source": [
    "level1_cube.wcs.world_to_array_index_values(())"
   ]
  },
  {
   "cell_type": "markdown",
   "id": "28e2f429-73c7-415c-af28-786474960b80",
   "metadata": {},
   "source": [
    "## Test converting the original WCS into a wrapper"
   ]
  },
  {
   "cell_type": "code",
   "execution_count": 9,
   "id": "f2f5a04d-85d7-4d4d-a6dc-3e76e9da2992",
   "metadata": {},
   "outputs": [
    {
     "name": "stdout",
     "output_type": "stream",
     "text": [
      "<class 'astropy.wcs.wcs.WCS'>\n",
      "<class 'astropy.wcs.wcsapi.wrappers.sliced_wcs.SlicedLowLevelWCS'>\n"
     ]
    }
   ],
   "source": [
    "# Original WCS object\n",
    "owcs = level1_ndcube.wcs\n",
    "\n",
    "# Cropped cube WCS object\n",
    "cwcs = cropped_cube.wcs\n",
    "\n",
    "print(owcs.low_level_wcs.__class__)\n",
    "print(cwcs.low_level_wcs.__class__)"
   ]
  },
  {
   "cell_type": "code",
   "execution_count": 10,
   "id": "1d0a52bb-bf01-400f-9851-e6e808a00f31",
   "metadata": {},
   "outputs": [],
   "source": [
    "# Wrapped WCS of the original\n",
    "wwcs = astropy.wcs.wcsapi.high_level_wcs_wrapper.HighLevelWCSWrapper(owcs) "
   ]
  },
  {
   "cell_type": "code",
   "execution_count": 13,
   "id": "1fb89f67-472a-4ed6-bf5c-51b41b26c402",
   "metadata": {},
   "outputs": [],
   "source": [
    "# Create a new cube that uses the wrapped WCS\n",
    "wlevel1_ndcube = ndcube.NDCube(level1_data, wcs=wwcs)"
   ]
  },
  {
   "cell_type": "code",
   "execution_count": 14,
   "id": "a7c77784-7295-457e-98eb-ed49a91a1b82",
   "metadata": {},
   "outputs": [],
   "source": [
    "wcropped_cube = wlevel1_ndcube.crop((bottom_left_skycoord,wav0,None), \n",
    "                                  (top_right_skycoord,wav1,None))"
   ]
  },
  {
   "cell_type": "code",
   "execution_count": 15,
   "id": "fb8b02ba-1bc3-44e1-bd8b-8bff06ef58cb",
   "metadata": {},
   "outputs": [
    {
     "name": "stdout",
     "output_type": "stream",
     "text": [
      "<class 'astropy.wcs.wcs.WCS'>\n",
      "<class 'astropy.wcs.wcsapi.wrappers.sliced_wcs.SlicedLowLevelWCS'>\n"
     ]
    }
   ],
   "source": [
    "print(wlevel1_ndcube.wcs.low_level_wcs.__class__)\n",
    "print(wcropped_cube.wcs.low_level_wcs.__class__)"
   ]
  },
  {
   "cell_type": "code",
   "execution_count": 54,
   "id": "89244b6f-0647-41ca-a49b-eca580f75ee9",
   "metadata": {},
   "outputs": [
    {
     "name": "stdout",
     "output_type": "stream",
     "text": [
      "<class 'astropy.wcs.wcs.WCS'>\n",
      "<class 'astropy.wcs.wcsapi.wrappers.sliced_wcs.SlicedLowLevelWCS'>\n",
      "<class 'astropy.wcs.wcs.WCS'>\n"
     ]
    }
   ],
   "source": [
    "print(owcs.low_level_wcs.__class__)\n",
    "print(cwcs.low_level_wcs.__class__)"
   ]
  },
  {
   "cell_type": "code",
   "execution_count": 13,
   "id": "d0a64694-cde8-46d6-8281-8f8e6154d985",
   "metadata": {},
   "outputs": [
    {
     "data": {
      "text/plain": [
       "\u001b[0;31mSignature:\u001b[0m \u001b[0mowcs\u001b[0m\u001b[0;34m.\u001b[0m\u001b[0mlow_level_wcs\u001b[0m\u001b[0;34m.\u001b[0m\u001b[0mpixel_to_world\u001b[0m\u001b[0;34m(\u001b[0m\u001b[0;34m*\u001b[0m\u001b[0mpixel_arrays\u001b[0m\u001b[0;34m)\u001b[0m\u001b[0;34m\u001b[0m\u001b[0;34m\u001b[0m\u001b[0m\n",
       "\u001b[0;31mDocstring:\u001b[0m\n",
       "Convert pixel coordinates to world coordinates (represented by\n",
       "high-level objects).\n",
       "\n",
       "If a single high-level object is used to represent the world coordinates\n",
       "(i.e., if ``len(wcs.world_axis_object_classes) == 1``), it is returned\n",
       "as-is (not in a tuple/list), otherwise a tuple of high-level objects is\n",
       "returned. See\n",
       "`~astropy.wcs.wcsapi.BaseLowLevelWCS.pixel_to_world_values` for pixel\n",
       "indexing and ordering conventions.\n",
       "\u001b[0;31mFile:\u001b[0m      ~/anaconda3/envs/stokespy/lib/python3.9/site-packages/astropy/wcs/wcsapi/high_level_api.py\n",
       "\u001b[0;31mType:\u001b[0m      method\n"
      ]
     },
     "metadata": {},
     "output_type": "display_data"
    }
   ],
   "source": [
    "owcs.low_level_wcs.pixel_to_world?"
   ]
  },
  {
   "cell_type": "code",
   "execution_count": null,
   "id": "c81ddaca-f4b7-4577-b1d6-5ae96fbce499",
   "metadata": {},
   "outputs": [],
   "source": []
  },
  {
   "cell_type": "code",
   "execution_count": 20,
   "id": "4da32d99-e727-4d98-9a55-ecf4a9828666",
   "metadata": {},
   "outputs": [
    {
     "data": {
      "text/plain": [
       "3"
      ]
     },
     "execution_count": 20,
     "metadata": {},
     "output_type": "execute_result"
    }
   ],
   "source": [
    "len(owcs.low_level_wcs.world_axis_object_classes)"
   ]
  },
  {
   "cell_type": "code",
   "execution_count": 26,
   "id": "d855f9ab-f317-48c2-90b8-fa3d65263317",
   "metadata": {},
   "outputs": [
    {
     "data": {
      "text/plain": [
       "dict_keys(['celestial', 'spectral', 'stokes'])"
      ]
     },
     "execution_count": 26,
     "metadata": {},
     "output_type": "execute_result"
    }
   ],
   "source": [
    "owcs.low_level_wcs.world_axis_object_classes.keys()"
   ]
  },
  {
   "cell_type": "code",
   "execution_count": 32,
   "id": "8a5682e8-c486-4826-8374-ce1bfd29907d",
   "metadata": {},
   "outputs": [
    {
     "data": {
      "text/plain": [
       "4"
      ]
     },
     "execution_count": 32,
     "metadata": {},
     "output_type": "execute_result"
    }
   ],
   "source": [
    "cwcs.low_level_wcs.pixel_n_dim"
   ]
  },
  {
   "cell_type": "code",
   "execution_count": 64,
   "id": "69c11021-8edc-4ab8-8c1c-6d6a597424e3",
   "metadata": {},
   "outputs": [
    {
     "name": "stdout",
     "output_type": "stream",
     "text": [
      "(array([2.85460592e-01, 2.87319325e-01, 6.17317300e-07, 1.00000000e+00]),)\n"
     ]
    }
   ],
   "source": [
    "kk = owcs.low_level_wcs.pixel_to_world_values(([0,0,0,0],))\n",
    "print(kk)"
   ]
  },
  {
   "cell_type": "code",
   "execution_count": 71,
   "id": "c0208bed-2378-4bd1-b0ca-744cf0fce9fb",
   "metadata": {},
   "outputs": [
    {
     "name": "stdout",
     "output_type": "stream",
     "text": [
      "(array([2.85460592e-01, 2.87319325e-01, 6.17330000e-07, 1.00000000e+00]),)\n"
     ]
    }
   ],
   "source": [
    "wav1 = 6.1733 * 1.e-7 * u.m\n",
    "kk[0][2] = wav1.value\n",
    "print(kk)"
   ]
  },
  {
   "cell_type": "code",
   "execution_count": 101,
   "id": "4a5a6775-9116-464e-9305-42158f3cc58d",
   "metadata": {},
   "outputs": [
    {
     "name": "stdout",
     "output_type": "stream",
     "text": [
      "WCS Keywords\n",
      "\n",
      "Number of WCS axes: 3\n",
      "CTYPE : 'HPLN-TAN'  'HPLT-TAN'  'WAVE'  \n",
      "CRVAL : 0.0  0.0  6.173345e-07  \n",
      "CRPIX : 2039.1423339844  2051.4689941406  3.5  \n",
      "PC1_1 PC1_2 PC1_3  : -0.99999997203655  0.00023648870259451  0.0  \n",
      "PC2_1 PC2_2 PC2_3  : -0.00023648870259451  -0.99999997203655  0.0  \n",
      "PC3_1 PC3_2 PC3_3  : 0.0  0.0  1.0  \n",
      "CDELT : 0.00014009369744195  0.00014009369744195  6.88e-12  \n",
      "NAXIS : 0  0\n",
      "SlicedLowLevelWCS Transformation\n",
      "\n",
      "This transformation has 2 pixel and 2 world dimensions\n",
      "\n",
      "Array shape (Numpy order): None\n",
      "\n",
      "Pixel Dim  Axis Name  Data size  Bounds\n",
      "        0  None            None  None\n",
      "        1  None            None  None\n",
      "\n",
      "World Dim  Axis Name  Physical Type                   Units\n",
      "        0  None       custom:pos.helioprojective.lon  deg\n",
      "        1  None       custom:pos.helioprojective.lat  deg\n",
      "\n",
      "Correlation between pixel and world axes:\n",
      "\n",
      "           Pixel Dim\n",
      "World Dim    0    1\n",
      "        0  yes  yes\n",
      "        1  yes  yes\n"
     ]
    }
   ],
   "source": [
    "wav1 = 6.1733 * 1.e-7 * u.m\n",
    "test_map = level1_cube.I_map(wav1)\n"
   ]
  },
  {
   "cell_type": "code",
   "execution_count": 141,
   "id": "1c84f267-d3f1-4fcb-a7db-caa79db2933b",
   "metadata": {},
   "outputs": [
    {
     "data": {
      "text/plain": [
       "4"
      ]
     },
     "execution_count": 141,
     "metadata": {},
     "output_type": "execute_result"
    }
   ],
   "source": [
    "wwcs.pixel_n_dim"
   ]
  },
  {
   "cell_type": "code",
   "execution_count": 117,
   "id": "c662bd2c-8af8-49a9-83f4-94c60f160460",
   "metadata": {},
   "outputs": [
    {
     "data": {
      "text/plain": [
       "dict_keys(['world_axis_object_classes', 'value', 'world_axis_names', 'world_axis_physical_types', 'world_axis_units', 'world_axis_object_components', 'serialized_classes'])"
      ]
     },
     "execution_count": 117,
     "metadata": {},
     "output_type": "execute_result"
    }
   ],
   "source": [
    "test_map.wcs.low_level_wcs.dropped_world_dimensions.keys()"
   ]
  },
  {
   "cell_type": "code",
   "execution_count": 119,
   "id": "45aefa1f-998c-4261-8fb7-78ef51528e39",
   "metadata": {},
   "outputs": [],
   "source": [
    "from astropy.wcs.wcsapi import SlicedLowLevelWCS"
   ]
  },
  {
   "cell_type": "code",
   "execution_count": 138,
   "id": "788bbeb5-040c-4316-87d5-6d520962a6c8",
   "metadata": {},
   "outputs": [],
   "source": [
    "kkk = SlicedLowLevelWCS(wwcs.low_level_wcs, wcs_slice)"
   ]
  },
  {
   "cell_type": "code",
   "execution_count": 139,
   "id": "7b27ab0f-35b1-4ad5-85d0-bca463306d5b",
   "metadata": {},
   "outputs": [
    {
     "data": {
      "text/plain": [
       "astropy.wcs.wcsapi.wrappers.sliced_wcs.SlicedLowLevelWCS"
      ]
     },
     "execution_count": 139,
     "metadata": {},
     "output_type": "execute_result"
    }
   ],
   "source": [
    "kkk.__class__"
   ]
  },
  {
   "cell_type": "code",
   "execution_count": 140,
   "id": "61939df0-c0e1-43ed-bf57-c2562e88a969",
   "metadata": {},
   "outputs": [
    {
     "data": {
      "text/plain": [
       "array(1.84593023)"
      ]
     },
     "execution_count": 140,
     "metadata": {},
     "output_type": "execute_result"
    }
   ],
   "source": [
    "kkk.world_to_pixel_values(wav1)"
   ]
  },
  {
   "cell_type": "code",
   "execution_count": 149,
   "id": "33a3ced5-5040-4b6e-9a0c-7282fc619b26",
   "metadata": {},
   "outputs": [
    {
     "data": {
      "text/plain": [
       "array(1.84593023)"
      ]
     },
     "execution_count": 149,
     "metadata": {},
     "output_type": "execute_result"
    }
   ],
   "source": [
    "level1_cube._spectral_slice().world_to_pixel_values(wav1)"
   ]
  },
  {
   "cell_type": "code",
   "execution_count": 143,
   "id": "255e5034-85dc-401c-a329-c587e395e33a",
   "metadata": {},
   "outputs": [
    {
     "data": {
      "text/plain": [
       "\u001b[0;31mSignature:\u001b[0m \u001b[0mkkk\u001b[0m\u001b[0;34m.\u001b[0m\u001b[0marray_index_to_world_values\u001b[0m\u001b[0;34m(\u001b[0m\u001b[0;34m*\u001b[0m\u001b[0mindex_arrays\u001b[0m\u001b[0;34m)\u001b[0m\u001b[0;34m\u001b[0m\u001b[0;34m\u001b[0m\u001b[0m\n",
       "\u001b[0;31mDocstring:\u001b[0m\n",
       "Convert array indices to world coordinates.\n",
       "\n",
       "This is the same as `~astropy.wcs.wcsapi.BaseLowLevelWCS.pixel_to_world_values` except that\n",
       "the indices should be given in ``(i, j)`` order, where for an image\n",
       "``i`` is the row and ``j`` is the column (i.e. the opposite order to\n",
       "`~astropy.wcs.wcsapi.BaseLowLevelWCS.pixel_to_world_values`).\n",
       "\n",
       "If `~astropy.wcs.wcsapi.BaseLowLevelWCS.world_n_dim` is ``1``, this\n",
       "method returns a single scalar or array, otherwise a tuple of scalars or\n",
       "arrays is returned.\n",
       "\u001b[0;31mFile:\u001b[0m      ~/anaconda3/envs/stokespy/lib/python3.9/site-packages/astropy/wcs/wcsapi/low_level_api.py\n",
       "\u001b[0;31mType:\u001b[0m      method\n"
      ]
     },
     "metadata": {},
     "output_type": "display_data"
    }
   ],
   "source": [
    "kkk.array_index_to_world_values?"
   ]
  },
  {
   "cell_type": "code",
   "execution_count": 123,
   "id": "cbd4a2a1-34ff-41b0-954c-9abca499440e",
   "metadata": {},
   "outputs": [],
   "source": [
    "n_spectral = level1_cube.data.shape[1]"
   ]
  },
  {
   "cell_type": "code",
   "execution_count": 125,
   "id": "e0aea92e-6fad-4b6c-8d7d-e886a4bf54d9",
   "metadata": {},
   "outputs": [
    {
     "data": {
      "text/plain": [
       "4"
      ]
     },
     "execution_count": 125,
     "metadata": {},
     "output_type": "execute_result"
    }
   ],
   "source": [
    "level1_cube.wcs.pixel_n_dim"
   ]
  },
  {
   "cell_type": "code",
   "execution_count": 126,
   "id": "75ae0aca-79fc-4b8e-9357-8a50e3fb0c88",
   "metadata": {},
   "outputs": [],
   "source": [
    "wcs_slice = [0] * level1_cube.wcs.pixel_n_dim\n",
    "wcs_slice[1] = slice(0, n_spectral)\n",
    "#wcs_slice = self.wcs.slice(wcs_slice)"
   ]
  },
  {
   "cell_type": "code",
   "execution_count": 127,
   "id": "64c1156b-c1b5-4843-a487-183a191a6bed",
   "metadata": {},
   "outputs": [
    {
     "data": {
      "text/plain": [
       "[0, slice(0, 6, None), 0, 0]"
      ]
     },
     "execution_count": 127,
     "metadata": {},
     "output_type": "execute_result"
    }
   ],
   "source": [
    "wcs_slice"
   ]
  },
  {
   "cell_type": "code",
   "execution_count": 84,
   "id": "41dfa8f6-bc5f-4f53-be30-0426a629542a",
   "metadata": {},
   "outputs": [
    {
     "name": "stdout",
     "output_type": "stream",
     "text": [
      "2\n",
      "WCS Keywords\n",
      "\n",
      "Number of WCS axes: 3\n",
      "CTYPE : 'HPLN-TAN'  'HPLT-TAN'  'WAVE'  \n",
      "CRVAL : 0.0  0.0  6.173345e-07  \n",
      "CRPIX : 2039.1423339844  2051.4689941406  3.5  \n",
      "PC1_1 PC1_2 PC1_3  : -0.99999997203655  0.00023648870259451  0.0  \n",
      "PC2_1 PC2_2 PC2_3  : -0.00023648870259451  -0.99999997203655  0.0  \n",
      "PC3_1 PC3_2 PC3_3  : 0.0  0.0  1.0  \n",
      "CDELT : 0.00014009369744195  0.00014009369744195  6.88e-12  \n",
      "NAXIS : 0  0\n"
     ]
    }
   ],
   "source": [
    "# Find the desired wavelength index\n",
    "pixel = owcs.low_level_wcs.world_to_pixel_values(kk)[0]\n",
    "print(round(pixel[2]))\n",
    "newcube = level1_cube._stokes_slice(0)"
   ]
  },
  {
   "cell_type": "code",
   "execution_count": null,
   "id": "214561ff-5a98-4659-83ce-4e8df97065fc",
   "metadata": {},
   "outputs": [],
   "source": [
    "newcube.wcs.pixrl"
   ]
  },
  {
   "cell_type": "code",
   "execution_count": 90,
   "id": "ad293e7b-67da-402f-8aa6-6e0de4fa65a3",
   "metadata": {},
   "outputs": [
    {
     "name": "stdout",
     "output_type": "stream",
     "text": [
      "SlicedLowLevelWCS Transformation\n",
      "\n",
      "This transformation has 2 pixel and 2 world dimensions\n",
      "\n",
      "Array shape (Numpy order): None\n",
      "\n",
      "Pixel Dim  Axis Name  Data size  Bounds\n",
      "        0  None            None  None\n",
      "        1  None            None  None\n",
      "\n",
      "World Dim  Axis Name  Physical Type                   Units\n",
      "        0  None       custom:pos.helioprojective.lon  deg\n",
      "        1  None       custom:pos.helioprojective.lat  deg\n",
      "\n",
      "Correlation between pixel and world axes:\n",
      "\n",
      "           Pixel Dim\n",
      "World Dim    0    1\n",
      "        0  yes  yes\n",
      "        1  yes  yes\n"
     ]
    }
   ],
   "source": [
    "kk = newcube[2]"
   ]
  },
  {
   "cell_type": "code",
   "execution_count": 93,
   "id": "b830b1a9-58ea-4385-a556-2db45ab9abd1",
   "metadata": {},
   "outputs": [],
   "source": [
    "ss = stokespy.StokesParamMap(kk.data, kk.wcs)"
   ]
  },
  {
   "cell_type": "code",
   "execution_count": 95,
   "id": "afeec4a1-be94-429a-8c28-ba6038d10909",
   "metadata": {},
   "outputs": [
    {
     "data": {
      "text/plain": [
       "<astropy.wcs.wcsapi.high_level_wcs_wrapper.HighLevelWCSWrapper object at 0x7fade2969b80>\n",
       "SlicedLowLevelWCS Transformation\n",
       "\n",
       "This transformation has 2 pixel and 2 world dimensions\n",
       "\n",
       "Array shape (Numpy order): None\n",
       "\n",
       "Pixel Dim  Axis Name  Data size  Bounds\n",
       "        0  None            None  None\n",
       "        1  None            None  None\n",
       "\n",
       "World Dim  Axis Name  Physical Type                   Units\n",
       "        0  None       custom:pos.helioprojective.lon  deg\n",
       "        1  None       custom:pos.helioprojective.lat  deg\n",
       "\n",
       "Correlation between pixel and world axes:\n",
       "\n",
       "           Pixel Dim\n",
       "World Dim    0    1\n",
       "        0  yes  yes\n",
       "        1  yes  yes"
      ]
     },
     "execution_count": 95,
     "metadata": {},
     "output_type": "execute_result"
    }
   ],
   "source": [
    "ss.wcs"
   ]
  },
  {
   "cell_type": "code",
   "execution_count": 52,
   "id": "e56206da-83a7-4fef-8092-0f784d1d093c",
   "metadata": {},
   "outputs": [
    {
     "data": {
      "text/latex": [
       "$[6.173173 \\times 10^{-7},~6.1732418 \\times 10^{-7},~6.1733106 \\times 10^{-7},~6.1733794 \\times 10^{-7},~6.1734482 \\times 10^{-7},~6.173517 \\times 10^{-7}] \\; \\mathrm{m}$"
      ],
      "text/plain": [
       "<SpectralCoord \n",
       "   (target: <Helioprojective Coordinate (obstime=2016-07-28T23:58:46.600, rsun=696000.0 km, observer=<HeliographicStonyhurst Coordinate (obstime=2016-07-28T23:58:46.600, rsun=696000.0 km): (lon, lat, radius) in (deg, deg, m)\n",
       "                (0.06217846, 5.58266211, 1.51876022e+11)>): (Tx, Ty, distance) in (arcsec, arcsec, kpc)\n",
       "                (0., 0., 1000.)\n",
       "             (d_Tx, d_Ty, d_distance) in (arcsec / s, arcsec / s, km / s)\n",
       "                (0., 0., 0.)>)\n",
       "  [6.1731730e-07, 6.1732418e-07, 6.1733106e-07, 6.1733794e-07,\n",
       "   6.1734482e-07, 6.1735170e-07] m>"
      ]
     },
     "execution_count": 52,
     "metadata": {},
     "output_type": "execute_result"
    }
   ],
   "source": [
    "level1_cube._spectral_axis"
   ]
  },
  {
   "cell_type": "code",
   "execution_count": 50,
   "id": "74cb1dba-e495-4791-98a7-58e7029d5eb2",
   "metadata": {},
   "outputs": [
    {
     "data": {
      "text/plain": [
       "['deg', 'deg', 'm', '']"
      ]
     },
     "execution_count": 50,
     "metadata": {},
     "output_type": "execute_result"
    }
   ],
   "source": [
    "owcs.low_level_wcs.world_axis_units"
   ]
  },
  {
   "cell_type": "code",
   "execution_count": 16,
   "id": "8c98b70b-6885-4206-9e85-e393bc66591a",
   "metadata": {},
   "outputs": [
    {
     "data": {
      "text/plain": [
       "WCS Keywords\n",
       "\n",
       "Number of WCS axes: 1\n",
       "CTYPE : 'WAVE'  \n",
       "CRVAL : 6.173345e-07  \n",
       "CRPIX : 3.5  \n",
       "PC1_1  : 1.0  \n",
       "CDELT : 6.88e-12  \n",
       "NAXIS : 0  0"
      ]
     },
     "execution_count": 16,
     "metadata": {},
     "output_type": "execute_result"
    }
   ],
   "source": [
    "# The low level wcs works.\n",
    "wwcs.low_level_wcs.sub(['spectral'])"
   ]
  },
  {
   "cell_type": "code",
   "execution_count": 50,
   "id": "8c566312-a254-4220-a7f6-41f4f7dc79b7",
   "metadata": {},
   "outputs": [
    {
     "data": {
      "text/plain": [
       "['', '', '', '']"
      ]
     },
     "execution_count": 50,
     "metadata": {},
     "output_type": "execute_result"
    }
   ],
   "source": [
    "owcs.low_level_wcs.pixel_axis_names"
   ]
  },
  {
   "cell_type": "code",
   "execution_count": 51,
   "id": "33cbecb6-ea31-4160-8f72-623652bbfdd7",
   "metadata": {},
   "outputs": [
    {
     "data": {
      "text/plain": [
       "4"
      ]
     },
     "execution_count": 51,
     "metadata": {},
     "output_type": "execute_result"
    }
   ],
   "source": [
    "owcs.low_level_wcs.world_n_dim"
   ]
  },
  {
   "cell_type": "code",
   "execution_count": 37,
   "id": "97700074-fecd-4891-a1f5-f916c3cd32ae",
   "metadata": {},
   "outputs": [],
   "source": [
    "a = 2"
   ]
  },
  {
   "cell_type": "code",
   "execution_count": 41,
   "id": "76b85779-221f-4e3e-8081-b5b78624f3bd",
   "metadata": {},
   "outputs": [
    {
     "data": {
      "text/plain": [
       "<method-wrapper '__repr__' of int object at 0x7f26f119c950>"
      ]
     },
     "execution_count": 41,
     "metadata": {},
     "output_type": "execute_result"
    }
   ],
   "source": [
    "a.__repr__"
   ]
  },
  {
   "cell_type": "code",
   "execution_count": 74,
   "id": "2448c79f-1eed-4893-8fa0-77dc68448bee",
   "metadata": {},
   "outputs": [
    {
     "data": {
      "text/plain": [
       "[('celestial', 0, 'spherical.lon.degree'),\n",
       " ('celestial', 1, 'spherical.lat.degree'),\n",
       " ('spectral',\n",
       "  0,\n",
       "  <function astropy.wcs.wcsapi.fitswcs.FITSWCSAPIMixin._get_components_and_classes.<locals>.value_from_spectralcoord(spectralcoord)>),\n",
       " ('stokes', 0, 'value')]"
      ]
     },
     "execution_count": 74,
     "metadata": {},
     "output_type": "execute_result"
    }
   ],
   "source": [
    "cwcs.low_level_wcs.world_axis_object_components"
   ]
  },
  {
   "cell_type": "markdown",
   "id": "5ec3cf88-7d31-4ac4-9a25-c75345a8dfec",
   "metadata": {},
   "source": [
    "## Test StokesParamCube"
   ]
  },
  {
   "cell_type": "code",
   "execution_count": 24,
   "id": "d4c9126a-98dd-480e-bfd6-ccca3f91fab7",
   "metadata": {},
   "outputs": [
    {
     "name": "stdout",
     "output_type": "stream",
     "text": [
      "WCS Keywords\n",
      "\n",
      "Number of WCS axes: 3\n",
      "CTYPE : 'HPLN-TAN'  'HPLT-TAN'  'WAVE'  \n",
      "CRVAL : -0.005875722222222222  0.12884833333333334  6.30208e-07  \n",
      "CRPIX : 868.0  256.5  56.5  \n",
      "PC1_1 PC1_2 PC1_3  : 1.0  0.0  0.0  \n",
      "PC2_1 PC2_2 PC2_3  : 0.0  1.0  0.0  \n",
      "PC3_1 PC3_2 PC3_3  : 0.0  0.0  1.0  \n",
      "CDELT : 4.127e-05  4.4441666666666665e-05  2.1549e-12  \n",
      "NAXIS : 0  0\n"
     ]
    }
   ],
   "source": [
    "newcube = level1_cube.I"
   ]
  },
  {
   "cell_type": "code",
   "execution_count": 6,
   "id": "5e658189-b949-4598-b1eb-702cf70d8f57",
   "metadata": {},
   "outputs": [
    {
     "ename": "Exception",
     "evalue": "Data contains 112 Stokes parameters, but 4 parameters  were expected: ('I', 'Q', 'U', 'V')",
     "output_type": "error",
     "traceback": [
      "\u001b[0;31m---------------------------------------------------------------------------\u001b[0m",
      "\u001b[0;31mException\u001b[0m                                 Traceback (most recent call last)",
      "\u001b[0;32m<ipython-input-6-940f9bdd76ec>\u001b[0m in \u001b[0;36m<module>\u001b[0;34m\u001b[0m\n\u001b[0;32m----> 1\u001b[0;31m \u001b[0mtt\u001b[0m \u001b[0;34m=\u001b[0m \u001b[0mlevel1_cube\u001b[0m\u001b[0;34m[\u001b[0m\u001b[0;36m1\u001b[0m\u001b[0;34m]\u001b[0m\u001b[0;34m\u001b[0m\u001b[0;34m\u001b[0m\u001b[0m\n\u001b[0m",
      "\u001b[0;32m~/Desktop/Science/StokesPY/ndcube-git/ndcube/mixins/ndslicing.py\u001b[0m in \u001b[0;36m__getitem__\u001b[0;34m(self, item)\u001b[0m\n\u001b[1;32m     21\u001b[0m \u001b[0;34m\u001b[0m\u001b[0m\n\u001b[1;32m     22\u001b[0m         \u001b[0mitem\u001b[0m \u001b[0;34m=\u001b[0m \u001b[0mtuple\u001b[0m\u001b[0;34m(\u001b[0m\u001b[0msanitize_slices\u001b[0m\u001b[0;34m(\u001b[0m\u001b[0mitem\u001b[0m\u001b[0;34m,\u001b[0m \u001b[0mlen\u001b[0m\u001b[0;34m(\u001b[0m\u001b[0mself\u001b[0m\u001b[0;34m.\u001b[0m\u001b[0mdimensions\u001b[0m\u001b[0;34m)\u001b[0m\u001b[0;34m)\u001b[0m\u001b[0;34m)\u001b[0m\u001b[0;34m\u001b[0m\u001b[0;34m\u001b[0m\u001b[0m\n\u001b[0;32m---> 23\u001b[0;31m         \u001b[0msliced_cube\u001b[0m \u001b[0;34m=\u001b[0m \u001b[0msuper\u001b[0m\u001b[0;34m(\u001b[0m\u001b[0;34m)\u001b[0m\u001b[0;34m.\u001b[0m\u001b[0m__getitem__\u001b[0m\u001b[0;34m(\u001b[0m\u001b[0mitem\u001b[0m\u001b[0;34m)\u001b[0m\u001b[0;34m\u001b[0m\u001b[0;34m\u001b[0m\u001b[0m\n\u001b[0m\u001b[1;32m     24\u001b[0m \u001b[0;34m\u001b[0m\u001b[0m\n\u001b[1;32m     25\u001b[0m         \u001b[0msliced_cube\u001b[0m\u001b[0;34m.\u001b[0m\u001b[0m_global_coords\u001b[0m\u001b[0;34m.\u001b[0m\u001b[0m_internal_coords\u001b[0m \u001b[0;34m=\u001b[0m \u001b[0mself\u001b[0m\u001b[0;34m.\u001b[0m\u001b[0mglobal_coords\u001b[0m\u001b[0;34m.\u001b[0m\u001b[0m_internal_coords\u001b[0m\u001b[0;34m\u001b[0m\u001b[0;34m\u001b[0m\u001b[0m\n",
      "\u001b[0;32m~/anaconda3/envs/stokespy/lib/python3.9/site-packages/astropy/nddata/mixins/ndslicing.py\u001b[0m in \u001b[0;36m__getitem__\u001b[0;34m(self, item)\u001b[0m\n\u001b[1;32m     61\u001b[0m         \u001b[0;31m# Let the other methods handle slicing.\u001b[0m\u001b[0;34m\u001b[0m\u001b[0;34m\u001b[0m\u001b[0;34m\u001b[0m\u001b[0m\n\u001b[1;32m     62\u001b[0m         \u001b[0mkwargs\u001b[0m \u001b[0;34m=\u001b[0m \u001b[0mself\u001b[0m\u001b[0;34m.\u001b[0m\u001b[0m_slice\u001b[0m\u001b[0;34m(\u001b[0m\u001b[0mitem\u001b[0m\u001b[0;34m)\u001b[0m\u001b[0;34m\u001b[0m\u001b[0;34m\u001b[0m\u001b[0m\n\u001b[0;32m---> 63\u001b[0;31m         \u001b[0;32mreturn\u001b[0m \u001b[0mself\u001b[0m\u001b[0;34m.\u001b[0m\u001b[0m__class__\u001b[0m\u001b[0;34m(\u001b[0m\u001b[0;34m**\u001b[0m\u001b[0mkwargs\u001b[0m\u001b[0;34m)\u001b[0m\u001b[0;34m\u001b[0m\u001b[0;34m\u001b[0m\u001b[0m\n\u001b[0m\u001b[1;32m     64\u001b[0m \u001b[0;34m\u001b[0m\u001b[0m\n\u001b[1;32m     65\u001b[0m     \u001b[0;32mdef\u001b[0m \u001b[0m_slice\u001b[0m\u001b[0;34m(\u001b[0m\u001b[0mself\u001b[0m\u001b[0;34m,\u001b[0m \u001b[0mitem\u001b[0m\u001b[0;34m)\u001b[0m\u001b[0;34m:\u001b[0m\u001b[0;34m\u001b[0m\u001b[0;34m\u001b[0m\u001b[0m\n",
      "\u001b[0;32m~/Desktop/Science/StokesPY/stokespy/stokespy/stokespy.py\u001b[0m in \u001b[0;36m__init__\u001b[0;34m(self, data, wcs, stokes_params, normalize, **kwargs)\u001b[0m\n\u001b[1;32m    204\u001b[0m         \u001b[0;31m#print('Number of axes: ', self.wcs.low_level_wcs.naxis)\u001b[0m\u001b[0;34m\u001b[0m\u001b[0;34m\u001b[0m\u001b[0;34m\u001b[0m\u001b[0m\n\u001b[1;32m    205\u001b[0m         \u001b[0;32mif\u001b[0m \u001b[0mlen\u001b[0m\u001b[0;34m(\u001b[0m\u001b[0mstokes_params\u001b[0m\u001b[0;34m)\u001b[0m \u001b[0;34m!=\u001b[0m \u001b[0mself\u001b[0m\u001b[0;34m.\u001b[0m\u001b[0mdata\u001b[0m\u001b[0;34m.\u001b[0m\u001b[0mshape\u001b[0m\u001b[0;34m[\u001b[0m\u001b[0;36m0\u001b[0m\u001b[0;34m]\u001b[0m\u001b[0;34m:\u001b[0m\u001b[0;34m\u001b[0m\u001b[0;34m\u001b[0m\u001b[0m\n\u001b[0;32m--> 206\u001b[0;31m             raise Exception(f\"Data contains {self.data.shape[0]} Stokes parameters, \"+\n\u001b[0m\u001b[1;32m    207\u001b[0m                             f\"but {len(stokes_params)} parameters  were expected: {stokes_params}\")\n\u001b[1;32m    208\u001b[0m         \u001b[0mself\u001b[0m\u001b[0;34m.\u001b[0m\u001b[0m_stokes_axis\u001b[0m \u001b[0;34m=\u001b[0m \u001b[0mstokes_params\u001b[0m\u001b[0;34m\u001b[0m\u001b[0;34m\u001b[0m\u001b[0m\n",
      "\u001b[0;31mException\u001b[0m: Data contains 112 Stokes parameters, but 4 parameters  were expected: ('I', 'Q', 'U', 'V')"
     ]
    }
   ],
   "source": [
    "tt = level1_cube[1]"
   ]
  },
  {
   "cell_type": "code",
   "execution_count": 12,
   "id": "a1065128-8b7a-4dd2-a457-6a434030e40a",
   "metadata": {},
   "outputs": [
    {
     "data": {
      "text/plain": [
       "(112, 512, 1735)"
      ]
     },
     "execution_count": 12,
     "metadata": {},
     "output_type": "execute_result"
    }
   ],
   "source": [
    "newcube.data.shape"
   ]
  },
  {
   "cell_type": "code",
   "execution_count": 13,
   "id": "98f73dfb-707d-40d1-8241-13ed10358057",
   "metadata": {},
   "outputs": [
    {
     "data": {
      "text/latex": [
       "$[6.300884 \\times 10^{-7},~6.3009056 \\times 10^{-7},~6.3009271 \\times 10^{-7},~\\dots,~6.3032329 \\times 10^{-7},~6.3032544 \\times 10^{-7},~6.303276 \\times 10^{-7}] \\; \\mathrm{m}$"
      ],
      "text/plain": [
       "<SpectralCoord [6.30088403e-07, 6.30090558e-07, 6.30092713e-07, 6.30094868e-07,\n",
       "   6.30097023e-07, 6.30099178e-07, 6.30101332e-07, 6.30103487e-07,\n",
       "   6.30105642e-07, 6.30107797e-07, 6.30109952e-07, 6.30112107e-07,\n",
       "   6.30114262e-07, 6.30116417e-07, 6.30118572e-07, 6.30120727e-07,\n",
       "   6.30122881e-07, 6.30125036e-07, 6.30127191e-07, 6.30129346e-07,\n",
       "   6.30131501e-07, 6.30133656e-07, 6.30135811e-07, 6.30137966e-07,\n",
       "   6.30140121e-07, 6.30142276e-07, 6.30144430e-07, 6.30146585e-07,\n",
       "   6.30148740e-07, 6.30150895e-07, 6.30153050e-07, 6.30155205e-07,\n",
       "   6.30157360e-07, 6.30159515e-07, 6.30161670e-07, 6.30163825e-07,\n",
       "   6.30165979e-07, 6.30168134e-07, 6.30170289e-07, 6.30172444e-07,\n",
       "   6.30174599e-07, 6.30176754e-07, 6.30178909e-07, 6.30181064e-07,\n",
       "   6.30183219e-07, 6.30185374e-07, 6.30187528e-07, 6.30189683e-07,\n",
       "   6.30191838e-07, 6.30193993e-07, 6.30196148e-07, 6.30198303e-07,\n",
       "   6.30200458e-07, 6.30202613e-07, 6.30204768e-07, 6.30206923e-07,\n",
       "   6.30209077e-07, 6.30211232e-07, 6.30213387e-07, 6.30215542e-07,\n",
       "   6.30217697e-07, 6.30219852e-07, 6.30222007e-07, 6.30224162e-07,\n",
       "   6.30226317e-07, 6.30228472e-07, 6.30230626e-07, 6.30232781e-07,\n",
       "   6.30234936e-07, 6.30237091e-07, 6.30239246e-07, 6.30241401e-07,\n",
       "   6.30243556e-07, 6.30245711e-07, 6.30247866e-07, 6.30250021e-07,\n",
       "   6.30252175e-07, 6.30254330e-07, 6.30256485e-07, 6.30258640e-07,\n",
       "   6.30260795e-07, 6.30262950e-07, 6.30265105e-07, 6.30267260e-07,\n",
       "   6.30269415e-07, 6.30271570e-07, 6.30273724e-07, 6.30275879e-07,\n",
       "   6.30278034e-07, 6.30280189e-07, 6.30282344e-07, 6.30284499e-07,\n",
       "   6.30286654e-07, 6.30288809e-07, 6.30290964e-07, 6.30293119e-07,\n",
       "   6.30295273e-07, 6.30297428e-07, 6.30299583e-07, 6.30301738e-07,\n",
       "   6.30303893e-07, 6.30306048e-07, 6.30308203e-07, 6.30310358e-07,\n",
       "   6.30312513e-07, 6.30314668e-07, 6.30316822e-07, 6.30318977e-07,\n",
       "   6.30321132e-07, 6.30323287e-07, 6.30325442e-07, 6.30327597e-07] m>"
      ]
     },
     "execution_count": 13,
     "metadata": {},
     "output_type": "execute_result"
    }
   ],
   "source": [
    "newcube._spectral_axis"
   ]
  },
  {
   "cell_type": "code",
   "execution_count": 65,
   "id": "42844dd3-5489-4a68-bc92-f24a2972eacd",
   "metadata": {},
   "outputs": [
    {
     "data": {
      "text/plain": [
       "stokespy.stokespy.StokesParamCube"
      ]
     },
     "execution_count": 65,
     "metadata": {},
     "output_type": "execute_result"
    }
   ],
   "source": [
    "newcube.__class__"
   ]
  },
  {
   "cell_type": "code",
   "execution_count": null,
   "id": "d4d5c911-7406-425b-bc85-d294087dacdb",
   "metadata": {},
   "outputs": [],
   "source": [
    "self._spectral_axis = self.wcs[:,0,0].array_index_to_world(np.arange(n_spectral))"
   ]
  },
  {
   "cell_type": "code",
   "execution_count": 66,
   "id": "addb407d-812d-4d99-9d4b-9dc88e1924b7",
   "metadata": {},
   "outputs": [
    {
     "ename": "AttributeError",
     "evalue": "'HighLevelWCSWrapper' object has no attribute 'sub'",
     "output_type": "error",
     "traceback": [
      "\u001b[0;31m---------------------------------------------------------------------------\u001b[0m",
      "\u001b[0;31mAttributeError\u001b[0m                            Traceback (most recent call last)",
      "\u001b[0;32m<ipython-input-66-55127b69e246>\u001b[0m in \u001b[0;36m<module>\u001b[0;34m\u001b[0m\n\u001b[0;32m----> 1\u001b[0;31m \u001b[0mnewcube\u001b[0m\u001b[0;34m[\u001b[0m\u001b[0;36m10\u001b[0m\u001b[0;34m]\u001b[0m\u001b[0;34m\u001b[0m\u001b[0;34m\u001b[0m\u001b[0m\n\u001b[0m",
      "\u001b[0;32m~/Desktop/Science/StokesPY/ndcube-git/ndcube/mixins/ndslicing.py\u001b[0m in \u001b[0;36m__getitem__\u001b[0;34m(self, item)\u001b[0m\n\u001b[1;32m     21\u001b[0m \u001b[0;34m\u001b[0m\u001b[0m\n\u001b[1;32m     22\u001b[0m         \u001b[0mitem\u001b[0m \u001b[0;34m=\u001b[0m \u001b[0mtuple\u001b[0m\u001b[0;34m(\u001b[0m\u001b[0msanitize_slices\u001b[0m\u001b[0;34m(\u001b[0m\u001b[0mitem\u001b[0m\u001b[0;34m,\u001b[0m \u001b[0mlen\u001b[0m\u001b[0;34m(\u001b[0m\u001b[0mself\u001b[0m\u001b[0;34m.\u001b[0m\u001b[0mdimensions\u001b[0m\u001b[0;34m)\u001b[0m\u001b[0;34m)\u001b[0m\u001b[0;34m)\u001b[0m\u001b[0;34m\u001b[0m\u001b[0;34m\u001b[0m\u001b[0m\n\u001b[0;32m---> 23\u001b[0;31m         \u001b[0msliced_cube\u001b[0m \u001b[0;34m=\u001b[0m \u001b[0msuper\u001b[0m\u001b[0;34m(\u001b[0m\u001b[0;34m)\u001b[0m\u001b[0;34m.\u001b[0m\u001b[0m__getitem__\u001b[0m\u001b[0;34m(\u001b[0m\u001b[0mitem\u001b[0m\u001b[0;34m)\u001b[0m\u001b[0;34m\u001b[0m\u001b[0;34m\u001b[0m\u001b[0m\n\u001b[0m\u001b[1;32m     24\u001b[0m \u001b[0;34m\u001b[0m\u001b[0m\n\u001b[1;32m     25\u001b[0m         \u001b[0msliced_cube\u001b[0m\u001b[0;34m.\u001b[0m\u001b[0m_global_coords\u001b[0m\u001b[0;34m.\u001b[0m\u001b[0m_internal_coords\u001b[0m \u001b[0;34m=\u001b[0m \u001b[0mself\u001b[0m\u001b[0;34m.\u001b[0m\u001b[0mglobal_coords\u001b[0m\u001b[0;34m.\u001b[0m\u001b[0m_internal_coords\u001b[0m\u001b[0;34m\u001b[0m\u001b[0;34m\u001b[0m\u001b[0m\n",
      "\u001b[0;32m~/anaconda3/envs/stokespy/lib/python3.9/site-packages/astropy/nddata/mixins/ndslicing.py\u001b[0m in \u001b[0;36m__getitem__\u001b[0;34m(self, item)\u001b[0m\n\u001b[1;32m     61\u001b[0m         \u001b[0;31m# Let the other methods handle slicing.\u001b[0m\u001b[0;34m\u001b[0m\u001b[0;34m\u001b[0m\u001b[0;34m\u001b[0m\u001b[0m\n\u001b[1;32m     62\u001b[0m         \u001b[0mkwargs\u001b[0m \u001b[0;34m=\u001b[0m \u001b[0mself\u001b[0m\u001b[0;34m.\u001b[0m\u001b[0m_slice\u001b[0m\u001b[0;34m(\u001b[0m\u001b[0mitem\u001b[0m\u001b[0;34m)\u001b[0m\u001b[0;34m\u001b[0m\u001b[0;34m\u001b[0m\u001b[0m\n\u001b[0;32m---> 63\u001b[0;31m         \u001b[0;32mreturn\u001b[0m \u001b[0mself\u001b[0m\u001b[0;34m.\u001b[0m\u001b[0m__class__\u001b[0m\u001b[0;34m(\u001b[0m\u001b[0;34m**\u001b[0m\u001b[0mkwargs\u001b[0m\u001b[0;34m)\u001b[0m\u001b[0;34m\u001b[0m\u001b[0;34m\u001b[0m\u001b[0m\n\u001b[0m\u001b[1;32m     64\u001b[0m \u001b[0;34m\u001b[0m\u001b[0m\n\u001b[1;32m     65\u001b[0m     \u001b[0;32mdef\u001b[0m \u001b[0m_slice\u001b[0m\u001b[0;34m(\u001b[0m\u001b[0mself\u001b[0m\u001b[0;34m,\u001b[0m \u001b[0mitem\u001b[0m\u001b[0;34m)\u001b[0m\u001b[0;34m:\u001b[0m\u001b[0;34m\u001b[0m\u001b[0;34m\u001b[0m\u001b[0m\n",
      "\u001b[0;32m~/Desktop/Science/StokesPY/stokespy/stokespy/stokespy.py\u001b[0m in \u001b[0;36m__init__\u001b[0;34m(self, data, wcs, **kwargs)\u001b[0m\n\u001b[1;32m     46\u001b[0m \u001b[0;34m\u001b[0m\u001b[0m\n\u001b[1;32m     47\u001b[0m         \u001b[0mself\u001b[0m\u001b[0;34m.\u001b[0m\u001b[0mn_spectral\u001b[0m \u001b[0;34m=\u001b[0m \u001b[0mself\u001b[0m\u001b[0;34m.\u001b[0m\u001b[0mdata\u001b[0m\u001b[0;34m.\u001b[0m\u001b[0mshape\u001b[0m\u001b[0;34m[\u001b[0m\u001b[0;36m0\u001b[0m\u001b[0;34m]\u001b[0m\u001b[0;34m\u001b[0m\u001b[0;34m\u001b[0m\u001b[0m\n\u001b[0;32m---> 48\u001b[0;31m         \u001b[0mself\u001b[0m\u001b[0;34m.\u001b[0m\u001b[0m_spectral_axis\u001b[0m \u001b[0;34m=\u001b[0m \u001b[0mself\u001b[0m\u001b[0;34m.\u001b[0m\u001b[0m_spectral_slice\u001b[0m\u001b[0;34m(\u001b[0m\u001b[0;34m)\u001b[0m\u001b[0;34m.\u001b[0m\u001b[0marray_index_to_world\u001b[0m\u001b[0;34m(\u001b[0m\u001b[0mnp\u001b[0m\u001b[0;34m.\u001b[0m\u001b[0marange\u001b[0m\u001b[0;34m(\u001b[0m\u001b[0mself\u001b[0m\u001b[0;34m.\u001b[0m\u001b[0mn_spectral\u001b[0m\u001b[0;34m)\u001b[0m\u001b[0;34m)\u001b[0m\u001b[0;34m\u001b[0m\u001b[0;34m\u001b[0m\u001b[0m\n\u001b[0m\u001b[1;32m     49\u001b[0m         \u001b[0mprint\u001b[0m\u001b[0;34m(\u001b[0m\u001b[0mself\u001b[0m\u001b[0;34m.\u001b[0m\u001b[0mwcs\u001b[0m\u001b[0;34m)\u001b[0m\u001b[0;34m\u001b[0m\u001b[0;34m\u001b[0m\u001b[0m\n\u001b[1;32m     50\u001b[0m \u001b[0;34m\u001b[0m\u001b[0m\n",
      "\u001b[0;32m~/Desktop/Science/StokesPY/stokespy/stokespy/stokespy.py\u001b[0m in \u001b[0;36m_spectral_slice\u001b[0;34m(self)\u001b[0m\n\u001b[1;32m     51\u001b[0m     \u001b[0;32mdef\u001b[0m \u001b[0m_spectral_slice\u001b[0m\u001b[0;34m(\u001b[0m\u001b[0mself\u001b[0m\u001b[0;34m)\u001b[0m\u001b[0;34m:\u001b[0m\u001b[0;34m\u001b[0m\u001b[0;34m\u001b[0m\u001b[0m\n\u001b[1;32m     52\u001b[0m         \u001b[0;34m\"\"\"Slice of the WCS containing only the spectral axis\"\"\"\u001b[0m\u001b[0;34m\u001b[0m\u001b[0;34m\u001b[0m\u001b[0m\n\u001b[0;32m---> 53\u001b[0;31m         \u001b[0;32mreturn\u001b[0m \u001b[0mself\u001b[0m\u001b[0;34m.\u001b[0m\u001b[0mwcs\u001b[0m\u001b[0;34m.\u001b[0m\u001b[0msub\u001b[0m\u001b[0;34m(\u001b[0m\u001b[0;34m[\u001b[0m\u001b[0;34m'spectral'\u001b[0m\u001b[0;34m]\u001b[0m\u001b[0;34m)\u001b[0m\u001b[0;34m\u001b[0m\u001b[0;34m\u001b[0m\u001b[0m\n\u001b[0m\u001b[1;32m     54\u001b[0m \u001b[0;34m\u001b[0m\u001b[0m\n\u001b[1;32m     55\u001b[0m     \u001b[0;32mdef\u001b[0m \u001b[0mplot\u001b[0m\u001b[0;34m(\u001b[0m\u001b[0mself\u001b[0m\u001b[0;34m,\u001b[0m \u001b[0mwavelength\u001b[0m\u001b[0;34m=\u001b[0m\u001b[0;32mNone\u001b[0m\u001b[0;34m,\u001b[0m \u001b[0mcoord1\u001b[0m\u001b[0;34m=\u001b[0m\u001b[0;32mNone\u001b[0m\u001b[0;34m,\u001b[0m \u001b[0mcoord2\u001b[0m\u001b[0;34m=\u001b[0m\u001b[0;32mNone\u001b[0m\u001b[0;34m)\u001b[0m\u001b[0;34m:\u001b[0m\u001b[0;34m\u001b[0m\u001b[0;34m\u001b[0m\u001b[0m\n",
      "\u001b[0;31mAttributeError\u001b[0m: 'HighLevelWCSWrapper' object has no attribute 'sub'"
     ]
    }
   ],
   "source": [
    "newcube[10]"
   ]
  },
  {
   "cell_type": "code",
   "execution_count": 14,
   "id": "b06261ad-bfbe-46f6-986c-4ae10c5c238a",
   "metadata": {},
   "outputs": [
    {
     "data": {
      "text/plain": [
       "WCS Keywords\n",
       "\n",
       "Number of WCS axes: 1\n",
       "CTYPE : 'WAVE'  \n",
       "CRVAL : 6.30208e-07  \n",
       "CRPIX : 56.5  \n",
       "PC1_1  : 1.0  \n",
       "CDELT : 2.1549e-12  \n",
       "NAXIS : 0  0"
      ]
     },
     "execution_count": 14,
     "metadata": {},
     "output_type": "execute_result"
    }
   ],
   "source": [
    "newcube._spectral_slice()"
   ]
  },
  {
   "cell_type": "code",
   "execution_count": 33,
   "id": "686cb4d7-33aa-4172-bd65-290553e3f0df",
   "metadata": {},
   "outputs": [
    {
     "data": {
      "application/vnd.jupyter.widget-view+json": {
       "model_id": "7c6d5c3b636746cf8bcb71f0544578df",
       "version_major": 2,
       "version_minor": 0
      },
      "text/plain": [
       "Canvas(toolbar=Toolbar(toolitems=[('Home', 'Reset original view', 'home', 'home'), ('Back', 'Back to previous …"
      ]
     },
     "metadata": {},
     "output_type": "display_data"
    },
    {
     "name": "stdout",
     "output_type": "stream",
     "text": [
      "TODO: implement <class 'stokespy.stokespy.StokesParamCube'>.plot()\n"
     ]
    }
   ],
   "source": [
    "#%matplotlib widget\n",
    "#plt.ion()\n",
    "newcube.plot()"
   ]
  },
  {
   "cell_type": "markdown",
   "id": "3e4243cf-354c-45bd-b1ce-ef14453fe4d7",
   "metadata": {},
   "source": [
    "## Test the StokesParamMap object"
   ]
  },
  {
   "cell_type": "code",
   "execution_count": 61,
   "id": "02791aa2-ee28-46d8-b373-3d5bb42d1350",
   "metadata": {},
   "outputs": [
    {
     "name": "stdout",
     "output_type": "stream",
     "text": [
      "WCS Keywords\n",
      "\n",
      "Number of WCS axes: 3\n",
      "CTYPE : 'HPLN-TAN'  'HPLT-TAN'  'WAVE'  \n",
      "CRVAL : -0.005875722222222222  0.12884833333333334  6.30208e-07  \n",
      "CRPIX : 868.0  256.5  56.5  \n",
      "PC1_1 PC1_2 PC1_3  : 1.0  0.0  0.0  \n",
      "PC2_1 PC2_2 PC2_3  : 0.0  1.0  0.0  \n",
      "PC3_1 PC3_2 PC3_3  : 0.0  0.0  1.0  \n",
      "CDELT : 4.127e-05  4.4441666666666665e-05  2.1549e-12  \n",
      "NAXIS : 0  0\n",
      "Limits =  15 52\n",
      "WCS Keywords\n",
      "\n",
      "Number of WCS axes: 3\n",
      "CTYPE : 'HPLN-TAN'  'HPLT-TAN'  'WAVE'  \n",
      "CRVAL : -0.0058757222222222  0.12884833333333  6.3015951475e-07  \n",
      "CRPIX : 868.0  256.5  19.0  \n",
      "PC1_1 PC1_2 PC1_3  : 1.0  0.0  0.0  \n",
      "PC2_1 PC2_2 PC2_3  : 0.0  1.0  0.0  \n",
      "PC3_1 PC3_2 PC3_3  : 0.0  0.0  1.0  \n",
      "CDELT : 4.127e-05  4.4441666666667e-05  2.1549e-12  \n",
      "NAXIS : 0  0\n",
      "<class 'stokespy.stokespy.StokesParamCube'>\n"
     ]
    }
   ],
   "source": [
    "# For HMI data.\n",
    "#wav0 = 6.1733 * 1.e-7 * u.m\n",
    "#wav1 = 6.1736 * 1.e-7 * u.m\n",
    "\n",
    "# For Hinode SP\n",
    "# Limits = [6.300884×10−7, 6.303276×10−7]\n",
    "wav0 = 6.3012 * 1.e-7 * u.m\n",
    "wav1 = 6.302 * 1.e-7 * u.m\n",
    "\n",
    "# Load a range of wavelengths.\n",
    "ttt = level1_cube.I_map(wav0,stop_wavelength=wav1)\n",
    "\n",
    "# Load a single map.\n",
    "#ttt = level1_cube.I_map(wav0)\n",
    "\n",
    "print(ttt.__class__)\n"
   ]
  },
  {
   "cell_type": "code",
   "execution_count": 64,
   "id": "31fd1d24-b609-47e6-bc87-2e38981d8d4a",
   "metadata": {},
   "outputs": [
    {
     "data": {
      "application/vnd.jupyter.widget-view+json": {
       "model_id": "f84760b32bd04d2fbf55828c6b829335",
       "version_major": 2,
       "version_minor": 0
      },
      "text/plain": [
       "Canvas(toolbar=Toolbar(toolitems=[('Home', 'Reset original view', 'home', 'home'), ('Back', 'Back to previous …"
      ]
     },
     "metadata": {},
     "output_type": "display_data"
    },
    {
     "name": "stdout",
     "output_type": "stream",
     "text": [
      "TODO: implement <class 'stokespy.stokespy.StokesParamCube'>.plot()\n"
     ]
    }
   ],
   "source": [
    "ttt.plot()"
   ]
  },
  {
   "cell_type": "code",
   "execution_count": 50,
   "id": "d89c6b4e-a474-4aa3-89b0-41885a9485ef",
   "metadata": {},
   "outputs": [
    {
     "name": "stdout",
     "output_type": "stream",
     "text": [
      "WCS Keywords\n",
      "\n",
      "Number of WCS axes: 3\n",
      "CTYPE : 'HPLN-TAN'  'HPLT-TAN'  'WAVE'  \n",
      "CRVAL : -0.005875722222222222  0.12884833333333334  6.30208e-07  \n",
      "CRPIX : 868.0  256.5  56.5  \n",
      "PC1_1 PC1_2 PC1_3  : 1.0  0.0  0.0  \n",
      "PC2_1 PC2_2 PC2_3  : 0.0  1.0  0.0  \n",
      "PC3_1 PC3_2 PC3_3  : 0.0  0.0  1.0  \n",
      "CDELT : 4.127e-05  4.4441666666666665e-05  2.1549e-12  \n",
      "NAXIS : 0  0\n",
      "TODO1: implement <class 'stokespy.stokespy.StokesParamMap'>.plot()\n"
     ]
    }
   ],
   "source": [
    "#wavelength = 6.1733 * 1.e-7 * u.m\n",
    "level1_cube.I_map(wav0).plot()"
   ]
  },
  {
   "cell_type": "markdown",
   "id": "670a13b9-3607-4f9e-b0a4-e02a1c021603",
   "metadata": {},
   "source": [
    "## Test StokesProfile"
   ]
  },
  {
   "cell_type": "code",
   "execution_count": 55,
   "id": "3d4b25bc-bd46-4a33-a864-6fe3ba99da27",
   "metadata": {},
   "outputs": [
    {
     "name": "stdout",
     "output_type": "stream",
     "text": [
      "WCS Keywords\n",
      "\n",
      "Number of WCS axes: 3\n",
      "CTYPE : 'HPLN-TAN'  'HPLT-TAN'  'WAVE'  \n",
      "CRVAL : -0.005875722222222222  0.12884833333333334  6.30208e-07  \n",
      "CRPIX : 868.0  256.5  56.5  \n",
      "PC1_1 PC1_2 PC1_3  : 1.0  0.0  0.0  \n",
      "PC2_1 PC2_2 PC2_3  : 0.0  1.0  0.0  \n",
      "PC3_1 PC3_2 PC3_3  : 0.0  0.0  1.0  \n",
      "CDELT : 4.127e-05  4.4441666666666665e-05  2.1549e-12  \n",
      "NAXIS : 0  0\n",
      "WCS Keywords\n",
      "\n",
      "Number of WCS axes: 1\n",
      "CTYPE : 'WAVE'  \n",
      "CRVAL : 6.30208e-07  \n",
      "CRPIX : 56.5  \n",
      "PC1_1  : 1.0  \n",
      "CDELT : 2.1549e-12  \n",
      "NAXIS : 0  0\n"
     ]
    },
    {
     "data": {
      "application/vnd.jupyter.widget-view+json": {
       "model_id": "80a19dea28e94d66a514a4fc7e1d8b88",
       "version_major": 2,
       "version_minor": 0
      },
      "text/plain": [
       "Canvas(toolbar=Toolbar(toolitems=[('Home', 'Reset original view', 'home', 'home'), ('Back', 'Back to previous …"
      ]
     },
     "metadata": {},
     "output_type": "display_data"
    },
    {
     "name": "stdout",
     "output_type": "stream",
     "text": [
      "TODO: implement <class 'stokespy.stokespy.StokesProfile'>.plot()\n"
     ]
    }
   ],
   "source": [
    "# Plot \n",
    "\n",
    "level1_cube.I_profile(250,250).plot()"
   ]
  },
  {
   "cell_type": "code",
   "execution_count": 57,
   "id": "6658daa2-634a-4776-a078-5fe4746d9a2b",
   "metadata": {},
   "outputs": [
    {
     "data": {
      "application/vnd.jupyter.widget-view+json": {
       "model_id": "c90761508c704a088b1e634c2944785d",
       "version_major": 2,
       "version_minor": 0
      },
      "text/plain": [
       "Canvas(toolbar=Toolbar(toolitems=[('Home', 'Reset original view', 'home', 'home'), ('Back', 'Back to previous …"
      ]
     },
     "metadata": {},
     "output_type": "display_data"
    },
    {
     "name": "stdout",
     "output_type": "stream",
     "text": [
      "TODO1: implement <class 'stokespy.stokespy.StokesCube'>.plot()\n"
     ]
    }
   ],
   "source": [
    "# Plot all Stokes profiles from a chosen pixel.\n",
    "\n",
    "level1_cube.plot(coord1=250,coord2=250)\n"
   ]
  },
  {
   "cell_type": "code",
   "execution_count": 59,
   "id": "9e1e7dc6-b595-44a9-992d-698af894539d",
   "metadata": {},
   "outputs": [
    {
     "data": {
      "application/vnd.jupyter.widget-view+json": {
       "model_id": "89863007dcab41d8a27b7c968594c336",
       "version_major": 2,
       "version_minor": 0
      },
      "text/plain": [
       "Canvas(toolbar=Toolbar(toolitems=[('Home', 'Reset original view', 'home', 'home'), ('Back', 'Back to previous …"
      ]
     },
     "metadata": {},
     "output_type": "display_data"
    },
    {
     "name": "stdout",
     "output_type": "stream",
     "text": [
      "TODO1: implement <class 'stokespy.stokespy.StokesCube'>.plot()\n"
     ]
    }
   ],
   "source": [
    "# Plot all Stokes images at a chosen wavelength.\n",
    "\n",
    "#wavelength = 6.1733 * 1.e-7 * u.m\n",
    "level1_cube.plot(wavelength=30)"
   ]
  },
  {
   "cell_type": "code",
   "execution_count": 95,
   "id": "59d34a79-24ae-4611-a677-4993363fe50e",
   "metadata": {},
   "outputs": [
    {
     "name": "stdout",
     "output_type": "stream",
     "text": [
      "Warning: Wavelength selected outside of range: 6.173173e-07 m 6.173517e-07 m\n",
      "Defaulting to nearest wavelength at 6.173173e-07 m\n"
     ]
    }
   ],
   "source": [
    "wavelength = 6.1731 * 1.e-7 * u.m\n",
    "\n",
    "nwav = len(level1_cube._spectral_axis)\n",
    "\n",
    "if isinstance(wavelength,astropy.units.Quantity):\n",
    "    ix = int(level1_cube._spectral_slice().world_to_array_index_values(wavelength))\n",
    "    # Check that the selected value falls within the wavelength array.\n",
    "    if (ix < 0) or (ix > nwav-1):\n",
    "        ix = 0 if ix < 0 else (nwav-1)\n",
    "        print('Warning: Wavelength selected outside of range: {} {}'.\\\n",
    "              format(level1_cube._spectral_axis[0], level1_cube._spectral_axis[-1]))\n",
    "        print('Defaulting to nearest wavelength at {}'.\\\n",
    "              format(level1_cube._spectral_axis[ix]))"
   ]
  },
  {
   "cell_type": "code",
   "execution_count": 77,
   "id": "a2e61b16-afb5-43e8-b0c8-a52b6031b238",
   "metadata": {},
   "outputs": [
    {
     "data": {
      "text/plain": [
       "True"
      ]
     },
     "execution_count": 77,
     "metadata": {},
     "output_type": "execute_result"
    }
   ],
   "source": [
    "isinstance(wavelength,astropy.units.Quantity)"
   ]
  },
  {
   "cell_type": "code",
   "execution_count": 104,
   "id": "64203bb0-405d-4447-800e-afa86acfc8f9",
   "metadata": {},
   "outputs": [
    {
     "data": {
      "text/latex": [
       "$[6.173173 \\times 10^{-7},~6.1732418 \\times 10^{-7},~6.1733106 \\times 10^{-7},~6.1733794 \\times 10^{-7},~6.1734482 \\times 10^{-7},~6.173517 \\times 10^{-7}] \\; \\mathrm{m}$"
      ],
      "text/plain": [
       "<SpectralCoord \n",
       "   (target: <Helioprojective Coordinate (obstime=2016-07-28T23:58:46.600, rsun=696000.0 km, observer=<HeliographicStonyhurst Coordinate (obstime=2016-07-28T23:58:46.600, rsun=696000.0 km): (lon, lat, radius) in (deg, deg, m)\n",
       "                (0.06217846, 5.58266211, 1.51876022e+11)>): (Tx, Ty, distance) in (arcsec, arcsec, kpc)\n",
       "                (0., 0., 1000.)\n",
       "             (d_Tx, d_Ty, d_distance) in (arcsec / s, arcsec / s, km / s)\n",
       "                (0., 0., 0.)>)\n",
       "  [6.1731730e-07, 6.1732418e-07, 6.1733106e-07, 6.1733794e-07,\n",
       "   6.1734482e-07, 6.1735170e-07] m>"
      ]
     },
     "execution_count": 104,
     "metadata": {},
     "output_type": "execute_result"
    }
   ],
   "source": [
    "level1_cube._spectral_axis"
   ]
  },
  {
   "cell_type": "code",
   "execution_count": 105,
   "id": "0764d10d-18ab-48c4-9bff-40b1f6a5eebe",
   "metadata": {},
   "outputs": [],
   "source": [
    "n_spectral = level1_cube.data.shape[1]"
   ]
  },
  {
   "cell_type": "code",
   "execution_count": 107,
   "id": "e37679ef-4bed-4c60-981e-fa33e10cbda3",
   "metadata": {},
   "outputs": [],
   "source": [
    "wcs_slice = [0] * level1_cube.wcs.naxis"
   ]
  },
  {
   "cell_type": "code",
   "execution_count": 109,
   "id": "f3e8a98a-011a-48bd-972f-0ed836b64a9a",
   "metadata": {},
   "outputs": [],
   "source": [
    "wcs_slice[1] = slice(0,n_spectral)"
   ]
  },
  {
   "cell_type": "code",
   "execution_count": 110,
   "id": "5e221f16-47ab-41b1-ba87-932bf59e2e09",
   "metadata": {},
   "outputs": [
    {
     "data": {
      "text/plain": [
       "[0, slice(0, 6, None), 0, 0]"
      ]
     },
     "execution_count": 110,
     "metadata": {},
     "output_type": "execute_result"
    }
   ],
   "source": [
    "wcs_slice"
   ]
  },
  {
   "cell_type": "code",
   "execution_count": 113,
   "id": "f06a9ee9-0acb-458f-b4a5-2d5470dceafa",
   "metadata": {},
   "outputs": [
    {
     "data": {
      "text/plain": [
       "<astropy.wcs.wcsapi.fitswcs.SlicedFITSWCS object at 0x7f00fc5e7430>\n",
       "SlicedFITSWCS Transformation\n",
       "\n",
       "This transformation has 1 pixel and 1 world dimensions\n",
       "\n",
       "Array shape (Numpy order): None\n",
       "\n",
       "Pixel Dim  Axis Name  Data size  Bounds\n",
       "        0  None            None  None\n",
       "\n",
       "World Dim  Axis Name  Physical Type  Units\n",
       "        0  None       em.wl          m\n",
       "\n",
       "Correlation between pixel and world axes:\n",
       "\n",
       "           Pixel Dim\n",
       "World Dim    0\n",
       "        0  yes"
      ]
     },
     "execution_count": 113,
     "metadata": {},
     "output_type": "execute_result"
    }
   ],
   "source": [
    "level1_cube.wcs.slice(wcs_slice)"
   ]
  },
  {
   "cell_type": "code",
   "execution_count": 72,
   "id": "b80aaf78-c257-4a10-99c2-269c7fef548c",
   "metadata": {},
   "outputs": [
    {
     "data": {
      "text/plain": [
       "(6,)"
      ]
     },
     "execution_count": 72,
     "metadata": {},
     "output_type": "execute_result"
    }
   ],
   "source": [
    "level1_cube._spectral_axis.shape"
   ]
  },
  {
   "cell_type": "code",
   "execution_count": 109,
   "id": "0fbab16b-e628-4b68-ab45-293c4a704afa",
   "metadata": {},
   "outputs": [
    {
     "data": {
      "text/plain": [
       "\u001b[0;31mType:\u001b[0m        module\n",
       "\u001b[0;31mString form:\u001b[0m <module 'ndcube.visualization.mpl_plotter' from '/home/gabriel/Desktop/Science/StokesPY/ndcube-git/ndcube/visualization/mpl_plotter.py'>\n",
       "\u001b[0;31mFile:\u001b[0m        ~/Desktop/Science/StokesPY/ndcube-git/ndcube/visualization/mpl_plotter.py\n",
       "\u001b[0;31mDocstring:\u001b[0m   <no docstring>\n"
      ]
     },
     "metadata": {},
     "output_type": "display_data"
    }
   ],
   "source": [
    "ndcube.visualization.mpl_plotter?"
   ]
  },
  {
   "cell_type": "code",
   "execution_count": null,
   "id": "6462cc19-16ec-4af1-aac4-c649ac3bb914",
   "metadata": {},
   "outputs": [],
   "source": []
  },
  {
   "cell_type": "code",
   "execution_count": 24,
   "id": "b22f52e9-a4fb-4b5d-80a1-9707ff511879",
   "metadata": {},
   "outputs": [
    {
     "data": {
      "text/plain": [
       "array([6300.8840305, 6300.9055795, 6300.9271285, 6300.9486775,\n",
       "       6300.9702265, 6300.9917755, 6301.0133245, 6301.0348735,\n",
       "       6301.0564225, 6301.0779715, 6301.0995205, 6301.1210695,\n",
       "       6301.1426185, 6301.1641675, 6301.1857165, 6301.2072655,\n",
       "       6301.2288145, 6301.2503635, 6301.2719125, 6301.2934615,\n",
       "       6301.3150105, 6301.3365595, 6301.3581085, 6301.3796575,\n",
       "       6301.4012065, 6301.4227555, 6301.4443045, 6301.4658535,\n",
       "       6301.4874025, 6301.5089515, 6301.5305005, 6301.5520495,\n",
       "       6301.5735985, 6301.5951475, 6301.6166965, 6301.6382455,\n",
       "       6301.6597945, 6301.6813435, 6301.7028925, 6301.7244415,\n",
       "       6301.7459905, 6301.7675395, 6301.7890885, 6301.8106375,\n",
       "       6301.8321865, 6301.8537355, 6301.8752845, 6301.8968335,\n",
       "       6301.9183825, 6301.9399315, 6301.9614805, 6301.9830295,\n",
       "       6302.0045785, 6302.0261275, 6302.0476765, 6302.0692255,\n",
       "       6302.0907745, 6302.1123235, 6302.1338725, 6302.1554215,\n",
       "       6302.1769705, 6302.1985195, 6302.2200685, 6302.2416175,\n",
       "       6302.2631665, 6302.2847155, 6302.3062645, 6302.3278135,\n",
       "       6302.3493625, 6302.3709115, 6302.3924605, 6302.4140095,\n",
       "       6302.4355585, 6302.4571075, 6302.4786565, 6302.5002055,\n",
       "       6302.5217545, 6302.5433035, 6302.5648525, 6302.5864015,\n",
       "       6302.6079505, 6302.6294995, 6302.6510485, 6302.6725975,\n",
       "       6302.6941465, 6302.7156955, 6302.7372445, 6302.7587935,\n",
       "       6302.7803425, 6302.8018915, 6302.8234405, 6302.8449895,\n",
       "       6302.8665385, 6302.8880875, 6302.9096365, 6302.9311855,\n",
       "       6302.9527345, 6302.9742835, 6302.9958325, 6303.0173815])"
      ]
     },
     "execution_count": 24,
     "metadata": {},
     "output_type": "execute_result"
    }
   ],
   "source": [
    "level1_cube.wcs.array_index_to_world_values(0,np.arange(100),0,0)[2] * 1.e10"
   ]
  },
  {
   "cell_type": "code",
   "execution_count": 41,
   "id": "c47e3ee1-a3a9-4ad0-afef-6deaf7342778",
   "metadata": {},
   "outputs": [
    {
     "ename": "TypeError",
     "evalue": "coord1_axis() missing 1 required positional argument: 'coord2'",
     "output_type": "error",
     "traceback": [
      "\u001b[0;31m---------------------------------------------------------------------------\u001b[0m",
      "\u001b[0;31mTypeError\u001b[0m                                 Traceback (most recent call last)",
      "\u001b[0;32m<ipython-input-41-0a72664eadeb>\u001b[0m in \u001b[0;36m<module>\u001b[0;34m\u001b[0m\n\u001b[0;32m----> 1\u001b[0;31m \u001b[0mlevel1_cube\u001b[0m\u001b[0;34m.\u001b[0m\u001b[0mcoord1_axis\u001b[0m\u001b[0;34m(\u001b[0m\u001b[0;34m)\u001b[0m\u001b[0;34m\u001b[0m\u001b[0;34m\u001b[0m\u001b[0m\n\u001b[0m",
      "\u001b[0;31mTypeError\u001b[0m: coord1_axis() missing 1 required positional argument: 'coord2'"
     ]
    }
   ],
   "source": [
    "level1_cube.coord1_axis()"
   ]
  },
  {
   "cell_type": "code",
   "execution_count": 18,
   "id": "dcc02689-4e6c-4cde-81ed-92333dbe1d3f",
   "metadata": {},
   "outputs": [
    {
     "data": {
      "text/plain": [
       "\u001b[0;31mSignature:\u001b[0m \u001b[0mlevel1_cube\u001b[0m\u001b[0;34m.\u001b[0m\u001b[0mwcs\u001b[0m\u001b[0;34m.\u001b[0m\u001b[0mworld_to_array_index_values\u001b[0m\u001b[0;34m(\u001b[0m\u001b[0;34m*\u001b[0m\u001b[0mworld_arrays\u001b[0m\u001b[0;34m)\u001b[0m\u001b[0;34m\u001b[0m\u001b[0;34m\u001b[0m\u001b[0m\n",
       "\u001b[0;31mDocstring:\u001b[0m\n",
       "Convert world coordinates to array indices.\n",
       "\n",
       "This is the same as `~astropy.wcs.wcsapi.BaseLowLevelWCS.world_to_pixel_values` except that\n",
       "the indices should be returned in ``(i, j)`` order, where for an image\n",
       "``i`` is the row and ``j`` is the column (i.e. the opposite order to\n",
       "`~astropy.wcs.wcsapi.BaseLowLevelWCS.pixel_to_world_values`). The indices should be\n",
       "returned as rounded integers.\n",
       "\n",
       "If `~astropy.wcs.wcsapi.BaseLowLevelWCS.pixel_n_dim` is ``1``, this\n",
       "method returns a single scalar or array, otherwise a tuple of scalars or\n",
       "arrays is returned.\n",
       "\u001b[0;31mFile:\u001b[0m      ~/anaconda3/envs/stokespy/lib/python3.9/site-packages/astropy/wcs/wcsapi/low_level_api.py\n",
       "\u001b[0;31mType:\u001b[0m      method\n"
      ]
     },
     "metadata": {},
     "output_type": "display_data"
    }
   ],
   "source": [
    "level1_cube.wcs.world_to_array_index_values?"
   ]
  },
  {
   "cell_type": "code",
   "execution_count": 9,
   "id": "c30345b2-a8fc-4f35-b989-53bf7638cbe7",
   "metadata": {},
   "outputs": [
    {
     "data": {
      "text/plain": [
       "(4, 6, 4096, 4096)"
      ]
     },
     "execution_count": 9,
     "metadata": {},
     "output_type": "execute_result"
    }
   ],
   "source": [
    "level1_cube.data.shape"
   ]
  },
  {
   "cell_type": "code",
   "execution_count": 5,
   "id": "a8923aa7-4532-4db7-a2a0-d30b9910138b",
   "metadata": {},
   "outputs": [],
   "source": [
    "I_cube = level1_cube.I"
   ]
  },
  {
   "cell_type": "code",
   "execution_count": 8,
   "id": "b8d34604-56ed-42bb-bc6e-3d9a6a9d8ed6",
   "metadata": {},
   "outputs": [
    {
     "data": {
      "text/plain": [
       "(112, 512, 1735)"
      ]
     },
     "execution_count": 8,
     "metadata": {},
     "output_type": "execute_result"
    }
   ],
   "source": [
    "I_cube.data.shape"
   ]
  },
  {
   "cell_type": "code",
   "execution_count": null,
   "id": "6df293c9-f185-4a1c-b74b-4cd401be30c5",
   "metadata": {},
   "outputs": [],
   "source": []
  },
  {
   "cell_type": "code",
   "execution_count": 7,
   "id": "8d1b9a18-31c5-4e41-8a83-9fbffe78d127",
   "metadata": {},
   "outputs": [
    {
     "name": "stdout",
     "output_type": "stream",
     "text": [
      "TODO: implement <class '__main__.StokesParamCube'>.plot()\n"
     ]
    },
    {
     "data": {
      "image/png": "[encoded data removed]",
      "text/plain": [
       "<Figure size 600x600 with 1 Axes>"
      ]
     },
     "metadata": {
      "needs_background": "light"
     },
     "output_type": "display_data"
    }
   ],
   "source": [
    "I_cube.plot(wavelength=30)"
   ]
  },
  {
   "cell_type": "code",
   "execution_count": 7,
   "id": "d98ae541-1a84-4db7-aba5-cd8fcb53852b",
   "metadata": {},
   "outputs": [
    {
     "data": {
      "text/plain": [
       "<WCSAxesSubplot:>"
      ]
     },
     "execution_count": 7,
     "metadata": {},
     "output_type": "execute_result"
    },
    {
     "data": {
      "image/png": "[encoded data removed]",
      "text/plain": [
       "<Figure size 432x288 with 1 Axes>"
      ]
     },
     "metadata": {
      "needs_background": "light"
     },
     "output_type": "display_data"
    }
   ],
   "source": [
    "level2_cube.azimuth.plot()"
   ]
  },
  {
   "cell_type": "code",
   "execution_count": 100,
   "id": "be19d794-1411-4659-90d5-28b8a5d22395",
   "metadata": {},
   "outputs": [
    {
     "data": {
      "text/plain": [
       "<SkyCoord (Helioprojective: obstime=2016-07-28T23:58:46.600, rsun=696000.0 km, observer=<HeliographicStonyhurst Coordinate (obstime=2016-07-28T23:58:46.600, rsun=696000.0 km): (lon, lat, radius) in (deg, deg, m)\n",
       "    (0.06217846, 5.58266211, 1.51876022e+11)>): (Tx, Ty) in arcsec\n",
       "    [(775.49433306,  1034.29546467), (775.49445233,  1033.79114361),\n",
       "     (775.4945716 ,  1033.28682254), ..., (775.98249858, -1029.92526356),\n",
       "     (775.98261785, -1030.4295847 ), (775.98273712, -1030.93390584)]>"
      ]
     },
     "execution_count": 100,
     "metadata": {},
     "output_type": "execute_result"
    }
   ],
   "source": [
    "level1_cube.coord1_axis(500)"
   ]
  },
  {
   "cell_type": "markdown",
   "id": "3c0f0b42-e03b-4aad-8b99-1f9afc096856",
   "metadata": {},
   "source": [
    "# Test the inverted magnetic maps"
   ]
  },
  {
   "cell_type": "code",
   "execution_count": 70,
   "id": "16e7d05b-aedc-4011-8bfd-5ba2c47da552",
   "metadata": {},
   "outputs": [
    {
     "name": "stdout",
     "output_type": "stream",
     "text": [
      "(3, 4096, 4096)\n"
     ]
    }
   ],
   "source": [
    "# StokesPy cube with inversion results.\n",
    "level2_cube = stokespy.MagVectorCube(level2_data, level2_wcs)\n",
    "\n",
    "print(level2_cube.data.shape)"
   ]
  },
  {
   "cell_type": "code",
   "execution_count": 75,
   "id": "bb5e3351-8af3-4984-bf27-f5eb48e86ec9",
   "metadata": {},
   "outputs": [],
   "source": [
    "tt = level2_cube.azimuth"
   ]
  },
  {
   "cell_type": "code",
   "execution_count": 77,
   "id": "b13bf60b-7e9c-4acd-8060-f10400029359",
   "metadata": {},
   "outputs": [
    {
     "data": {
      "application/vnd.jupyter.widget-view+json": {
       "model_id": "e684fbb93d7946b998c4062ace5ac67d",
       "version_major": 2,
       "version_minor": 0
      },
      "text/plain": [
       "Canvas(toolbar=Toolbar(toolitems=[('Home', 'Reset original view', 'home', 'home'), ('Back', 'Back to previous …"
      ]
     },
     "metadata": {},
     "output_type": "display_data"
    }
   ],
   "source": [
    "tt.plot()"
   ]
  },
  {
   "cell_type": "markdown",
   "id": "25a1b4e2-c791-458c-82eb-8ab85ee903eb",
   "metadata": {},
   "source": [
    "# Functions that calculate Blos and Br"
   ]
  },
  {
   "cell_type": "markdown",
   "id": "7be7f2f4-8700-4069-a8c6-a492efb908e2",
   "metadata": {},
   "source": [
    "These are copied from Ricky's codes. I am not sure which ones at this point."
   ]
  },
  {
   "cell_type": "code",
   "execution_count": 44,
   "id": "1c071a09-86b0-49bf-a5e8-f24b3178ff10",
   "metadata": {},
   "outputs": [],
   "source": [
    "x = np.array([1,2,3,-1,5])\n",
    "mx = np.ma.masked_array(x)"
   ]
  },
  {
   "cell_type": "code",
   "execution_count": 48,
   "id": "353edefd-6f1f-4286-80a1-10eae089596c",
   "metadata": {},
   "outputs": [
    {
     "data": {
      "text/plain": [
       "masked_array(data=[ 1,  2,  3, -1,  5],\n",
       "             mask=False,\n",
       "       fill_value=999999)"
      ]
     },
     "execution_count": 48,
     "metadata": {},
     "output_type": "execute_result"
    }
   ],
   "source": [
    "mx"
   ]
  },
  {
   "cell_type": "code",
   "execution_count": null,
   "id": "6062dbdc-f1cb-4fd3-af4f-8f0353f1b28c",
   "metadata": {},
   "outputs": [],
   "source": [
    "def calc_Blos(SP_level2, mult_alpha=True, noise_thresh=NOISE_THRESH, degrade_normal=False):\n",
    "    \"\"\"Calculate the line of sight and transverse B\"\"\"\n",
    "    B = np.ma.masked_array(SP_level2[1].data)  # Generate an array with a mask (default False)\n",
    "    \n",
    "    # Setup a noise threshold\n",
    "    if noise_thresh > 0 and noise_thresh < 1:\n",
    "        # threshold by a percentage beyond the mode\n",
    "        B_mode = modepeak(B)\n",
    "        noise_thresh = B_mode * (1 + noise_thresh)\n",
    "\n",
    "    B.mask = B <= noise_thresh  # Apply the mask\n",
    "    \n",
    "    # \n",
    "    Binc = SP_level2[2].data\n",
    "    if mult_alpha:\n",
    "        alpha = SP_level2[12].data\n",
    "    else:\n",
    "        alpha = 1\n",
    "    \n",
    "    # Take care to ensure floating point arithmetic \n",
    "    # doesn't result in negative value for sin(pi)\n",
    "    sel180 = Binc == 180.\n",
    "    sinBinc = np.sin(Binc * np.pi / 180.)\n",
    "    cosBinc = np.cos(Binc * np.pi / 180.)\n",
    "    sinBinc[sel180] = 0.\n",
    "    cosBinc[sel180] = -1.\n",
    "    Blos = alpha * B * cosBinc\n",
    "    Bperp = np.sqrt(alpha) * B * sinBinc\n",
    "    \n",
    "    if degrade_normal and not is_fast(SP_level2):\n",
    "        Blos = degrade(Blos)\n",
    "        Bperp = degrade(Bperp)\n",
    "    return Blos, Bperp"
   ]
  },
  {
   "cell_type": "code",
   "execution_count": null,
   "id": "bf3c659a-d6e8-4f8b-80b6-a6d07b2093bf",
   "metadata": {},
   "outputs": [],
   "source": [
    "def calc_Br(SP_level2, mult_alpha=True, noise_thresh=NOISE_THRESH, plane=False, degrade_normal=False):\n",
    "    Blos, Bperp = calc_Blos(SP_level2, mult_alpha=mult_alpha, noise_thresh=noise_thresh, degrade_normal=degrade_normal)\n",
    "    if plane:\n",
    "        x = SP_level2[0].header['XCEN'] # arcsec\n",
    "        y = SP_level2[0].header['YCEN'] # arcsec\n",
    "    else:\n",
    "        x = SP_level2[38].data # arcsec\n",
    "        y = SP_level2[39].data # arcsec\n",
    "        if degrade_normal and not is_fast(SP_level2):\n",
    "            # Average adjacent pixels in X and Y\n",
    "            x = degrade(x)\n",
    "            y = degrade(y)\n",
    "    timestamp = SP_level2[0].header['TSTART'] # TODO: get_header() function\n",
    "    lon, lat = hproj2hgraph(x, y, timestamp) # degrees\n",
    "    B0 = sunpy.coordinates.sun.B0(timestamp).deg # degrees\n",
    "    LOS_angle = (lat - B0) * (np.pi/180.) # radians; angle from LOS to radial vector\n",
    "    Br = Blos / np.cos(LOS_angle)\n",
    "    return Br"
   ]
  },
  {
   "cell_type": "markdown",
   "id": "1fa9b53a-f08e-4dac-9261-c6f06cbe29bb",
   "metadata": {},
   "source": [
    "# Test file sorting routines"
   ]
  },
  {
   "cell_type": "code",
   "execution_count": 1,
   "id": "df075b82-7e3e-492e-b992-f0cce33d3c69",
   "metadata": {},
   "outputs": [],
   "source": [
    "import numpy as np\n",
    "import os\n",
    "import natsort  # Sorting package"
   ]
  },
  {
   "cell_type": "code",
   "execution_count": 2,
   "id": "521c3173-fc43-4458-9609-60c681ae9f22",
   "metadata": {},
   "outputs": [],
   "source": [
    "user_dir = os.getcwd() + '/Data/SDO/'"
   ]
  },
  {
   "cell_type": "code",
   "execution_count": 3,
   "id": "9d4f04f8-b6a6-48ac-9d58-bccbd11e6d1c",
   "metadata": {},
   "outputs": [
    {
     "data": {
      "text/plain": [
       "'/home/gabriel/Desktop/Science/StokesPY/Data/SDO/'"
      ]
     },
     "execution_count": 3,
     "metadata": {},
     "output_type": "execute_result"
    }
   ],
   "source": [
    "user_dir"
   ]
  },
  {
   "cell_type": "code",
   "execution_count": null,
   "id": "0c0257a3-e937-419c-8d52-e7209cabf9e8",
   "metadata": {},
   "outputs": [],
   "source": []
  }
 ],
 "metadata": {
  "kernelspec": {
   "display_name": "Python [conda env:stokespy] *",
   "language": "python",
   "name": "conda-env-stokespy-py"
  },
  "language_info": {
   "codemirror_mode": {
    "name": "ipython",
    "version": 3
   },
   "file_extension": ".py",
   "mimetype": "text/x-python",
   "name": "python",
   "nbconvert_exporter": "python",
   "pygments_lexer": "ipython3",
   "version": "3.9.7"
  },
  "toc-autonumbering": true,
  "toc-showcode": false,
  "widgets": {
   "application/vnd.jupyter.widget-state+json": {
    "state": {},
    "version_major": 2,
    "version_minor": 0
   }
  }
 },
 "nbformat": 4,
 "nbformat_minor": 5
}
