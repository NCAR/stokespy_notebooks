{
 "cells": [
  {
   "cell_type": "markdown",
   "id": "d837f0a9-3f07-4357-9d87-9de5f4866427",
   "metadata": {},
   "source": [
    "# Load HMI data into lvl1 and lvl2 data cubes"
   ]
  },
  {
   "cell_type": "code",
   "execution_count": 3,
   "id": "99682c82-ff2d-4e46-b911-396319d62ccb",
   "metadata": {},
   "outputs": [],
   "source": [
    "import matplotlib.pyplot as plt\n",
    "import numpy as np\n",
    "\n",
    "import os\n",
    "import natsort  # Sorting package. Used when I parse the folder for files. There may be simpler ways to do this.\n",
    "\n",
    "#import astropy.units as u\n",
    "import astropy.wcs\n",
    "#from astropy.coordinates import SkyCoord, SpectralCoord\n",
    "import datetime\n",
    "\n",
    "#import stokespy\n",
    "#import ndcube\n",
    "\n",
    "#import sunpy\n",
    "#import sunpy.map\n",
    "from sunpy.net import Fido, attrs\n",
    "\n",
    "# Set working directory. \n",
    "work_dir = os.getcwd()\n",
    "\n",
    "#data_dir = work_dir + '/Data/SDO/'\n",
    "data_dir = '/home/gabriel/Desktop/Science/StokesPY' + '/Data/SDO/'\n",
    "\n",
    "script_name = 'HMI_data_loading'\n",
    "\n",
    "#from ndcube import NDCube, GlobalCoords, ExtraCoords"
   ]
  },
  {
   "cell_type": "code",
   "execution_count": 1,
   "id": "480e51bd-a17b-479b-a6d9-80b7ad10c62b",
   "metadata": {},
   "outputs": [],
   "source": [
    "import numpy as np\n",
    "\n",
    "import os\n",
    "import natsort  # Sorting package. Used when I parse the folder for files. There may be simpler ways to do this.\n",
    "\n",
    "#import astropy.units as u\n",
    "import astropy.wcs\n",
    "#from astropy.coordinates import SkyCoord, SpectralCoord\n",
    "import datetime\n",
    "\n",
    "import stokespy\n",
    "#import ndcube\n",
    "\n",
    "#import sunpy\n",
    "import sunpy.map\n",
    "from sunpy.net import Fido, attrs"
   ]
  },
  {
   "cell_type": "code",
   "execution_count": null,
   "id": "eaf09e28-c531-4d15-b88b-488acf410b25",
   "metadata": {},
   "outputs": [],
   "source": []
  },
  {
   "cell_type": "code",
   "execution_count": 2,
   "id": "d5c5be9e-3749-4dc6-ad32-bdeb41b2a7aa",
   "metadata": {},
   "outputs": [
    {
     "data": {
      "text/plain": [
       "\"\\n# Parse the data folder and select subset of files.\\ninst = 'aia'\\nwave = '171'\\n\\nuse_fnames = parse_folder(dir_path = img_dir, ext='fits', inst='aia', wave='171')\\nprint(len(use_fnames))\\nfor i in use_fnames:\\n    print(i)\\n\""
      ]
     },
     "execution_count": 2,
     "metadata": {},
     "output_type": "execute_result"
    }
   ],
   "source": [
    "def parse_folder(dir_path=None, inst=None, wave=None, ext=None, \n",
    "                 series=None, repo='JSOC', show=True):\n",
    "    \"\"\"\n",
    "    Search all the filenames in a folder containing SDO data and use the keywords\n",
    "    to select a desired subset. For example setting inst=\"hmi\" will obtain all the hmi filenames.\n",
    "    dir_path: Path to the directory containing the data.\n",
    "    inst: SDO instrument\n",
    "    wave: wavelength (primarily for AIA data)\n",
    "    ext: Select the file extension\n",
    "    series: String characterizing the data series (e.g. hmi.S_720s, aia.lev1_euv_12s)\n",
    "    repo: Choose the data repository. Each repository stores filenames with different syntaxes.\n",
    "    show: Flag that enumerates the files found.\n",
    "    \"\"\"\n",
    "    \n",
    "    if dir_path is None:\n",
    "        dir_path = os.getcwd()\n",
    "    \n",
    "    # Read and sort all the filenames in the folder.\n",
    "    all_fnames = natsort.natsorted(os.listdir(dir_path)) \n",
    "    \n",
    "    # Select a subset of files\n",
    "    use_fnames = []\n",
    "    \n",
    "    for i, file_ in enumerate(all_fnames):\n",
    "        if repo == 'JSOC':\n",
    "            sfile_ = file_.lower().split(\".\")\n",
    "        elif repo == 'VSO':\n",
    "            sfile_ = file_.lower().split(\"_\")\n",
    "        \n",
    "        if sfile_[0] == inst.lower() and sfile_[1] == series.lower(): \n",
    "            use_fnames.append(dir_path + file_)\n",
    "        \n",
    "        '''\n",
    "        if ext is None and inst is None:\n",
    "            use_fnames.append(dir_path + file_)\n",
    "        elif ext is None and inst is not None and sfile_[0] == inst.lower() and wave is None:\n",
    "            use_fnames.append(dir_path + file_)\n",
    "        elif ext is None and inst is not None and sfile_[0] == inst.lower() and wave is not None and sfile_[2] == wave + 'a':\n",
    "            use_fnames.append(dir_path + file_)\n",
    "        elif ext is not None and file_.endswith(ext) and inst is None:\n",
    "            use_fnames.append(dir_path + file_)\n",
    "        elif ext is not None and file_.endswith(ext) and inst is not None and sfile_[0] == inst.lower() and wave is None:\n",
    "            use_fnames.append(dir_path + file_)\n",
    "        elif ext is not None and file_.endswith(ext) and inst is not None and sfile_[0] == inst.lower() and wave is not None and sfile_[2] == wave + 'a':\n",
    "            use_fnames.append(dir_path + file_)\n",
    "        '''\n",
    "    '''\n",
    "    for i, file_ in enumerate(all_fnames):\n",
    "        # Select by extension.\n",
    "        if ext is not None and file_.endswith(ext):        \n",
    "            sfile_ = file_.split(\"_\")\n",
    "            # Select by instrument.\n",
    "            if inst is not None and sfile_[0] == inst.lower(): \n",
    "                if wave is not None and inst.lower() == 'aia' and sfile_[2] == wave + 'a':   \n",
    "                    use_fnames.append(dir_path + file_)\n",
    "        else:\n",
    "            sfile_ = file_.split(\"_\")\n",
    "            # Select by instrument.\n",
    "            if inst is not None and sfile_[0] == inst.lower(): \n",
    "                if wave is not None and inst.lower() == 'aia' and sfile_[2] == wave + 'a':   \n",
    "                    use_fnames.append(dir_path + file_)\n",
    "    '''\n",
    "    \n",
    "    if show:\n",
    "        for i, file_ in enumerate(use_fnames):\n",
    "            print(i, file_)\n",
    "    \n",
    "    return use_fnames\n",
    "\n",
    "# Test the functiom.\n",
    "'''\n",
    "# Parse the data folder and select subset of files.\n",
    "inst = 'aia'\n",
    "wave = '171'\n",
    "\n",
    "use_fnames = parse_folder(dir_path = img_dir, ext='fits', inst='aia', wave='171')\n",
    "print(len(use_fnames))\n",
    "for i in use_fnames:\n",
    "    print(i)\n",
    "'''"
   ]
  },
  {
   "cell_type": "code",
   "execution_count": 5,
   "id": "31b96f82-290e-4193-8f39-03d3e3fbfeb5",
   "metadata": {},
   "outputs": [],
   "source": [
    "def get_HMI_data(user_date, user_notify='gdima@hawaii.edu', data_dir=None, max_conn=1, download=True, show_files=False):\n",
    "    \"\"\"\n",
    "    Function that finds the nearest HMI 720s Stokes data series and inversion results.\n",
    "    Parameters\n",
    "    ----------\n",
    "    user_data: `astropy.time` object.\n",
    "    user_notify: Notification email. This must be registered with JSOC. \n",
    "    \"\"\"\n",
    "    \n",
    "    # Calculate a 1s bounding time around the input date user_date\n",
    "    # FIDO finds all series where at least one observation was present in the \n",
    "    # time interval.\n",
    "    time0 = astropy.time.Time(user_date.gps - 1., format='gps', scale='tai')\n",
    "    time1 = astropy.time.Time(user_date.gps + 1., format='gps', scale='tai')\n",
    "\n",
    "    a_time = attrs.Time(time0, time1)\n",
    "    print('Time window used for the search: ', a_time)\n",
    "    \n",
    "    # Set the notification email. This must be registered with JSOC. \n",
    "    a_notify = attrs.jsoc.Notify(user_notify)\n",
    "    \n",
    "    # Set the default data directory if no user directory is specified.\n",
    "    if data_dir is None:\n",
    "        # Set working directory. \n",
    "        data_dir = os.getcwd() + '/Data/SDO/'\n",
    "        print('User directory pointing to SDO data is not included.')\n",
    "        print('Setting the default directory to: ' + data_dir)\n",
    "    \n",
    "    # Check if the data directory exists and create one if it doesn't.\n",
    "    if not os.path.exists(data_dir):\n",
    "        print('Data directory created: ', data_dir)\n",
    "        os.makedirs(data_dir)\n",
    "    \n",
    "    ### Get the 720s HMI Stokes image series ###\n",
    "    a_series = attrs.jsoc.Series('hmi.S_720s')\n",
    "    \n",
    "    if download:\n",
    "        results_stokes = Fido.search(a_time, a_series, a_notify)\n",
    "        down_files = Fido.fetch(results_stokes, path=data_dir, max_conn=1)\n",
    "        # Sort the input filenames\n",
    "        all_fnames_stokes = natsort.natsorted(down_files)\n",
    "    else:\n",
    "        all_fnames_stokes = parse_folder(dir_path=data_dir, inst='hmi', series='S_720s', ext='fits', show=show_files)\n",
    "    \n",
    "        if len(all_fnames_stokes) > 1:\n",
    "            tstamps = [i.split('.')[2] for i in all_fnames_stokes]\n",
    "            tstamps = [sunpy.time.parse_time('_'.join(i.split('_')[0:2])) for i in tstamps]\n",
    "            tstamps_diff = [np.abs(i.gps - user_date.gps) for i in tstamps]\n",
    "       \n",
    "        # Search for the closest timestamp\n",
    "        tstamps_diff = np.asarray(tstamps_diff)\n",
    "        tstamps_ix, = np.where(tstamps_diff == tstamps_diff.min())\n",
    "\n",
    "        all_fnames_stokes = np.asarray(all_fnames_stokes)[tstamps_ix]\n",
    "        \n",
    "        print(f'No download requested. Nearest {len(all_fnames_stokes)} Stokes files found: ')\n",
    "        print(all_fnames_stokes)\n",
    "    \n",
    "    ### Get the HMI Milne-Eddington magentic field inversion series ###\n",
    "    a_series = attrs.jsoc.Series('hmi.ME_720s_fd10')\n",
    "    \n",
    "    if download:\n",
    "        results_magvec = Fido.search(a_time, a_series, a_notify)\n",
    "        down_files = Fido.fetch(results_magvec, path=data_dir, max_conn=1)\n",
    "        # Sort the input names\n",
    "        all_fnames_magvec = natsort.natsorted(down_files)\n",
    "    else:\n",
    "        all_fnames_magvec = parse_folder(dir_path=data_dir, inst='hmi', series='ME_720s_fd10', ext='fits', show=show_files)\n",
    "        \n",
    "        if len(all_fnames_magvec) > 1:\n",
    "            tstamps = [i.split('.')[2] for i in all_fnames_magvec]\n",
    "            tstamps = [sunpy.time.parse_time('_'.join(i.split('_')[0:2])) for i in tstamps]\n",
    "            tstamps_diff = [np.abs(i.gps - user_date.gps) for i in tstamps]\n",
    "        else:\n",
    "            print('No files found close to the date requested')\n",
    "            return \n",
    "            \n",
    "        # Search for the closest timestamp\n",
    "        tstamps_diff = np.asarray(tstamps_diff)\n",
    "        tstamps_ix, = np.where(tstamps_diff == tstamps_diff.min())\n",
    "\n",
    "        all_fnames_magvec = np.asarray(all_fnames_magvec)[tstamps_ix]\n",
    "        \n",
    "        print(f'No download requested. Nearest inversion {len(all_fnames_magvec)} files found: ')\n",
    "        print(all_fnames_magvec)\n",
    "\n",
    "    ## Create data array\n",
    "    ## Use sunpy.map.Map to read HMI files since it provides the correct observer frame of reference.\n",
    "\n",
    "    level1_data = []\n",
    "    for i, fname in enumerate(all_fnames_stokes):\n",
    "        level1_data.append(sunpy.map.Map(fname).data)\n",
    "\n",
    "    level1_data = np.asarray(level1_data)\n",
    "    level1_data = level1_data.reshape(4,6,level1_data.shape[1], level1_data.shape[2])\n",
    "\n",
    "    print(f'Created data cube with dimensions: {level1_data.shape}')    \n",
    "    \n",
    "    ## Create the WCS object\n",
    "    # Expand the coordinate axis to include wavelength and stokes dimensions.\n",
    "\n",
    "    l0 = 6173.345 * 1.e-10  # m Central wavelength for FeI line\n",
    "    dl = 0.0688   * 1.e-10  # m \n",
    "\n",
    "    # Generate WCS for data cube using same WCS celestial information from AIA map.\n",
    "    wcs_header = sunpy.map.Map(all_fnames_stokes[0]).wcs.to_header()\n",
    "\n",
    "    wcs_header[\"WCSAXES\"] = 4\n",
    "\n",
    "    # Add wavelength axis.\n",
    "    wcs_header[\"CRPIX3\"] = 3.5\n",
    "    wcs_header[\"CDELT3\"] = dl\n",
    "    wcs_header[\"CUNIT3\"] = 'm'\n",
    "    wcs_header[\"CTYPE3\"] = \"WAVE\"\n",
    "    wcs_header[\"CRVAL3\"] = l0\n",
    "\n",
    "    # Add Stokes axis.\n",
    "    wcs_header[\"CRPIX4\"] = 0\n",
    "    wcs_header[\"CDELT4\"] = 1\n",
    "    wcs_header[\"CUNIT4\"] = ''\n",
    "    wcs_header[\"CTYPE4\"] = \"STOKES\"\n",
    "    wcs_header[\"CRVAL4\"] = 0\n",
    "\n",
    "    level1_wcs = astropy.wcs.WCS(wcs_header)\n",
    "    \n",
    "    # Create MagVectorCube from HMI inversions\n",
    "    mag_params = ['field', 'inclination', 'azimuth']\n",
    "\n",
    "    level2_data = []\n",
    "\n",
    "    # Load 2D maps into level2_data in the order determined by entries in mag_params\n",
    "    use_fnames = []\n",
    "    for mag_param in mag_params:\n",
    "        for i, fname in enumerate(all_fnames_magvec):\n",
    "            data_id = fname.split('.')[-2]\n",
    "            if data_id == mag_param:\n",
    "                use_fnames.append(fname)\n",
    "                with astropy.io.fits.open(fname) as hdulist:\n",
    "                    level2_data.append(hdulist[1].data)\n",
    "\n",
    "    level2_data = np.asarray(level2_data)\n",
    "\n",
    "    print(f'Created data cube with dimensions: {level2_data.shape}')\n",
    "    print('Filenames used: ')\n",
    "    for fname in use_fnames:\n",
    "        print(fname)\n",
    "    \n",
    "    # Expand the wcs coordinates to include the magnetic field parameters.\n",
    "\n",
    "    # Generate WCS for data cube using same WCS celestial information from AIA map.\n",
    "    wcs_header = sunpy.map.Map(all_fnames_stokes[0]).wcs.to_header()\n",
    "\n",
    "    wcs_header[\"WCSAXES\"] = 3\n",
    "\n",
    "    # Add Magnetic field axis.\n",
    "    wcs_header[\"CRPIX3\"] = 0\n",
    "    wcs_header[\"CDELT3\"] = 1\n",
    "    wcs_header[\"CUNIT3\"] = ''\n",
    "    wcs_header[\"CTYPE3\"] = \"Parameter\"\n",
    "    wcs_header[\"CRVAL3\"] = 0\n",
    "\n",
    "    level2_wcs = astropy.wcs.WCS(wcs_header)\n",
    "    \n",
    "    return level1_data, level1_wcs, level2_data, level2_wcs\n",
    "\n"
   ]
  },
  {
   "cell_type": "markdown",
   "id": "97107d14-48c8-46f4-aa14-6cb57a73e3c5",
   "metadata": {},
   "source": [
    "# Download HMI timeseries"
   ]
  },
  {
   "cell_type": "code",
   "execution_count": 2,
   "id": "ad726a07-fcdb-4502-8a4f-b6622d861c50",
   "metadata": {},
   "outputs": [
    {
     "name": "stdout",
     "output_type": "stream",
     "text": [
      "Time window used for the search:  <sunpy.net.attrs.Time(2015-07-28 23:56:59.000, 2015-07-28 23:57:01.000)>\n",
      "User directory pointing to SDO data is not included.\n",
      "Setting the default directory to: /home/gabriel/Desktop/Science/StokesPY/stokespy_notebooks/Data/SDO/\n",
      "No download requested. Nearest 24 Stokes files found: \n",
      "['/home/gabriel/Desktop/Science/StokesPY/stokespy_notebooks/Data/SDO/hmi.s_720s.20160728_234800_TAI.3.I0.fits'\n",
      " '/home/gabriel/Desktop/Science/StokesPY/stokespy_notebooks/Data/SDO/hmi.s_720s.20160728_234800_TAI.3.I1.fits'\n",
      " '/home/gabriel/Desktop/Science/StokesPY/stokespy_notebooks/Data/SDO/hmi.s_720s.20160728_234800_TAI.3.I2.fits'\n",
      " '/home/gabriel/Desktop/Science/StokesPY/stokespy_notebooks/Data/SDO/hmi.s_720s.20160728_234800_TAI.3.I3.fits'\n",
      " '/home/gabriel/Desktop/Science/StokesPY/stokespy_notebooks/Data/SDO/hmi.s_720s.20160728_234800_TAI.3.I4.fits'\n",
      " '/home/gabriel/Desktop/Science/StokesPY/stokespy_notebooks/Data/SDO/hmi.s_720s.20160728_234800_TAI.3.I5.fits'\n",
      " '/home/gabriel/Desktop/Science/StokesPY/stokespy_notebooks/Data/SDO/hmi.s_720s.20160728_234800_TAI.3.Q0.fits'\n",
      " '/home/gabriel/Desktop/Science/StokesPY/stokespy_notebooks/Data/SDO/hmi.s_720s.20160728_234800_TAI.3.Q1.fits'\n",
      " '/home/gabriel/Desktop/Science/StokesPY/stokespy_notebooks/Data/SDO/hmi.s_720s.20160728_234800_TAI.3.Q2.fits'\n",
      " '/home/gabriel/Desktop/Science/StokesPY/stokespy_notebooks/Data/SDO/hmi.s_720s.20160728_234800_TAI.3.Q3.fits'\n",
      " '/home/gabriel/Desktop/Science/StokesPY/stokespy_notebooks/Data/SDO/hmi.s_720s.20160728_234800_TAI.3.Q4.fits'\n",
      " '/home/gabriel/Desktop/Science/StokesPY/stokespy_notebooks/Data/SDO/hmi.s_720s.20160728_234800_TAI.3.Q5.fits'\n",
      " '/home/gabriel/Desktop/Science/StokesPY/stokespy_notebooks/Data/SDO/hmi.s_720s.20160728_234800_TAI.3.U0.fits'\n",
      " '/home/gabriel/Desktop/Science/StokesPY/stokespy_notebooks/Data/SDO/hmi.s_720s.20160728_234800_TAI.3.U1.fits'\n",
      " '/home/gabriel/Desktop/Science/StokesPY/stokespy_notebooks/Data/SDO/hmi.s_720s.20160728_234800_TAI.3.U2.fits'\n",
      " '/home/gabriel/Desktop/Science/StokesPY/stokespy_notebooks/Data/SDO/hmi.s_720s.20160728_234800_TAI.3.U3.fits'\n",
      " '/home/gabriel/Desktop/Science/StokesPY/stokespy_notebooks/Data/SDO/hmi.s_720s.20160728_234800_TAI.3.U4.fits'\n",
      " '/home/gabriel/Desktop/Science/StokesPY/stokespy_notebooks/Data/SDO/hmi.s_720s.20160728_234800_TAI.3.U5.fits'\n",
      " '/home/gabriel/Desktop/Science/StokesPY/stokespy_notebooks/Data/SDO/hmi.s_720s.20160728_234800_TAI.3.V0.fits'\n",
      " '/home/gabriel/Desktop/Science/StokesPY/stokespy_notebooks/Data/SDO/hmi.s_720s.20160728_234800_TAI.3.V1.fits'\n",
      " '/home/gabriel/Desktop/Science/StokesPY/stokespy_notebooks/Data/SDO/hmi.s_720s.20160728_234800_TAI.3.V2.fits'\n",
      " '/home/gabriel/Desktop/Science/StokesPY/stokespy_notebooks/Data/SDO/hmi.s_720s.20160728_234800_TAI.3.V3.fits'\n",
      " '/home/gabriel/Desktop/Science/StokesPY/stokespy_notebooks/Data/SDO/hmi.s_720s.20160728_234800_TAI.3.V4.fits'\n",
      " '/home/gabriel/Desktop/Science/StokesPY/stokespy_notebooks/Data/SDO/hmi.s_720s.20160728_234800_TAI.3.V5.fits']\n",
      "No download requested. Nearest inversion 25 files found: \n",
      "['/home/gabriel/Desktop/Science/StokesPY/stokespy_notebooks/Data/SDO/hmi.me_720s_fd10.20160728_234800_TAI.alpha_err.fits'\n",
      " '/home/gabriel/Desktop/Science/StokesPY/stokespy_notebooks/Data/SDO/hmi.me_720s_fd10.20160728_234800_TAI.alpha_mag.fits'\n",
      " '/home/gabriel/Desktop/Science/StokesPY/stokespy_notebooks/Data/SDO/hmi.me_720s_fd10.20160728_234800_TAI.azimuth.fits'\n",
      " '/home/gabriel/Desktop/Science/StokesPY/stokespy_notebooks/Data/SDO/hmi.me_720s_fd10.20160728_234800_TAI.azimuth_alpha_err.fits'\n",
      " '/home/gabriel/Desktop/Science/StokesPY/stokespy_notebooks/Data/SDO/hmi.me_720s_fd10.20160728_234800_TAI.azimuth_err.fits'\n",
      " '/home/gabriel/Desktop/Science/StokesPY/stokespy_notebooks/Data/SDO/hmi.me_720s_fd10.20160728_234800_TAI.chisq.fits'\n",
      " '/home/gabriel/Desktop/Science/StokesPY/stokespy_notebooks/Data/SDO/hmi.me_720s_fd10.20160728_234800_TAI.confid_map.fits'\n",
      " '/home/gabriel/Desktop/Science/StokesPY/stokespy_notebooks/Data/SDO/hmi.me_720s_fd10.20160728_234800_TAI.conv_flag.fits'\n",
      " '/home/gabriel/Desktop/Science/StokesPY/stokespy_notebooks/Data/SDO/hmi.me_720s_fd10.20160728_234800_TAI.damping.fits'\n",
      " '/home/gabriel/Desktop/Science/StokesPY/stokespy_notebooks/Data/SDO/hmi.me_720s_fd10.20160728_234800_TAI.dop_width.fits'\n",
      " '/home/gabriel/Desktop/Science/StokesPY/stokespy_notebooks/Data/SDO/hmi.me_720s_fd10.20160728_234800_TAI.eta_0.fits'\n",
      " '/home/gabriel/Desktop/Science/StokesPY/stokespy_notebooks/Data/SDO/hmi.me_720s_fd10.20160728_234800_TAI.field.fits'\n",
      " '/home/gabriel/Desktop/Science/StokesPY/stokespy_notebooks/Data/SDO/hmi.me_720s_fd10.20160728_234800_TAI.field_alpha_err.fits'\n",
      " '/home/gabriel/Desktop/Science/StokesPY/stokespy_notebooks/Data/SDO/hmi.me_720s_fd10.20160728_234800_TAI.field_az_err.fits'\n",
      " '/home/gabriel/Desktop/Science/StokesPY/stokespy_notebooks/Data/SDO/hmi.me_720s_fd10.20160728_234800_TAI.field_err.fits'\n",
      " '/home/gabriel/Desktop/Science/StokesPY/stokespy_notebooks/Data/SDO/hmi.me_720s_fd10.20160728_234800_TAI.field_inclination_err.fits'\n",
      " '/home/gabriel/Desktop/Science/StokesPY/stokespy_notebooks/Data/SDO/hmi.me_720s_fd10.20160728_234800_TAI.inclin_azimuth_err.fits'\n",
      " '/home/gabriel/Desktop/Science/StokesPY/stokespy_notebooks/Data/SDO/hmi.me_720s_fd10.20160728_234800_TAI.inclination.fits'\n",
      " '/home/gabriel/Desktop/Science/StokesPY/stokespy_notebooks/Data/SDO/hmi.me_720s_fd10.20160728_234800_TAI.inclination_alpha_err.fits'\n",
      " '/home/gabriel/Desktop/Science/StokesPY/stokespy_notebooks/Data/SDO/hmi.me_720s_fd10.20160728_234800_TAI.inclination_err.fits'\n",
      " '/home/gabriel/Desktop/Science/StokesPY/stokespy_notebooks/Data/SDO/hmi.me_720s_fd10.20160728_234800_TAI.qual_map.fits'\n",
      " '/home/gabriel/Desktop/Science/StokesPY/stokespy_notebooks/Data/SDO/hmi.me_720s_fd10.20160728_234800_TAI.src_continuum.fits'\n",
      " '/home/gabriel/Desktop/Science/StokesPY/stokespy_notebooks/Data/SDO/hmi.me_720s_fd10.20160728_234800_TAI.src_grad.fits'\n",
      " '/home/gabriel/Desktop/Science/StokesPY/stokespy_notebooks/Data/SDO/hmi.me_720s_fd10.20160728_234800_TAI.vlos_err.fits'\n",
      " '/home/gabriel/Desktop/Science/StokesPY/stokespy_notebooks/Data/SDO/hmi.me_720s_fd10.20160728_234800_TAI.vlos_mag.fits']\n",
      "Created data cube with dimensions: (4, 6, 4096, 4096)\n",
      "Created data cube with dimensions: (3, 4096, 4096)\n",
      "Filenames used: \n",
      "/home/gabriel/Desktop/Science/StokesPY/stokespy_notebooks/Data/SDO/hmi.me_720s_fd10.20160728_234800_TAI.field.fits\n",
      "/home/gabriel/Desktop/Science/StokesPY/stokespy_notebooks/Data/SDO/hmi.me_720s_fd10.20160728_234800_TAI.inclination.fits\n",
      "/home/gabriel/Desktop/Science/StokesPY/stokespy_notebooks/Data/SDO/hmi.me_720s_fd10.20160728_234800_TAI.azimuth.fits\n"
     ]
    }
   ],
   "source": [
    "# Select a date and time to search for observations.\n",
    "user_date = astropy.time.Time(datetime.datetime(2016, 7, 28, 23, 57, 0), scale='tai')\n",
    "\n",
    "# Find the nearest set of Stokes and corresponding inversion results.\n",
    "#all_fnames_stokes, all_fnames_magvec = get_HMI_data(user_date, user_notify='gdima@hawaii.edu', download=False)\n",
    "level1_data, level1_wcs, level2_data, level2_wcs = \\\n",
    "    stokespy.get_HMI_data(user_date, user_notify='gdima@hawaii.edu', download=False)\n"
   ]
  },
  {
   "cell_type": "markdown",
   "id": "9a0cff57-4edf-4959-830d-8df22a93d05f",
   "metadata": {},
   "source": [
    "# Create StokesCube from HMI images"
   ]
  },
  {
   "cell_type": "markdown",
   "id": "9da1d6af-b3cf-4106-b71c-1c5d5b382340",
   "metadata": {},
   "source": [
    "## Create the StokesCube object"
   ]
  },
  {
   "cell_type": "code",
   "execution_count": 9,
   "id": "1354c983-1be5-433d-9373-47363c1befad",
   "metadata": {},
   "outputs": [],
   "source": [
    "level1_cube = stokespy.StokesCube(level1_data, level1_wcs)"
   ]
  },
  {
   "cell_type": "markdown",
   "id": "76122883-7a37-482a-b953-8c1cd640d206",
   "metadata": {},
   "source": [
    "# Create MagVectorCube from HMI inversions"
   ]
  },
  {
   "cell_type": "markdown",
   "id": "0b3ba7b9-698e-4907-a727-f6733d3c2d85",
   "metadata": {},
   "source": [
    "## Create the MagVectorCube object"
   ]
  },
  {
   "cell_type": "code",
   "execution_count": 11,
   "id": "5ff16a34-ffe6-4840-8e6b-bab7d6b5628d",
   "metadata": {},
   "outputs": [],
   "source": [
    "level2_cube = stokespy.MagVectorCube(level2_data, level2_wcs)"
   ]
  },
  {
   "cell_type": "code",
   "execution_count": 12,
   "id": "1ccf5125-9d67-413b-842d-42432003f4f5",
   "metadata": {},
   "outputs": [
    {
     "data": {
      "application/vnd.jupyter.widget-view+json": {
       "model_id": "beb3f54c15194029876bdd91e5f68b69",
       "version_major": 2,
       "version_minor": 0
      },
      "text/plain": [
       "Canvas(toolbar=Toolbar(toolitems=[('Home', 'Reset original view', 'home', 'home'), ('Back', 'Back to previous …"
      ]
     },
     "metadata": {},
     "output_type": "display_data"
    },
    {
     "data": {
      "text/plain": [
       "<WCSAxesSubplot:>"
      ]
     },
     "execution_count": 12,
     "metadata": {},
     "output_type": "execute_result"
    }
   ],
   "source": [
    "# I use jupyter lab which uses this widget command for interactive plotting\n",
    "#%matplotlib notebook\n",
    "%matplotlib widget  \n",
    "\n",
    "mag_map = level2_cube.inclination\n",
    "mag_map.plot()"
   ]
  },
  {
   "cell_type": "code",
   "execution_count": 13,
   "id": "12ac7ffe-4539-4eb4-b786-fe8636043f16",
   "metadata": {},
   "outputs": [
    {
     "data": {
      "text/plain": [
       "('B', 'inclination', 'azimuth')"
      ]
     },
     "execution_count": 13,
     "metadata": {},
     "output_type": "execute_result"
    }
   ],
   "source": [
    "level2_cube._magnetic_axis"
   ]
  },
  {
   "cell_type": "code",
   "execution_count": null,
   "id": "ef6735bb-ca0c-4567-97a2-ea5922cea3b5",
   "metadata": {},
   "outputs": [],
   "source": []
  }
 ],
 "metadata": {
  "kernelspec": {
   "display_name": "Python [conda env:stokespy] *",
   "language": "python",
   "name": "conda-env-stokespy-py"
  },
  "language_info": {
   "codemirror_mode": {
    "name": "ipython",
    "version": 3
   },
   "file_extension": ".py",
   "mimetype": "text/x-python",
   "name": "python",
   "nbconvert_exporter": "python",
   "pygments_lexer": "ipython3",
   "version": "3.9.4"
  },
  "widgets": {
   "application/vnd.jupyter.widget-state+json": {
    "state": {},
    "version_major": 2,
    "version_minor": 0
   }
  }
 },
 "nbformat": 4,
 "nbformat_minor": 5
}
