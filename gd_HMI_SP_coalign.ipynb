{
 "cells": [
  {
   "cell_type": "code",
   "execution_count": 1,
   "id": "1990b9f2-6b58-4946-a55d-05afc4bd5217",
   "metadata": {},
   "outputs": [],
   "source": [
    "import astropy\n",
    "import datetime\n",
    "from stokespy import instload\n",
    "import sunpy\n",
    "import time\n",
    "\n",
    "from astropy.io import fits\n",
    "from astropy.time import Time, TimeDelta\n",
    "from scipy import ndimage\n",
    "from sunpy.image import coalignment\n",
    "import matplotlib.pyplot as plt\n",
    "import numpy as np\n",
    "import drms, glob, os\n",
    "\n",
    "import warnings\n",
    "warnings.filterwarnings('ignore')"
   ]
  },
  {
   "cell_type": "code",
   "execution_count": 2,
   "id": "81084a64-7d0e-43aa-846a-3aff153c79bb",
   "metadata": {},
   "outputs": [],
   "source": [
    "def get_image_shift(image1, image2):\n",
    "    # slightly modified code snippet from bitbucket to determine the shift\n",
    "    # between two images using FFT:\n",
    "    \n",
    "    # discrete fast fourier transformation and complex conjugation of image2 \n",
    "    image1FFT = np.fft.fft2(image1)\n",
    "    image2FFT = np.conjugate( np.fft.fft2(image2) )\n",
    "\n",
    "    # inverse fourier transformation of product -> equal to cross correlation\n",
    "    imageCCor = np.real( np.fft.ifft2( (image1FFT*image2FFT) ) )\n",
    "\n",
    "    # shift the zero-frequency component to the center of the spectrum\n",
    "    imageCCorShift = np.fft.fftshift(imageCCor)\n",
    "\n",
    "    # determine the distance of the maximum from the center\n",
    "    row, col = image1.shape\n",
    "\n",
    "    yshift, xshift = np.unravel_index( np.argmax(imageCCorShift), (row,col) )\n",
    "\n",
    "    xshift -= int(col/2)\n",
    "    yshift -= int(row/2)\n",
    "\n",
    "    return xshift, yshift"
   ]
  },
  {
   "cell_type": "markdown",
   "id": "e4514373-778d-4ba3-bb3f-df8f5605c115",
   "metadata": {},
   "source": [
    "# Load the hinode files"
   ]
  },
  {
   "cell_type": "code",
   "execution_count": 2,
   "id": "622785aa-ec5b-42a0-a464-5142f5331cf3",
   "metadata": {},
   "outputs": [],
   "source": [
    "# Choose the Hinode file to load.\n",
    "user_dir = os.getcwd() + '/Data/Hinode/'\n",
    "#user_date = '20170822_171104'   # AR near limb\n",
    "user_date = '20170905_030404'  # AR near center\n",
    "\n",
    "### Generate the scan file list.\n",
    "level1_dir = user_dir + 'Level1/' + user_date\n",
    "level1_files = []\n",
    "for file in sorted(os.listdir(level1_dir)):\n",
    "    if not file.endswith(\".fits\"):\n",
    "        continue\n",
    "    level1_files.append(os.path.join(level1_dir, file))"
   ]
  },
  {
   "cell_type": "code",
   "execution_count": 35,
   "id": "05e8fee4-a1e3-49b8-81da-4005b40340de",
   "metadata": {},
   "outputs": [
    {
     "data": {
      "text/plain": [
       "(4, 512, 485)"
      ]
     },
     "execution_count": 35,
     "metadata": {},
     "output_type": "execute_result"
    }
   ],
   "source": [
    "# Choose the Hinode file to load.\n",
    "\n",
    "### Read the Level 2 fit data. \n",
    "level2_fname = user_dir + '/Level2/' + user_date + '.fits'\n",
    "SP_level2 = astropy.io.fits.open(level2_fname)\n",
    "\n",
    "Ny, Nx = SP_level2['Field_Strength'].data.shape\n",
    "level2_data = np.zeros((4, Ny, Nx))\n",
    "level2_data[0] = SP_level2['Field_Strength'].data\n",
    "level2_data[1] = SP_level2['Field_Inclination'].data\n",
    "level2_data[2] = SP_level2['Field_Azimuth'].data\n",
    "level2_data[3] = SP_level2['Stray_Light_Fill_Factor'].data\n",
    "level2_data.shape\n",
    "\n",
    "### Build WCS objects.\n",
    "#head1 = SP_level1['PRIMARY'].header\n",
    "#head2 = SP_level2['PRIMARY'].header"
   ]
  },
  {
   "cell_type": "code",
   "execution_count": null,
   "id": "d9df5888-1d00-4bc7-b7cb-5f3dc46f26bd",
   "metadata": {},
   "outputs": [],
   "source": [
    "magnetic_flux_density = alpha*B*np.cos(np.radians(theta))"
   ]
  },
  {
   "cell_type": "code",
   "execution_count": 34,
   "id": "1da24c6a-b78b-4ddc-a484-d1a0f2f80724",
   "metadata": {},
   "outputs": [
    {
     "data": {
      "text/plain": [
       "XTENSION= 'IMAGE   '           / IMAGE extension                                \n",
       "BITPIX  =                  -32 /  IEEE single precision floating point          \n",
       "NAXIS   =                    2 / Number of data axes                            \n",
       "NAXIS1  =                  485 / Number of positions along axis 1               \n",
       "NAXIS2  =                  512 / Number of positions along axis 2               \n",
       "PCOUNT  =                    0 / No Group Parameters                            \n",
       "GCOUNT  =                    1 / One Data Group                                 \n",
       "EXTNAME = 'Stray_Light_Fill_Factor' / Merlin : Stray Light Fill Factor          "
      ]
     },
     "execution_count": 34,
     "metadata": {},
     "output_type": "execute_result"
    }
   ],
   "source": [
    "# Stray_Light_Fill_Factor\n",
    "SP_level2[12].header"
   ]
  },
  {
   "cell_type": "code",
   "execution_count": 9,
   "id": "a2fa17fa-ac91-4b8b-91ca-fb5a965eafe5",
   "metadata": {},
   "outputs": [
    {
     "data": {
      "text/plain": [
       "86.06435608435794"
      ]
     },
     "execution_count": 9,
     "metadata": {},
     "output_type": "execute_result"
    }
   ],
   "source": [
    "np.mean(level2_data[2,:,:] - alpha)"
   ]
  },
  {
   "cell_type": "code",
   "execution_count": 36,
   "id": "03cf5aae-63bc-40e1-80a9-f51e827fc5e3",
   "metadata": {},
   "outputs": [],
   "source": [
    "# Load the Hinode HDU\n",
    "hdulist_hinode = fits.open(level2_fname)\n",
    "B = hdulist_hinode[1].data\n",
    "theta = hdulist_hinode[2].data\n",
    "alpha = hdulist_hinode[12].data  # Filling factor\n",
    "\n",
    "magnetic_flux_density = alpha*B*np.cos(np.radians(theta))\n",
    "print(magnetic_flux_density.shape)"
   ]
  },
  {
   "cell_type": "code",
   "execution_count": 37,
   "id": "a844654d-9874-4749-945a-7f0b72ea9903",
   "metadata": {},
   "outputs": [
    {
     "data": {
      "text/plain": [
       "array([[ -1.249706  ,  -1.4289496 ,  -1.5557722 , ...,   1.0675883 ,\n",
       "          2.0682337 ,   1.8580909 ],\n",
       "       [ -1.249706  ,  -1.4289496 ,  -1.5557722 , ...,   1.0675883 ,\n",
       "          2.0682337 ,   1.8580909 ],\n",
       "       [ -1.249706  ,  -1.4289496 ,  -1.5557722 , ...,   1.0675883 ,\n",
       "          2.0682337 ,   1.8580909 ],\n",
       "       ...,\n",
       "       [ -7.0834355 ,   2.3293    ,  -8.924343  , ...,   0.16180603,\n",
       "         -7.0464897 ,  -7.229126  ],\n",
       "       [ -5.1937466 ,   9.411543  , -11.369891  , ..., -60.989174  ,\n",
       "        -18.107742  ,  -5.2353964 ],\n",
       "       [  2.8998919 ,   5.850771  ,   8.145     , ..., -38.627598  ,\n",
       "         -9.80321   ,  -3.88478   ]], dtype=float32)"
      ]
     },
     "execution_count": 37,
     "metadata": {},
     "output_type": "execute_result"
    }
   ],
   "source": [
    "magnetic_flux_density"
   ]
  },
  {
   "cell_type": "code",
   "execution_count": null,
   "id": "45d4243c-ca8b-4730-8461-cab5130fa484",
   "metadata": {},
   "outputs": [],
   "source": []
  },
  {
   "cell_type": "markdown",
   "id": "5ade1215-5e89-49d8-b60b-4b9962e7698b",
   "metadata": {},
   "source": [
    "# Load the HMI file"
   ]
  },
  {
   "cell_type": "code",
   "execution_count": 7,
   "id": "1a01db6e-6080-4b9b-b782-05e496f3d807",
   "metadata": {},
   "outputs": [],
   "source": [
    "# Select a date and time to search for observations.\n",
    "#user_date = astropy.time.Time(datetime.datetime(2016, 7, 28, 23, 57, 0), scale='tai')  # Original\n",
    "#user_date = astropy.time.Time(datetime.datetime(2017, 8, 22, 17, 11, 4), scale='tai')  # AR near limb\n",
    "user_date = astropy.time.Time(datetime.datetime(2017, 9, 5, 3, 4, 4), scale='tai')  # AR near disc center\n",
    "\n",
    "# Find the nearest set of Stokes and corresponding inversion results.\n",
    "#all_fnames_stokes, all_fnames_magvec = get_HMI_data(user_date, user_notify='gdima@hawaii.edu', download=False)\n",
    "#lv1_data, lv1_wcs, lv2_data, lv2_wcs = \\\n",
    "#    get_HMI_data(user_date, user_notify='gdima@hawaii.edu', download=False, show_files=False)\n",
    "\n",
    "time0 = astropy.time.Time(user_date.gps - 1., format='gps', scale='tai')\n",
    "time1 = astropy.time.Time(user_date.gps + 1., format='gps', scale='tai')\n",
    "\n",
    "user_dir = os.getcwd() + '/Data/SDO/'\n",
    "\n",
    "all_fnames_stokes = instload.parse_folder(dir_path=user_dir, inst='hmi', \\\n",
    "                                 series='S_720s', ext='fits', show=False)\n",
    "\n",
    "if len(all_fnames_stokes) > 1:\n",
    "    tstamps = [i.split('.')[2] for i in all_fnames_stokes]\n",
    "    tstamps = [sunpy.time.parse_time('_'.join(i.split('_')[0:2])) for i in tstamps]\n",
    "    tstamps_diff = [np.abs(i.gps - user_date.gps) for i in tstamps]\n",
    "\n",
    "# Search for the closest timestamp\n",
    "tstamps_diff = np.asarray(tstamps_diff)\n",
    "tstamps_ix, = np.where(tstamps_diff == tstamps_diff.min())\n",
    "\n",
    "all_fnames_stokes = np.asarray(all_fnames_stokes)[tstamps_ix]\n",
    "\n",
    "derotate = True"
   ]
  },
  {
   "cell_type": "code",
   "execution_count": 13,
   "id": "360c895b-1b0b-40e7-ab69-076759aa0d4d",
   "metadata": {
    "collapsed": true,
    "jupyter": {
     "outputs_hidden": true
    },
    "tags": []
   },
   "outputs": [
    {
     "name": "stdout",
     "output_type": "stream",
     "text": [
      "No download requested. Found 24 Stokes files with unique timestamp(s):\n",
      "['20170905_030000_TAI']\n"
     ]
    },
    {
     "name": "stderr",
     "output_type": "stream",
     "text": [
      "WARNING: FITSFixedWarning: 'datfix' made the change 'Set MJD-OBS to 58001.124100 from DATE-OBS'. [astropy.wcs.wcs]\n",
      "WARNING: FITSFixedWarning: 'datfix' made the change 'Set MJD-OBS to 58001.124100 from DATE-OBS'. [astropy.wcs.wcs]\n",
      "WARNING: FITSFixedWarning: 'datfix' made the change 'Set MJD-OBS to 58001.124100 from DATE-OBS'. [astropy.wcs.wcs]\n",
      "WARNING: FITSFixedWarning: 'datfix' made the change 'Set MJD-OBS to 58001.124100 from DATE-OBS'. [astropy.wcs.wcs]\n",
      "WARNING: FITSFixedWarning: 'datfix' made the change 'Set MJD-OBS to 58001.124100 from DATE-OBS'. [astropy.wcs.wcs]\n",
      "WARNING: FITSFixedWarning: 'datfix' made the change 'Set MJD-OBS to 58001.124100 from DATE-OBS'. [astropy.wcs.wcs]\n",
      "WARNING: FITSFixedWarning: 'datfix' made the change 'Set MJD-OBS to 58001.124100 from DATE-OBS'. [astropy.wcs.wcs]\n",
      "WARNING: FITSFixedWarning: 'datfix' made the change 'Set MJD-OBS to 58001.124100 from DATE-OBS'. [astropy.wcs.wcs]\n",
      "WARNING: FITSFixedWarning: 'datfix' made the change 'Set MJD-OBS to 58001.124100 from DATE-OBS'. [astropy.wcs.wcs]\n",
      "WARNING: FITSFixedWarning: 'datfix' made the change 'Set MJD-OBS to 58001.124100 from DATE-OBS'. [astropy.wcs.wcs]\n",
      "WARNING: FITSFixedWarning: 'datfix' made the change 'Set MJD-OBS to 58001.124100 from DATE-OBS'. [astropy.wcs.wcs]\n",
      "WARNING: FITSFixedWarning: 'datfix' made the change 'Set MJD-OBS to 58001.124100 from DATE-OBS'. [astropy.wcs.wcs]\n",
      "WARNING: FITSFixedWarning: 'datfix' made the change 'Set MJD-OBS to 58001.124100 from DATE-OBS'. [astropy.wcs.wcs]\n",
      "WARNING: FITSFixedWarning: 'datfix' made the change 'Set MJD-OBS to 58001.124100 from DATE-OBS'. [astropy.wcs.wcs]\n",
      "WARNING: FITSFixedWarning: 'datfix' made the change 'Set MJD-OBS to 58001.124100 from DATE-OBS'. [astropy.wcs.wcs]\n",
      "WARNING: FITSFixedWarning: 'datfix' made the change 'Set MJD-OBS to 58001.124100 from DATE-OBS'. [astropy.wcs.wcs]\n",
      "WARNING: FITSFixedWarning: 'datfix' made the change 'Set MJD-OBS to 58001.124100 from DATE-OBS'. [astropy.wcs.wcs]\n",
      "WARNING: FITSFixedWarning: 'datfix' made the change 'Set MJD-OBS to 58001.124100 from DATE-OBS'. [astropy.wcs.wcs]\n",
      "WARNING: FITSFixedWarning: 'datfix' made the change 'Set MJD-OBS to 58001.124100 from DATE-OBS'. [astropy.wcs.wcs]\n",
      "WARNING: FITSFixedWarning: 'datfix' made the change 'Set MJD-OBS to 58001.124100 from DATE-OBS'. [astropy.wcs.wcs]\n",
      "WARNING: FITSFixedWarning: 'datfix' made the change 'Set MJD-OBS to 58001.124100 from DATE-OBS'. [astropy.wcs.wcs]\n",
      "WARNING: FITSFixedWarning: 'datfix' made the change 'Set MJD-OBS to 58001.124100 from DATE-OBS'. [astropy.wcs.wcs]\n",
      "WARNING: FITSFixedWarning: 'datfix' made the change 'Set MJD-OBS to 58001.124100 from DATE-OBS'. [astropy.wcs.wcs]\n",
      "WARNING: FITSFixedWarning: 'datfix' made the change 'Set MJD-OBS to 58001.124100 from DATE-OBS'. [astropy.wcs.wcs]\n",
      "WARNING: FITSFixedWarning: 'datfix' made the change 'Set MJD-OBS to 58001.124100 from DATE-OBS'. [astropy.wcs.wcs]\n",
      "WARNING: FITSFixedWarning: 'datfix' made the change 'Set MJD-OBS to 58001.124100 from DATE-OBS'. [astropy.wcs.wcs]\n",
      "WARNING: FITSFixedWarning: 'datfix' made the change 'Set MJD-OBS to 58001.124100 from DATE-OBS'. [astropy.wcs.wcs]\n",
      "WARNING: FITSFixedWarning: 'datfix' made the change 'Set MJD-OBS to 58001.124100 from DATE-OBS'. [astropy.wcs.wcs]\n",
      "WARNING: FITSFixedWarning: 'datfix' made the change 'Set MJD-OBS to 58001.124100 from DATE-OBS'. [astropy.wcs.wcs]\n",
      "WARNING: FITSFixedWarning: 'datfix' made the change 'Set MJD-OBS to 58001.124100 from DATE-OBS'. [astropy.wcs.wcs]\n",
      "WARNING: FITSFixedWarning: 'datfix' made the change 'Set MJD-OBS to 58001.124100 from DATE-OBS'. [astropy.wcs.wcs]\n",
      "WARNING: FITSFixedWarning: 'datfix' made the change 'Set MJD-OBS to 58001.124100 from DATE-OBS'. [astropy.wcs.wcs]\n",
      "WARNING: FITSFixedWarning: 'datfix' made the change 'Set MJD-OBS to 58001.124100 from DATE-OBS'. [astropy.wcs.wcs]\n",
      "WARNING: FITSFixedWarning: 'datfix' made the change 'Set MJD-OBS to 58001.124100 from DATE-OBS'. [astropy.wcs.wcs]\n",
      "WARNING: FITSFixedWarning: 'datfix' made the change 'Set MJD-OBS to 58001.124100 from DATE-OBS'. [astropy.wcs.wcs]\n",
      "WARNING: FITSFixedWarning: 'datfix' made the change 'Set MJD-OBS to 58001.124100 from DATE-OBS'. [astropy.wcs.wcs]\n",
      "WARNING: FITSFixedWarning: 'datfix' made the change 'Set MJD-OBS to 58001.124100 from DATE-OBS'. [astropy.wcs.wcs]\n",
      "WARNING: FITSFixedWarning: 'datfix' made the change 'Set MJD-OBS to 58001.124100 from DATE-OBS'. [astropy.wcs.wcs]\n",
      "WARNING: FITSFixedWarning: 'datfix' made the change 'Set MJD-OBS to 58001.124100 from DATE-OBS'. [astropy.wcs.wcs]\n",
      "WARNING: FITSFixedWarning: 'datfix' made the change 'Set MJD-OBS to 58001.124100 from DATE-OBS'. [astropy.wcs.wcs]\n",
      "WARNING: FITSFixedWarning: 'datfix' made the change 'Set MJD-OBS to 58001.124100 from DATE-OBS'. [astropy.wcs.wcs]\n",
      "WARNING: FITSFixedWarning: 'datfix' made the change 'Set MJD-OBS to 58001.124100 from DATE-OBS'. [astropy.wcs.wcs]\n",
      "WARNING: FITSFixedWarning: 'datfix' made the change 'Set MJD-OBS to 58001.124100 from DATE-OBS'. [astropy.wcs.wcs]\n",
      "WARNING: FITSFixedWarning: 'datfix' made the change 'Set MJD-OBS to 58001.124100 from DATE-OBS'. [astropy.wcs.wcs]\n",
      "WARNING: FITSFixedWarning: 'datfix' made the change 'Set MJD-OBS to 58001.124100 from DATE-OBS'. [astropy.wcs.wcs]\n",
      "WARNING: FITSFixedWarning: 'datfix' made the change 'Set MJD-OBS to 58001.124100 from DATE-OBS'. [astropy.wcs.wcs]\n",
      "WARNING: FITSFixedWarning: 'datfix' made the change 'Set MJD-OBS to 58001.124100 from DATE-OBS'. [astropy.wcs.wcs]\n",
      "WARNING: FITSFixedWarning: 'datfix' made the change 'Set MJD-OBS to 58001.124100 from DATE-OBS'. [astropy.wcs.wcs]\n"
     ]
    },
    {
     "name": "stdout",
     "output_type": "stream",
     "text": [
      "Created Stokes data cube with dimensions: (4, 6, 4098, 4098)\n",
      "36.09508728981018\n"
     ]
    }
   ],
   "source": [
    "# Load Level1 files.\n",
    "\n",
    "# Check for individual timestamps.\n",
    "unique_tstamps = []\n",
    "for i in range(len(all_fnames_stokes)):\n",
    "    if all_fnames_stokes[i].split('.')[2] not in unique_tstamps:\n",
    "        unique_tstamps.append(all_fnames_stokes[i].split('.')[2])\n",
    "\n",
    "print(f'No download requested. Found {len(all_fnames_stokes)} Stokes files with unique timestamp(s):')\n",
    "print(unique_tstamps)\n",
    "\n",
    "tstart = time.time()\n",
    "level1_data = []\n",
    "for i, fname in enumerate(all_fnames_stokes):\n",
    "    tmp_map = sunpy.map.Map(fname)\n",
    "    if derotate:\n",
    "        tmp_map = tmp_map.rotate(order=3)\n",
    "    level1_data.append(tmp_map.data)\n",
    "\n",
    "level1_data = np.asarray(level1_data)\n",
    "level1_data = level1_data.reshape(4,6,level1_data.shape[1], level1_data.shape[2])\n",
    "\n",
    "print(f'Created Stokes data cube with dimensions: {level1_data.shape}')\n",
    "\n",
    "print(time.time() - tstart)"
   ]
  },
  {
   "cell_type": "code",
   "execution_count": 16,
   "id": "4a9172fc-bfeb-4b3e-8293-47b1373756cd",
   "metadata": {},
   "outputs": [],
   "source": [
    "## Create the WCS object\n",
    "# Expand the coordinate axis to include wavelength and stokes dimensions.\n",
    "\n",
    "l0 = 6173.345 * 1.e-10  # m Central wavelength for FeI line\n",
    "dl = 0.0688   * 1.e-10  # m \n",
    "\n",
    "# Generate WCS for data cube using same WCS celestial information from AIA map.\n",
    "# This reads the header from the last tmp_map created (and maybe rotated) above.\n",
    "wcs_header = tmp_map.wcs.to_header()\n",
    "\n",
    "wcs_header[\"WCSAXES\"] = 4\n",
    "\n",
    "# Add wavelength axis.\n",
    "wcs_header[\"CRPIX3\"] = 3.5\n",
    "wcs_header[\"CDELT3\"] = dl\n",
    "wcs_header[\"CUNIT3\"] = 'm'\n",
    "wcs_header[\"CTYPE3\"] = \"WAVE\"\n",
    "wcs_header[\"CRVAL3\"] = l0\n",
    "\n",
    "# Add Stokes axis.\n",
    "wcs_header[\"CRPIX4\"] = 0\n",
    "wcs_header[\"CDELT4\"] = 1\n",
    "wcs_header[\"CUNIT4\"] = ''\n",
    "wcs_header[\"CTYPE4\"] = \"STOKES\"\n",
    "wcs_header[\"CRVAL4\"] = 0\n",
    "\n",
    "level1_wcs = astropy.wcs.WCS(wcs_header)"
   ]
  },
  {
   "cell_type": "code",
   "execution_count": 17,
   "id": "7f0f0802-d79e-4a89-bb38-b9aab7fc7534",
   "metadata": {},
   "outputs": [
    {
     "data": {
      "text/plain": [
       "WCS Keywords\n",
       "\n",
       "Number of WCS axes: 4\n",
       "CTYPE : 'HPLN-TAN'  'HPLT-TAN'  'WAVE'  'STOKES'  \n",
       "CRVAL : 0.0  0.0  6.173345e-07  0.0  \n",
       "CRPIX : 2057.7563593149  2047.3749883579  3.5  0.0  \n",
       "PC1_1 PC1_2 PC1_3 PC1_4  : 1.0  7.4040177438477e-22  0.0  0.0  \n",
       "PC2_1 PC2_2 PC2_3 PC2_4  : 7.4040177438477e-22  1.0  0.0  0.0  \n",
       "PC3_1 PC3_2 PC3_3 PC3_4  : 0.0  0.0  1.0  0.0  \n",
       "PC4_1 PC4_2 PC4_3 PC4_4  : 0.0  0.0  0.0  1.0  \n",
       "CDELT : 0.00014009532001283  0.00014009532001283  6.88e-12  1.0  \n",
       "NAXIS : 0  0"
      ]
     },
     "execution_count": 17,
     "metadata": {},
     "output_type": "execute_result"
    }
   ],
   "source": [
    "level1_wcs"
   ]
  },
  {
   "cell_type": "code",
   "execution_count": 8,
   "id": "bb2722e4-994a-4bf1-86cc-d680406ba388",
   "metadata": {},
   "outputs": [
    {
     "name": "stdout",
     "output_type": "stream",
     "text": [
      "No download requested. Found 25 inversion files with timestamps: \n",
      "['20170905_030000_TAI']\n",
      "OBS: Derotating each magnetic field image.\n",
      "Created data cube with dimensions: (3, 4098, 4098)\n"
     ]
    }
   ],
   "source": [
    "# Load Level2 files.\n",
    "\n",
    "all_fnames_magvec = instload.parse_folder(dir_path=user_dir, inst='hmi', \n",
    "                                          show=False, series='ME_720s_fd10', ext='fits')\n",
    "        \n",
    "if len(all_fnames_magvec) > 1:\n",
    "    tstamps = [i.split('.')[2] for i in all_fnames_magvec]\n",
    "    tstamps = [sunpy.time.parse_time('_'.join(i.split('_')[0:2])) for i in tstamps]\n",
    "    tstamps_diff = [np.abs(i.gps - user_date.gps) for i in tstamps]\n",
    "else:\n",
    "    print('No files found close to the date requested')\n",
    "\n",
    "# Search for the closest timestamp\n",
    "tstamps_diff = np.asarray(tstamps_diff)\n",
    "tstamps_ix, = np.where(tstamps_diff == tstamps_diff.min())\n",
    "\n",
    "all_fnames_magvec = np.asarray(all_fnames_magvec)[tstamps_ix]\n",
    "\n",
    "unique_tstamps = []\n",
    "for i in range(len(all_fnames_stokes)):\n",
    "    if all_fnames_magvec[i].split('.')[2] not in unique_tstamps:\n",
    "        unique_tstamps.append(all_fnames_magvec[i].split('.')[2])\n",
    "print(f'No download requested. Found {len(all_fnames_magvec)} inversion files with timestamps: ')\n",
    "print(unique_tstamps)\n",
    "\n",
    "\n",
    "# Create MagVectorCube from HMI inversions\n",
    "#mag_params = ['field', 'inclination', 'azimuth']\n",
    "mag_params = ['field', 'inclination', 'azimuth']\n",
    "\n",
    "level2_data = []\n",
    "\n",
    "# Load 2D maps into level2_data in the order determined by entries in mag_params\n",
    "if derotate:\n",
    "    print('OBS: Derotating each magnetic field image.')\n",
    "use_fnames = []\n",
    "for mag_param in mag_params:\n",
    "    for i, fname in enumerate(all_fnames_magvec):\n",
    "        data_id = fname.split('.')[-2]\n",
    "        if data_id == mag_param:\n",
    "            use_fnames.append(fname)\n",
    "            tmp_map = sunpy.map.Map(fname)\n",
    "            if derotate:\n",
    "                tmp_map = tmp_map.rotate(order=3)\n",
    "            level2_data.append(tmp_map.data)\n",
    "\n",
    "level2_data = np.asarray(level2_data)\n",
    "\n",
    "print(f'Created data cube with dimensions: {level2_data.shape}')\n",
    "#print('Filenames used: ')"
   ]
  },
  {
   "cell_type": "code",
   "execution_count": 16,
   "id": "bf5f882f-3b7d-49c9-bb69-476b853d8147",
   "metadata": {},
   "outputs": [],
   "source": [
    "tmp_map = sunpy.map.Map(use_fnames[0])"
   ]
  },
  {
   "cell_type": "code",
   "execution_count": 12,
   "id": "3db7fd37-5532-4f02-bbea-7422b1f56357",
   "metadata": {},
   "outputs": [
    {
     "data": {
      "text/plain": [
       "(3, 4098, 4098)"
      ]
     },
     "execution_count": 12,
     "metadata": {},
     "output_type": "execute_result"
    }
   ],
   "source": [
    "level2_data.shape"
   ]
  },
  {
   "cell_type": "code",
   "execution_count": 19,
   "id": "d535a5bc-b083-41dd-b816-c3021141f637",
   "metadata": {},
   "outputs": [
    {
     "data": {
      "text/plain": [
       "WCS Keywords\n",
       "\n",
       "Number of WCS axes: 2\n",
       "CTYPE : 'HPLN-TAN'  'HPLT-TAN'  \n",
       "CRVAL : 0.0  0.0  \n",
       "CRPIX : 2040.244140625  2050.626953125  \n",
       "PC1_1 PC1_2  : -0.99999997235056  0.00023515712208659  \n",
       "PC2_1 PC2_2  : -0.00023515712208659  -0.99999997235056  \n",
       "CDELT : 0.00014009532001283  0.00014009532001283  \n",
       "NAXIS : 0  0"
      ]
     },
     "execution_count": 19,
     "metadata": {},
     "output_type": "execute_result"
    }
   ],
   "source": [
    "tmp_map.wcs"
   ]
  },
  {
   "cell_type": "code",
   "execution_count": 56,
   "id": "5f8e02ff-f756-424f-8fa6-0f7af21e2bd1",
   "metadata": {},
   "outputs": [
    {
     "data": {
      "text/plain": [
       "'/home/gabriel/Desktop/Science/StokesPY/stokespy_notebooks/Data/SDO/hmi.me_720s_fd10.20170905_030000_TAI.inclination.fits'"
      ]
     },
     "execution_count": 56,
     "metadata": {},
     "output_type": "execute_result"
    }
   ],
   "source": [
    "use_fnames[1]"
   ]
  },
  {
   "cell_type": "code",
   "execution_count": 9,
   "id": "22360f60-4ec2-4a7a-be52-96afad992db4",
   "metadata": {},
   "outputs": [],
   "source": [
    "# Load the HMI HDU\n",
    "\n",
    "hmi_inclination_hdu = fits.open(use_fnames[1])\n",
    "hmi_field_hdu = fits.open(use_fnames[0])\n",
    "\n",
    "hmi_inclination = hmi_inclination_hdu[1].data\n",
    "hmi_field = hmi_field_hdu[1].data\n",
    "\n",
    "# Now compute the flux density for HMI.\n",
    "# Projected along LOS\n",
    "magnetic_flux_density_hmi = hmi_field*np.cos(np.radians(hmi_inclination))"
   ]
  },
  {
   "cell_type": "code",
   "execution_count": null,
   "id": "3b4b862f-e7a4-451e-8c80-9f796978b395",
   "metadata": {},
   "outputs": [],
   "source": []
  },
  {
   "cell_type": "code",
   "execution_count": 10,
   "id": "784f1f58-970b-4cda-b664-809509a3e8fa",
   "metadata": {},
   "outputs": [
    {
     "data": {
      "text/plain": [
       "180.0134735107422"
      ]
     },
     "execution_count": 10,
     "metadata": {},
     "output_type": "execute_result"
    }
   ],
   "source": [
    "hmi_field_hdu[1].header['CROTA2']"
   ]
  },
  {
   "cell_type": "code",
   "execution_count": 11,
   "id": "f4c81fe3-827c-4933-9b21-ed6c49045301",
   "metadata": {},
   "outputs": [
    {
     "data": {
      "text/plain": [
       "(4096, 4096)"
      ]
     },
     "execution_count": 11,
     "metadata": {},
     "output_type": "execute_result"
    }
   ],
   "source": [
    "magnetic_flux_density_hmi.shape"
   ]
  },
  {
   "cell_type": "code",
   "execution_count": 12,
   "id": "fdb15bf6-15cf-419f-b359-742cdfa0b53b",
   "metadata": {},
   "outputs": [],
   "source": [
    "# Rotate the HMI image based on the rotate keyword in the header.\n",
    "hmi_rot_angle = hmi_field_hdu[1].header['CROTA2']\n",
    "magnetic_flux_density_hmi_rot = ndimage.rotate(np.nan_to_num(magnetic_flux_density_hmi), \\\n",
    "                                                hmi_rot_angle, reshape=False)"
   ]
  },
  {
   "cell_type": "code",
   "execution_count": 17,
   "id": "00773366-d45a-4913-817f-c97d93442b6d",
   "metadata": {},
   "outputs": [
    {
     "data": {
      "text/plain": [
       "(4096, 4096)"
      ]
     },
     "execution_count": 17,
     "metadata": {},
     "output_type": "execute_result"
    }
   ],
   "source": [
    "magnetic_flux_density_hmi_rot.shape"
   ]
  },
  {
   "cell_type": "code",
   "execution_count": 18,
   "id": "66730bbd-8c05-4a0b-8d5f-62855dcc4745",
   "metadata": {},
   "outputs": [
    {
     "data": {
      "application/vnd.jupyter.widget-view+json": {
       "model_id": "8dcc9b4288f747a09300427765404991",
       "version_major": 2,
       "version_minor": 0
      },
      "text/plain": [
       "Canvas(toolbar=Toolbar(toolitems=[('Home', 'Reset original view', 'home', 'home'), ('Back', 'Back to previous …"
      ]
     },
     "metadata": {},
     "output_type": "display_data"
    }
   ],
   "source": [
    "%matplotlib widget\n",
    "\n",
    "#plt.figure()\n",
    "plt.imshow(magnetic_flux_density_hmi_rot, cmap=\"gray\", vmin=-10., vmax=10., origin='lower') \n",
    "plt.show()"
   ]
  },
  {
   "cell_type": "markdown",
   "id": "73d38943-0519-4337-8ef5-fe2826a1fa9d",
   "metadata": {},
   "source": [
    "# Calculate bounding coordinates"
   ]
  },
  {
   "cell_type": "code",
   "execution_count": 19,
   "id": "17cd13fc-a710-42b9-bae4-fd5510a54cb8",
   "metadata": {},
   "outputs": [
    {
     "name": "stdout",
     "output_type": "stream",
     "text": [
      "[55.729801177978516, 204.052001953125]\n",
      "[-40.919643325805666, 121.69612915039062]\n"
     ]
    }
   ],
   "source": [
    "# Hinode coordinates.\n",
    "\n",
    "hinode_xcoords = [np.quantile(hdulist_hinode[38].data,0.01)-1., np.quantile(hdulist_hinode[38].data,0.99)+1.]\n",
    "hinode_ycoords = [np.quantile(hdulist_hinode[39].data,0.01)-1., np.quantile(hdulist_hinode[39].data,0.99)+1.]\n",
    "print(hinode_xcoords)\n",
    "print(hinode_ycoords)"
   ]
  },
  {
   "cell_type": "code",
   "execution_count": 20,
   "id": "dedf8ec0-07aa-4a59-a589-7f67a951d268",
   "metadata": {},
   "outputs": [],
   "source": [
    "# HMI coordinates.\n",
    "# Great, HMI is rotated by ~180 degrees, but only sometimes ¯\\_(ツ)_/¯\n",
    "# Introduce a very simple switch for the calculation of the coordinates\n",
    "# here because I am too lazy to do this properly right now.\n",
    "\n",
    "#hmi_rot_angle = hmi_field_hdu[1].header['CROTA2']\n",
    "crval1 = hmi_field_hdu[1].header['CRVAL1']\n",
    "crpix1 = hmi_field_hdu[1].header['CRPIX1']\n",
    "cdelt1 = hmi_field_hdu[1].header['CDELT1']\n",
    "crval2 = hmi_field_hdu[1].header['CRVAL2']\n",
    "crpix2 = hmi_field_hdu[1].header['CRPIX2']\n",
    "cdelt2 = hmi_field_hdu[1].header['CDELT2']\n",
    "\n",
    "\n",
    "if hmi_rot_angle > 170.:\n",
    "    tmp_hmi_xcoords = crval1 + (crpix1 - np.arange(hmi_field.shape[0], dtype=float))*cdelt1\n",
    "    tmp_hmi_ycoords = crval2 + (crpix2 - np.arange(hmi_field.shape[1], dtype=float))*cdelt2\n",
    "\n",
    "    hmi_xcoords = tmp_hmi_xcoords*np.cos(np.radians(hmi_rot_angle)) - \\\n",
    "      tmp_hmi_ycoords*np.sin(np.radians(hmi_rot_angle)) \n",
    "    hmi_ycoords = tmp_hmi_xcoords*np.sin(np.radians(hmi_rot_angle)) + \\\n",
    "      tmp_hmi_ycoords*np.cos(np.radians(hmi_rot_angle)) \n",
    "else:\n",
    "    hmi_xcoords = crval1 + (np.arange(hmi_field.shape[0], dtype=float) - crpix1)*cdelt1\n",
    "    hmi_ycoords = crval2 + (np.arange(hmi_field.shape[1], dtype=float) - crpix2)*cdelt2"
   ]
  },
  {
   "cell_type": "code",
   "execution_count": 21,
   "id": "4a5c053a-9db9-4299-a698-77f89e46ba07",
   "metadata": {},
   "outputs": [],
   "source": [
    "# Find out which indices in HMI the Hinode coordinates correspond to.\n",
    "hmi_index_x = [np.argmin(np.abs(np.array(hmi_xcoords)-np.floor(hinode_xcoords[0]))), \\\n",
    "                np.argmin(np.abs(np.array(hmi_xcoords)-np.ceil(hinode_xcoords[1])))]\n",
    "\n",
    "hmi_index_y = [np.argmin(np.abs(np.array(hmi_ycoords)-np.floor(hinode_ycoords[0]))), \\\n",
    "                np.argmin(np.abs(np.array(hmi_ycoords)-np.ceil(hinode_ycoords[1])))]"
   ]
  },
  {
   "cell_type": "code",
   "execution_count": 22,
   "id": "f5a2ba79-78dc-4f70-ad86-ee54b8d100c7",
   "metadata": {},
   "outputs": [
    {
     "data": {
      "text/plain": [
       "([2149, 2447], [1969, 2292])"
      ]
     },
     "execution_count": 22,
     "metadata": {},
     "output_type": "execute_result"
    }
   ],
   "source": [
    "hmi_index_x, hmi_index_y"
   ]
  },
  {
   "cell_type": "code",
   "execution_count": 23,
   "id": "767387bd-93b0-4d8d-a588-6a5d6dfc9ed9",
   "metadata": {},
   "outputs": [
    {
     "name": "stdout",
     "output_type": "stream",
     "text": [
      "Zoom values:  [0.630859375, 0.6144329896907217]\n"
     ]
    }
   ],
   "source": [
    "# Degrade the Hinode data with a Gaussian and rescale to the same pixel size as HMI.\n",
    "# The 1.3 sigma for the Gaussian is not actually chosen based on any physical parameters,\n",
    "# just such that the Hinode map looks ~ish like HMI.\n",
    "tmp_hinode_data_0 = ndimage.gaussian_filter(magnetic_flux_density,1.3)\n",
    "tmp_hinode_data = ndimage.zoom(tmp_hinode_data_0, \\\n",
    "                                [(hmi_index_y[1]-hmi_index_y[0])/tmp_hinode_data_0.shape[0], \\\n",
    "                                    (hmi_index_x[1]-hmi_index_x[0])/tmp_hinode_data_0.shape[1]])\n",
    "\n",
    "print('Zoom values: ', [(hmi_index_y[1]-hmi_index_y[0])/tmp_hinode_data_0.shape[0], \\\n",
    "                                    (hmi_index_x[1]-hmi_index_x[0])/tmp_hinode_data_0.shape[1]])"
   ]
  },
  {
   "cell_type": "code",
   "execution_count": 101,
   "id": "0a067dfe-09bc-4fc9-bc5b-0e5703b6bf00",
   "metadata": {},
   "outputs": [
    {
     "data": {
      "text/plain": [
       "(512, 485)"
      ]
     },
     "execution_count": 101,
     "metadata": {},
     "output_type": "execute_result"
    }
   ],
   "source": [
    "magnetic_flux_density.shape"
   ]
  },
  {
   "cell_type": "code",
   "execution_count": 24,
   "id": "718d91ff-f170-417c-9e87-0d4b51eb7423",
   "metadata": {},
   "outputs": [
    {
     "data": {
      "text/plain": [
       "(323, 298)"
      ]
     },
     "execution_count": 24,
     "metadata": {},
     "output_type": "execute_result"
    }
   ],
   "source": [
    "tmp_hinode_data.shape"
   ]
  },
  {
   "cell_type": "code",
   "execution_count": 25,
   "id": "c38f735e-998d-44cf-8d0d-ff1aced23f24",
   "metadata": {},
   "outputs": [
    {
     "data": {
      "text/plain": [
       "(323, 298)"
      ]
     },
     "execution_count": 25,
     "metadata": {},
     "output_type": "execute_result"
    }
   ],
   "source": [
    "hmi_index_y[1]-hmi_index_y[0], hmi_index_x[1]-hmi_index_x[0]"
   ]
  },
  {
   "cell_type": "code",
   "execution_count": null,
   "id": "8233612d-e4cc-47e9-922a-9c6fea945793",
   "metadata": {},
   "outputs": [],
   "source": []
  },
  {
   "cell_type": "code",
   "execution_count": 26,
   "id": "098e5b54-5334-43a7-9c5d-9af644ff272f",
   "metadata": {},
   "outputs": [
    {
     "data": {
      "text/plain": [
       "(512, 485)"
      ]
     },
     "execution_count": 26,
     "metadata": {},
     "output_type": "execute_result"
    }
   ],
   "source": [
    "tmp_hinode_data_0.shape"
   ]
  },
  {
   "cell_type": "code",
   "execution_count": 27,
   "id": "0bfa5880-20e6-4072-8cdd-2c0fc121bbbf",
   "metadata": {},
   "outputs": [],
   "source": [
    "# Now add 150 pixels padding on either side to allow for the Hinode offset wrt HMI. \n",
    "# Technically this could hit the HMI array boundaries and there is no failsafe \n",
    "# implemented, but HMI maps are so large that for the HOP maps we will probably\n",
    "# not hit the sides. At least it does not for the 153 HOP north maps...\n",
    "pix_pad = 150 \n",
    "hmi_data_template = magnetic_flux_density_hmi_rot[hmi_index_y[0]-pix_pad:hmi_index_y[1]+pix_pad, \\\n",
    "                                                    hmi_index_x[0]-pix_pad:hmi_index_x[1]+pix_pad]\n"
   ]
  },
  {
   "cell_type": "code",
   "execution_count": 28,
   "id": "e3d350ea-2faf-4fcd-96c0-c9e0d942e6e7",
   "metadata": {},
   "outputs": [
    {
     "data": {
      "text/plain": [
       "(623, 598)"
      ]
     },
     "execution_count": 28,
     "metadata": {},
     "output_type": "execute_result"
    }
   ],
   "source": [
    "hmi_data_template.shape"
   ]
  },
  {
   "cell_type": "code",
   "execution_count": 29,
   "id": "28993882-337f-4697-a0b0-7ec27d50467b",
   "metadata": {},
   "outputs": [
    {
     "data": {
      "application/vnd.jupyter.widget-view+json": {
       "model_id": "e6d00b485b1e4c48b38733d98899cfa7",
       "version_major": 2,
       "version_minor": 0
      },
      "text/plain": [
       "Canvas(toolbar=Toolbar(toolitems=[('Home', 'Reset original view', 'home', 'home'), ('Back', 'Back to previous …"
      ]
     },
     "metadata": {},
     "output_type": "display_data"
    },
    {
     "data": {
      "text/plain": [
       "<matplotlib.image.AxesImage at 0x7fdf3937ac10>"
      ]
     },
     "execution_count": 29,
     "metadata": {},
     "output_type": "execute_result"
    }
   ],
   "source": [
    "%matplotlib widget\n",
    "plt.imshow(hmi_data_template, origin='lower')"
   ]
  },
  {
   "cell_type": "code",
   "execution_count": 30,
   "id": "64a66f85-eea2-4586-aaa8-a8f1bec5954b",
   "metadata": {},
   "outputs": [],
   "source": [
    "# Use the sunpy coalignment routine to get an initial idea where the degraded Hinode data\n",
    "# should be on the padded HMI map.  \n",
    "thisxyshift = coalignment.calculate_shift(hmi_data_template, tmp_hinode_data)\n",
    "\n",
    "# Use that information to create a hopefully more precise HMI cutout.\n",
    "hmi_index_x_new = np.around(hmi_index_x+(thisxyshift[0].value-pix_pad)).astype(int)\n",
    "hmi_index_y_new = np.around(hmi_index_y+(thisxyshift[1].value-pix_pad)).astype(int)\n",
    "hmi_data = magnetic_flux_density_hmi_rot[hmi_index_y_new[0]:hmi_index_y_new[1],hmi_index_x_new[0]:hmi_index_x_new[1]]\n"
   ]
  },
  {
   "cell_type": "code",
   "execution_count": 31,
   "id": "f90bdc58-2bed-4201-bed0-ed292164990e",
   "metadata": {},
   "outputs": [
    {
     "data": {
      "text/plain": [
       "([2149, 2447], 55.437541160256785)"
      ]
     },
     "execution_count": 31,
     "metadata": {},
     "output_type": "execute_result"
    }
   ],
   "source": [
    "hmi_index_x, thisxyshift[0].value-pix_pad"
   ]
  },
  {
   "cell_type": "code",
   "execution_count": 32,
   "id": "f7f34941-2d7c-49b6-bea4-9c4adfcb5494",
   "metadata": {},
   "outputs": [
    {
     "data": {
      "text/plain": [
       "([1969, 2292], 50.658641096472735)"
      ]
     },
     "execution_count": 32,
     "metadata": {},
     "output_type": "execute_result"
    }
   ],
   "source": [
    "hmi_index_y, thisxyshift[1].value-pix_pad"
   ]
  },
  {
   "cell_type": "code",
   "execution_count": 119,
   "id": "a2e2b5b1-c2a8-41ba-b699-4da24791eadb",
   "metadata": {},
   "outputs": [
    {
     "data": {
      "text/plain": [
       "(<Quantity 205.43754116 pix>, <Quantity 200.6586411 pix>)"
      ]
     },
     "execution_count": 119,
     "metadata": {},
     "output_type": "execute_result"
    }
   ],
   "source": [
    "thisxyshift"
   ]
  },
  {
   "cell_type": "code",
   "execution_count": 121,
   "id": "7faf58af-3f40-4257-a355-22465e557ca8",
   "metadata": {},
   "outputs": [
    {
     "data": {
      "text/plain": [
       "((323, 298), (323, 298))"
      ]
     },
     "execution_count": 121,
     "metadata": {},
     "output_type": "execute_result"
    }
   ],
   "source": [
    "hmi_data.shape, tmp_hinode_data.shape"
   ]
  },
  {
   "cell_type": "markdown",
   "id": "ee85b1d3-76a2-460e-a7d7-437b35395eaf",
   "metadata": {},
   "source": [
    "# Plot the results"
   ]
  },
  {
   "cell_type": "code",
   "execution_count": 33,
   "id": "038a6b1a-5b08-4c8f-95c0-c85f17e3c04e",
   "metadata": {},
   "outputs": [
    {
     "data": {
      "application/vnd.jupyter.widget-view+json": {
       "model_id": "18249f9acc914352a12b773150ff6f3f",
       "version_major": 2,
       "version_minor": 0
      },
      "text/plain": [
       "Canvas(toolbar=Toolbar(toolitems=[('Home', 'Reset original view', 'home', 'home'), ('Back', 'Back to previous …"
      ]
     },
     "metadata": {},
     "output_type": "display_data"
    }
   ],
   "source": [
    "# the comparison plot\n",
    "hinode_data = magnetic_flux_density\n",
    "\n",
    "fig, ax = plt.subplots(1, 3, constrained_layout=True, figsize=(9,3.5))\n",
    "ax[0].imshow(hinode_data, cmap=\"gray\", origin='lower')\n",
    "ax[1].imshow(tmp_hinode_data, cmap=\"gray\", origin='lower')\n",
    "ax[2].imshow(hmi_data, cmap=\"gray\", origin='lower')\n",
    "ax[0].title.set_text('Hinode (full res)')\n",
    "ax[1].title.set_text('Hinode (degraded)')\n",
    "ax[2].title.set_text('HMI')\n",
    "for ii in range(0,3):\n",
    "    ax[ii].get_xaxis().set_visible(False)\n",
    "    ax[ii].get_yaxis().set_visible(False)"
   ]
  }
 ],
 "metadata": {
  "kernelspec": {
   "display_name": "Python [conda env:stokespy] *",
   "language": "python",
   "name": "conda-env-stokespy-py"
  },
  "language_info": {
   "codemirror_mode": {
    "name": "ipython",
    "version": 3
   },
   "file_extension": ".py",
   "mimetype": "text/x-python",
   "name": "python",
   "nbconvert_exporter": "python",
   "pygments_lexer": "ipython3",
   "version": "3.9.7"
  },
  "widgets": {
   "application/vnd.jupyter.widget-state+json": {
    "state": {},
    "version_major": 2,
    "version_minor": 0
   }
  }
 },
 "nbformat": 4,
 "nbformat_minor": 5
}
