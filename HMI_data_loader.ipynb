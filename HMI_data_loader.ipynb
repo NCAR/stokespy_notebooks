{
 "cells": [
  {
   "cell_type": "markdown",
   "id": "51836ca9-5dec-44a9-a574-435fcab94d4a",
   "metadata": {},
   "source": [
    "# Load HMI data into lvl1 and lvl2 datacubes"
   ]
  },
  {
   "cell_type": "code",
   "execution_count": 1,
   "id": "d8f0c730-a507-4288-9331-3295107b57a4",
   "metadata": {},
   "outputs": [],
   "source": [
    "import matplotlib.pyplot as plt\n",
    "import numpy as np\n",
    "\n",
    "import os\n",
    "import natsort  # Sorting package. Used when I parse the folder for files. There may be simpler ways to do this.\n",
    "\n",
    "import astropy.units as u\n",
    "import astropy.wcs\n",
    "from astropy.coordinates import SkyCoord, SpectralCoord\n",
    "import datetime\n",
    "\n",
    "import stokespy\n",
    "import ndcube\n",
    "\n",
    "import sunpy\n",
    "import sunpy.map\n",
    "from sunpy.net import Fido, attrs\n",
    "\n",
    "# Set working directory. \n",
    "work_dir = os.getcwd()\n",
    "\n",
    "#data_dir = work_dir + '/Data/SDO/'\n",
    "data_dir = '/home/gabriel/Desktop/Science/StokesPY' + '/Data/SDO/'\n",
    "\n",
    "script_name = 'HMI_data_loading'\n",
    "\n",
    "from ndcube import NDCube, GlobalCoords, ExtraCoords"
   ]
  },
  {
   "cell_type": "code",
   "execution_count": 2,
   "id": "bbc0741b-f5e2-446b-9e86-ce430b9f620d",
   "metadata": {},
   "outputs": [
    {
     "data": {
      "text/plain": [
       "\"\\n# Parse the data folder and select subset of files.\\ninst = 'aia'\\nwave = '171'\\n\\nuse_fnames = parse_folder(dir_path = img_dir, ext='fits', inst='aia', wave='171')\\nprint(len(use_fnames))\\nfor i in use_fnames:\\n    print(i)\\n\""
      ]
     },
     "execution_count": 2,
     "metadata": {},
     "output_type": "execute_result"
    }
   ],
   "source": [
    "def parse_folder(dir_path=None, inst=None, wave=None, ext=None, \n",
    "                 series=None, repo='JSOC', show=True):\n",
    "    \"\"\"\n",
    "    Search all the filenames in a folder containing SDO data and use the keywords\n",
    "    to select a desired subset. For example setting inst=\"hmi\" will obtain all the hmi filenames.\n",
    "    dir_path: Path to the directory containing the data.\n",
    "    inst: SDO instrument\n",
    "    wave: wavelength (primarily for AIA data)\n",
    "    ext: Select the file extension\n",
    "    series: String characterizing the data series (e.g. hmi.S_720s, aia.lev1_euv_12s)\n",
    "    repo: Choose the data repository. Each repository stores filenames with different syntaxes.\n",
    "    show: Flag that enumerates the files found.\n",
    "    \"\"\"\n",
    "    \n",
    "    if dir_path is None:\n",
    "        dir_path = os.getcwd()\n",
    "    \n",
    "    # Read and sort all the filenames in the folder.\n",
    "    all_fnames = natsort.natsorted(os.listdir(dir_path)) \n",
    "    \n",
    "    # Select a subset of files\n",
    "    use_fnames = []\n",
    "    \n",
    "    for i, file_ in enumerate(all_fnames):\n",
    "        if repo == 'JSOC':\n",
    "            sfile_ = file_.lower().split(\".\")\n",
    "        elif repo == 'VSO':\n",
    "            sfile_ = file_.lower().split(\"_\")\n",
    "        \n",
    "        if sfile_[0] == inst.lower() and sfile_[1] == series.lower(): \n",
    "            use_fnames.append(dir_path + file_)\n",
    "        \n",
    "        '''\n",
    "        if ext is None and inst is None:\n",
    "            use_fnames.append(dir_path + file_)\n",
    "        elif ext is None and inst is not None and sfile_[0] == inst.lower() and wave is None:\n",
    "            use_fnames.append(dir_path + file_)\n",
    "        elif ext is None and inst is not None and sfile_[0] == inst.lower() and wave is not None and sfile_[2] == wave + 'a':\n",
    "            use_fnames.append(dir_path + file_)\n",
    "        elif ext is not None and file_.endswith(ext) and inst is None:\n",
    "            use_fnames.append(dir_path + file_)\n",
    "        elif ext is not None and file_.endswith(ext) and inst is not None and sfile_[0] == inst.lower() and wave is None:\n",
    "            use_fnames.append(dir_path + file_)\n",
    "        elif ext is not None and file_.endswith(ext) and inst is not None and sfile_[0] == inst.lower() and wave is not None and sfile_[2] == wave + 'a':\n",
    "            use_fnames.append(dir_path + file_)\n",
    "        '''\n",
    "    '''\n",
    "    for i, file_ in enumerate(all_fnames):\n",
    "        # Select by extension.\n",
    "        if ext is not None and file_.endswith(ext):        \n",
    "            sfile_ = file_.split(\"_\")\n",
    "            # Select by instrument.\n",
    "            if inst is not None and sfile_[0] == inst.lower(): \n",
    "                if wave is not None and inst.lower() == 'aia' and sfile_[2] == wave + 'a':   \n",
    "                    use_fnames.append(dir_path + file_)\n",
    "        else:\n",
    "            sfile_ = file_.split(\"_\")\n",
    "            # Select by instrument.\n",
    "            if inst is not None and sfile_[0] == inst.lower(): \n",
    "                if wave is not None and inst.lower() == 'aia' and sfile_[2] == wave + 'a':   \n",
    "                    use_fnames.append(dir_path + file_)\n",
    "    '''\n",
    "    \n",
    "    if show:\n",
    "        for i, file_ in enumerate(use_fnames):\n",
    "            print(i, file_)\n",
    "    \n",
    "    return use_fnames\n",
    "\n",
    "# Test the functiom.\n",
    "'''\n",
    "# Parse the data folder and select subset of files.\n",
    "inst = 'aia'\n",
    "wave = '171'\n",
    "\n",
    "use_fnames = parse_folder(dir_path = img_dir, ext='fits', inst='aia', wave='171')\n",
    "print(len(use_fnames))\n",
    "for i in use_fnames:\n",
    "    print(i)\n",
    "'''"
   ]
  },
  {
   "cell_type": "code",
   "execution_count": 3,
   "id": "440f8103-0e43-4ab2-b79c-e9b5c4bf44e6",
   "metadata": {},
   "outputs": [],
   "source": [
    "def get_HMI_data(user_date, user_notify='gdima@hawaii.edu', user_dir=None, max_conn=1, download=True, show_files=False):\n",
    "    \"\"\"\n",
    "    Function that finds the nearest HMI 720s Stokes data series and inversion results.\n",
    "    Parameters\n",
    "    ----------\n",
    "    user_date: `astropy.time` object.\n",
    "    user_notify: Notification email. This must be registered with JSOC. \n",
    "    \"\"\"\n",
    "    \n",
    "    # Calculate a 1s bounding time around the input date user_date\n",
    "    # FIDO finds all series where at least one observation was present in the \n",
    "    # time interval.\n",
    "    time0 = astropy.time.Time(user_date.gps - 1., format='gps', scale='tai')\n",
    "    time1 = astropy.time.Time(user_date.gps + 1., format='gps', scale='tai')\n",
    "\n",
    "    a_time = attrs.Time(time0, time1)\n",
    "    print('Time window used for the search: ', a_time)\n",
    "    \n",
    "    # Set the notification email. This must be registered with JSOC. \n",
    "    a_notify = attrs.jsoc.Notify(user_notify)\n",
    "    \n",
    "    # Set the default data directory if no user directory is specified.\n",
    "    if user_dir is None:\n",
    "        user_dir = work_dir + '/Data/SDO/'\n",
    "    \n",
    "    # Check if the data directory exists and create one if it doesn't.\n",
    "    if not os.path.exists(user_dir):\n",
    "        print('Data directory created: ', user_dir)\n",
    "        os.makedirs(user_dir)\n",
    "    \n",
    "    ### Get the 720s HMI Stokes image series ###\n",
    "    a_series = attrs.jsoc.Series('hmi.S_720s')\n",
    "    \n",
    "    if download:\n",
    "        results_stokes = Fido.search(a_time, a_series, a_notify)\n",
    "        down_files = Fido.fetch(results_stokes, path=user_dir, max_conn=1)\n",
    "        # Sort the input filenames\n",
    "        all_fnames_stokes = natsort.natsorted(down_files)\n",
    "    else:\n",
    "        all_fnames_stokes = parse_folder(dir_path=data_dir, inst='hmi', series='S_720s', ext='fits', show=show_files)\n",
    "    \n",
    "        if len(all_fnames_stokes) > 1:\n",
    "            tstamps = [i.split('.')[2] for i in all_fnames_stokes]\n",
    "            tstamps = [sunpy.time.parse_time('_'.join(i.split('_')[0:2])) for i in tstamps]\n",
    "            tstamps_diff = [np.abs(i.gps - user_date.gps) for i in tstamps]\n",
    "       \n",
    "        # Search for the closest timestamp\n",
    "        tstamps_diff = np.asarray(tstamps_diff)\n",
    "        tstamps_ix, = np.where(tstamps_diff == tstamps_diff.min())\n",
    "\n",
    "        all_fnames_stokes = np.asarray(all_fnames_stokes)[tstamps_ix]\n",
    "        \n",
    "        print(f'No download requested. Nearest {len(all_fnames_stokes)} Stokes files found: ')\n",
    "        print(all_fnames_stokes)\n",
    "    \n",
    "    ### Get the HMI Milne-Eddington magentic field inversion series ###\n",
    "    a_series = attrs.jsoc.Series('hmi.ME_720s_fd10')\n",
    "    \n",
    "    if download:\n",
    "        results_magvec = Fido.search(a_time, a_series, a_notify)\n",
    "        down_files = Fido.fetch(results_magvec, path=user_dir, max_conn=1)\n",
    "        # Sort the input names\n",
    "        all_fnames_magvec = natsort.natsorted(down_files)\n",
    "    else:\n",
    "        all_fnames_magvec = parse_folder(dir_path=data_dir, inst='hmi', series='ME_720s_fd10', ext='fits', show=show_files)\n",
    "        \n",
    "        if len(all_fnames_magvec) > 1:\n",
    "            tstamps = [i.split('.')[2] for i in all_fnames_magvec]\n",
    "            tstamps = [sunpy.time.parse_time('_'.join(i.split('_')[0:2])) for i in tstamps]\n",
    "            tstamps_diff = [np.abs(i.gps - user_date.gps) for i in tstamps]\n",
    "        else:\n",
    "            print('No files found close to the date requested')\n",
    "            return \n",
    "            \n",
    "        # Search for the closest timestamp\n",
    "        tstamps_diff = np.asarray(tstamps_diff)\n",
    "        tstamps_ix, = np.where(tstamps_diff == tstamps_diff.min())\n",
    "\n",
    "        all_fnames_magvec = np.asarray(all_fnames_magvec)[tstamps_ix]\n",
    "        \n",
    "        print(f'No download requested. Nearest inversion {len(all_fnames_magvec)} files found: ')\n",
    "        print(all_fnames_magvec)\n",
    "        \n",
    "    return all_fnames_stokes, all_fnames_magvec\n",
    "   "
   ]
  },
  {
   "cell_type": "markdown",
   "id": "ea25da0d-1334-4238-a340-9458be51325a",
   "metadata": {},
   "source": [
    "# Download HMI timeseries"
   ]
  },
  {
   "cell_type": "code",
   "execution_count": 4,
   "id": "d2c5ff85-f8fd-4363-aa2a-ecc162c9e65c",
   "metadata": {},
   "outputs": [
    {
     "name": "stdout",
     "output_type": "stream",
     "text": [
      "Time window used for the search:  <sunpy.net.attrs.Time(2016-07-28 23:56:59.000, 2016-07-28 23:57:01.000)>\n",
      "No download requested. Nearest 24 Stokes files found: \n",
      "['/home/gabriel/Desktop/Science/StokesPY/Data/SDO/hmi.s_720s.20160729_000000_TAI.3.I0.fits'\n",
      " '/home/gabriel/Desktop/Science/StokesPY/Data/SDO/hmi.s_720s.20160729_000000_TAI.3.I1.fits'\n",
      " '/home/gabriel/Desktop/Science/StokesPY/Data/SDO/hmi.s_720s.20160729_000000_TAI.3.I2.fits'\n",
      " '/home/gabriel/Desktop/Science/StokesPY/Data/SDO/hmi.s_720s.20160729_000000_TAI.3.I3.fits'\n",
      " '/home/gabriel/Desktop/Science/StokesPY/Data/SDO/hmi.s_720s.20160729_000000_TAI.3.I4.fits'\n",
      " '/home/gabriel/Desktop/Science/StokesPY/Data/SDO/hmi.s_720s.20160729_000000_TAI.3.I5.fits'\n",
      " '/home/gabriel/Desktop/Science/StokesPY/Data/SDO/hmi.s_720s.20160729_000000_TAI.3.Q0.fits'\n",
      " '/home/gabriel/Desktop/Science/StokesPY/Data/SDO/hmi.s_720s.20160729_000000_TAI.3.Q1.fits'\n",
      " '/home/gabriel/Desktop/Science/StokesPY/Data/SDO/hmi.s_720s.20160729_000000_TAI.3.Q2.fits'\n",
      " '/home/gabriel/Desktop/Science/StokesPY/Data/SDO/hmi.s_720s.20160729_000000_TAI.3.Q3.fits'\n",
      " '/home/gabriel/Desktop/Science/StokesPY/Data/SDO/hmi.s_720s.20160729_000000_TAI.3.Q4.fits'\n",
      " '/home/gabriel/Desktop/Science/StokesPY/Data/SDO/hmi.s_720s.20160729_000000_TAI.3.Q5.fits'\n",
      " '/home/gabriel/Desktop/Science/StokesPY/Data/SDO/hmi.s_720s.20160729_000000_TAI.3.U0.fits'\n",
      " '/home/gabriel/Desktop/Science/StokesPY/Data/SDO/hmi.s_720s.20160729_000000_TAI.3.U1.fits'\n",
      " '/home/gabriel/Desktop/Science/StokesPY/Data/SDO/hmi.s_720s.20160729_000000_TAI.3.U2.fits'\n",
      " '/home/gabriel/Desktop/Science/StokesPY/Data/SDO/hmi.s_720s.20160729_000000_TAI.3.U3.fits'\n",
      " '/home/gabriel/Desktop/Science/StokesPY/Data/SDO/hmi.s_720s.20160729_000000_TAI.3.U4.fits'\n",
      " '/home/gabriel/Desktop/Science/StokesPY/Data/SDO/hmi.s_720s.20160729_000000_TAI.3.U5.fits'\n",
      " '/home/gabriel/Desktop/Science/StokesPY/Data/SDO/hmi.s_720s.20160729_000000_TAI.3.V0.fits'\n",
      " '/home/gabriel/Desktop/Science/StokesPY/Data/SDO/hmi.s_720s.20160729_000000_TAI.3.V1.fits'\n",
      " '/home/gabriel/Desktop/Science/StokesPY/Data/SDO/hmi.s_720s.20160729_000000_TAI.3.V2.fits'\n",
      " '/home/gabriel/Desktop/Science/StokesPY/Data/SDO/hmi.s_720s.20160729_000000_TAI.3.V3.fits'\n",
      " '/home/gabriel/Desktop/Science/StokesPY/Data/SDO/hmi.s_720s.20160729_000000_TAI.3.V4.fits'\n",
      " '/home/gabriel/Desktop/Science/StokesPY/Data/SDO/hmi.s_720s.20160729_000000_TAI.3.V5.fits']\n",
      "No download requested. Nearest inversion 25 files found: \n",
      "['/home/gabriel/Desktop/Science/StokesPY/Data/SDO/hmi.me_720s_fd10.20160729_000000_TAI.alpha_err.fits'\n",
      " '/home/gabriel/Desktop/Science/StokesPY/Data/SDO/hmi.me_720s_fd10.20160729_000000_TAI.alpha_mag.fits'\n",
      " '/home/gabriel/Desktop/Science/StokesPY/Data/SDO/hmi.me_720s_fd10.20160729_000000_TAI.azimuth.fits'\n",
      " '/home/gabriel/Desktop/Science/StokesPY/Data/SDO/hmi.me_720s_fd10.20160729_000000_TAI.azimuth_alpha_err.fits'\n",
      " '/home/gabriel/Desktop/Science/StokesPY/Data/SDO/hmi.me_720s_fd10.20160729_000000_TAI.azimuth_err.fits'\n",
      " '/home/gabriel/Desktop/Science/StokesPY/Data/SDO/hmi.me_720s_fd10.20160729_000000_TAI.chisq.fits'\n",
      " '/home/gabriel/Desktop/Science/StokesPY/Data/SDO/hmi.me_720s_fd10.20160729_000000_TAI.confid_map.fits'\n",
      " '/home/gabriel/Desktop/Science/StokesPY/Data/SDO/hmi.me_720s_fd10.20160729_000000_TAI.conv_flag.fits'\n",
      " '/home/gabriel/Desktop/Science/StokesPY/Data/SDO/hmi.me_720s_fd10.20160729_000000_TAI.damping.fits'\n",
      " '/home/gabriel/Desktop/Science/StokesPY/Data/SDO/hmi.me_720s_fd10.20160729_000000_TAI.dop_width.fits'\n",
      " '/home/gabriel/Desktop/Science/StokesPY/Data/SDO/hmi.me_720s_fd10.20160729_000000_TAI.eta_0.fits'\n",
      " '/home/gabriel/Desktop/Science/StokesPY/Data/SDO/hmi.me_720s_fd10.20160729_000000_TAI.field.fits'\n",
      " '/home/gabriel/Desktop/Science/StokesPY/Data/SDO/hmi.me_720s_fd10.20160729_000000_TAI.field_alpha_err.fits'\n",
      " '/home/gabriel/Desktop/Science/StokesPY/Data/SDO/hmi.me_720s_fd10.20160729_000000_TAI.field_az_err.fits'\n",
      " '/home/gabriel/Desktop/Science/StokesPY/Data/SDO/hmi.me_720s_fd10.20160729_000000_TAI.field_err.fits'\n",
      " '/home/gabriel/Desktop/Science/StokesPY/Data/SDO/hmi.me_720s_fd10.20160729_000000_TAI.field_inclination_err.fits'\n",
      " '/home/gabriel/Desktop/Science/StokesPY/Data/SDO/hmi.me_720s_fd10.20160729_000000_TAI.inclin_azimuth_err.fits'\n",
      " '/home/gabriel/Desktop/Science/StokesPY/Data/SDO/hmi.me_720s_fd10.20160729_000000_TAI.inclination.fits'\n",
      " '/home/gabriel/Desktop/Science/StokesPY/Data/SDO/hmi.me_720s_fd10.20160729_000000_TAI.inclination_alpha_err.fits'\n",
      " '/home/gabriel/Desktop/Science/StokesPY/Data/SDO/hmi.me_720s_fd10.20160729_000000_TAI.inclination_err.fits'\n",
      " '/home/gabriel/Desktop/Science/StokesPY/Data/SDO/hmi.me_720s_fd10.20160729_000000_TAI.qual_map.fits'\n",
      " '/home/gabriel/Desktop/Science/StokesPY/Data/SDO/hmi.me_720s_fd10.20160729_000000_TAI.src_continuum.fits'\n",
      " '/home/gabriel/Desktop/Science/StokesPY/Data/SDO/hmi.me_720s_fd10.20160729_000000_TAI.src_grad.fits'\n",
      " '/home/gabriel/Desktop/Science/StokesPY/Data/SDO/hmi.me_720s_fd10.20160729_000000_TAI.vlos_err.fits'\n",
      " '/home/gabriel/Desktop/Science/StokesPY/Data/SDO/hmi.me_720s_fd10.20160729_000000_TAI.vlos_mag.fits']\n"
     ]
    }
   ],
   "source": [
    "# Select a date and time to search for observations.\n",
    "user_date = astropy.time.Time(datetime.datetime(2016, 7, 28, 23, 57, 0), scale='tai')\n",
    "\n",
    "# Find the nearest set of Stokes and corresponding inversion results.\n",
    "all_fnames_stokes, all_fnames_magvec = get_HMI_data(user_date, user_notify='gdima@hawaii.edu', download=False)"
   ]
  },
  {
   "cell_type": "markdown",
   "id": "d7e7a577-ff90-4c6c-bd9b-d91d29a8afea",
   "metadata": {},
   "source": [
    "# Create StokesCube from HMI images"
   ]
  },
  {
   "cell_type": "markdown",
   "id": "b9306173-9150-4078-8a71-e974625f2352",
   "metadata": {},
   "source": [
    "## Create data array"
   ]
  },
  {
   "cell_type": "code",
   "execution_count": 5,
   "id": "d814a9e7-5329-46c0-bf36-5ccecda7fa8a",
   "metadata": {},
   "outputs": [
    {
     "name": "stdout",
     "output_type": "stream",
     "text": [
      "Created data cube with dimensions: (4, 6, 4096, 4096)\n"
     ]
    }
   ],
   "source": [
    "## Use sunpy.map.Map to read HMI files since it provides the correct observer frame of reference.\n",
    "\n",
    "level1_data = []\n",
    "for i, fname in enumerate(all_fnames_stokes):\n",
    "    level1_data.append(sunpy.map.Map(fname).data)\n",
    "    \n",
    "level1_data = np.asarray(level1_data)\n",
    "level1_data = level1_data.reshape(4,6,level1_data.shape[1], level1_data.shape[2])\n",
    "\n",
    "print(f'Created data cube with dimensions: {level1_data.shape}')"
   ]
  },
  {
   "cell_type": "markdown",
   "id": "91cd781c-9e17-4f57-85ec-014514e0abf2",
   "metadata": {},
   "source": [
    "## Create the WCS object"
   ]
  },
  {
   "cell_type": "code",
   "execution_count": 6,
   "id": "a40ae146-fa4f-4841-bc98-abb96016dfe1",
   "metadata": {},
   "outputs": [],
   "source": [
    "# Expand the coordinate axis to include wavelength and stokes dimensions.\n",
    "\n",
    "l0 = 6173.345 * 1.e-10  # m Central wavelength for FeI line\n",
    "dl = 0.0688   * 1.e-10  # m \n",
    "\n",
    "# Generate WCS for data cube using same WCS celestial information from AIA map.\n",
    "wcs_header = sunpy.map.Map(all_fnames_stokes[0]).wcs.to_header()\n",
    "\n",
    "wcs_header[\"WCSAXES\"] = 4\n",
    "\n",
    "# Add wavelength axis.\n",
    "wcs_header[\"CRPIX3\"] = 3.5\n",
    "wcs_header[\"CDELT3\"] = dl\n",
    "wcs_header[\"CUNIT3\"] = 'm'\n",
    "wcs_header[\"CTYPE3\"] = \"WAVE\"\n",
    "wcs_header[\"CRVAL3\"] = l0\n",
    "\n",
    "# Add Stokes axis.\n",
    "wcs_header[\"CRPIX4\"] = 0\n",
    "wcs_header[\"CDELT4\"] = 1\n",
    "wcs_header[\"CUNIT4\"] = ''\n",
    "wcs_header[\"CTYPE4\"] = \"STOKES\"\n",
    "wcs_header[\"CRVAL4\"] = 0\n",
    "\n",
    "level1_wcs = astropy.wcs.WCS(wcs_header)"
   ]
  },
  {
   "cell_type": "code",
   "execution_count": 7,
   "id": "425296ed-bb4f-48d8-82b1-d14a31349912",
   "metadata": {},
   "outputs": [
    {
     "data": {
      "text/plain": [
       "['deg', 'deg', 'm', '']"
      ]
     },
     "execution_count": 7,
     "metadata": {},
     "output_type": "execute_result"
    }
   ],
   "source": [
    "level1_wcs.world_axis_units"
   ]
  },
  {
   "cell_type": "markdown",
   "id": "9df96757-7ffa-463b-9bd8-1f4ed1dee219",
   "metadata": {},
   "source": [
    "## Create the StokesCube object"
   ]
  },
  {
   "cell_type": "code",
   "execution_count": 8,
   "id": "e1adaccd-41d6-4869-b0e9-c5552c43dea4",
   "metadata": {},
   "outputs": [],
   "source": [
    "level1_cube = stokespy.StokesCube(level1_data, level1_wcs)"
   ]
  },
  {
   "cell_type": "code",
   "execution_count": 9,
   "id": "c115fd91-f33c-4049-8293-4a8f13229f46",
   "metadata": {},
   "outputs": [
    {
     "name": "stdout",
     "output_type": "stream",
     "text": [
      "Input wavelength \n",
      "[6.1731730e-07 6.1732418e-07 6.1733106e-07 6.1733794e-07 6.1734482e-07\n",
      " 6.1735170e-07]\n",
      "StokesCube wavelength\n",
      "[6.1731730e-07 6.1732418e-07 6.1733106e-07 6.1733794e-07 6.1734482e-07\n",
      " 6.1735170e-07] m\n"
     ]
    }
   ],
   "source": [
    "# Spectral axis checks out.\n",
    "print('Input wavelength ') \n",
    "print((l0 + dl * (np.arange(0,6) - 3.5 + 1)))\n",
    "print('StokesCube wavelength')\n",
    "print(level1_cube.spectral_axis)"
   ]
  },
  {
   "cell_type": "markdown",
   "id": "be8122d9-5c96-494b-b738-bcdd1bb68c2c",
   "metadata": {},
   "source": [
    "# Create MagVectorCube from HMI inversions"
   ]
  },
  {
   "cell_type": "markdown",
   "id": "f553d1c6-c4a3-4cec-ab5e-cb7399065afa",
   "metadata": {},
   "source": [
    "## Create data array"
   ]
  },
  {
   "cell_type": "code",
   "execution_count": 10,
   "id": "7dc65b1b-d9ff-48ca-9875-94562b45d767",
   "metadata": {},
   "outputs": [
    {
     "name": "stdout",
     "output_type": "stream",
     "text": [
      "Created data cube with dimensions: (3, 4096, 4096)\n",
      "Filenames used: \n",
      "/home/gabriel/Desktop/Science/StokesPY/Data/SDO/hmi.me_720s_fd10.20160729_000000_TAI.field.fits\n",
      "/home/gabriel/Desktop/Science/StokesPY/Data/SDO/hmi.me_720s_fd10.20160729_000000_TAI.inclination.fits\n",
      "/home/gabriel/Desktop/Science/StokesPY/Data/SDO/hmi.me_720s_fd10.20160729_000000_TAI.azimuth.fits\n"
     ]
    }
   ],
   "source": [
    "mag_params = ['field', 'inclination', 'azimuth']\n",
    "\n",
    "level2_data = []\n",
    "\n",
    "# Load 2D maps into level2_data in the order determined by entries in mag_params\n",
    "use_fnames = []\n",
    "for mag_param in mag_params:\n",
    "    for i, fname in enumerate(all_fnames_magvec):\n",
    "        data_id = fname.split('.')[-2]\n",
    "        if data_id == mag_param:\n",
    "            use_fnames.append(fname)\n",
    "            with astropy.io.fits.open(fname) as hdulist:\n",
    "                level2_data.append(hdulist[1].data)\n",
    "                \n",
    "level2_data = np.asarray(level2_data)\n",
    "                \n",
    "print(f'Created data cube with dimensions: {level2_data.shape}')\n",
    "print('Filenames used: ')\n",
    "for fname in use_fnames:\n",
    "    print(fname)"
   ]
  },
  {
   "cell_type": "markdown",
   "id": "3628669e-5cae-4171-8cfe-aa5449db3863",
   "metadata": {},
   "source": [
    "## Create WCS"
   ]
  },
  {
   "cell_type": "code",
   "execution_count": 12,
   "id": "1320b0bf-68ef-4491-a81c-fbfbe24b4554",
   "metadata": {},
   "outputs": [],
   "source": [
    "# Expand the wcs coordinates to include the magnetic field parameters.\n",
    "\n",
    "# Generate WCS for data cube using same WCS celestial information from AIA map.\n",
    "wcs_header = sunpy.map.Map(all_fnames_stokes[0]).wcs.to_header()\n",
    "\n",
    "wcs_header[\"WCSAXES\"] = 3\n",
    "\n",
    "# Add Magnetic field axis.\n",
    "wcs_header[\"CRPIX3\"] = 0\n",
    "wcs_header[\"CDELT3\"] = 1\n",
    "wcs_header[\"CUNIT3\"] = ''\n",
    "wcs_header[\"CTYPE3\"] = \"Parameter\"\n",
    "wcs_header[\"CRVAL3\"] = 0\n",
    "\n",
    "level2_wcs = astropy.wcs.WCS(wcs_header)"
   ]
  },
  {
   "cell_type": "markdown",
   "id": "d6414bfb-0b50-4f58-9541-4b4b567713a1",
   "metadata": {},
   "source": [
    "## Create the MagVectorCube object"
   ]
  },
  {
   "cell_type": "code",
   "execution_count": 13,
   "id": "dcd1b5c1-4cd6-4831-aac2-6286d2dc0d44",
   "metadata": {},
   "outputs": [],
   "source": [
    "level2_cube = stokespy.MagVectorCube(level2_data, level2_wcs)"
   ]
  },
  {
   "cell_type": "code",
   "execution_count": 14,
   "id": "f5d95ce9-6ba5-44aa-8bf3-0c57baf4eeca",
   "metadata": {},
   "outputs": [
    {
     "data": {
      "application/vnd.jupyter.widget-view+json": {
       "model_id": "4e86ee8b644f46cbb1bacf3dd1d70f62",
       "version_major": 2,
       "version_minor": 0
      },
      "text/plain": [
       "Canvas(toolbar=Toolbar(toolitems=[('Home', 'Reset original view', 'home', 'home'), ('Back', 'Back to previous …"
      ]
     },
     "metadata": {},
     "output_type": "display_data"
    },
    {
     "data": {
      "text/plain": [
       "<WCSAxesSubplot:>"
      ]
     },
     "execution_count": 14,
     "metadata": {},
     "output_type": "execute_result"
    }
   ],
   "source": [
    "# I use jupyter lab which uses this widget command for interactive plotting\n",
    "#%matplotlib notebook\n",
    "%matplotlib widget  \n",
    "\n",
    "mag_map = level2_cube.inclination\n",
    "mag_map.plot()"
   ]
  },
  {
   "cell_type": "code",
   "execution_count": 15,
   "id": "22fa13ac-1a57-461d-96a1-447675f570c1",
   "metadata": {},
   "outputs": [
    {
     "data": {
      "text/plain": [
       "('B', 'inclination', 'azimuth')"
      ]
     },
     "execution_count": 15,
     "metadata": {},
     "output_type": "execute_result"
    }
   ],
   "source": [
    "level2_cube._magnetic_axis"
   ]
  },
  {
   "cell_type": "code",
   "execution_count": null,
   "id": "d69cedb6-101d-4960-99dd-5e11930cb5bc",
   "metadata": {},
   "outputs": [],
   "source": []
  }
 ],
 "metadata": {
  "kernelspec": {
   "display_name": "Python [conda env:stokespy] *",
   "language": "python",
   "name": "conda-env-stokespy-py"
  },
  "language_info": {
   "codemirror_mode": {
    "name": "ipython",
    "version": 3
   },
   "file_extension": ".py",
   "mimetype": "text/x-python",
   "name": "python",
   "nbconvert_exporter": "python",
   "pygments_lexer": "ipython3",
   "version": "3.9.4"
  },
  "toc-autonumbering": true,
  "widgets": {
   "application/vnd.jupyter.widget-state+json": {
    "state": {},
    "version_major": 2,
    "version_minor": 0
   }
  }
 },
 "nbformat": 4,
 "nbformat_minor": 5
}
