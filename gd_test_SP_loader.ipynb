{
 "cells": [
  {
   "cell_type": "code",
   "execution_count": 1,
   "id": "5536d989-68fc-4324-afeb-4b678227d929",
   "metadata": {},
   "outputs": [],
   "source": [
    "#import stokespy\n",
    "#from stokespy import get_HMI_data, get_SP_data, StokesParamCube, StokesParamMap, StokesProfile\n",
    "import datetime\n",
    "import astropy\n",
    "import astropy.units as u\n",
    "from astropy.coordinates import SkyCoord, SpectralCoord\n",
    "from astropy.wcs.wcsapi import SlicedLowLevelWCS, HighLevelWCSWrapper\n",
    "\n",
    "import sunpy.map\n",
    "from sunpy.net import Fido, attrs\n",
    "\n",
    "import numpy as np\n",
    "import os\n",
    "import matplotlib.pyplot as plt\n",
    "import matplotlib\n",
    "#import ndcube\n",
    "\n",
    "matplotlib.use('TkAgg')\n",
    "\n",
    "# Setup the autoreload function.\n",
    "%load_ext autoreload\n",
    "%autoreload 2"
   ]
  },
  {
   "cell_type": "code",
   "execution_count": 2,
   "id": "dd570784-2559-462d-90cb-f703c4ec87fe",
   "metadata": {},
   "outputs": [],
   "source": [
    "user_dir = os.getcwd() + '/Data/Hinode/'\n",
    "#user_date = '20170822_171104'   # AR near limb\n",
    "user_date = '20170905_030404'  # AR near center\n",
    "\n",
    "### Generate the scan file list.\n",
    "level1_dir = user_dir + 'Level1/' + user_date\n",
    "level1_files = []\n",
    "for file in sorted(os.listdir(level1_dir)):\n",
    "    if not file.endswith(\".fits\"):\n",
    "        continue\n",
    "    level1_files.append(os.path.join(level1_dir, file))"
   ]
  },
  {
   "cell_type": "code",
   "execution_count": 3,
   "id": "aaa26e5d-32c2-4d8b-9c68-c089308535f3",
   "metadata": {},
   "outputs": [],
   "source": [
    "# Load one file for reference\n",
    "SP_level1 = astropy.io.fits.open(level1_files[0])\n",
    "\n",
    "### Read all the Level 1 scan data \n",
    "Nx = len(level1_files)\n",
    "Nstokes, Ny, Nwav = SP_level1[0].data.shape\n",
    "level1_data = np.zeros((Nx, Nstokes, Ny, Nwav))\n",
    "\n",
    "# Because of discrepancies between the lvl1 and lvl2 headers\n",
    "# it is useful for debuggin purposes to keep track of the individual\n",
    "# scan file headers. The approximate location of the central pixel\n",
    "# can be calculated as the median\n",
    "head_all = []\n",
    "xcen_a = []\n",
    "ycen_a = []\n",
    "for ix, file in enumerate(level1_files):\n",
    "    SP_lvl1_obj = astropy.io.fits.open(file)\n",
    "    level1_data[ix] = SP_lvl1_obj[0].data\n",
    "    head_all.append(SP_lvl1_obj['Primary'].header)\n",
    "    xcen_a.append(head_all[ix]['XCEN'])\n",
    "    ycen_a.append(head_all[ix]['YCEN'])\n",
    "\n",
    "level1_data = level1_data.transpose(1, 3, 2, 0) # data axes order: stokes, wav, y, x"
   ]
  },
  {
   "cell_type": "code",
   "execution_count": 4,
   "id": "fdbd8a62-ade7-4a98-ab09-e9f5c9dbefae",
   "metadata": {},
   "outputs": [],
   "source": [
    "### Read the Level 2 fit data. \n",
    "level2_fname = user_dir + '/Level2/' + user_date + '.fits'\n",
    "SP_level2 = astropy.io.fits.open(level2_fname)\n",
    "\n",
    "Ny, Nx = SP_level2['Field_Strength'].data.shape\n",
    "level2_data = np.zeros((3, Ny, Nx))\n",
    "level2_data[0] = SP_level2['Field_Strength'].data\n",
    "level2_data[1] = SP_level2['Field_Inclination'].data\n",
    "level2_data[2] = SP_level2['Field_Azimuth'].data\n",
    "level2_data.shape\n",
    "\n",
    "### Build WCS objects.\n",
    "head1 = SP_level1['PRIMARY'].header\n",
    "head2 = SP_level2['PRIMARY'].header"
   ]
  },
  {
   "cell_type": "code",
   "execution_count": 5,
   "id": "26deee85-1fef-4062-ad4d-053754bb82c8",
   "metadata": {
    "collapsed": true,
    "jupyter": {
     "outputs_hidden": true
    },
    "tags": []
   },
   "outputs": [
    {
     "ename": "FileNotFoundError",
     "evalue": "[Errno 2] No such file or directory: '/home/gabriel/Desktop/Science/StokesPY/stokespy_notebooks/Data/Hinode//Level2.1/20170822_171104_L2.1.fits'",
     "output_type": "error",
     "traceback": [
      "\u001b[0;31m---------------------------------------------------------------------------\u001b[0m",
      "\u001b[0;31mFileNotFoundError\u001b[0m                         Traceback (most recent call last)",
      "\u001b[0;32m<ipython-input-5-4d848ddf95e8>\u001b[0m in \u001b[0;36m<module>\u001b[0;34m\u001b[0m\n\u001b[1;32m      1\u001b[0m \u001b[0;31m### Read the Level 2.1 fit data.\u001b[0m\u001b[0;34m\u001b[0m\u001b[0;34m\u001b[0m\u001b[0m\n\u001b[1;32m      2\u001b[0m \u001b[0mlevel21_fname\u001b[0m \u001b[0;34m=\u001b[0m \u001b[0muser_dir\u001b[0m \u001b[0;34m+\u001b[0m \u001b[0;34m'/Level2.1/'\u001b[0m \u001b[0;34m+\u001b[0m \u001b[0muser_date\u001b[0m \u001b[0;34m+\u001b[0m \u001b[0;34m'_L2.1.fits'\u001b[0m\u001b[0;34m\u001b[0m\u001b[0;34m\u001b[0m\u001b[0m\n\u001b[0;32m----> 3\u001b[0;31m \u001b[0mSP_level21\u001b[0m \u001b[0;34m=\u001b[0m \u001b[0mastropy\u001b[0m\u001b[0;34m.\u001b[0m\u001b[0mio\u001b[0m\u001b[0;34m.\u001b[0m\u001b[0mfits\u001b[0m\u001b[0;34m.\u001b[0m\u001b[0mopen\u001b[0m\u001b[0;34m(\u001b[0m\u001b[0mlevel21_fname\u001b[0m\u001b[0;34m)\u001b[0m\u001b[0;34m\u001b[0m\u001b[0;34m\u001b[0m\u001b[0m\n\u001b[0m\u001b[1;32m      4\u001b[0m \u001b[0;34m\u001b[0m\u001b[0m\n\u001b[1;32m      5\u001b[0m \u001b[0;31m#Ny, Nx = SP_level2['Field_Strength'].data.shape\u001b[0m\u001b[0;34m\u001b[0m\u001b[0;34m\u001b[0m\u001b[0m\n",
      "\u001b[0;32m~/anaconda3/envs/stokespy/lib/python3.9/site-packages/astropy/io/fits/hdu/hdulist.py\u001b[0m in \u001b[0;36mfitsopen\u001b[0;34m(name, mode, memmap, save_backup, cache, lazy_load_hdus, ignore_missing_simple, **kwargs)\u001b[0m\n\u001b[1;32m    171\u001b[0m         \u001b[0;32mraise\u001b[0m \u001b[0mValueError\u001b[0m\u001b[0;34m(\u001b[0m\u001b[0;34mf'Empty filename: {name!r}'\u001b[0m\u001b[0;34m)\u001b[0m\u001b[0;34m\u001b[0m\u001b[0;34m\u001b[0m\u001b[0m\n\u001b[1;32m    172\u001b[0m \u001b[0;34m\u001b[0m\u001b[0m\n\u001b[0;32m--> 173\u001b[0;31m     return HDUList.fromfile(name, mode, memmap, save_backup, cache,\n\u001b[0m\u001b[1;32m    174\u001b[0m                             lazy_load_hdus, ignore_missing_simple, **kwargs)\n\u001b[1;32m    175\u001b[0m \u001b[0;34m\u001b[0m\u001b[0m\n",
      "\u001b[0;32m~/anaconda3/envs/stokespy/lib/python3.9/site-packages/astropy/io/fits/hdu/hdulist.py\u001b[0m in \u001b[0;36mfromfile\u001b[0;34m(cls, fileobj, mode, memmap, save_backup, cache, lazy_load_hdus, ignore_missing_simple, **kwargs)\u001b[0m\n\u001b[1;32m    406\u001b[0m         \"\"\"\n\u001b[1;32m    407\u001b[0m \u001b[0;34m\u001b[0m\u001b[0m\n\u001b[0;32m--> 408\u001b[0;31m         return cls._readfrom(fileobj=fileobj, mode=mode, memmap=memmap,\n\u001b[0m\u001b[1;32m    409\u001b[0m                              \u001b[0msave_backup\u001b[0m\u001b[0;34m=\u001b[0m\u001b[0msave_backup\u001b[0m\u001b[0;34m,\u001b[0m \u001b[0mcache\u001b[0m\u001b[0;34m=\u001b[0m\u001b[0mcache\u001b[0m\u001b[0;34m,\u001b[0m\u001b[0;34m\u001b[0m\u001b[0;34m\u001b[0m\u001b[0m\n\u001b[1;32m    410\u001b[0m                              \u001b[0mignore_missing_simple\u001b[0m\u001b[0;34m=\u001b[0m\u001b[0mignore_missing_simple\u001b[0m\u001b[0;34m,\u001b[0m\u001b[0;34m\u001b[0m\u001b[0;34m\u001b[0m\u001b[0m\n",
      "\u001b[0;32m~/anaconda3/envs/stokespy/lib/python3.9/site-packages/astropy/io/fits/hdu/hdulist.py\u001b[0m in \u001b[0;36m_readfrom\u001b[0;34m(cls, fileobj, data, mode, memmap, cache, lazy_load_hdus, ignore_missing_simple, **kwargs)\u001b[0m\n\u001b[1;32m   1062\u001b[0m             \u001b[0;32mif\u001b[0m \u001b[0;32mnot\u001b[0m \u001b[0misinstance\u001b[0m\u001b[0;34m(\u001b[0m\u001b[0mfileobj\u001b[0m\u001b[0;34m,\u001b[0m \u001b[0m_File\u001b[0m\u001b[0;34m)\u001b[0m\u001b[0;34m:\u001b[0m\u001b[0;34m\u001b[0m\u001b[0;34m\u001b[0m\u001b[0m\n\u001b[1;32m   1063\u001b[0m                 \u001b[0;31m# instantiate a FITS file object (ffo)\u001b[0m\u001b[0;34m\u001b[0m\u001b[0;34m\u001b[0m\u001b[0m\n\u001b[0;32m-> 1064\u001b[0;31m                 \u001b[0mfileobj\u001b[0m \u001b[0;34m=\u001b[0m \u001b[0m_File\u001b[0m\u001b[0;34m(\u001b[0m\u001b[0mfileobj\u001b[0m\u001b[0;34m,\u001b[0m \u001b[0mmode\u001b[0m\u001b[0;34m=\u001b[0m\u001b[0mmode\u001b[0m\u001b[0;34m,\u001b[0m \u001b[0mmemmap\u001b[0m\u001b[0;34m=\u001b[0m\u001b[0mmemmap\u001b[0m\u001b[0;34m,\u001b[0m \u001b[0mcache\u001b[0m\u001b[0;34m=\u001b[0m\u001b[0mcache\u001b[0m\u001b[0;34m)\u001b[0m\u001b[0;34m\u001b[0m\u001b[0;34m\u001b[0m\u001b[0m\n\u001b[0m\u001b[1;32m   1065\u001b[0m             \u001b[0;31m# The Astropy mode is determined by the _File initializer if the\u001b[0m\u001b[0;34m\u001b[0m\u001b[0;34m\u001b[0m\u001b[0m\n\u001b[1;32m   1066\u001b[0m             \u001b[0;31m# supplied mode was None\u001b[0m\u001b[0;34m\u001b[0m\u001b[0;34m\u001b[0m\u001b[0m\n",
      "\u001b[0;32m~/anaconda3/envs/stokespy/lib/python3.9/site-packages/astropy/utils/decorators.py\u001b[0m in \u001b[0;36mwrapper\u001b[0;34m(*args, **kwargs)\u001b[0m\n\u001b[1;32m    534\u001b[0m                     \u001b[0mwarnings\u001b[0m\u001b[0;34m.\u001b[0m\u001b[0mwarn\u001b[0m\u001b[0;34m(\u001b[0m\u001b[0mmessage\u001b[0m\u001b[0;34m,\u001b[0m \u001b[0mwarning_type\u001b[0m\u001b[0;34m,\u001b[0m \u001b[0mstacklevel\u001b[0m\u001b[0;34m=\u001b[0m\u001b[0;36m2\u001b[0m\u001b[0;34m)\u001b[0m\u001b[0;34m\u001b[0m\u001b[0;34m\u001b[0m\u001b[0m\n\u001b[1;32m    535\u001b[0m \u001b[0;34m\u001b[0m\u001b[0m\n\u001b[0;32m--> 536\u001b[0;31m             \u001b[0;32mreturn\u001b[0m \u001b[0mfunction\u001b[0m\u001b[0;34m(\u001b[0m\u001b[0;34m*\u001b[0m\u001b[0margs\u001b[0m\u001b[0;34m,\u001b[0m \u001b[0;34m**\u001b[0m\u001b[0mkwargs\u001b[0m\u001b[0;34m)\u001b[0m\u001b[0;34m\u001b[0m\u001b[0;34m\u001b[0m\u001b[0m\n\u001b[0m\u001b[1;32m    537\u001b[0m \u001b[0;34m\u001b[0m\u001b[0m\n\u001b[1;32m    538\u001b[0m         \u001b[0;32mreturn\u001b[0m \u001b[0mwrapper\u001b[0m\u001b[0;34m\u001b[0m\u001b[0;34m\u001b[0m\u001b[0m\n",
      "\u001b[0;32m~/anaconda3/envs/stokespy/lib/python3.9/site-packages/astropy/io/fits/file.py\u001b[0m in \u001b[0;36m__init__\u001b[0;34m(self, fileobj, mode, memmap, overwrite, cache)\u001b[0m\n\u001b[1;32m    168\u001b[0m             \u001b[0mself\u001b[0m\u001b[0;34m.\u001b[0m\u001b[0m_open_fileobj\u001b[0m\u001b[0;34m(\u001b[0m\u001b[0mfileobj\u001b[0m\u001b[0;34m,\u001b[0m \u001b[0mmode\u001b[0m\u001b[0;34m,\u001b[0m \u001b[0moverwrite\u001b[0m\u001b[0;34m)\u001b[0m\u001b[0;34m\u001b[0m\u001b[0;34m\u001b[0m\u001b[0m\n\u001b[1;32m    169\u001b[0m         \u001b[0;32melif\u001b[0m \u001b[0misinstance\u001b[0m\u001b[0;34m(\u001b[0m\u001b[0mfileobj\u001b[0m\u001b[0;34m,\u001b[0m \u001b[0;34m(\u001b[0m\u001b[0mstr\u001b[0m\u001b[0;34m,\u001b[0m \u001b[0mbytes\u001b[0m\u001b[0;34m)\u001b[0m\u001b[0;34m)\u001b[0m\u001b[0;34m:\u001b[0m\u001b[0;34m\u001b[0m\u001b[0;34m\u001b[0m\u001b[0m\n\u001b[0;32m--> 170\u001b[0;31m             \u001b[0mself\u001b[0m\u001b[0;34m.\u001b[0m\u001b[0m_open_filename\u001b[0m\u001b[0;34m(\u001b[0m\u001b[0mfileobj\u001b[0m\u001b[0;34m,\u001b[0m \u001b[0mmode\u001b[0m\u001b[0;34m,\u001b[0m \u001b[0moverwrite\u001b[0m\u001b[0;34m)\u001b[0m\u001b[0;34m\u001b[0m\u001b[0;34m\u001b[0m\u001b[0m\n\u001b[0m\u001b[1;32m    171\u001b[0m         \u001b[0;32melse\u001b[0m\u001b[0;34m:\u001b[0m\u001b[0;34m\u001b[0m\u001b[0;34m\u001b[0m\u001b[0m\n\u001b[1;32m    172\u001b[0m             \u001b[0mself\u001b[0m\u001b[0;34m.\u001b[0m\u001b[0m_open_filelike\u001b[0m\u001b[0;34m(\u001b[0m\u001b[0mfileobj\u001b[0m\u001b[0;34m,\u001b[0m \u001b[0mmode\u001b[0m\u001b[0;34m,\u001b[0m \u001b[0moverwrite\u001b[0m\u001b[0;34m)\u001b[0m\u001b[0;34m\u001b[0m\u001b[0;34m\u001b[0m\u001b[0m\n",
      "\u001b[0;32m~/anaconda3/envs/stokespy/lib/python3.9/site-packages/astropy/io/fits/file.py\u001b[0m in \u001b[0;36m_open_filename\u001b[0;34m(self, filename, mode, overwrite)\u001b[0m\n\u001b[1;32m    556\u001b[0m \u001b[0;34m\u001b[0m\u001b[0m\n\u001b[1;32m    557\u001b[0m         \u001b[0;32mif\u001b[0m \u001b[0;32mnot\u001b[0m \u001b[0mself\u001b[0m\u001b[0;34m.\u001b[0m\u001b[0m_try_read_compressed\u001b[0m\u001b[0;34m(\u001b[0m\u001b[0mself\u001b[0m\u001b[0;34m.\u001b[0m\u001b[0mname\u001b[0m\u001b[0;34m,\u001b[0m \u001b[0mmagic\u001b[0m\u001b[0;34m,\u001b[0m \u001b[0mmode\u001b[0m\u001b[0;34m,\u001b[0m \u001b[0mext\u001b[0m\u001b[0;34m=\u001b[0m\u001b[0mext\u001b[0m\u001b[0;34m)\u001b[0m\u001b[0;34m:\u001b[0m\u001b[0;34m\u001b[0m\u001b[0;34m\u001b[0m\u001b[0m\n\u001b[0;32m--> 558\u001b[0;31m             \u001b[0mself\u001b[0m\u001b[0;34m.\u001b[0m\u001b[0m_file\u001b[0m \u001b[0;34m=\u001b[0m \u001b[0mfileobj_open\u001b[0m\u001b[0;34m(\u001b[0m\u001b[0mself\u001b[0m\u001b[0;34m.\u001b[0m\u001b[0mname\u001b[0m\u001b[0;34m,\u001b[0m \u001b[0mIO_FITS_MODES\u001b[0m\u001b[0;34m[\u001b[0m\u001b[0mmode\u001b[0m\u001b[0;34m]\u001b[0m\u001b[0;34m)\u001b[0m\u001b[0;34m\u001b[0m\u001b[0;34m\u001b[0m\u001b[0m\n\u001b[0m\u001b[1;32m    559\u001b[0m             \u001b[0mself\u001b[0m\u001b[0;34m.\u001b[0m\u001b[0mclose_on_error\u001b[0m \u001b[0;34m=\u001b[0m \u001b[0;32mTrue\u001b[0m\u001b[0;34m\u001b[0m\u001b[0;34m\u001b[0m\u001b[0m\n\u001b[1;32m    560\u001b[0m \u001b[0;34m\u001b[0m\u001b[0m\n",
      "\u001b[0;32m~/anaconda3/envs/stokespy/lib/python3.9/site-packages/astropy/io/fits/util.py\u001b[0m in \u001b[0;36mfileobj_open\u001b[0;34m(filename, mode)\u001b[0m\n\u001b[1;32m    388\u001b[0m     \"\"\"\n\u001b[1;32m    389\u001b[0m \u001b[0;34m\u001b[0m\u001b[0m\n\u001b[0;32m--> 390\u001b[0;31m     \u001b[0;32mreturn\u001b[0m \u001b[0mopen\u001b[0m\u001b[0;34m(\u001b[0m\u001b[0mfilename\u001b[0m\u001b[0;34m,\u001b[0m \u001b[0mmode\u001b[0m\u001b[0;34m,\u001b[0m \u001b[0mbuffering\u001b[0m\u001b[0;34m=\u001b[0m\u001b[0;36m0\u001b[0m\u001b[0;34m)\u001b[0m\u001b[0;34m\u001b[0m\u001b[0;34m\u001b[0m\u001b[0m\n\u001b[0m\u001b[1;32m    391\u001b[0m \u001b[0;34m\u001b[0m\u001b[0m\n\u001b[1;32m    392\u001b[0m \u001b[0;34m\u001b[0m\u001b[0m\n",
      "\u001b[0;31mFileNotFoundError\u001b[0m: [Errno 2] No such file or directory: '/home/gabriel/Desktop/Science/StokesPY/stokespy_notebooks/Data/Hinode//Level2.1/20170822_171104_L2.1.fits'"
     ]
    }
   ],
   "source": [
    "### Read the Level 2.1 fit data. \n",
    "level21_fname = user_dir + '/Level2.1/' + user_date + '_L2.1.fits'\n",
    "SP_level21 = astropy.io.fits.open(level21_fname)\n",
    "\n",
    "#Ny, Nx = SP_level2['Field_Strength'].data.shape\n",
    "#level2_data = np.zeros((3, Ny, Nx))\n",
    "#level2_data[0] = SP_level2['Field_Strength'].data\n",
    "#level2_data[1] = SP_level2['Field_Inclination'].data\n",
    "#level2_data[2] = SP_level2['Field_Azimuth'].data\n",
    "#level2_data.shape\n",
    "\n",
    "### Build WCS objects.\n",
    "#head1 = SP_level1['PRIMARY'].header\n",
    "head21 = SP_level21['PRIMARY'].header"
   ]
  },
  {
   "cell_type": "code",
   "execution_count": 108,
   "id": "d9b0c2f8-2f12-4a69-959d-e18b3f80780a",
   "metadata": {
    "collapsed": true,
    "jupyter": {
     "outputs_hidden": true
    },
    "tags": []
   },
   "outputs": [
    {
     "data": {
      "text/plain": [
       "SIMPLE  =                    T / Written by IDL:  Fri Nov 27 00:08:02 2020      \n",
       "BITPIX  =                    8 /                                                \n",
       "NAXIS   =                    0 /                                                \n",
       "NAXIS1  =                  485 /                                                \n",
       "NAXIS2  =                  512 /                                                \n",
       "EXTEND  =                    T / File contains extensions                       \n",
       "XCEN    =              96.3010 /                                                \n",
       "YCEN    =              40.5247 /                                                \n",
       "XSCALE  =             0.297140 /                                                \n",
       "YSCALE  =             0.319978 /                                                \n",
       "TSTART  = '2017-09-05T03:04:04.495' /                                           \n",
       "TEND    = '2017-09-05T03:34:53.245' /                                           \n",
       "MAPID   = '124491  '           /                                                \n",
       "LMIN1   =        6301.20741000 /                                                \n",
       "LMAX1   =        6301.85388003 /                                                \n",
       "LMIN2   =        6302.19867000 /                                                \n",
       "LMAX2   =        6302.84514003 /                                                \n",
       "INVCODE = 'Merlin  '           /                                                \n",
       "INVVERS = '1       '           /                                                \n",
       "L2RTIME = '2020-11-27T07:08:00.645' /                                           \n",
       "MERLIN-I= 'Self-GA '           /                                                \n",
       "MERMAXCO=          1.00000E+16 /                                                \n",
       "MERMAXDM=          1.00000E+26 /                                                \n",
       "MERMINDM=          1.00000E-14 /                                                \n",
       "MERMAXFA=                  120 /                                                \n",
       "MERMAXIT=                  220 /                                                \n",
       "MERMINPO=          1.00000E-06 /                                                \n",
       "MERSLM  = 'FILL_FACTOR'        /                                                \n",
       "MERSFLD = 'true    '           /                                                \n",
       "MERSPSI = 'true    '           /                                                \n",
       "MERSAZM = 'true    '           /                                                \n",
       "MERSETAO= 'true    '           /                                                \n",
       "MERDOPP = 'true    '           /                                                \n",
       "MERDMP  = 'true    '           /                                                \n",
       "MERSBZER= 'true    '           /                                                \n",
       "MERSB1MU= 'true    '           /                                                \n",
       "MERVMAC = 'false   '           /                                                \n",
       "MERSALPH= 'true    '           /                                                \n",
       "MERSDELT= 'true    '           /                                                \n",
       "MERSCEN1= 'true    '           /                                                \n",
       "MERSCEN2= 'true    '           /                                                \n",
       "P_ANGLE =        22.0749411915 /                                                \n",
       "B_ANGLE =        7.23833115672 /                                                \n",
       "SOLAR_RA=        951.153105635 /                                                \n",
       "DISAMBIG= 'true    '                                                            \n",
       "DAMBALGO= 'ME0     '           / Disambiguation algorithm                       \n",
       "DAMBVERS= '1.5     '           / Disambiguation version                         \n",
       "AMBGFLG =                    2 / Planar (1) or spherical (2) geometry           \n",
       "AMBPFLG =                    0 / 1 = potential field acute angle disambig @<THR \n",
       "AMBNPAD =                  200 / Pixels to add to each side of FOV for FFTs     \n",
       "AMBNAP  =                   10 / Potential field apodizing window width         \n",
       "AMBNTX  =                   10 / Potential field x direction tiles              \n",
       "AMBNTY  =                   10 / Potential field y direction tiles              \n",
       "AMBATHR =             0.000000 / Min transverse field strength for annealing    \n",
       "AMBBTHR =             0.000000 / Field strength below which to use acute angle  \n",
       "AMBNEROD=                    1 / Pixels by which to erode map above thresh      \n",
       "AMBNGROW=                    1 / Pixels by which to grow eroded map             \n",
       "AMBSEED =                    1 / Input random number seed                       \n",
       "AMBNEQ  =                  100 / Number of reconfigs at each temp setting       \n",
       "AMBLMBDA=             1.000000 / Weighting btwn. divergence and vert I density  \n",
       "AMBTFCT0=             2.000000 / Input factor to scale initial temperature      \n",
       "AMBTFCTR=             0.990000 / Input factor to reduce temperature             \n",
       "AMBERAT =             0.220486 / Ratio of final to initial energies             \n",
       "COMMENT Azimuthal ambiguity has been resolved using ME0 v1.5 on 20201127        \n",
       "COMMENT ME0 package is available at www.cora.nwra.com/AMBIG/ME0.html            \n",
       "COMMENT Inferred Fill Fraction Included in Magnetic Field Components            "
      ]
     },
     "execution_count": 108,
     "metadata": {},
     "output_type": "execute_result"
    }
   ],
   "source": [
    "head21"
   ]
  },
  {
   "cell_type": "code",
   "execution_count": 6,
   "id": "e7d3f810-874f-4f37-ad21-c56a1bb5f35d",
   "metadata": {},
   "outputs": [
    {
     "data": {
      "text/plain": [
       "SIMPLE  =                    T / Written by IDL:  Sat Nov 28 05:53:05 2020      \n",
       "BITPIX  =                    8 /                                                \n",
       "NAXIS   =                    0 /                                                \n",
       "NAXIS1  =                  511 /                                                \n",
       "NAXIS2  =                  512 /                                                \n",
       "EXTEND  =                    T / File contains extensions                       \n",
       "XCEN    =             -427.830 /                                                \n",
       "YCEN    =             -3.79296 /                                                \n",
       "XSCALE  =             0.297140 /                                                \n",
       "YSCALE  =             0.319978 /                                                \n",
       "TSTART  = '2017-08-22T17:11:04.097' /                                           \n",
       "TEND    = '2017-08-22T17:43:23.003' /                                           \n",
       "MAPID   = '124396  '           /                                                \n",
       "LMIN1   =        6301.20741000 /                                                \n",
       "LMAX1   =        6301.85388003 /                                                \n",
       "LMIN2   =        6302.19867000 /                                                \n",
       "LMAX2   =        6302.84514003 /                                                \n",
       "INVCODE = 'Merlin  '           /                                                \n",
       "INVVERS = '1       '           /                                                \n",
       "L2RTIME = '2020-11-28T12:53:04.059' /                                           \n",
       "MERLIN-I= 'Self-GA '           /                                                \n",
       "MERMAXCO=          1.00000E+16 /                                                \n",
       "MERMAXDM=          1.00000E+26 /                                                \n",
       "MERMINDM=          1.00000E-14 /                                                \n",
       "MERMAXFA=                  120 /                                                \n",
       "MERMAXIT=                  220 /                                                \n",
       "MERMINPO=          1.00000E-06 /                                                \n",
       "MERSLM  = 'FILL_FACTOR'        /                                                \n",
       "MERSFLD = 'true    '           /                                                \n",
       "MERSPSI = 'true    '           /                                                \n",
       "MERSAZM = 'true    '           /                                                \n",
       "MERSETAO= 'true    '           /                                                \n",
       "MERDOPP = 'true    '           /                                                \n",
       "MERDMP  = 'true    '           /                                                \n",
       "MERSBZER= 'true    '           /                                                \n",
       "MERSB1MU= 'true    '           /                                                \n",
       "MERVMAC = 'false   '           /                                                \n",
       "MERSALPH= 'true    '           /                                                \n",
       "MERSDELT= 'true    '           /                                                \n",
       "MERSCEN1= 'true    '           /                                                \n",
       "MERSCEN2= 'true    '           /                                                \n",
       "P_ANGLE =        18.5017299299 /                                                \n",
       "B_ANGLE =        6.96030842258 /                                                \n",
       "SOLAR_RA=        948.201855681 /                                                "
      ]
     },
     "execution_count": 6,
     "metadata": {},
     "output_type": "execute_result"
    }
   ],
   "source": [
    "SP_level2[0].header"
   ]
  },
  {
   "cell_type": "code",
   "execution_count": 17,
   "id": "aca7506b-6841-4c17-bfc7-1dc224c85870",
   "metadata": {},
   "outputs": [
    {
     "data": {
      "text/plain": [
       "0.319978"
      ]
     },
     "execution_count": 17,
     "metadata": {},
     "output_type": "execute_result"
    }
   ],
   "source": [
    "SP_level2[0].header['YSCALE']"
   ]
  },
  {
   "cell_type": "code",
   "execution_count": 18,
   "id": "719b6dab-a845-4b5b-83ee-1168e94093d3",
   "metadata": {},
   "outputs": [
    {
     "data": {
      "text/plain": [
       "SIMPLE  =                    T /image conforms to FITS standard                 \n",
       "BITPIX  =                   16 /bits per data value                             \n",
       "NAXIS   =                    3 /number of axes                                  \n",
       "NAXIS1  =                  112 /                                                \n",
       "NAXIS2  =                  512 /                                                \n",
       "NAXIS3  =                    4 /                                                \n",
       "EXTEND  =                    T /file may contain extensions                     \n",
       "DATE    = '2017-09-14T16:17:55.000' /                                           \n",
       "DATE_RF0= '2017-09-14T16:17:55.000' /                                           \n",
       "TELESCOP= 'HINODE  '           /                                                \n",
       "INSTRUME= 'SOT/SP  '           /                                                \n",
       "MDP_CLK =            916097019 /                                                \n",
       "ORIGIN  = 'JAXA/ISAS, SIRIUS'  /                                                \n",
       "DATA_LEV=                    0 /                                                \n",
       "ORIG_RF0= 'JAXA/ISAS, SIRIUS'  /                                                \n",
       "VER_RF0 = '1.66    '           /                                                \n",
       "PROG_VER=                  373 /                                                \n",
       "SEQN_VER=                  401 /                                                \n",
       "PARM_VER=                  402 /                                                \n",
       "PROG_NO =                    6 /                                                \n",
       "SUBR_NO =                    1 /                                                \n",
       "SEQN_NO =                   70 /                                                \n",
       "MAIN_CNT=                    1 /                                                \n",
       "MAIN_RPT=                    1 /                                                \n",
       "MAIN_POS=                    1 /                                                \n",
       "SUBR_CNT=                    1 /                                                \n",
       "SUBR_RPT=                    1 /                                                \n",
       "SUBR_POS=                    1 /                                                \n",
       "SEQN_CNT=                    1 /                                                \n",
       "SEQN_RPT=                    1 /                                                \n",
       "SEQN_POS=                    1 /                                                \n",
       "OBSTITLE= '        '           /                                                \n",
       "TARGET  = '        '           /                                                \n",
       "SCI_OBJ = '        '           /                                                \n",
       "SCI_OBS = 'TBD     '           /                                                \n",
       "OBS_DEC = '        '           /                                                \n",
       "JOIN_SB = '        '           /                                                \n",
       "OBS_NUM =                    0 /                                                \n",
       "JOP_ID  =                    0 /                                                \n",
       "NOAA_NUM=                    0 /                                                \n",
       "OBSERVER= '        '           /                                                \n",
       "PLANNER = '        '           /                                                \n",
       "TOHBANS = '        '           /                                                \n",
       "DATATYPE= 'SCI     '           /                                                \n",
       "FLFLG   = 'FLR     '           /                                                \n",
       "OBS_MODE= 'FL      '           /                                                \n",
       "FILEORIG= '2017_0914_161640.sci' /                                              \n",
       "MDPCTREF=            916094510 /                                                \n",
       "CTREF   =          -1954188473 /                                                \n",
       "CTRATE  =              584.000 /                                                \n",
       "TIMEERR =                    0 /                                                \n",
       "OBT_TIME=            916094560 /                                                \n",
       "OBT_END =            916095380 /                                                \n",
       "DATE_OBS= '2017-09-05T03:04:04.495' /                                           \n",
       "TIME-OBS= '03:04:04.495'       /                                                \n",
       "CTIME   = 'Tue Sep  5 03:04:04 2017' /                                          \n",
       "DATE_END= '2017-09-05T03:04:06.095' /                                           \n",
       "SAA     = 'OUT     '           /                                                \n",
       "HLZ     = 'OUT     '           /                                                \n",
       "CRPIX1  =              56.5000 /                                                \n",
       "CRPIX2  =              256.500 /                                                \n",
       "CRVAL1  =              6302.08 /                                                \n",
       "SC_ATTX =              130.935 /                                                \n",
       "SC_ATTY =              33.3710 /                                                \n",
       "CRVAL2  =              33.3710 /                                                \n",
       "CDELT1  =      0.0215490000000 /                                                \n",
       "CDELT2  =       0.317000000000 /                                                \n",
       "CUNIT1  = 'Angstrom'           /                                                \n",
       "CUNIT2  = 'arcsec  '           /                                                \n",
       "CTYPE1  = 'Wavelength'         /                                                \n",
       "CTYPE2  = 'Solar-Y '           /                                                \n",
       "CTYPE3  = 'CCD side'           /                                                \n",
       "CTYPE4  = 'Stokes component'   /                                                \n",
       "SAT_ROT =    0.000257492000000 /                                                \n",
       "INST_ROT=       0.412000000000 /                                                \n",
       "CROTA1  =       0.412257000000 /                                                \n",
       "CROTA2  =       0.412257000000 /                                                \n",
       "YSCALE  =       0.319979995489 /                                                \n",
       "XSCALE  =       0.297140002251 /                                                \n",
       "FOVX    =       0.295200000000 /                                                \n",
       "FOVY    =              162.304 /                                                \n",
       "TR_MODE = 'TR4     '           /                                                \n",
       "XCEN    =              55.8102 /                                                \n",
       "YCEN    =              40.8188 /                                                \n",
       "SPMAPCTR=                   38 /                                                \n",
       "SPCCDIX0=                    0 /                                                \n",
       "SPCCDIX1=                 1023 /                                                \n",
       "SPCCDIY0=                   56 /                                                \n",
       "SPCCDIY1=                  167 /                                                \n",
       "MACROID =                27216 /                                                \n",
       "PCK_SN0 =             62381604 /                                                \n",
       "PCK_SN1 =             62381608 /                                                \n",
       "NUM_PCKS=                    5 /                                                \n",
       "NSLITPOS=                 1024 /                                                \n",
       "SLITINDX=                    0 /                                                \n",
       "NUM_SIDE=                    1 /                                                \n",
       "WAVE    = '6302A   '           /                                                \n",
       "SPNINT  =                    2 /                                                \n",
       "SP_EXTID=                    1 /                                                \n",
       "SCN_STEP=                    1 /                                                \n",
       "SCN_SUM =                    2 /                                                \n",
       "SCN_RPT =                    0 /                                                \n",
       "SPBSHFT =                    1 /                                                \n",
       "BITCOMP1=                    1 /                                                \n",
       "IMGCOMP1=                    7 /                                                \n",
       "QTABLE1 =                    7 /                                                \n",
       "BITCOMP2=                    4 /                                                \n",
       "IMGCOMP2=                    7 /                                                \n",
       "QTABLE2 =                    7 /                                                \n",
       "ROISTART=                   56 /                                                \n",
       "ROISTOP =                  168 /                                                \n",
       "DOPVUSED=                    0 /                                                \n",
       "CAMGAIN =                    2 /                                                \n",
       "CAMDACA =                    5 /                                                \n",
       "CAMDACB =                    5 /                                                \n",
       "CAMPSUM =                    1 /                                                \n",
       "CAMSSUM =                    2 /                                                \n",
       "CAMAMP  =                    1 /                                                \n",
       "CAMSCLK =                    1 /                                                \n",
       "SLITPOS =                 -474 /                                                \n",
       "SLITENC =                 1575 /                                                \n",
       "SPMAPINX=              6793478 /                                                \n",
       "CTSERVO =                    1 /                                                \n",
       "CTMESTAT=           4294938624 /                                                \n",
       "CTMEX   =                    7 /                                                \n",
       "CTMEY   =                 2154 /                                                \n",
       "CTMODE  =                   35 /                                                \n",
       "DOP_RCV =                -3813 /                                                \n",
       "WEDGE   =                   21 /                                                \n",
       "FOCUS   =                 2019 /                                                \n",
       "T_SPCCD =       -48.5726000000 /                                                \n",
       "T_FGCCD =       -33.6398000000 /                                                \n",
       "T_CTCCD =              23.2954 /                                                \n",
       "T_SPCEB =       -12.4341000000 /                                                \n",
       "T_FGCEB =       -24.8536000000 /                                                \n",
       "T_CTCEB =              1.15546 /                                                \n",
       "PMUDELAY=                  128 /                                                \n",
       "TIMESYS = 'UTC     '           /                                                \n",
       "EXPTIME =              1.60000 /                                                \n",
       "BITCVER1=                45089 /                                                \n",
       "ACHFVER1=                40961 /                                                \n",
       "DCHFVER1=                53249 /                                                \n",
       "QTABVER1=                57366 /                                                \n",
       "BITCVER2=                45092 /                                                \n",
       "ACHFVER2=                40962 /                                                \n",
       "DCHFVER2=                53249 /                                                \n",
       "QTABVER2=                57366 /                                                \n",
       "BYTECNTI=                13820 /                                                \n",
       "PIXCNTI =                57344 /                                                \n",
       "BITSPPI =              1.92801 /                                                \n",
       "BYTECNTQ=                45228 /                                                \n",
       "PIXCNTQ =               172032 /                                                \n",
       "BITSPPQ =              2.10324 /                                                \n",
       "PERCENTD=              100.000 /                                                \n",
       "OBS_TYPE= 'Level 1: SP IQUV 4D array' /                                         \n",
       "HISTORY calib_sbsp VERSION:  1.07                                               \n",
       "HISTORY calib_sbsp  $SOT_SP_CALIBRATION/params_sbsp_20150304.com                \n",
       "HISTORY calib_sbsp  $SOT_SP_CALIBRATION/calparams_sbsp_20061013.com             \n",
       "HISTORY calib_sbsp                                                              \n",
       "HISTORY getdark_sbsp VERSION:  1.00                                             \n",
       "HISTORY sp_prep VERSION:  1.10                                                  \n",
       "SPWLSHFT=             -11.6570 /                                                \n",
       "SPSLSHFT=              4.92791 /                                                \n",
       "SPWLSFT0=             0.596351 /                                                \n",
       "SPSLSFT0=              4.89676 /                                                \n",
       "FGSPROT =             0.263600 /                                                "
      ]
     },
     "execution_count": 18,
     "metadata": {},
     "output_type": "execute_result"
    }
   ],
   "source": [
    "head1"
   ]
  },
  {
   "cell_type": "code",
   "execution_count": 5,
   "id": "af14f392-1ed4-43a0-bbc1-1a267396dfd1",
   "metadata": {},
   "outputs": [],
   "source": [
    "x_arr = SP_level2[38].data\n",
    "SP_level2[38].header\n",
    "y_arr = SP_level2[39].data"
   ]
  },
  {
   "cell_type": "code",
   "execution_count": 8,
   "id": "cab28d48-0040-4cac-b6fb-b2210d2a736d",
   "metadata": {},
   "outputs": [
    {
     "data": {
      "text/plain": [
       "((512, 511), (512, 511))"
      ]
     },
     "execution_count": 8,
     "metadata": {},
     "output_type": "execute_result"
    }
   ],
   "source": [
    "x_arr.shape, y_arr.shape"
   ]
  },
  {
   "cell_type": "code",
   "execution_count": 9,
   "id": "c96c8201-9449-4b06-8c8a-0ec7f3aa6ef1",
   "metadata": {},
   "outputs": [
    {
     "data": {
      "text/plain": [
       "XTENSION= 'BINTABLE'           / Written by IDL:  Sat Nov 28 05:53:07 2020      \n",
       "BITPIX  =                    8 /                                                \n",
       "NAXIS   =                    2 / Binary table                                   \n",
       "NAXIS1  =                 2044 / Number of bytes per row                        \n",
       "NAXIS2  =                    1 / Number of rows                                 \n",
       "PCOUNT  =                    0 / Random parameter count                         \n",
       "GCOUNT  =                    1 / Group count                                    \n",
       "TFIELDS =                    1 / Number of columns                              \n",
       "EXTNAME = 'Mechanical_Slit_Position' / Merlin : Mechanical Slit Position        \n",
       "TFORM1  = '511E    '           / Real*4 (floating point)                        \n",
       "TTYPE1  = 'SLITPOS '           / Label for column 1                             "
      ]
     },
     "execution_count": 9,
     "metadata": {},
     "output_type": "execute_result"
    }
   ],
   "source": [
    "SP_level2[41].header"
   ]
  },
  {
   "cell_type": "code",
   "execution_count": 10,
   "id": "270b5649-b8e8-4dc2-89ad-5cfea58cd3ea",
   "metadata": {},
   "outputs": [
    {
     "data": {
      "application/vnd.jupyter.widget-view+json": {
       "model_id": "9b86a4201366436f8b91daf36031da85",
       "version_major": 2,
       "version_minor": 0
      },
      "text/plain": [
       "Canvas(toolbar=Toolbar(toolitems=[('Home', 'Reset original view', 'home', 'home'), ('Back', 'Back to previous …"
      ]
     },
     "metadata": {},
     "output_type": "display_data"
    },
    {
     "data": {
      "text/plain": [
       "<matplotlib.image.AxesImage at 0x7fad79ff0cd0>"
      ]
     },
     "execution_count": 10,
     "metadata": {},
     "output_type": "execute_result"
    }
   ],
   "source": [
    "%matplotlib widget\n",
    "\n",
    "plt.imshow(x_arr, origin='lower')"
   ]
  },
  {
   "cell_type": "code",
   "execution_count": 11,
   "id": "479019e9-954d-41c4-bfad-4ce45ec4cd3e",
   "metadata": {},
   "outputs": [
    {
     "data": {
      "text/plain": [
       "[<matplotlib.lines.Line2D at 0x7fad79f35760>]"
      ]
     },
     "execution_count": 11,
     "metadata": {},
     "output_type": "execute_result"
    }
   ],
   "source": [
    "plt.plot(x_arr[200,:])"
   ]
  },
  {
   "cell_type": "code",
   "execution_count": 64,
   "id": "7a16ec5a-5aff-4544-8582-f8504729a068",
   "metadata": {},
   "outputs": [
    {
     "data": {
      "text/plain": [
       "22.67912"
      ]
     },
     "execution_count": 64,
     "metadata": {},
     "output_type": "execute_result"
    }
   ],
   "source": [
    "np.median(y_arr[200,:])"
   ]
  },
  {
   "cell_type": "code",
   "execution_count": 30,
   "id": "d208de20-cf96-45b1-98c1-ca04281cdf7a",
   "metadata": {},
   "outputs": [],
   "source": [
    "xxx = SP_level2[41].data"
   ]
  },
  {
   "cell_type": "code",
   "execution_count": 36,
   "id": "1e134bad-87ca-4ae9-ac00-4bb2f57410ac",
   "metadata": {},
   "outputs": [
    {
     "data": {
      "text/plain": [
       "(485,)"
      ]
     },
     "execution_count": 36,
     "metadata": {},
     "output_type": "execute_result"
    }
   ],
   "source": [
    "xxx[0][0].shape"
   ]
  },
  {
   "cell_type": "code",
   "execution_count": 38,
   "id": "19b958ae-3f26-45da-b096-26a7d6e5a0c8",
   "metadata": {},
   "outputs": [
    {
     "data": {
      "application/vnd.jupyter.widget-view+json": {
       "model_id": "7bf9aa06ac714ec4acc0031921f1a034",
       "version_major": 2,
       "version_minor": 0
      },
      "text/plain": [
       "Canvas(toolbar=Toolbar(toolitems=[('Home', 'Reset original view', 'home', 'home'), ('Back', 'Back to previous …"
      ]
     },
     "metadata": {},
     "output_type": "display_data"
    },
    {
     "data": {
      "text/plain": [
       "[<matplotlib.lines.Line2D at 0x7f0a38085160>]"
      ]
     },
     "execution_count": 38,
     "metadata": {},
     "output_type": "execute_result"
    }
   ],
   "source": [
    "%matplotlib widget\n",
    "\n",
    "plt.plot(xxx[0][0])"
   ]
  },
  {
   "cell_type": "code",
   "execution_count": 6,
   "id": "6b0fd16a-fa5d-4926-b446-837d0eb1ecd1",
   "metadata": {},
   "outputs": [],
   "source": [
    "# Look at the centeral position for each header.\n",
    "nslit = len(head_all)\n",
    "xcen_a = np.zeros(nslit)\n",
    "ycen_a = np.zeros(nslit)\n",
    "\n",
    "for i in range(nslit):\n",
    "    xcen_a[i] = head_all[i]['XCEN']\n",
    "    ycen_a[i] = head_all[i]['YCEN']"
   ]
  },
  {
   "cell_type": "code",
   "execution_count": 13,
   "id": "40a702b2-fa18-4031-9c37-7e1bfa0a20a9",
   "metadata": {},
   "outputs": [
    {
     "data": {
      "text/plain": [
       "(512, 511)"
      ]
     },
     "execution_count": 13,
     "metadata": {},
     "output_type": "execute_result"
    }
   ],
   "source": [
    "y_arr.shape"
   ]
  },
  {
   "cell_type": "code",
   "execution_count": 13,
   "id": "3277db26-eb1b-4929-ad85-871591a31fb5",
   "metadata": {},
   "outputs": [],
   "source": [
    "# Calculate the center based on MERLIN\n",
    "\n",
    "#mx = (max(l1info.xpos) - min(l1info.xpos))/2.\n",
    "#fxaddpar, header, 'XCEN', min(l1info.xpos)+mx\n",
    "#fxaddpar, header, 'YCEN', mean(l1info.ypos)\n",
    "# This ends up being the average between the two extrema.\n",
    "\n",
    "mx = (xcen_a.max() + xcen_a.min())/2"
   ]
  },
  {
   "cell_type": "code",
   "execution_count": 14,
   "id": "4c9b01d9-4b8c-482b-8455-57163d321297",
   "metadata": {},
   "outputs": [
    {
     "data": {
      "text/plain": [
       "96.30099639574999"
      ]
     },
     "execution_count": 14,
     "metadata": {},
     "output_type": "execute_result"
    }
   ],
   "source": [
    "mx"
   ]
  },
  {
   "cell_type": "code",
   "execution_count": 7,
   "id": "a94b96a0-99af-42ac-8cf3-bece3545e328",
   "metadata": {},
   "outputs": [
    {
     "data": {
      "application/vnd.jupyter.widget-view+json": {
       "model_id": "82084b47b0c0442d8ccfeb2464e194a1",
       "version_major": 2,
       "version_minor": 0
      },
      "text/plain": [
       "Canvas(toolbar=Toolbar(toolitems=[('Home', 'Reset original view', 'home', 'home'), ('Back', 'Back to previous …"
      ]
     },
     "metadata": {},
     "output_type": "display_data"
    },
    {
     "name": "stdout",
     "output_type": "stream",
     "text": [
      "129.963 40.598\n",
      "129.963 40.35192\n"
     ]
    },
    {
     "data": {
      "text/plain": [
       "<matplotlib.legend.Legend at 0x7fa7a53a6c70>"
      ]
     },
     "execution_count": 7,
     "metadata": {},
     "output_type": "execute_result"
    }
   ],
   "source": [
    "%matplotlib widget\n",
    "\n",
    "plt.plot(xcen_a, label='XCEN$_{lvl1}$')\n",
    "plt.plot(ycen_a, label='YCEN$_{lvl1}$')\n",
    "plt.plot(x_arr[200,:], '--', label='XCEN$_{lvl2}$ (Ext 38)')\n",
    "plt.plot(np.median(y_arr, axis=0), '--', label='YCEN$_{lvl2}$ (Ext 39)')\n",
    "\n",
    "plt.xlabel('Fiber number')\n",
    "plt.ylabel('Center location (arcsec)')\n",
    "\n",
    "plt.title('20170905_030404')\n",
    "\n",
    "plt.plot(len(xcen_a)/2, np.median(xcen_a), 'xb', label='Median(XCEN$_{lvl1}$)')\n",
    "plt.plot(len(ycen_a)/2, np.median(ycen_a), 'ob', label='Median(YCEN$_{lvl1}$)')\n",
    "\n",
    "plt.plot(len(xcen_a)/2, SP_level2[0].header['Xcen'], 'xm', label='Head$_{lvl2}$[XCEN]')\n",
    "plt.plot(len(ycen_a)/2, SP_level2[0].header['Ycen'], 'om', label='Head$_{lvl2}$[YCEN]')\n",
    "\n",
    "print(np.median(xcen_a), np.median(ycen_a))\n",
    "print(np.median(x_arr), np.median(y_arr))\n",
    "plt.legend()"
   ]
  },
  {
   "cell_type": "code",
   "execution_count": 10,
   "id": "37bab0ee-3a58-4239-9510-d09f070e7c88",
   "metadata": {},
   "outputs": [
    {
     "data": {
      "application/vnd.jupyter.widget-view+json": {
       "model_id": "195eb899689b4955ba9a9f74eb50dd3d",
       "version_major": 2,
       "version_minor": 0
      },
      "text/plain": [
       "Canvas(toolbar=Toolbar(toolitems=[('Home', 'Reset original view', 'home', 'home'), ('Back', 'Back to previous …"
      ]
     },
     "metadata": {},
     "output_type": "display_data"
    },
    {
     "data": {
      "text/plain": [
       "<matplotlib.image.AxesImage at 0x7fa7a4114400>"
      ]
     },
     "execution_count": 10,
     "metadata": {},
     "output_type": "execute_result"
    }
   ],
   "source": [
    "%matplotlib widget\n",
    "\n",
    "plt.imshow(x_arr, origin='lower')"
   ]
  },
  {
   "cell_type": "code",
   "execution_count": 9,
   "id": "f36930d2-f40e-48dd-b22c-e681af81c765",
   "metadata": {},
   "outputs": [
    {
     "data": {
      "text/plain": [
       "(512, 485)"
      ]
     },
     "execution_count": 9,
     "metadata": {},
     "output_type": "execute_result"
    }
   ],
   "source": [
    "y_arr.shape"
   ]
  },
  {
   "cell_type": "code",
   "execution_count": null,
   "id": "2772d7f0-c332-455c-a978-13e1c0bec06c",
   "metadata": {},
   "outputs": [],
   "source": []
  }
 ],
 "metadata": {
  "kernelspec": {
   "display_name": "Python [conda env:stokespy] *",
   "language": "python",
   "name": "conda-env-stokespy-py"
  },
  "language_info": {
   "codemirror_mode": {
    "name": "ipython",
    "version": 3
   },
   "file_extension": ".py",
   "mimetype": "text/x-python",
   "name": "python",
   "nbconvert_exporter": "python",
   "pygments_lexer": "ipython3",
   "version": "3.9.7"
  },
  "widgets": {
   "application/vnd.jupyter.widget-state+json": {
    "state": {},
    "version_major": 2,
    "version_minor": 0
   }
  }
 },
 "nbformat": 4,
 "nbformat_minor": 5
}
