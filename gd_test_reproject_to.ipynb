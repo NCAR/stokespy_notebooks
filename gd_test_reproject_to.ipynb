{
 "cells": [
  {
   "cell_type": "code",
   "execution_count": 2,
   "id": "adcfefa9-fa74-4008-8f23-8cbf1cc48d65",
   "metadata": {},
   "outputs": [],
   "source": [
    "import stokespy\n",
    "from stokespy import get_HMI_data, get_SP_data, StokesParamCube, StokesParamMap, StokesProfile\n",
    "from stokespy.instload import get_HMI_data_test\n",
    "import datetime\n",
    "import astropy\n",
    "import astropy.units as u\n",
    "from astropy.coordinates import SkyCoord, SpectralCoord\n",
    "from astropy.wcs.wcsapi import SlicedLowLevelWCS, HighLevelWCSWrapper\n",
    "\n",
    "import numpy as np\n",
    "import matplotlib.pyplot as plt\n",
    "import matplotlib\n",
    "import ndcube\n",
    "\n",
    "matplotlib.use('TkAgg')\n",
    "\n",
    "# Setup the autoreload function.\n",
    "%load_ext autoreload\n",
    "%autoreload 2"
   ]
  },
  {
   "cell_type": "markdown",
   "id": "4a6ed0f3-6ee7-4861-8614-39dad64191c9",
   "metadata": {},
   "source": [
    "# Website example use of project_to method"
   ]
  },
  {
   "cell_type": "code",
   "execution_count": 3,
   "id": "301ca4ce-4dde-4a7c-a274-33ca0d6e6b69",
   "metadata": {},
   "outputs": [],
   "source": [
    "# Define data array.\n",
    "data = np.random.rand(4, 4, 5)\n",
    "\n",
    "# Define WCS transformations in an astropy WCS object.\n",
    "wcs = astropy.wcs.WCS(naxis=3)\n",
    "wcs.wcs.ctype = 'WAVE', 'HPLT-TAN', 'HPLN-TAN'\n",
    "wcs.wcs.cunit = 'Angstrom', 'deg', 'deg'\n",
    "wcs.wcs.cdelt = 0.2, 0.5, 0.4\n",
    "wcs.wcs.crpix = 0, 2, 2\n",
    "wcs.wcs.crval = 10, 0.5, 1\n",
    "\n",
    "# Instantiate NDCube with supporting data.\n",
    "my_cube = ndcube.NDCube(data, wcs=wcs)"
   ]
  },
  {
   "cell_type": "code",
   "execution_count": 4,
   "id": "6aa05909-050a-4c1a-b2f8-93c0afc6c170",
   "metadata": {},
   "outputs": [
    {
     "data": {
      "text/plain": [
       "(4, 4, 5)"
      ]
     },
     "execution_count": 4,
     "metadata": {},
     "output_type": "execute_result"
    }
   ],
   "source": [
    "my_cube.data.shape"
   ]
  },
  {
   "cell_type": "code",
   "execution_count": 8,
   "id": "f70b592e-ffb0-42c5-86cd-8d93d8a31908",
   "metadata": {},
   "outputs": [
    {
     "data": {
      "text/plain": [
       "WCS Keywords\n",
       "\n",
       "Number of WCS axes: 3\n",
       "CTYPE : 'WAVE'  'HPLT-TAN'  'HPLN-TAN'  \n",
       "CRVAL : 1e-09  0.5  1.0  \n",
       "CRPIX : 0.0  2.0  2.0  \n",
       "PC1_1 PC1_2 PC1_3  : 1.0  0.0  0.0  \n",
       "PC2_1 PC2_2 PC2_3  : 0.0  1.0  0.0  \n",
       "PC3_1 PC3_2 PC3_3  : 0.0  0.0  1.0  \n",
       "CDELT : 2.0000000000000002e-11  0.5  0.4  \n",
       "NAXIS : 0  0"
      ]
     },
     "execution_count": 8,
     "metadata": {},
     "output_type": "execute_result"
    }
   ],
   "source": [
    "my_cube.wcs"
   ]
  },
  {
   "cell_type": "code",
   "execution_count": 9,
   "id": "bdcf8839-d0c9-43f8-a92d-70bb7364f65f",
   "metadata": {},
   "outputs": [],
   "source": [
    "target_wcs_x = my_cube.wcs"
   ]
  },
  {
   "cell_type": "code",
   "execution_count": 10,
   "id": "636ff6e1-5d63-41e5-bce0-a972dcc73a43",
   "metadata": {},
   "outputs": [
    {
     "data": {
      "text/plain": [
       "array([2.e-11, 5.e-01, 4.e-01])"
      ]
     },
     "execution_count": 10,
     "metadata": {},
     "output_type": "execute_result"
    }
   ],
   "source": [
    "target_wcs_x.wcs.cdelt = [0]"
   ]
  },
  {
   "cell_type": "code",
   "execution_count": 5,
   "id": "f1167e07-5853-4214-bbb3-049c181a1778",
   "metadata": {},
   "outputs": [
    {
     "name": "stderr",
     "output_type": "stream",
     "text": [
      "WARNING: target cannot be converted to ICRS, so will not be set on SpectralCoord [astropy.wcs.wcsapi.fitswcs]\n",
      "WARNING: No observer defined on WCS, SpectralCoord will be converted without any velocity frame change [astropy.wcs.wcsapi.fitswcs]\n"
     ]
    }
   ],
   "source": [
    "# Create a target WCS object with new transformations.\n",
    "target_wcs = astropy.wcs.WCS(naxis=3)\n",
    "target_wcs.wcs.ctype = 'WAVE', 'HPLT-TAN', 'HPLN-TAN'\n",
    "target_wcs.wcs.cunit = 'Angstrom', 'deg', 'deg'\n",
    "target_wcs.wcs.cdelt = 0.1, 0.5, 0.4\n",
    "target_wcs.wcs.crpix = 0, 2, 2\n",
    "target_wcs.wcs.crval = 10, 0.5, 1\n",
    "\n",
    "reprojected_cube = my_cube.reproject_to(target_wcs=target_wcs, shape_out=(4, 4, 10))"
   ]
  },
  {
   "cell_type": "code",
   "execution_count": 11,
   "id": "58eff10a-4128-4c82-a150-c1a0836254df",
   "metadata": {},
   "outputs": [
    {
     "data": {
      "text/plain": [
       "WCS Keywords\n",
       "\n",
       "Number of WCS axes: 3\n",
       "CTYPE : 'WAVE'  'HPLT-TAN'  'HPLN-TAN'  \n",
       "CRVAL : 1e-09  0.5  1.0  \n",
       "CRPIX : 0.0  2.0  2.0  \n",
       "PC1_1 PC1_2 PC1_3  : 1.0  0.0  0.0  \n",
       "PC2_1 PC2_2 PC2_3  : 0.0  1.0  0.0  \n",
       "PC3_1 PC3_2 PC3_3  : 0.0  0.0  1.0  \n",
       "CDELT : 1.0000000000000001e-11  0.5  0.4  \n",
       "NAXIS : 0  0"
      ]
     },
     "execution_count": 11,
     "metadata": {},
     "output_type": "execute_result"
    }
   ],
   "source": [
    "reprojected_cube.wcs"
   ]
  },
  {
   "cell_type": "code",
   "execution_count": 12,
   "id": "ad0b018b-dd6e-47fa-9324-118a3ef249cc",
   "metadata": {},
   "outputs": [],
   "source": [
    "crop_cube = my_cube[:,:,0:2]"
   ]
  },
  {
   "cell_type": "code",
   "execution_count": 16,
   "id": "7ecebb9f-62d9-410c-92ee-95b025abb8c8",
   "metadata": {},
   "outputs": [
    {
     "data": {
      "text/plain": [
       "<astropy.wcs.wcsapi.wrappers.sliced_wcs.SlicedLowLevelWCS object at 0x7fdf64cd9f70>\n",
       "SlicedLowLevelWCS Transformation\n",
       "\n",
       "This transformation has 3 pixel and 3 world dimensions\n",
       "\n",
       "Array shape (Numpy order): None\n",
       "\n",
       "Pixel Dim  Axis Name  Data size  Bounds\n",
       "        0  None            None  None\n",
       "        1  None            None  None\n",
       "        2  None            None  None\n",
       "\n",
       "World Dim  Axis Name  Physical Type                   Units\n",
       "        0  None       em.wl                           m\n",
       "        1  None       custom:pos.helioprojective.lat  deg\n",
       "        2  None       custom:pos.helioprojective.lon  deg\n",
       "\n",
       "Correlation between pixel and world axes:\n",
       "\n",
       "             Pixel Dim\n",
       "World Dim    0    1    2\n",
       "        0  yes   no   no\n",
       "        1   no  yes  yes\n",
       "        2   no  yes  yes"
      ]
     },
     "execution_count": 16,
     "metadata": {},
     "output_type": "execute_result"
    }
   ],
   "source": [
    "crop_cube.wcs"
   ]
  },
  {
   "cell_type": "code",
   "execution_count": 18,
   "id": "3020c0f4-e456-4323-9fac-e175e325566d",
   "metadata": {},
   "outputs": [
    {
     "data": {
      "text/plain": [
       "(<ndcube.ndcube.NDCube object at 0x7fdf67123160>\n",
       " NDCube\n",
       " ------\n",
       " Dimensions: [4. 4. 5.] pix\n",
       " Physical Types of Axes: [('custom:pos.helioprojective.lat', 'custom:pos.helioprojective.lon'), ('custom:pos.helioprojective.lat', 'custom:pos.helioprojective.lon'), ('em.wl',)]\n",
       " Unit: None\n",
       " Data Type: float64,\n",
       " <ndcube.ndcube.NDCube object at 0x7fdf64cd9df0>\n",
       " NDCube\n",
       " ------\n",
       " Dimensions: [4. 4. 2.] pix\n",
       " Physical Types of Axes: [('custom:pos.helioprojective.lat', 'custom:pos.helioprojective.lon'), ('custom:pos.helioprojective.lat', 'custom:pos.helioprojective.lon'), ('em.wl',)]\n",
       " Unit: None\n",
       " Data Type: float64)"
      ]
     },
     "execution_count": 18,
     "metadata": {},
     "output_type": "execute_result"
    }
   ],
   "source": [
    "my_cube,crop_cube"
   ]
  },
  {
   "cell_type": "code",
   "execution_count": null,
   "id": "4f451738-fbc2-4422-935e-4bb9fa42c2d3",
   "metadata": {},
   "outputs": [],
   "source": [
    "%maptlotlib widget\n",
    "\n",
    "ax1 = plt.subplot(121, projection=my_cube[0,:,:].wcs)\n",
    "ax2 = plt.subplot(122, projection=crop_cube[0,:,:].wcs)\n",
    "\n",
    "plt.subplots_adjust(wspace=0.4)\n",
    "\n",
    "ax1.imshow(lvl2_c_SP.data[0,:,:], origin='lower')\n",
    "ax2.imshow(cropped_map.data[0,:,:], origin='lower')\n",
    "\n",
    "#lvl.plot(ax=ax1)\n",
    "#cropped_map.plot(ax=ax2)"
   ]
  },
  {
   "cell_type": "markdown",
   "id": "af42b6d4-57fa-44c8-962f-061fdc76a3c3",
   "metadata": {},
   "source": [
    "# Example using HMI data"
   ]
  },
  {
   "cell_type": "markdown",
   "id": "af7a4989-d9f1-486d-a32b-5207f1163bd2",
   "metadata": {},
   "source": [
    "## Load the HMI data"
   ]
  },
  {
   "cell_type": "code",
   "execution_count": 2,
   "id": "4dbe7686-8199-4a88-9ee5-8dd497333699",
   "metadata": {},
   "outputs": [
    {
     "name": "stdout",
     "output_type": "stream",
     "text": [
      "Time window used for the search:  <sunpy.net.attrs.Time(2017-09-05 03:04:03.000, 2017-09-05 03:04:05.000)>\n",
      "User directory pointing to SDO data is not included.\n",
      "Setting the default directory to: /home/gabriel/Desktop/Science/StokesPY/stokespy_notebooks/Data/SDO/\n",
      "No download requested. Found 24 Stokes files with unique timestamp(s):\n",
      "['20170905_030000_TAI']\n",
      "No download requested. Found 25 inversion files with timestamps: \n",
      "['20170905_030000_TAI']\n",
      "Created data cube with dimensions: (4, 6, 4096, 4096)\n"
     ]
    },
    {
     "name": "stderr",
     "output_type": "stream",
     "text": [
      "WARNING: FITSFixedWarning: 'datfix' made the change 'Set MJD-OBS to 58001.124100 from DATE-OBS'. [astropy.wcs.wcs]\n"
     ]
    },
    {
     "name": "stdout",
     "output_type": "stream",
     "text": [
      "Created data cube with dimensions: (1, 4096, 4096)\n",
      "Filenames used: \n"
     ]
    },
    {
     "name": "stderr",
     "output_type": "stream",
     "text": [
      "WARNING: FITSFixedWarning: 'datfix' made the change 'Set MJD-OBS to 58001.124100 from DATE-OBS'. [astropy.wcs.wcs]\n"
     ]
    }
   ],
   "source": [
    "# Select a date and time to search for observations.\n",
    "#user_date = astropy.time.Time(datetime.datetime(2016, 7, 28, 23, 57, 0), scale='tai')  # Original\n",
    "#user_date = astropy.time.Time(datetime.datetime(2017, 8, 22, 17, 11, 4), scale='tai')  # AR near limb\n",
    "user_date = astropy.time.Time(datetime.datetime(2017, 9, 5, 3, 4, 4), scale='tai')  # AR near disc center\n",
    "\n",
    "# Find the nearest set of Stokes and corresponding inversion results.\n",
    "#all_fnames_stokes, all_fnames_magvec = get_HMI_data(user_date, user_notify='gdima@hawaii.edu', download=False)\n",
    "lvl1_data, lvl1_wcs, lvl2_data, lvl2_wcs = \\\n",
    "    get_HMI_data_test(user_date, user_notify='gdima@hawaii.edu', download=False, show_files=False)"
   ]
  },
  {
   "cell_type": "code",
   "execution_count": 3,
   "id": "f1d28f8e-75f9-4f7c-8e21-afcf505faaee",
   "metadata": {},
   "outputs": [
    {
     "name": "stdout",
     "output_type": "stream",
     "text": [
      "HMI lvl1 data size:  (4, 6, 4096, 4096)\n"
     ]
    }
   ],
   "source": [
    "# Create the HMI StokesCubes\n",
    "lvl1_c_HMI = stokespy.StokesCube(lvl1_data, lvl1_wcs)\n",
    "print('HMI lvl1 data size: ', lvl1_c_HMI.data.shape)\n",
    "\n",
    "if lvl2_data.shape[0] == 3:\n",
    "    lvl2_c_HMI = stokespy.MagVectorCube(lvl2_data, lvl2_wcs)\n",
    "    print('HMI lvl2 data size: ', lvl2_c_HMI.data.shape)\n",
    "    "
   ]
  },
  {
   "cell_type": "code",
   "execution_count": null,
   "id": "44618e70-4ddb-44d1-a8ca-a797d5f5fd36",
   "metadata": {},
   "outputs": [],
   "source": []
  },
  {
   "cell_type": "code",
   "execution_count": 4,
   "id": "f17267ae-2769-4a3a-ac5a-f9596e667e9b",
   "metadata": {},
   "outputs": [],
   "source": [
    "# Create HMI NDcubes\n",
    "lvl1_NDc_HMI = ndcube.NDCube(lvl1_data, wcs=lvl1_wcs)\n",
    "lvl2_NDc_HMI = ndcube.NDCube(lvl2_data, wcs=lvl2_wcs)"
   ]
  },
  {
   "cell_type": "code",
   "execution_count": 12,
   "id": "cdfa6066-bda1-4156-8419-ab21588a9a13",
   "metadata": {},
   "outputs": [
    {
     "name": "stdout",
     "output_type": "stream",
     "text": [
      "(4, 6, 1000, 1000)\n"
     ]
    }
   ],
   "source": [
    "# Crop to a smaller cube size.\n",
    "lvl1_NDc_HMI_crop = lvl1_NDc_HMI[:,:,1500:2500, 1500:2500]\n",
    "print(lvl1_NDc_HMI_crop.data.shape)"
   ]
  },
  {
   "cell_type": "code",
   "execution_count": 15,
   "id": "14525ea5-1e08-48c7-b820-0aa8dbfc9919",
   "metadata": {},
   "outputs": [
    {
     "data": {
      "application/vnd.jupyter.widget-view+json": {
       "model_id": "f91418abf0dc458e99781f6fbca47f74",
       "version_major": 2,
       "version_minor": 0
      },
      "text/plain": [
       "Canvas(toolbar=Toolbar(toolitems=[('Home', 'Reset original view', 'home', 'home'), ('Back', 'Back to previous …"
      ]
     },
     "metadata": {},
     "output_type": "display_data"
    },
    {
     "data": {
      "text/plain": [
       "<matplotlib.image.AxesImage at 0x7f3912ab3c70>"
      ]
     },
     "execution_count": 15,
     "metadata": {},
     "output_type": "execute_result"
    }
   ],
   "source": [
    "# Plot the original.\n",
    "%matplotlib widget\n",
    "\n",
    "fig, ax = plt.subplots(subplot_kw={'projection':lvl2_NDc_HMI[0,:,:].wcs})\n",
    "\n",
    "ax.imshow(lvl2_NDc_HMI.data[0,:,:], origin='lower', cmap='Greys')"
   ]
  },
  {
   "cell_type": "code",
   "execution_count": 14,
   "id": "4cf5a540-b812-4c77-b54f-2a59b4490a71",
   "metadata": {},
   "outputs": [
    {
     "data": {
      "application/vnd.jupyter.widget-view+json": {
       "model_id": "87b0c3ee9f034d348f10c6e05376bd95",
       "version_major": 2,
       "version_minor": 0
      },
      "text/plain": [
       "Canvas(toolbar=Toolbar(toolitems=[('Home', 'Reset original view', 'home', 'home'), ('Back', 'Back to previous …"
      ]
     },
     "metadata": {},
     "output_type": "display_data"
    },
    {
     "data": {
      "text/plain": [
       "<matplotlib.image.AxesImage at 0x7f3912ae0bb0>"
      ]
     },
     "execution_count": 14,
     "metadata": {},
     "output_type": "execute_result"
    }
   ],
   "source": [
    "# Plot the cropped image\n",
    "%matplotlib widget\n",
    "\n",
    "fig, ax = plt.subplots(subplot_kw={'projection':lvl1_NDc_HMI_crop[0,0,:,:].wcs})\n",
    "\n",
    "ax.imshow(lvl1_NDc_HMI_crop.data[0,0,:,:], origin='lower', cmap='Greys')"
   ]
  },
  {
   "cell_type": "markdown",
   "id": "b5b2630c-edbf-4ff3-9c03-78776b3ff37b",
   "metadata": {},
   "source": [
    "## Reproject to a new WCS"
   ]
  },
  {
   "cell_type": "code",
   "execution_count": 17,
   "id": "f122acbc-e528-4826-ba4c-4ed19e2d33cd",
   "metadata": {},
   "outputs": [],
   "source": [
    "def rotate_cube(orig_cube, theta):\n",
    "    \"\"\" Rotate and reproject cube by some angle theta\"\"\"\n",
    "    if type(theta) is not u.quantity.Quantity:\n",
    "        theta = theta * u.deg\n",
    "    print(theta)\n",
    "    rot_mat = np.asarray([[np.cos(theta), -np.sin(theta)],\\\n",
    "                     [np.sin(theta), np.cos(theta)]])\n",
    "    \n",
    "    print(rot_mat)\n",
    "    \n",
    "    # Create a copy of the WCS object to modify\n",
    "    target_wcs_x = astropy.wcs.WCS(orig_cube.wcs.to_header())\n",
    "    # Apply the rotation.\n",
    "    target_wcs_x.wcs.pc[0:2,0:2] = rot_mat\n",
    "    print(target_wcs_x)\n",
    "    \n",
    "    return orig_cube.reproject_to(target_wcs=target_wcs_x, \n",
    "                                    shape_out=orig_cube.data.shape,)"
   ]
  },
  {
   "cell_type": "code",
   "execution_count": 9,
   "id": "bd05269a-ddbc-497c-8c32-5124ccfdd63a",
   "metadata": {},
   "outputs": [
    {
     "data": {
      "text/plain": [
       "(1, 4096, 4096)"
      ]
     },
     "execution_count": 9,
     "metadata": {},
     "output_type": "execute_result"
    }
   ],
   "source": [
    "lvl2_NDc_HMI.data.shape"
   ]
  },
  {
   "cell_type": "code",
   "execution_count": 7,
   "id": "9a66a5a5-9617-44b4-8925-d166921a8d13",
   "metadata": {},
   "outputs": [
    {
     "name": "stdout",
     "output_type": "stream",
     "text": [
      "0.0 deg\n",
      "[[ 1. -0.]\n",
      " [ 0.  1.]]\n",
      "WCS Keywords\n",
      "\n",
      "Number of WCS axes: 3\n",
      "CTYPE : 'HPLN-TAN'  'HPLT-TAN'  'Parameter'  \n",
      "CRVAL : 0.0  0.0  0.0  \n",
      "CRPIX : 2040.244140625  2050.626953125  0.0  \n",
      "PC1_1 PC1_2 PC1_3  : 1.0  -0.0  0.0  \n",
      "PC2_1 PC2_2 PC2_3  : 0.0  1.0  0.0  \n",
      "PC3_1 PC3_2 PC3_3  : 0.0  0.0  1.0  \n",
      "CDELT : 0.00014009532001283  0.00014009532001283  1.0  \n",
      "NAXIS : 0  0\n"
     ]
    }
   ],
   "source": [
    "# Reproject the cube to 0 rotation.\n",
    "rep_cube_0 = rotate_cube(lvl2_NDc_HMI, 0*u.deg)"
   ]
  },
  {
   "cell_type": "code",
   "execution_count": 16,
   "id": "d4ef12d5-9f1e-4418-ae74-330317796954",
   "metadata": {},
   "outputs": [
    {
     "name": "stdout",
     "output_type": "stream",
     "text": [
      "0.0 deg\n",
      "[[ 1. -0.]\n",
      " [ 0.  1.]]\n",
      "WCS Keywords\n",
      "\n",
      "Number of WCS axes: 3\n",
      "CTYPE : 'HPLN-TAN'  'HPLT-TAN'  'Parameter'  \n",
      "CRVAL : 0.0  0.0  0.0  \n",
      "CRPIX : 2040.244140625  2050.626953125  0.0  \n",
      "PC1_1 PC1_2 PC1_3  : 1.0  -0.0  0.0  \n",
      "PC2_1 PC2_2 PC2_3  : 0.0  1.0  0.0  \n",
      "PC3_1 PC3_2 PC3_3  : 0.0  0.0  1.0  \n",
      "CDELT : 0.00014009532001283  0.00014009532001283  1.0  \n",
      "NAXIS : 0  0\n"
     ]
    },
    {
     "ename": "TypeError",
     "evalue": "reproject_to() got an unexpected keyword argument 'reproject_interp_kw'",
     "output_type": "error",
     "traceback": [
      "\u001b[0;31m---------------------------------------------------------------------------\u001b[0m",
      "\u001b[0;31mTypeError\u001b[0m                                 Traceback (most recent call last)",
      "\u001b[0;32m<ipython-input-16-d8f50d122e54>\u001b[0m in \u001b[0;36m<module>\u001b[0;34m\u001b[0m\n\u001b[1;32m      1\u001b[0m \u001b[0;31m# Reproject the cube to 0 rotation.\u001b[0m\u001b[0;34m\u001b[0m\u001b[0;34m\u001b[0m\u001b[0m\n\u001b[0;32m----> 2\u001b[0;31m \u001b[0mrep_cube_01\u001b[0m \u001b[0;34m=\u001b[0m \u001b[0mrotate_cube\u001b[0m\u001b[0;34m(\u001b[0m\u001b[0mlvl2_NDc_HMI\u001b[0m\u001b[0;34m,\u001b[0m \u001b[0;36m0\u001b[0m\u001b[0;34m*\u001b[0m\u001b[0mu\u001b[0m\u001b[0;34m.\u001b[0m\u001b[0mdeg\u001b[0m\u001b[0;34m)\u001b[0m\u001b[0;34m\u001b[0m\u001b[0;34m\u001b[0m\u001b[0m\n\u001b[0m",
      "\u001b[0;32m<ipython-input-15-0817d2ae3811>\u001b[0m in \u001b[0;36mrotate_cube\u001b[0;34m(orig_cube, theta)\u001b[0m\n\u001b[1;32m     15\u001b[0m     \u001b[0mprint\u001b[0m\u001b[0;34m(\u001b[0m\u001b[0mtarget_wcs_x\u001b[0m\u001b[0;34m)\u001b[0m\u001b[0;34m\u001b[0m\u001b[0;34m\u001b[0m\u001b[0m\n\u001b[1;32m     16\u001b[0m \u001b[0;34m\u001b[0m\u001b[0m\n\u001b[0;32m---> 17\u001b[0;31m     return orig_cube.reproject_to(target_wcs=target_wcs_x, \n\u001b[0m\u001b[1;32m     18\u001b[0m                                     \u001b[0mshape_out\u001b[0m\u001b[0;34m=\u001b[0m\u001b[0morig_cube\u001b[0m\u001b[0;34m.\u001b[0m\u001b[0mdata\u001b[0m\u001b[0;34m.\u001b[0m\u001b[0mshape\u001b[0m\u001b[0;34m,\u001b[0m\u001b[0;34m\u001b[0m\u001b[0;34m\u001b[0m\u001b[0m\n\u001b[1;32m     19\u001b[0m                                   reproject_interp_kw={'independent_celestial_slices':True})\n",
      "\u001b[0;31mTypeError\u001b[0m: reproject_to() got an unexpected keyword argument 'reproject_interp_kw'"
     ]
    }
   ],
   "source": [
    "# Reproject the cube to 0 rotation.\n",
    "rep_cube_01 = rotate_cube(lvl2_NDc_HMI, 0*u.deg)"
   ]
  },
  {
   "cell_type": "code",
   "execution_count": 13,
   "id": "585a69e4-baa5-4715-93e5-a2e97802f65c",
   "metadata": {},
   "outputs": [],
   "source": [
    "import reproject"
   ]
  },
  {
   "cell_type": "code",
   "execution_count": 14,
   "id": "b4b7d5e6-2b0c-40f9-a820-b17d7d2c1e51",
   "metadata": {},
   "outputs": [
    {
     "data": {
      "text/plain": [
       "'0.8'"
      ]
     },
     "execution_count": 14,
     "metadata": {},
     "output_type": "execute_result"
    }
   ],
   "source": [
    "reproject.__version__"
   ]
  },
  {
   "cell_type": "code",
   "execution_count": 11,
   "id": "4d184c8c-b14f-4b9b-9982-52b369710c1a",
   "metadata": {},
   "outputs": [
    {
     "name": "stdout",
     "output_type": "stream",
     "text": [
      "20.0 deg\n",
      "[[ 0.93969262 -0.34202014]\n",
      " [ 0.34202014  0.93969262]]\n",
      "WCS Keywords\n",
      "\n",
      "Number of WCS axes: 3\n",
      "CTYPE : 'HPLN-TAN'  'HPLT-TAN'  'Parameter'  \n",
      "CRVAL : 0.0  0.0  0.0  \n",
      "CRPIX : 2040.244140625  2050.626953125  0.0  \n",
      "PC1_1 PC1_2 PC1_3  : 0.9396926207859084  -0.3420201433256687  0.0  \n",
      "PC2_1 PC2_2 PC2_3  : 0.3420201433256687  0.9396926207859084  0.0  \n",
      "PC3_1 PC3_2 PC3_3  : 0.0  0.0  1.0  \n",
      "CDELT : 0.00014009532001283  0.00014009532001283  1.0  \n",
      "NAXIS : 0  0\n"
     ]
    }
   ],
   "source": [
    "# Reproject the cube to 20 deg rotation\n",
    "rep_cube_1 = rotate_cube(lvl2_NDc_HMI, 20*u.deg)"
   ]
  },
  {
   "cell_type": "code",
   "execution_count": 12,
   "id": "f2899e7a-d312-4c68-9718-1b42232d8d37",
   "metadata": {},
   "outputs": [
    {
     "name": "stdout",
     "output_type": "stream",
     "text": [
      "45.0 deg\n",
      "[[ 0.70710678 -0.70710678]\n",
      " [ 0.70710678  0.70710678]]\n",
      "WCS Keywords\n",
      "\n",
      "Number of WCS axes: 3\n",
      "CTYPE : 'HPLN-TAN'  'HPLT-TAN'  'Parameter'  \n",
      "CRVAL : 0.0  0.0  0.0  \n",
      "CRPIX : 2040.244140625  2050.626953125  0.0  \n",
      "PC1_1 PC1_2 PC1_3  : 0.7071067811865476  -0.7071067811865475  0.0  \n",
      "PC2_1 PC2_2 PC2_3  : 0.7071067811865475  0.7071067811865476  0.0  \n",
      "PC3_1 PC3_2 PC3_3  : 0.0  0.0  1.0  \n",
      "CDELT : 0.00014009532001283  0.00014009532001283  1.0  \n",
      "NAXIS : 0  0\n"
     ]
    }
   ],
   "source": [
    "# Reproject the cube to 20 deg rotation\n",
    "rep_cube_2 = rotate_cube(lvl2_NDc_HMI, 45*u.deg)"
   ]
  },
  {
   "cell_type": "markdown",
   "id": "912b69dc-5e23-4699-9a47-7aafdcfad953",
   "metadata": {},
   "source": [
    "## Plot the reprojected cubes"
   ]
  },
  {
   "cell_type": "code",
   "execution_count": 14,
   "id": "cfd7e8fc-bed2-406f-b1cb-87b6c2034f74",
   "metadata": {},
   "outputs": [
    {
     "data": {
      "application/vnd.jupyter.widget-view+json": {
       "model_id": "9c0f0febb65148649e50e014d85e2aa8",
       "version_major": 2,
       "version_minor": 0
      },
      "text/plain": [
       "Canvas(toolbar=Toolbar(toolitems=[('Home', 'Reset original view', 'home', 'home'), ('Back', 'Back to previous …"
      ]
     },
     "metadata": {},
     "output_type": "display_data"
    },
    {
     "data": {
      "text/plain": [
       "<matplotlib.image.AxesImage at 0x7f865fe87b20>"
      ]
     },
     "execution_count": 14,
     "metadata": {},
     "output_type": "execute_result"
    }
   ],
   "source": [
    "# Plot the reprojected cube.\n",
    "%matplotlib widget\n",
    "\n",
    "fig, ax = plt.subplots(subplot_kw={'projection':rep_cube_0[0,:,:].wcs})\n",
    "#fig, ax = plt.subplots()\n",
    "\n",
    "ax.imshow(rep_cube_0.data[0,:,:], origin='lower', cmap='Greys')"
   ]
  },
  {
   "cell_type": "code",
   "execution_count": 15,
   "id": "3b878b4c-21f1-40a8-82ab-df5f93170a3f",
   "metadata": {},
   "outputs": [
    {
     "data": {
      "application/vnd.jupyter.widget-view+json": {
       "model_id": "409079908fbb494aac4450330bbe2a92",
       "version_major": 2,
       "version_minor": 0
      },
      "text/plain": [
       "Canvas(toolbar=Toolbar(toolitems=[('Home', 'Reset original view', 'home', 'home'), ('Back', 'Back to previous …"
      ]
     },
     "metadata": {},
     "output_type": "display_data"
    }
   ],
   "source": [
    "# Plot multiple cubes.\n",
    "%matplotlib widget\n",
    "\n",
    "#fig, ax = plt.subplots(subplot_kw={'projection':reprojected_cube[0,:,:].wcs})\n",
    "#fig, ax = plt.subplots()\n",
    "\n",
    "#ax.imshow(reprojected_cube.data[0,:,:], origin='lower', cmap='Greys')\n",
    "\n",
    "ax1 = plt.subplot(131, projection=rep_cube_0[0,:,:].wcs)\n",
    "ax2 = plt.subplot(132, projection=rep_cube_1[0,:,:].wcs)\n",
    "ax3 = plt.subplot(133, projection=rep_cube_2[0,:,:].wcs)\n",
    "\n",
    "#ax1 = plt.subplot(111, projection=reprojected_cube[0,:,:].wcs)\n",
    "plt.subplots_adjust(wspace=0.4)\n",
    "\n",
    "#m_SP.plot(ax=ax1)\n",
    "#cropped_map.plot(ax=ax2)\n",
    "\n",
    "ax1.imshow(rep_cube_0.data[0,:,:], origin='lower', cmap='Greys')\n",
    "ax2.imshow(rep_cube_1.data[0,:,:], origin='lower', cmap='Greys')\n",
    "ax3.imshow(rep_cube_2.data[0,:,:], origin='lower', cmap='Greys')\n",
    "\n",
    "#ax1.yaxis.label.set_visible(False)\n",
    "\n",
    "#ax1.set_xticks([])\n",
    "#ax1.set_yticks([])\n",
    "\n",
    "#ax1.set_ylabel(ylabel=None)\n",
    "\n",
    "\n",
    "plt.show()"
   ]
  },
  {
   "cell_type": "code",
   "execution_count": 16,
   "id": "16b18170-b523-4641-9d3f-d90e1848a3a3",
   "metadata": {},
   "outputs": [
    {
     "data": {
      "application/vnd.jupyter.widget-view+json": {
       "model_id": "01e3c730f7d143f0bddcd1507889b499",
       "version_major": 2,
       "version_minor": 0
      },
      "text/plain": [
       "Canvas(toolbar=Toolbar(toolitems=[('Home', 'Reset original view', 'home', 'home'), ('Back', 'Back to previous …"
      ]
     },
     "metadata": {},
     "output_type": "display_data"
    },
    {
     "data": {
      "text/plain": [
       "<matplotlib.image.AxesImage at 0x7f865fa749a0>"
      ]
     },
     "execution_count": 16,
     "metadata": {},
     "output_type": "execute_result"
    }
   ],
   "source": [
    "# Plot all the cubes superposed.\n",
    "%matplotlib widget\n",
    "\n",
    "plt.imshow(rep_cube_0.data[0,:,:], origin='lower')\n",
    "plt.imshow(rep_cube_1.data[0,:,:], origin='lower', alpha=0.5, cmap=\"Greys\")\n",
    "plt.imshow(rep_cube_2.data[0,:,:], origin='lower', alpha=0.5, cmap=\"Greys\")"
   ]
  },
  {
   "cell_type": "code",
   "execution_count": 17,
   "id": "ab981b28-c095-4a25-8931-61a2c3b275c9",
   "metadata": {},
   "outputs": [
    {
     "data": {
      "text/plain": [
       "(700, 10, 10)"
      ]
     },
     "execution_count": 17,
     "metadata": {},
     "output_type": "execute_result"
    }
   ],
   "source": [
    "import gc\n",
    "gc.get_threshold()"
   ]
  },
  {
   "cell_type": "code",
   "execution_count": 18,
   "id": "6ede7422-2f70-47ac-9f25-2d3ba0885e4f",
   "metadata": {},
   "outputs": [
    {
     "data": {
      "text/plain": [
       "(134, 11, 10)"
      ]
     },
     "execution_count": 18,
     "metadata": {},
     "output_type": "execute_result"
    }
   ],
   "source": [
    "gc.get_count()"
   ]
  },
  {
   "cell_type": "code",
   "execution_count": 22,
   "id": "9fdc0ed8-72da-435c-9b5e-50484968eea1",
   "metadata": {},
   "outputs": [
    {
     "data": {
      "text/plain": [
       "\u001b[0;31mSignature:\u001b[0m \u001b[0msys\u001b[0m\u001b[0;34m.\u001b[0m\u001b[0m_debugmallocstats\u001b[0m\u001b[0;34m(\u001b[0m\u001b[0;34m)\u001b[0m\u001b[0;34m\u001b[0m\u001b[0;34m\u001b[0m\u001b[0m\n",
       "\u001b[0;31mDocstring:\u001b[0m\n",
       "Print summary info to stderr about the state of pymalloc's structures.\n",
       "\n",
       "In Py_DEBUG mode, also perform some expensive internal consistency\n",
       "checks.\n",
       "\u001b[0;31mType:\u001b[0m      builtin_function_or_method\n"
      ]
     },
     "metadata": {},
     "output_type": "display_data"
    }
   ],
   "source": [
    "import sys\n",
    "sys._debugmallocstats?"
   ]
  }
 ],
 "metadata": {
  "kernelspec": {
   "display_name": "Python [conda env:stokespy] *",
   "language": "python",
   "name": "conda-env-stokespy-py"
  },
  "language_info": {
   "codemirror_mode": {
    "name": "ipython",
    "version": 3
   },
   "file_extension": ".py",
   "mimetype": "text/x-python",
   "name": "python",
   "nbconvert_exporter": "python",
   "pygments_lexer": "ipython3",
   "version": "3.9.7"
  },
  "widgets": {
   "application/vnd.jupyter.widget-state+json": {
    "state": {},
    "version_major": 2,
    "version_minor": 0
   }
  }
 },
 "nbformat": 4,
 "nbformat_minor": 5
}
