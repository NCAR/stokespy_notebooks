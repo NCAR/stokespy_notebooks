{
 "cells": [
  {
   "cell_type": "code",
   "execution_count": 19,
   "id": "24225ee7-7807-4904-aaf6-cd211ec2a7f7",
   "metadata": {},
   "outputs": [
    {
     "name": "stdout",
     "output_type": "stream",
     "text": [
      "The autoreload extension is already loaded. To reload it, use:\n",
      "  %reload_ext autoreload\n"
     ]
    }
   ],
   "source": [
    "#import stokespy\n",
    "#from stokespy import get_HMI_data, get_SP_data, StokesParamCube, StokesParamMap, StokesProfile\n",
    "import datetime\n",
    "import astropy\n",
    "import astropy.units as u\n",
    "from astropy.coordinates import SkyCoord, SpectralCoord\n",
    "from astropy.wcs.wcsapi import SlicedLowLevelWCS, HighLevelWCSWrapper\n",
    "\n",
    "import sunpy.map\n",
    "from sunpy.net import Fido, attrs\n",
    "\n",
    "from astropy.io import fits\n",
    "import aiapy\n",
    "from aiapy.calibrate import register, update_pointing\n",
    "\n",
    "import numpy as np\n",
    "import os\n",
    "import natsort\n",
    "import matplotlib.pyplot as plt\n",
    "import matplotlib\n",
    "#import ndcube\n",
    "\n",
    "matplotlib.use('TkAgg')\n",
    "\n",
    "# Setup the autoreload function.\n",
    "%load_ext autoreload\n",
    "%autoreload 2"
   ]
  },
  {
   "cell_type": "code",
   "execution_count": 5,
   "id": "d9c05b5a-b4e2-4a5a-8339-91b46b743eb8",
   "metadata": {
    "jupyter": {
     "source_hidden": true
    },
    "tags": []
   },
   "outputs": [],
   "source": [
    "def parse_folder(dir_path=None, inst=None, wave=None, ext=None, \n",
    "                 series=None, repo='JSOC', show=True):\n",
    "    \"\"\"\n",
    "    Search all the filenames in a folder containing SDO data and use the keywords\n",
    "    to select a desired subset. For example setting inst=\"hmi\" will obtain all the hmi filenames.\n",
    "    dir_path: Path to the directory containing the data.\n",
    "    inst: SDO instrument\n",
    "    wave: wavelength (primarily for AIA data)\n",
    "    ext: Select the file extension\n",
    "    series: String characterizing the data series (e.g. hmi.S_720s, aia.lev1_euv_12s)\n",
    "    repo: Choose the data repository. Each repository stores filenames with different syntaxes.\n",
    "    show: Flag that enumerates the files found.\n",
    "    \"\"\"\n",
    "    \n",
    "    if dir_path is None:\n",
    "        dir_path = os.getcwd()\n",
    "    \n",
    "    # Read and sort all the filenames in the folder.\n",
    "    all_fnames = natsort.natsorted(os.listdir(dir_path)) \n",
    "    \n",
    "    # Select a subset of files\n",
    "    use_fnames = []\n",
    "    \n",
    "    for i, file_ in enumerate(all_fnames):\n",
    "        if repo == 'JSOC':\n",
    "            sfile_ = file_.lower().split(\".\")\n",
    "        elif repo == 'VSO':\n",
    "            sfile_ = file_.lower().split(\"_\")\n",
    "        \n",
    "        if sfile_[0] == inst.lower() and sfile_[1] == series.lower(): \n",
    "            use_fnames.append(dir_path + file_)\n",
    "        \n",
    "        '''\n",
    "        if ext is None and inst is None:\n",
    "            use_fnames.append(dir_path + file_)\n",
    "        elif ext is None and inst is not None and sfile_[0] == inst.lower() and wave is None:\n",
    "            use_fnames.append(dir_path + file_)\n",
    "        elif ext is None and inst is not None and sfile_[0] == inst.lower() and wave is not None and sfile_[2] == wave + 'a':\n",
    "            use_fnames.append(dir_path + file_)\n",
    "        elif ext is not None and file_.endswith(ext) and inst is None:\n",
    "            use_fnames.append(dir_path + file_)\n",
    "        elif ext is not None and file_.endswith(ext) and inst is not None and sfile_[0] == inst.lower() and wave is None:\n",
    "            use_fnames.append(dir_path + file_)\n",
    "        elif ext is not None and file_.endswith(ext) and inst is not None and sfile_[0] == inst.lower() and wave is not None and sfile_[2] == wave + 'a':\n",
    "            use_fnames.append(dir_path + file_)\n",
    "        '''\n",
    "    '''\n",
    "    for i, file_ in enumerate(all_fnames):\n",
    "        # Select by extension.\n",
    "        if ext is not None and file_.endswith(ext):        \n",
    "            sfile_ = file_.split(\"_\")\n",
    "            # Select by instrument.\n",
    "            if inst is not None and sfile_[0] == inst.lower(): \n",
    "                if wave is not None and inst.lower() == 'aia' and sfile_[2] == wave + 'a':   \n",
    "                    use_fnames.append(dir_path + file_)\n",
    "        else:\n",
    "            sfile_ = file_.split(\"_\")\n",
    "            # Select by instrument.\n",
    "            if inst is not None and sfile_[0] == inst.lower(): \n",
    "                if wave is not None and inst.lower() == 'aia' and sfile_[2] == wave + 'a':   \n",
    "                    use_fnames.append(dir_path + file_)\n",
    "    '''\n",
    "    \n",
    "    if show:\n",
    "        for i, file_ in enumerate(use_fnames):\n",
    "            print(i, file_)\n",
    "    \n",
    "    return use_fnames"
   ]
  },
  {
   "cell_type": "code",
   "execution_count": 6,
   "id": "1d0c228d-c94a-4969-9a60-f3dfc4c58c01",
   "metadata": {},
   "outputs": [],
   "source": [
    "# Select a date and time to search for observations.\n",
    "#user_date = astropy.time.Time(datetime.datetime(2016, 7, 28, 23, 57, 0), scale='tai')  # Original\n",
    "#user_date = astropy.time.Time(datetime.datetime(2017, 8, 22, 17, 11, 4), scale='tai')  # AR near limb\n",
    "user_date = astropy.time.Time(datetime.datetime(2017, 9, 5, 3, 4, 4), scale='tai')  # AR near disc center\n",
    "\n",
    "# Find the nearest set of Stokes and corresponding inversion results.\n",
    "#all_fnames_stokes, all_fnames_magvec = get_HMI_data(user_date, user_notify='gdima@hawaii.edu', download=False)\n",
    "#lv1_data, lv1_wcs, lv2_data, lv2_wcs = \\\n",
    "#    get_HMI_data(user_date, user_notify='gdima@hawaii.edu', download=False, show_files=False)\n",
    "\n",
    "time0 = astropy.time.Time(user_date.gps - 1., format='gps', scale='tai')\n",
    "time1 = astropy.time.Time(user_date.gps + 1., format='gps', scale='tai')\n",
    "\n",
    "user_dir = os.getcwd() + '/Data/SDO/'\n",
    "\n",
    "all_fnames_stokes = parse_folder(dir_path=user_dir, inst='hmi', \\\n",
    "                                 series='S_720s', ext='fits', show=False)\n",
    "\n",
    "if len(all_fnames_stokes) > 1:\n",
    "    tstamps = [i.split('.')[2] for i in all_fnames_stokes]\n",
    "    tstamps = [sunpy.time.parse_time('_'.join(i.split('_')[0:2])) for i in tstamps]\n",
    "    tstamps_diff = [np.abs(i.gps - user_date.gps) for i in tstamps]\n",
    "\n",
    "# Search for the closest timestamp\n",
    "tstamps_diff = np.asarray(tstamps_diff)\n",
    "tstamps_ix, = np.where(tstamps_diff == tstamps_diff.min())\n",
    "\n",
    "all_fnames_stokes = np.asarray(all_fnames_stokes)[tstamps_ix]"
   ]
  },
  {
   "cell_type": "code",
   "execution_count": 7,
   "id": "9a5f77ab-2f7e-4207-9799-65bee39a84f9",
   "metadata": {},
   "outputs": [
    {
     "name": "stdout",
     "output_type": "stream",
     "text": [
      "Created data cube with dimensions: (4, 6, 4096, 4096)\n"
     ]
    }
   ],
   "source": [
    "## Create data array\n",
    "## Use sunpy.map.Map to read HMI files since it provides the correct observer frame of reference.\n",
    "\n",
    "level1_data = []\n",
    "for i, fname in enumerate(all_fnames_stokes):\n",
    "    level1_data.append(sunpy.map.Map(fname).data)\n",
    "\n",
    "level1_data = np.asarray(level1_data)\n",
    "level1_data = level1_data.reshape(4,6,level1_data.shape[1], level1_data.shape[2])\n",
    "\n",
    "print(f'Created data cube with dimensions: {level1_data.shape}')"
   ]
  },
  {
   "cell_type": "code",
   "execution_count": 8,
   "id": "ddfa183f-e1ce-4930-9e5b-09dfd8bae524",
   "metadata": {},
   "outputs": [
    {
     "name": "stderr",
     "output_type": "stream",
     "text": [
      "WARNING: FITSFixedWarning: 'datfix' made the change 'Set MJD-OBS to 58001.124100 from DATE-OBS'. [astropy.wcs.wcs]\n"
     ]
    }
   ],
   "source": [
    "## Create the WCS object\n",
    "# Expand the coordinate axis to include wavelength and stokes dimensions.\n",
    "\n",
    "l0 = 6173.345 * 1.e-10  # m Central wavelength for FeI line\n",
    "dl = 0.0688   * 1.e-10  # m \n",
    "\n",
    "# Generate WCS for data cube using same WCS celestial information from AIA map.\n",
    "wcs_header = sunpy.map.Map(all_fnames_stokes[0]).wcs.to_header()\n",
    "\n",
    "wcs_header[\"WCSAXES\"] = 4\n",
    "\n",
    "# Add wavelength axis.\n",
    "wcs_header[\"CRPIX3\"] = 3.5\n",
    "wcs_header[\"CDELT3\"] = dl\n",
    "wcs_header[\"CUNIT3\"] = 'm'\n",
    "wcs_header[\"CTYPE3\"] = \"WAVE\"\n",
    "wcs_header[\"CRVAL3\"] = l0\n",
    "\n",
    "# Add Stokes axis.\n",
    "wcs_header[\"CRPIX4\"] = 0\n",
    "wcs_header[\"CDELT4\"] = 1\n",
    "wcs_header[\"CUNIT4\"] = ''\n",
    "wcs_header[\"CTYPE4\"] = \"STOKES\"\n",
    "wcs_header[\"CRVAL4\"] = 0\n",
    "\n",
    "level1_wcs = astropy.wcs.WCS(wcs_header)"
   ]
  },
  {
   "cell_type": "code",
   "execution_count": 9,
   "id": "dcee1252-5eec-460d-9817-5f4df66cd487",
   "metadata": {},
   "outputs": [
    {
     "data": {
      "text/plain": [
       "WCS Keywords\n",
       "\n",
       "Number of WCS axes: 4\n",
       "CTYPE : 'HPLN-TAN'  'HPLT-TAN'  'WAVE'  'STOKES'  \n",
       "CRVAL : 0.0  0.0  6.173345e-07  0.0  \n",
       "CRPIX : 2040.244140625  2050.626953125  3.5  0.0  \n",
       "PC1_1 PC1_2 PC1_3 PC1_4  : -0.99999997235056  0.00023515712208659  0.0  0.0  \n",
       "PC2_1 PC2_2 PC2_3 PC2_4  : -0.00023515712208659  -0.99999997235056  0.0  0.0  \n",
       "PC3_1 PC3_2 PC3_3 PC3_4  : 0.0  0.0  1.0  0.0  \n",
       "PC4_1 PC4_2 PC4_3 PC4_4  : 0.0  0.0  0.0  1.0  \n",
       "CDELT : 0.00014009532001283  0.00014009532001283  6.88e-12  1.0  \n",
       "NAXIS : 0  0"
      ]
     },
     "execution_count": 9,
     "metadata": {},
     "output_type": "execute_result"
    }
   ],
   "source": [
    "level1_wcs"
   ]
  },
  {
   "cell_type": "code",
   "execution_count": 10,
   "id": "f23dd474-de49-4d8e-9da5-09e2376cd781",
   "metadata": {},
   "outputs": [],
   "source": [
    "# Generate WCS for data cube using same WCS celestial information from AIA map.\n",
    "#wcs_header = sunpy.map.Map(all_fnames_stokes[0]).wcs.to_header()\n",
    "hmi_image = sunpy.map.Map(all_fnames_stokes[0])"
   ]
  },
  {
   "cell_type": "code",
   "execution_count": 11,
   "id": "005a61fb-0cf6-4f56-b7f3-e31dbbd9ce61",
   "metadata": {},
   "outputs": [
    {
     "name": "stderr",
     "output_type": "stream",
     "text": [
      "WARNING: FITSFixedWarning: 'datfix' made the change 'Set MJD-OBS to 58001.124100 from DATE-OBS'. [astropy.wcs.wcs]\n"
     ]
    },
    {
     "data": {
      "text/plain": [
       "WCS Keywords\n",
       "\n",
       "Number of WCS axes: 2\n",
       "CTYPE : 'HPLN-TAN'  'HPLT-TAN'  \n",
       "CRVAL : 0.0  0.0  \n",
       "CRPIX : 2040.244140625  2050.626953125  \n",
       "PC1_1 PC1_2  : -0.99999997235056  0.00023515712208659  \n",
       "PC2_1 PC2_2  : -0.00023515712208659  -0.99999997235056  \n",
       "CDELT : 0.00014009532001283  0.00014009532001283  \n",
       "NAXIS : 0  0"
      ]
     },
     "execution_count": 11,
     "metadata": {},
     "output_type": "execute_result"
    }
   ],
   "source": [
    "hmi_image.wcs"
   ]
  },
  {
   "cell_type": "code",
   "execution_count": 12,
   "id": "fb38842e-3422-44a0-a61c-92be826faed2",
   "metadata": {},
   "outputs": [
    {
     "name": "stderr",
     "output_type": "stream",
     "text": [
      "WARNING: AiapyUserWarning: Image registration should only be applied to level 1 data [aiapy.calibrate.prep]\n",
      "WARNING: FITSFixedWarning: 'datfix' made the change 'Set MJD-OBS to 58001.124100 from DATE-OBS'. [astropy.wcs.wcs]\n"
     ]
    }
   ],
   "source": [
    "# Rotate, scale (0.5 -> 0.6 arcsec) and center the map\n",
    "hmi_image_reg = register(hmi_image)"
   ]
  },
  {
   "cell_type": "code",
   "execution_count": 13,
   "id": "0e82e8ae-8e3e-4779-8d33-d7a4a67d0dd3",
   "metadata": {},
   "outputs": [
    {
     "name": "stderr",
     "output_type": "stream",
     "text": [
      "WARNING: FITSFixedWarning: 'datfix' made the change 'Set MJD-OBS to 58001.124100 from DATE-OBS'. [astropy.wcs.wcs]\n"
     ]
    },
    {
     "data": {
      "text/plain": [
       "WCS Keywords\n",
       "\n",
       "Number of WCS axes: 2\n",
       "CTYPE : 'HPLN-TAN'  'HPLT-TAN'  \n",
       "CRVAL : 0.0  0.0  \n",
       "CRPIX : 2048.5  2048.5  \n",
       "PC1_1 PC1_2  : 1.0  7.4040177438477e-22  \n",
       "PC2_1 PC2_2  : 7.4040177438477e-22  1.0  \n",
       "CDELT : 0.00016666666666667  0.00016666666666667  \n",
       "NAXIS : 0  0"
      ]
     },
     "execution_count": 13,
     "metadata": {},
     "output_type": "execute_result"
    }
   ],
   "source": [
    "hmi_image_reg.wcs"
   ]
  },
  {
   "cell_type": "code",
   "execution_count": 21,
   "id": "4e8729d1-e5ff-41b5-b5ae-f8107075173c",
   "metadata": {},
   "outputs": [
    {
     "data": {
      "text/plain": [
       "['deg', 'deg']"
      ]
     },
     "execution_count": 21,
     "metadata": {},
     "output_type": "execute_result"
    }
   ],
   "source": [
    "hmi_image.wcs.world_axis_units"
   ]
  },
  {
   "cell_type": "code",
   "execution_count": 38,
   "id": "fda2ac6d-3f31-48d7-9a42-87eadaffac5d",
   "metadata": {},
   "outputs": [
    {
     "data": {
      "text/latex": [
       "$0.84057192 \\; \\mathrm{\\frac{1}{pix}}$"
      ],
      "text/plain": [
       "<Quantity 0.84057192 1 / pix>"
      ]
     },
     "execution_count": 38,
     "metadata": {},
     "output_type": "execute_result"
    }
   ],
   "source": [
    "hmi_image.scale[0]/(0.6*u.arcsec)"
   ]
  },
  {
   "cell_type": "code",
   "execution_count": 39,
   "id": "ad76bf22-34e5-48a0-974b-d717abb8fc3d",
   "metadata": {},
   "outputs": [],
   "source": [
    "new_2d_slice = [0]*(4-2)"
   ]
  },
  {
   "cell_type": "code",
   "execution_count": 42,
   "id": "aabd3b22-ed1e-472e-9e30-296d8c2a1b94",
   "metadata": {},
   "outputs": [
    {
     "data": {
      "text/plain": [
       "[0, 0, slice(None, None, None), slice(None, None, None)]"
      ]
     },
     "execution_count": 42,
     "metadata": {},
     "output_type": "execute_result"
    }
   ],
   "source": [
    "new_2d_slice"
   ]
  },
  {
   "cell_type": "code",
   "execution_count": 41,
   "id": "9e965c4e-41c9-4cad-a225-3ca1ed1ec115",
   "metadata": {},
   "outputs": [],
   "source": [
    "new_2d_slice.extend([slice(None), slice(None)])"
   ]
  },
  {
   "cell_type": "code",
   "execution_count": 16,
   "id": "0e9b110f-c351-497a-b990-2f999b6a2bfd",
   "metadata": {},
   "outputs": [
    {
     "data": {
      "text/plain": [
       "WCSAXES =                    2 / Number of coordinate axes                      \n",
       "CRPIX1  =       2040.244140625 / Pixel coordinate of reference point            \n",
       "CRPIX2  =       2050.626953125 / Pixel coordinate of reference point            \n",
       "PC1_1   =    -0.99999997235056 / Coordinate transformation matrix element       \n",
       "PC1_2   =  0.00023515712208659 / Coordinate transformation matrix element       \n",
       "PC2_1   = -0.00023515712208659 / Coordinate transformation matrix element       \n",
       "PC2_2   =    -0.99999997235056 / Coordinate transformation matrix element       \n",
       "CDELT1  =  0.00014009532001283 / [deg] Coordinate increment at reference point  \n",
       "CDELT2  =  0.00014009532001283 / [deg] Coordinate increment at reference point  \n",
       "CUNIT1  = 'deg'                / Units of coordinate increment and value        \n",
       "CUNIT2  = 'deg'                / Units of coordinate increment and value        \n",
       "CTYPE1  = 'HPLN-TAN'           / Coordinate type codegnomonic projection        \n",
       "CTYPE2  = 'HPLT-TAN'           / Coordinate type codegnomonic projection        \n",
       "CRVAL1  =                  0.0 / [deg] Coordinate value at reference point      \n",
       "CRVAL2  =                  0.0 / [deg] Coordinate value at reference point      \n",
       "LONPOLE =                180.0 / [deg] Native longitude of celestial pole       \n",
       "LATPOLE =                  0.0 / [deg] Native latitude of celestial pole        \n",
       "CRDER1  =                  0.0 / [deg] Random error in coordinate               \n",
       "CRDER2  =                  0.0 / [deg] Random error in coordinate               \n",
       "WCSNAME = 'Helioprojective-cartesian' / Coordinate system title                 \n",
       "MJDREF  =                  0.0 / [d] MJD of fiducial time                       \n",
       "DATE-OBS= '2017-09-05T02:58:42.200' / ISO-8601 time of observation              \n",
       "MJD-OBS =      58001.124099537 / [d] MJD of observation                         \n",
       "RSUN_REF=          696000000.0 / [m] Solar radius                               \n",
       "DSUN_OBS=      150848101084.54 / [m] Distance from centre of Sun to observer    \n",
       "HGLN_OBS=    0.065373033384434 / [deg] Stonyhurst heliographic lng of observer  \n",
       "HGLT_OBS=      7.2482290267944 / [deg] Heliographic latitude of observer        "
      ]
     },
     "execution_count": 16,
     "metadata": {},
     "output_type": "execute_result"
    }
   ],
   "source": [
    "hmi_image.wcs.to_header()"
   ]
  },
  {
   "cell_type": "code",
   "execution_count": 17,
   "id": "7eaf8314-20a3-48b2-b31d-f78896a2b83b",
   "metadata": {},
   "outputs": [
    {
     "data": {
      "text/plain": [
       "\u001b[0;31mType:\u001b[0m        HMIMap\n",
       "\u001b[0;31mString form:\u001b[0m\n",
       "SunPy Map\n",
       "           ---------\n",
       "           Observatory:\t\t SDO\n",
       "           Instrument:\t\t HMI COMBINED\n",
       "           Detector:\t\t HMI\n",
       "           Measurement:\t\t  <...>  [nan, nan, nan, ..., nan, nan, nan],\n",
       "           [nan, nan, nan, ..., nan, nan, nan]], dtype=float32)\n",
       "\u001b[0;31mFile:\u001b[0m        ~/anaconda3/envs/stokespy/lib/python3.9/site-packages/sunpy/map/sources/sdo.py\n",
       "\u001b[0;31mDocstring:\u001b[0m  \n",
       "HMI Image Map.\n",
       "\n",
       "HMI consists of a refracting telescope, a polarization selector,\n",
       "an image stabilization system, a narrow band tunable filter\n",
       "and two 4096 pixel CCD cameras. It observes the full solar disk in the Fe I\n",
       "absorption line at 6173 Angstrom with a resolution of 1 arc-second.\n",
       "HMI takes images in a sequence of tuning and polarizations at a 4-second\n",
       "cadence for each camera. One camera is dedicated to a 45 s Doppler and\n",
       "line-of-sight field sequence while the other to a 90 s vector field\n",
       "sequence.\n",
       "\n",
       "References\n",
       "----------\n",
       "* `SDO Mission Page <https://sdo.gsfc.nasa.gov/>`_\n",
       "* `Instrument Page <http://hmi.stanford.edu>`_\n",
       "* `Analysis Guide <http://hmi.stanford.edu/doc/magnetic/guide.pdf>`_\n",
       "\n",
       "\n",
       "Notes\n",
       "-----\n",
       "\n",
       "A number of the properties of this class are returned as two-value named\n",
       "tuples that can either be indexed by position ([0] or [1]) or be accessed\n",
       "by the names (.x and .y) or (.axis1 and .axis2). Things that refer to pixel\n",
       "axes use the ``.x``, ``.y`` convention, where x and y refer to the FITS\n",
       "axes (x for columns y for rows). Spatial axes use ``.axis1`` and ``.axis2``\n",
       "which correspond to the first and second axes in the header. ``axis1``\n",
       "corresponds to the coordinate axis for ``x`` and ``axis2`` corresponds to\n",
       "``y``.\n",
       "\n",
       "This class makes some assumptions about the WCS information contained in\n",
       "the meta data. The first and most extensive assumption is that it is\n",
       "FITS-like WCS information as defined in the FITS WCS papers.\n",
       "\n",
       "Within this scope it also makes some other assumptions.\n",
       "\n",
       "* In the case of APIS convention headers where the CROTAi/j arguments are\n",
       "    provided it assumes that these can be converted to the standard PCi_j\n",
       "    notation using equations 32 in Thompson (2006).\n",
       "\n",
       "* If a CDi_j matrix is provided it is assumed that it can be converted to a\n",
       "    PCi_j matrix and CDELT keywords as described in\n",
       "    `Greisen & Calabretta (2002) <https://doi.org/10.1051/0004-6361:20021327>`_\n",
       "\n",
       "* The 'standard' FITS keywords that are used by this class are the PCi_j\n",
       "    matrix and CDELT, along with the other keywords specified in the WCS\n",
       "    papers. All subclasses of this class must convert their header\n",
       "    information to this formalism. The CROTA to PCi_j conversion is done in\n",
       "    this class.\n",
       "\n",
       ".. warning::\n",
       "    This class currently assumes that a header with the CDi_j matrix\n",
       "    information also includes the CDELT keywords, without these keywords\n",
       "    this class will not process the WCS.\n",
       "    Also the rotation_matrix does not work if the CDELT1 and CDELT2\n",
       "    keywords are exactly equal.\n",
       "    Also, if a file with more than two dimensions is feed into the class,\n",
       "    only the first two dimensions (NAXIS1, NAXIS2) will be loaded and the\n",
       "    rest will be discarded.\n"
      ]
     },
     "metadata": {},
     "output_type": "display_data"
    }
   ],
   "source": [
    "hmi_image?"
   ]
  },
  {
   "cell_type": "code",
   "execution_count": 20,
   "id": "a10d0a9c-0bac-4fc3-ae55-d185e4df3624",
   "metadata": {},
   "outputs": [],
   "source": [
    "hmi_image_f = fits.open(all_fnames_stokes[0])"
   ]
  },
  {
   "cell_type": "code",
   "execution_count": 29,
   "id": "0cfd97b6-794c-4850-be0a-b9bf28368b7f",
   "metadata": {},
   "outputs": [
    {
     "data": {
      "text/plain": [
       "SIMPLE  =                    T / file does conform to FITS standard             \n",
       "BITPIX  =                   16 / number of bits per data pixel                  \n",
       "NAXIS   =                    0 / number of data axes                            \n",
       "EXTEND  =                    T / FITS dataset may contain extensions            \n",
       "COMMENT   FITS (Flexible Image Transport System) format is defined in 'Astronomy\n",
       "COMMENT   and Astrophysics', volume 376, page 359; bibcode: 2001A&A...376..359H "
      ]
     },
     "execution_count": 29,
     "metadata": {},
     "output_type": "execute_result"
    }
   ],
   "source": [
    "hmi_image_f[0].header"
   ]
  },
  {
   "cell_type": "code",
   "execution_count": 30,
   "id": "d177c593-f2cf-426a-a4e2-558ce16a00a3",
   "metadata": {
    "collapsed": true,
    "jupyter": {
     "outputs_hidden": true
    },
    "tags": []
   },
   "outputs": [
    {
     "data": {
      "text/plain": [
       "SIMPLE  =                    T / file does conform to FITS standard             \n",
       "BITPIX  =                   16 / data type of original image                    \n",
       "NAXIS   =                    2 / dimension of original image                    \n",
       "NAXIS1  =                 4096 / length of original image axis                  \n",
       "NAXIS2  =                 4096 / length of original image axis                  \n",
       "PCOUNT  =                    0 / size of special data area                      \n",
       "GCOUNT  =                    1 / one data group (required keyword)              \n",
       "XTENSION= 'BINTABLE'           / binary table extension                         \n",
       "BLANK   =               -32768                                                  \n",
       "BZERO   =               97304.                                                  \n",
       "BSCALE  =                   3.                                                  \n",
       "CHECKSUM= '3gSnAZQn4dQnAZQn'   / HDU checksum updated 2022-01-19T06:24:36       \n",
       "DATE    = '2021-03-20T14:53:06.000' / [ISO] HDU creation date                   \n",
       "DATE-OBS= '2017-09-05T02:58:42.200' / [ISO] Observation date {DATE__OBS}        \n",
       "TELESCOP= 'SDO/HMI '           / Telescope                                      \n",
       "INSTRUME= 'HMI_COMBINED'       / For HMI: HMI_SIDE1, HMI_FRONT2, or HMI_COMBINED\n",
       "WAVELNTH=                6173. / [angstrom] Wavelength                          \n",
       "CAMERA  =                    3 / Camera                                         \n",
       "BUNIT   = 'DN/s    '           / Physical Units                                 \n",
       "ORIGIN  = 'SDO/JSOC-SDP'       / Origin                                         \n",
       "CONTENT = 'LEVEL 1p IMAGE'     / Content                                        \n",
       "QUALITY =                    0 / Level 1p Quality word                          \n",
       "QUALLEV1=                    0 / Level 1 quality                                \n",
       "HISTORY x                                                                       \n",
       "COMMENT De-rotation: ON; Un-distortion: ON; Re-centering: ON; Re-sizing: OFF; co\n",
       "COMMENT rrection for cosmic-ray hits; RSUNerr=5.0 pixels; correction front/side \n",
       "COMMENT intensity implemented for mod L; dpath=/home/jsoc/cvs/Development/JSOC/p\n",
       "COMMENT roj/lev1.5_hmi/apps/; linearity=1 with coefficients updated on 2014/01/1\n",
       "COMMENT 5; propagate eclipse bit from level 1                                   \n",
       "BLD_VERS=                 -941 / Code release build number of program that creat\n",
       "HCAMID  =                    2 / HMI_SEQ_ID_EXP_PATH                            \n",
       "SOURCE  = 'hmi.lev1[:#217687678,#217687630,#217687582,#217687534,#217687486,#2&'\n",
       "CONTINUE  '17687438,#217687390,#217687342,#217687726,#217687774,#217687822,#21&'\n",
       "CONTINUE  '7687870,#217687918,#217687978,#217687679,#217687631,#217687583,#217&'\n",
       "CONTINUE  '687535,#217687487,#217687439,#217687391,#217687343,#217687727,#2176&'\n",
       "CONTINUE  '87775,#217687823,#217687871,#217687919,#217687979,#217687680,#21768&'\n",
       "CONTINUE  '7632,#217687584,#217687536,#217687488,#217687440,#217687392,#217687&'\n",
       "CONTINUE  '344,#217687728,#217687776,#217687824,#217687872,#217687920,#2176879&'\n",
       "CONTINUE  '80,#217687681,#217687633,#217687585,#217687537,#217687489,#21768744&'\n",
       "CONTINUE  '1,#217687393,#217687345,#217687729,#217687777,#217687825,#217687873&'\n",
       "CONTINUE  ',#217687921,#217687981,#217687702,#217687654,#217687606,#217687558,&'\n",
       "CONTINUE  '#217687510,#217687462,#217687414,#217687366,#217687750,#217687798,#&'\n",
       "CONTINUE  '217687846,#217687894,#217687954,#217687990,#217687703,#217687655,#2&'\n",
       "CONTINUE  '17687607,#217687559,#217687511,#217687463,#217687415,#217687367,#21&'\n",
       "CONTINUE  '7687751,#217687799,#217687847,#217687895,#217687955,#217687991,#217&'\n",
       "CONTINUE  '687704,#217687656,#217687608,#217687560,#217687512,#217687464,#2176&'\n",
       "CONTINUE  '87416,#217687368,#217687752,#217687800,#217687848,#217687896,#21768&'\n",
       "CONTINUE  '7956,#217687992,#217687705,#217687657,#217687609,#217687561,#217687&'\n",
       "CONTINUE  '513,#217687465,#217687417,#217687369,#217687753,#217687801,#2176878&'\n",
       "CONTINUE  '49,#217687897,#217687957,#217687993,#217687686,#217687638,#21768759&'\n",
       "CONTINUE  '0,#217687542,#217687494,#217687446,#217687398,#217687350,#217687734&'\n",
       "CONTINUE  ',#217687782,#217687830,#217687878,#217687926,#217687986,#217687687,&'\n",
       "CONTINUE  '#217687639,#217687591,#217687543,#217687495,#217687447,#217687399,#&'\n",
       "CONTINUE  '217687351,#217687735,#217687783,#217687831,#217687879,#217687927,#2&'\n",
       "CONTINUE  '17687987,#217687688,#217687640,#217687592,#217687544,#217687496,#21&'\n",
       "CONTINUE  '7687448,#217687400,#217687352,#217687736,#217687784,#217687832,#217&'\n",
       "CONTINUE  '687880,#217687928,#217687988,#217687689,#217687641,#217687593,#2176&'\n",
       "CONTINUE  '87545,#217687497,#217687449,#217687401,#217687353,#217687737,#21768&'\n",
       "CONTINUE  '7785,#217687833,#217687881,#217687929,#217687989,#217687710,#217687&'\n",
       "CONTINUE  '662,#217687614,#217687566,#217687518,#217687470,#217687422,#2176873&'\n",
       "CONTINUE  '74,#217687758,#217687806,#217687854,#217687902,#217687962,#21768799&'\n",
       "CONTINUE  '8,#217687711,#217687663,#217687615,#217687567,#217687519,#217687471&'\n",
       "CONTINUE  ',#217687423,#217687375,#217687759,#217687807,#217687855,#217687903,&'\n",
       "CONTINUE  '#217687963,#217687999,#217687712,#217687664,#217687616,#217687568,#&'\n",
       "CONTINUE  '217687520,#217687472,#217687424,#217687376,#217687760,#217687808,#2&'\n",
       "CONTINUE  '17687856,#217687904,#217687964,#217688000,#217687713,#217687665,#21&'\n",
       "CONTINUE  '7687617,#217687569,#217687521,#217687473,#217687425,#217687377,#217&'\n",
       "CONTINUE  '687761,#217687809,#217687857,#217687905,#217687965,#217688001,#2176&'\n",
       "CONTINUE  '87690,#217687642,#217687594,#217687546,#217687498,#217687450,#21768&'\n",
       "CONTINUE  '7402,#217687354,#217687738,#217687786,#217687834,#217687882,#217687&'\n",
       "CONTINUE  '930,#217687966,#217687691,#217687643,#217687595,#217687547,#2176874&'\n",
       "CONTINUE  '99,#217687451,#217687403,#217687355,#217687739,#217687787,#21768783&'\n",
       "CONTINUE  '5,#217687883,#217687931,#217687967,#217687692,#217687644,#217687596&'\n",
       "CONTINUE  ',#217687548,#217687500,#217687452,#217687404,#217687356,#217687740,&'\n",
       "CONTINUE  '#217687788,#217687836,#217687884,#217687932,#217687968,#217687693,#&'\n",
       "CONTINUE  '217687645,#217687597,#217687549,#217687501,#217687453,#217687405,#2&'\n",
       "CONTINUE  '17687357,#217687741,#217687789,#217687837,#217687885,#217687933,#21&'\n",
       "CONTINUE  '7687969,#217687714,#217687666,#217687618,#217687570,#217687522,#217&'\n",
       "CONTINUE  '687474,#217687426,#217687378,#217687762,#217687810,#217687858,#2176&'\n",
       "CONTINUE  '87906,#217687942,#217688002,#217687715,#217687667,#217687619,#21768&'\n",
       "CONTINUE  '7571,#217687523,#217687475,#217687427,#217687379,#217687763,#217687&'\n",
       "CONTINUE  '811,#217687859,#217687907,#217687943,#217688003,#217687716,#2176876&'\n",
       "CONTINUE  '68,#217687620,#217687572,#217687524,#217687476,#217687428,#21768738&'\n",
       "CONTINUE  '0,#217687764,#217687812,#217687860,#217687908,#217687944,#217688004&'\n",
       "CONTINUE  ',#217687717,#217687669,#217687621,#217687573,#217687525,#217687477,&'\n",
       "CONTINUE  '#217687429,#217687381,#217687765,#217687813,#217687861,#217687909,#&'\n",
       "CONTINUE  '217687945,#217688005,#217687670,#217687622,#217687574,#217687526,#2&'\n",
       "CONTINUE  '17687478,#217687430,#217687382,#217687718,#217687766,#217687814,#21&'\n",
       "CONTINUE  '7687862,#217687910,#217687946,#217688006,#217687671,#217687623,#217&'\n",
       "CONTINUE  '687575,#217687527,#217687479,#217687431,#217687383,#217687719,#2176&'\n",
       "CONTINUE  '87767,#217687815,#217687863,#217687911,#217687947,#217688007,#21768&'\n",
       "CONTINUE  '7672,#217687624,#217687576,#217687528,#217687480,#217687432,#217687&'\n",
       "CONTINUE  '384,#217687720,#217687768,#217687816,#217687864,#217687912,#2176879&'\n",
       "CONTINUE  '48,#217688008,#217687673,#217687625,#217687577,#217687529,#21768748&'\n",
       "CONTINUE  '1,#217687433,#217687385,#217687721,#217687769,#217687817,#217687865&'\n",
       "CONTINUE  ',#217687913,#217687949,#217688009,#217687694,#217687646,#217687598,&'\n",
       "CONTINUE  '#217687550,#217687502,#217687454,#217687406,#217687358,#217687742,#&'\n",
       "CONTINUE  '217687790,#217687838,#217687886,#217687934,#217687970,#217687695,#2&'\n",
       "CONTINUE  '17687647,#217687599,#217687551,#217687503,#217687455,#217687407,#21&'\n",
       "CONTINUE  '7687359,#217687743,#217687791,#217687839,#217687887,#217687935,#217&'\n",
       "CONTINUE  '687971,#217687696,#217687648,#217687600,#217687552,#217687504,#2176&'\n",
       "CONTINUE  '87456,#217687408,#217687360,#217687744,#217687792,#217687840,#21768&'\n",
       "CONTINUE  '7888,#217687936,#217687972,#217687697,#217687649,#217687601,#217687&'\n",
       "CONTINUE  '553,#217687505,#217687457,#217687409,#217687361,#217687745,#2176877&'\n",
       "CONTINUE  '93,#217687841,#217687889,#217687937,#217687973,#217687674,#21768762&'\n",
       "CONTINUE  '6,#217687578,#217687530,#217687482,#217687434,#217687386,#217687338&'\n",
       "CONTINUE  ',#217687722,#217687770,#217687818,#217687866,#217687914,#217687950,&'\n",
       "CONTINUE  '#217687675,#217687627,#217687579,#217687531,#217687483,#217687435,#&'\n",
       "CONTINUE  '217687387,#217687339,#217687723,#217687771,#217687819,#217687867,#2&'\n",
       "CONTINUE  '17687915,#217687951,#217687676,#217687628,#217687580,#217687532,#21&'\n",
       "CONTINUE  '7687484,#217687436,#217687388,#217687340,#217687724,#217687772,#217&'\n",
       "CONTINUE  '687820,#217687868,#217687916,#217687952,#217687677,#217687629,#2176&'\n",
       "CONTINUE  '87581,#217687533,#217687485,#217687437,#217687389,#217687341,#21768&'\n",
       "CONTINUE  '7725,#217687773,#217687821,#217687869,#217687917,#217687953,#217687&'\n",
       "CONTINUE  '698,#217687650,#217687602,#217687554,#217687506,#217687458,#2176874&'\n",
       "CONTINUE  '10,#217687362,#217687746,#217687794,#217687842,#217687890,#21768793&'\n",
       "CONTINUE  '8,#217687974,#217687699,#217687651,#217687603,#217687555,#217687507&'\n",
       "CONTINUE  ',#217687459,#217687411,#217687363,#217687747,#217687795,#217687843,&'\n",
       "CONTINUE  '#217687891,#217687939,#217687975,#217687700,#217687652,#217687604,#&'\n",
       "CONTINUE  '217687556,#217687508,#217687460,#217687412,#217687364,#217687748,#2&'\n",
       "CONTINUE  '17687796,#217687844,#217687892,#217687940,#217687976,#217687701,#21&'\n",
       "CONTINUE  '7687653,#217687605,#217687557,#217687509,#217687461,#217687413,#217&'\n",
       "CONTINUE  '687365,#217687749,#217687797,#217687845,#217687893,#217687941,#2176&'\n",
       "CONTINUE  '87977,#217687682,#217687634,#217687586,#217687538,#217687490,#21768&'\n",
       "CONTINUE  '7442,#217687394,#217687346,#217687730,#217687778,#217687826,#217687&'\n",
       "CONTINUE  '874,#217687922,#217687982,#217687683,#217687635,#217687587,#2176875&'\n",
       "CONTINUE  '39,#217687491,#217687443,#217687395,#217687347,#217687731,#21768777&'\n",
       "CONTINUE  '9,#217687827,#217687875,#217687923,#217687983,#217687684,#217687636&'\n",
       "CONTINUE  ',#217687588,#217687540,#217687492,#217687444,#217687396,#217687348,&'\n",
       "CONTINUE  '#217687732,#217687780,#217687828,#217687876,#217687924,#217687984,#&'\n",
       "CONTINUE  '217687685,#217687637,#217687589,#217687541,#217687493,#217687445,#2&'\n",
       "CONTINUE  '17687397,#217687349,#217687733,#217687781,#217687829,#217687877,#21&'\n",
       "CONTINUE  '7687925,#217687985,#217687706,#217687658,#217687610,#217687562,#217&'\n",
       "CONTINUE  '687514,#217687466,#217687418,#217687370,#217687754,#217687802,#2176&'\n",
       "CONTINUE  '87850,#217687898,#217687958,#217687994,#217687707,#217687659,#21768&'\n",
       "CONTINUE  '7611,#217687563,#217687515,#217687467,#217687419,#217687371,#217687&'\n",
       "CONTINUE  '755,#217687803,#217687851,#217687899,#217687959,#217687995,#2176877&'\n",
       "CONTINUE  '08,#217687660,#217687612,#217687564,#217687516,#217687468,#21768742&'\n",
       "CONTINUE  '0,#217687372,#217687756,#217687804,#217687852,#217687900,#217687960&'\n",
       "CONTINUE  ',#217687996,#217687709,#217687661,#217687613,#217687565,#217687517,&'\n",
       "CONTINUE  '#217687469,#217687421,#217687373,#217687757,#217687805,#217687853,#&'\n",
       "CONTINUE  '217687901,#21768&'                                                   \n",
       "CONTINUE  '7961,#217687997]'   / level 1 filtergrams used to produce the observa\n",
       "TOTVALS =             16777216 / Total values {TOTVALS_000}                     \n",
       "DATAVALS=             13126226 / Data values {DATAVALS_000}                     \n",
       "MISSVALS=              3650990 / Missing values {MISSVALS_000}                  \n",
       "DATAMIN2=    -444.006591796875 / [DN/s] Minimum value 2 {DATAMIN2_000}          \n",
       "DATAMAX2=       57466.77734375 / [DN/s] Maximum value 2 {DATAMAX2_000}          \n",
       "DATAMED2=          41435.65625 / [DN/s] Median value 2 {DATAMED2_000}           \n",
       "DATAMEA2=       35535.07421875 / [DN/s] Mean value 2 {DATAMEA2_000}             \n",
       "DATARMS2=     16214.6064453125 / [DN/s] RMS 2 {DATARMS2_000}                    \n",
       "DATASKE2=  -1.3280625343322754 / [DN/s] Skewness 2 {DATASKE2_000}               \n",
       "DATAKUR2=   0.4689386785030365 / [DN/s] Kurtosis 2 {DATAKUR2_000}               \n",
       "DATAMIN =     3151.19091796875 / [DN/s] Minimum value {DATAMIN_000}             \n",
       "DATAMAX =       57466.77734375 / [DN/s] Maximum value {DATAMAX_000}             \n",
       "DATAMEDN=       43501.08984375 / [DN/s] Median value {DATAMEDN_000}             \n",
       "DATAMEAN=       42058.92578125 / [DN/s] Mean value from pixels within 99% of sol\n",
       "DATARMS =     6979.20361328125 / [DN/s] RMS {DATARMS_000}                       \n",
       "DATASKEW= -0.68833649158477783 / [DN/s] Skewness {DATASKEW_000}                 \n",
       "DATAKURT= -0.20600032806396484 / [DN/s] Kurtosis {DATAKURT_000}                 \n",
       "CTYPE1  = 'HPLN-TAN'           / CTYPE1: HPLN                                   \n",
       "CTYPE2  = 'HPLT-TAN'           / CTYPE2: HPLT                                   \n",
       "CRPIX1  =       2040.244140625 / [pixel] CRPIX1: location of the Sun center in C\n",
       "CRPIX2  =       2050.626953125 / [pixel] CRPIX2: location of the Sun center in C\n",
       "CRVAL1  =                   0. / [arcsec] CRVAL1: x origin                      \n",
       "CRVAL2  =                   0. / [arcsec] CRVAL2: y origin                      \n",
       "CDELT1  =  0.50434315204620361 / [arcsec/pixel] image scale in the x direction  \n",
       "CDELT2  =  0.50434315204620361 / [arcsec/pixel] image scale in the y direction  \n",
       "CUNIT1  = 'arcsec  '           / [arcsec] CUNIT1: arcsec                        \n",
       "CUNIT2  = 'arcsec  '           / [arcsec] CUNIT2: arcsec                        \n",
       "CROTA2  =   180.01347351074219 / [deg] CROTA2: INST_ROT + SAT_ROT               \n",
       "CRDER1  =                   0. / [arcsec] CRDER1: estimate of random error in co\n",
       "CRDER2  =                   0. / [arcsec] CRDER2: estimate of random error in co\n",
       "CSYSER1 =                      / [arcsec] (MISSING) CSYSER1: estimate of systema\n",
       "CSYSER2 =                      / [arcsec] (MISSING) CSYSER2: estimate of systema\n",
       "WCSNAME = 'Helioprojective-cartesian' / WCS system name                         \n",
       "DSUN_OBS=   150848101084.53699 / [meters] Distance from SDO to Sun center.      \n",
       "DSUN_REF=        149597870691. / [meters] Astronomical Unit                     \n",
       "RSUN_REF=           696000000. / [m] Reference radius of the Sun: 696,000,000.0 \n",
       "CRLN_OBS=   100.44245147705078 / [deg] Carrington longitude of the observer     \n",
       "CRLT_OBS=   7.2482290267944336 / [deg] Carrington latitude of the observer      \n",
       "CAR_ROT =                 2194 / Carrington rotation number of CRLN_OBS         \n",
       "OBS_VR  =   2135.2380211349432 / [m/s] velocity of the observer in radial direct\n",
       "OBS_VW  =   30442.765907087803 / [m/s] velocity of the observer solar           \n",
       "OBS_VN  =  -1200.4999615363656 / [m/s] velocity of the observer solar           \n",
       "RSUN_OBS=    951.6912841796875 / [arcsec] angular radius of Sun. Corresponds to \n",
       "T_OBS   = '2017.09.05_03:00:04.170_TAI' / [TAI] nominal time                    \n",
       "T_REC   = '2017.09.05_03:00:00.000_TAI' / [TAI] Slot time                       \n",
       "TRECEPOC= '1993.01.01_00:00:00.000_TAI' / [TAI] Time of origin {T_REC_epoch}    \n",
       "TRECSTEP=                 720. / [seconds] ts_eq step {T_REC_step}              \n",
       "TRECUNIT= 'secs    '           / ts_eq unit {T_REC_unit}                        \n",
       "CADENCE =                 720. / [seconds] repetition interval                  \n",
       "HFLID   =                 1022 / HMI_SEQ_ID_FRAMELIST                           \n",
       "HCFTID  =                   11 / HMI_SEQ_ID_FOCUS                               \n",
       "QLOOK   =                    0 / QLOOK: 0=final data, 1=quick                   \n",
       "HWLTID  =                  769 / HWLTID of target filtergram                    \n",
       "HPLTID  =                  414 / HPLTID of target filtergram                    \n",
       "WAVELNID=                    3 / WavelengthID of target filtergram              \n",
       "TSEL    =   22.050745010375977 / [degree Celsius] temperature keyword for polari\n",
       "TFRONT  =   33.566688537597656 / [degree Celsius] temperature keyword for polari\n",
       "TINTNUM =                  672 / number of points used for the temporal interpol\n",
       "SINTNUM =                   10 / number of points used for the spatial interpola\n",
       "DISTCOEF= '/home/jsoc/cvs/Development/JSOC/proj/lev1.5_hmi/apps//../libs/lev15/'\n",
       "ROTCOEF = '/home/jsoc/cvs/Development/JSOC/proj/lev1.5_hmi/apps//../libs/lev15/'\n",
       "ODICOEFF=                    6 / order of the distortion                        \n",
       "OROCOEFF=                    4 / order of the differential                      \n",
       "POLCALM =                    1 / method used by the polarization calibration sub\n",
       "CODEVER0= '$Id: HMI_IQUV_averaging.c,v 1.57 2018/08/31 22:42:51 phil Exp $' / ve\n",
       "CODEVER1= '$Id: interpol_code.c,v 1.6 2017/08/31 22:17:13 arta Exp $' / version \n",
       "CODEVER2= '$Id: interpol_code.c,v 1.6 2017/08/31 22:17:13 arta Exp $' / version \n",
       "CODEVER3= '$Id: polcal.c,v 1.8 2016/10/03 19:11:21 arta Exp $' / version of the \n",
       "CALVER64=               270354 / Calibration Version                            \n",
       "RECNUM  =               721109 / Recnum                                         \n",
       "DRMS_ID = 'hmi.S_720s:721109:I0' / DRMS ID                                      \n",
       "PRIMARYK= 'T_REC, CAMERA'      / DRMS primary key                               \n",
       "HEADSUM = 'chDSceBPceBPceBP'   / Keyword checksum                               \n",
       "LONGSTRN= 'OGIP 1.0'           / The HEASARC Long String Convention may be used.\n",
       "COMMENT   This FITS file may contain long string keyword values that are        \n",
       "COMMENT   continued over multiple keywords.  The HEASARC convention uses the &  \n",
       "COMMENT   character at the end of each substring which is then continued        \n",
       "DATASUM = '859456001'          / data unit checksum updated 2022-01-19T06:24:36 "
      ]
     },
     "execution_count": 30,
     "metadata": {},
     "output_type": "execute_result"
    }
   ],
   "source": [
    "hmi_image_f[1].header"
   ]
  },
  {
   "cell_type": "code",
   "execution_count": 45,
   "id": "8cfdd5fa-ae65-4f88-830e-38c61fe0e6b1",
   "metadata": {},
   "outputs": [
    {
     "data": {
      "text/plain": [
       "array([[-9.99999972e-01,  2.35157122e-04],\n",
       "       [-2.35157122e-04, -9.99999972e-01]])"
      ]
     },
     "execution_count": 45,
     "metadata": {},
     "output_type": "execute_result"
    }
   ],
   "source": [
    "hmi_image.rotation_matrix"
   ]
  }
 ],
 "metadata": {
  "kernelspec": {
   "display_name": "Python [conda env:stokespy] *",
   "language": "python",
   "name": "conda-env-stokespy-py"
  },
  "language_info": {
   "codemirror_mode": {
    "name": "ipython",
    "version": 3
   },
   "file_extension": ".py",
   "mimetype": "text/x-python",
   "name": "python",
   "nbconvert_exporter": "python",
   "pygments_lexer": "ipython3",
   "version": "3.9.7"
  },
  "widgets": {
   "application/vnd.jupyter.widget-state+json": {
    "state": {},
    "version_major": 2,
    "version_minor": 0
   }
  }
 },
 "nbformat": 4,
 "nbformat_minor": 5
}
